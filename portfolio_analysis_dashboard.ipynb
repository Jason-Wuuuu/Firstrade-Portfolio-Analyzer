{
 "cells": [
  {
   "cell_type": "code",
   "execution_count": 24,
   "metadata": {},
   "outputs": [],
   "source": [
    "import json\n",
    "import os\n",
    "import re\n",
    "from datetime import datetime, timedelta\n",
    "\n",
    "import pandas as pd\n",
    "import plotly.graph_objects as go\n",
    "import yfinance as yf\n",
    "from IPython.display import display, HTML\n",
    "\n",
    "from transaction_history_processor import PortfolioHistory"
   ]
  },
  {
   "cell_type": "code",
   "execution_count": 25,
   "metadata": {},
   "outputs": [],
   "source": [
    "if not os.path.exists('portfolio_history.json'):\n",
    "    print(\"portfolio_history.json not found. Generating it now...\")\n",
    "    portfolio_history = PortfolioHistory()\n",
    "    portfolio_history.process_transaction_history(\n",
    "        input_file='transaction_history.json',\n",
    "        save_output=True,\n",
    "        output_file='portfolio_history.json'\n",
    "    )\n",
    "    print(\"portfolio_history.json has been generated.\")\n",
    "\n",
    "with open('portfolio_history.json', 'r') as f:\n",
    "    data = json.load(f)\n",
    "    sectors = data['sectors']\n",
    "    portfolio_data = data['portfolios']"
   ]
  },
  {
   "cell_type": "code",
   "execution_count": 48,
   "metadata": {},
   "outputs": [
    {
     "data": {
      "application/vnd.plotly.v1+json": {
       "config": {
        "plotlyServerURL": "https://plot.ly"
       },
       "data": [
        {
         "hoverinfo": "text",
         "hovertext": [
          "TSLA<br>$14,000.00<br>32.06%",
          "NVDA<br>$10,478.07<br>23.99%",
          "QQQ<br>$3,159.60<br>7.24%",
          "TSM<br>$2,697.28<br>6.18%",
          "SPY<br>$2,681.72<br>6.14%",
          "NVDL<br>$2,312.00<br>5.29%",
          "AMD<br>$1,745.80<br>4.00%",
          "Others<br>$6,595.03<br>15.10%<br><br>Symbols:<br>AAPL: 2.48%<br>OKTA: 2.47%<br>AMZN: 2.38%<br>META: 2.37%<br>CRWD: 2.11%<br>MSFT: 1.86%<br>SNOW: 1.42%"
         ],
         "labels": [
          "TSLA",
          "NVDA",
          "QQQ",
          "TSM",
          "SPY",
          "NVDL",
          "AMD",
          "Others"
         ],
         "textinfo": "label+percent",
         "type": "pie",
         "values": [
          32.05899111900352,
          23.994023341851754,
          7.235254365822861,
          6.176580549527527,
          6.140940546201251,
          5.294313582863671,
          3.9977502226976074,
          15.102146272031808
         ]
        }
       ],
       "layout": {
        "legend": {
         "title": {
          "text": "Holdings"
         }
        },
        "showlegend": true,
        "template": {
         "data": {
          "bar": [
           {
            "error_x": {
             "color": "#2a3f5f"
            },
            "error_y": {
             "color": "#2a3f5f"
            },
            "marker": {
             "line": {
              "color": "#E5ECF6",
              "width": 0.5
             },
             "pattern": {
              "fillmode": "overlay",
              "size": 10,
              "solidity": 0.2
             }
            },
            "type": "bar"
           }
          ],
          "barpolar": [
           {
            "marker": {
             "line": {
              "color": "#E5ECF6",
              "width": 0.5
             },
             "pattern": {
              "fillmode": "overlay",
              "size": 10,
              "solidity": 0.2
             }
            },
            "type": "barpolar"
           }
          ],
          "carpet": [
           {
            "aaxis": {
             "endlinecolor": "#2a3f5f",
             "gridcolor": "white",
             "linecolor": "white",
             "minorgridcolor": "white",
             "startlinecolor": "#2a3f5f"
            },
            "baxis": {
             "endlinecolor": "#2a3f5f",
             "gridcolor": "white",
             "linecolor": "white",
             "minorgridcolor": "white",
             "startlinecolor": "#2a3f5f"
            },
            "type": "carpet"
           }
          ],
          "choropleth": [
           {
            "colorbar": {
             "outlinewidth": 0,
             "ticks": ""
            },
            "type": "choropleth"
           }
          ],
          "contour": [
           {
            "colorbar": {
             "outlinewidth": 0,
             "ticks": ""
            },
            "colorscale": [
             [
              0,
              "#0d0887"
             ],
             [
              0.1111111111111111,
              "#46039f"
             ],
             [
              0.2222222222222222,
              "#7201a8"
             ],
             [
              0.3333333333333333,
              "#9c179e"
             ],
             [
              0.4444444444444444,
              "#bd3786"
             ],
             [
              0.5555555555555556,
              "#d8576b"
             ],
             [
              0.6666666666666666,
              "#ed7953"
             ],
             [
              0.7777777777777778,
              "#fb9f3a"
             ],
             [
              0.8888888888888888,
              "#fdca26"
             ],
             [
              1,
              "#f0f921"
             ]
            ],
            "type": "contour"
           }
          ],
          "contourcarpet": [
           {
            "colorbar": {
             "outlinewidth": 0,
             "ticks": ""
            },
            "type": "contourcarpet"
           }
          ],
          "heatmap": [
           {
            "colorbar": {
             "outlinewidth": 0,
             "ticks": ""
            },
            "colorscale": [
             [
              0,
              "#0d0887"
             ],
             [
              0.1111111111111111,
              "#46039f"
             ],
             [
              0.2222222222222222,
              "#7201a8"
             ],
             [
              0.3333333333333333,
              "#9c179e"
             ],
             [
              0.4444444444444444,
              "#bd3786"
             ],
             [
              0.5555555555555556,
              "#d8576b"
             ],
             [
              0.6666666666666666,
              "#ed7953"
             ],
             [
              0.7777777777777778,
              "#fb9f3a"
             ],
             [
              0.8888888888888888,
              "#fdca26"
             ],
             [
              1,
              "#f0f921"
             ]
            ],
            "type": "heatmap"
           }
          ],
          "heatmapgl": [
           {
            "colorbar": {
             "outlinewidth": 0,
             "ticks": ""
            },
            "colorscale": [
             [
              0,
              "#0d0887"
             ],
             [
              0.1111111111111111,
              "#46039f"
             ],
             [
              0.2222222222222222,
              "#7201a8"
             ],
             [
              0.3333333333333333,
              "#9c179e"
             ],
             [
              0.4444444444444444,
              "#bd3786"
             ],
             [
              0.5555555555555556,
              "#d8576b"
             ],
             [
              0.6666666666666666,
              "#ed7953"
             ],
             [
              0.7777777777777778,
              "#fb9f3a"
             ],
             [
              0.8888888888888888,
              "#fdca26"
             ],
             [
              1,
              "#f0f921"
             ]
            ],
            "type": "heatmapgl"
           }
          ],
          "histogram": [
           {
            "marker": {
             "pattern": {
              "fillmode": "overlay",
              "size": 10,
              "solidity": 0.2
             }
            },
            "type": "histogram"
           }
          ],
          "histogram2d": [
           {
            "colorbar": {
             "outlinewidth": 0,
             "ticks": ""
            },
            "colorscale": [
             [
              0,
              "#0d0887"
             ],
             [
              0.1111111111111111,
              "#46039f"
             ],
             [
              0.2222222222222222,
              "#7201a8"
             ],
             [
              0.3333333333333333,
              "#9c179e"
             ],
             [
              0.4444444444444444,
              "#bd3786"
             ],
             [
              0.5555555555555556,
              "#d8576b"
             ],
             [
              0.6666666666666666,
              "#ed7953"
             ],
             [
              0.7777777777777778,
              "#fb9f3a"
             ],
             [
              0.8888888888888888,
              "#fdca26"
             ],
             [
              1,
              "#f0f921"
             ]
            ],
            "type": "histogram2d"
           }
          ],
          "histogram2dcontour": [
           {
            "colorbar": {
             "outlinewidth": 0,
             "ticks": ""
            },
            "colorscale": [
             [
              0,
              "#0d0887"
             ],
             [
              0.1111111111111111,
              "#46039f"
             ],
             [
              0.2222222222222222,
              "#7201a8"
             ],
             [
              0.3333333333333333,
              "#9c179e"
             ],
             [
              0.4444444444444444,
              "#bd3786"
             ],
             [
              0.5555555555555556,
              "#d8576b"
             ],
             [
              0.6666666666666666,
              "#ed7953"
             ],
             [
              0.7777777777777778,
              "#fb9f3a"
             ],
             [
              0.8888888888888888,
              "#fdca26"
             ],
             [
              1,
              "#f0f921"
             ]
            ],
            "type": "histogram2dcontour"
           }
          ],
          "mesh3d": [
           {
            "colorbar": {
             "outlinewidth": 0,
             "ticks": ""
            },
            "type": "mesh3d"
           }
          ],
          "parcoords": [
           {
            "line": {
             "colorbar": {
              "outlinewidth": 0,
              "ticks": ""
             }
            },
            "type": "parcoords"
           }
          ],
          "pie": [
           {
            "automargin": true,
            "type": "pie"
           }
          ],
          "scatter": [
           {
            "fillpattern": {
             "fillmode": "overlay",
             "size": 10,
             "solidity": 0.2
            },
            "type": "scatter"
           }
          ],
          "scatter3d": [
           {
            "line": {
             "colorbar": {
              "outlinewidth": 0,
              "ticks": ""
             }
            },
            "marker": {
             "colorbar": {
              "outlinewidth": 0,
              "ticks": ""
             }
            },
            "type": "scatter3d"
           }
          ],
          "scattercarpet": [
           {
            "marker": {
             "colorbar": {
              "outlinewidth": 0,
              "ticks": ""
             }
            },
            "type": "scattercarpet"
           }
          ],
          "scattergeo": [
           {
            "marker": {
             "colorbar": {
              "outlinewidth": 0,
              "ticks": ""
             }
            },
            "type": "scattergeo"
           }
          ],
          "scattergl": [
           {
            "marker": {
             "colorbar": {
              "outlinewidth": 0,
              "ticks": ""
             }
            },
            "type": "scattergl"
           }
          ],
          "scattermapbox": [
           {
            "marker": {
             "colorbar": {
              "outlinewidth": 0,
              "ticks": ""
             }
            },
            "type": "scattermapbox"
           }
          ],
          "scatterpolar": [
           {
            "marker": {
             "colorbar": {
              "outlinewidth": 0,
              "ticks": ""
             }
            },
            "type": "scatterpolar"
           }
          ],
          "scatterpolargl": [
           {
            "marker": {
             "colorbar": {
              "outlinewidth": 0,
              "ticks": ""
             }
            },
            "type": "scatterpolargl"
           }
          ],
          "scatterternary": [
           {
            "marker": {
             "colorbar": {
              "outlinewidth": 0,
              "ticks": ""
             }
            },
            "type": "scatterternary"
           }
          ],
          "surface": [
           {
            "colorbar": {
             "outlinewidth": 0,
             "ticks": ""
            },
            "colorscale": [
             [
              0,
              "#0d0887"
             ],
             [
              0.1111111111111111,
              "#46039f"
             ],
             [
              0.2222222222222222,
              "#7201a8"
             ],
             [
              0.3333333333333333,
              "#9c179e"
             ],
             [
              0.4444444444444444,
              "#bd3786"
             ],
             [
              0.5555555555555556,
              "#d8576b"
             ],
             [
              0.6666666666666666,
              "#ed7953"
             ],
             [
              0.7777777777777778,
              "#fb9f3a"
             ],
             [
              0.8888888888888888,
              "#fdca26"
             ],
             [
              1,
              "#f0f921"
             ]
            ],
            "type": "surface"
           }
          ],
          "table": [
           {
            "cells": {
             "fill": {
              "color": "#EBF0F8"
             },
             "line": {
              "color": "white"
             }
            },
            "header": {
             "fill": {
              "color": "#C8D4E3"
             },
             "line": {
              "color": "white"
             }
            },
            "type": "table"
           }
          ]
         },
         "layout": {
          "annotationdefaults": {
           "arrowcolor": "#2a3f5f",
           "arrowhead": 0,
           "arrowwidth": 1
          },
          "autotypenumbers": "strict",
          "coloraxis": {
           "colorbar": {
            "outlinewidth": 0,
            "ticks": ""
           }
          },
          "colorscale": {
           "diverging": [
            [
             0,
             "#8e0152"
            ],
            [
             0.1,
             "#c51b7d"
            ],
            [
             0.2,
             "#de77ae"
            ],
            [
             0.3,
             "#f1b6da"
            ],
            [
             0.4,
             "#fde0ef"
            ],
            [
             0.5,
             "#f7f7f7"
            ],
            [
             0.6,
             "#e6f5d0"
            ],
            [
             0.7,
             "#b8e186"
            ],
            [
             0.8,
             "#7fbc41"
            ],
            [
             0.9,
             "#4d9221"
            ],
            [
             1,
             "#276419"
            ]
           ],
           "sequential": [
            [
             0,
             "#0d0887"
            ],
            [
             0.1111111111111111,
             "#46039f"
            ],
            [
             0.2222222222222222,
             "#7201a8"
            ],
            [
             0.3333333333333333,
             "#9c179e"
            ],
            [
             0.4444444444444444,
             "#bd3786"
            ],
            [
             0.5555555555555556,
             "#d8576b"
            ],
            [
             0.6666666666666666,
             "#ed7953"
            ],
            [
             0.7777777777777778,
             "#fb9f3a"
            ],
            [
             0.8888888888888888,
             "#fdca26"
            ],
            [
             1,
             "#f0f921"
            ]
           ],
           "sequentialminus": [
            [
             0,
             "#0d0887"
            ],
            [
             0.1111111111111111,
             "#46039f"
            ],
            [
             0.2222222222222222,
             "#7201a8"
            ],
            [
             0.3333333333333333,
             "#9c179e"
            ],
            [
             0.4444444444444444,
             "#bd3786"
            ],
            [
             0.5555555555555556,
             "#d8576b"
            ],
            [
             0.6666666666666666,
             "#ed7953"
            ],
            [
             0.7777777777777778,
             "#fb9f3a"
            ],
            [
             0.8888888888888888,
             "#fdca26"
            ],
            [
             1,
             "#f0f921"
            ]
           ]
          },
          "colorway": [
           "#636efa",
           "#EF553B",
           "#00cc96",
           "#ab63fa",
           "#FFA15A",
           "#19d3f3",
           "#FF6692",
           "#B6E880",
           "#FF97FF",
           "#FECB52"
          ],
          "font": {
           "color": "#2a3f5f"
          },
          "geo": {
           "bgcolor": "white",
           "lakecolor": "white",
           "landcolor": "#E5ECF6",
           "showlakes": true,
           "showland": true,
           "subunitcolor": "white"
          },
          "hoverlabel": {
           "align": "left"
          },
          "hovermode": "closest",
          "mapbox": {
           "style": "light"
          },
          "paper_bgcolor": "white",
          "plot_bgcolor": "#E5ECF6",
          "polar": {
           "angularaxis": {
            "gridcolor": "white",
            "linecolor": "white",
            "ticks": ""
           },
           "bgcolor": "#E5ECF6",
           "radialaxis": {
            "gridcolor": "white",
            "linecolor": "white",
            "ticks": ""
           }
          },
          "scene": {
           "xaxis": {
            "backgroundcolor": "#E5ECF6",
            "gridcolor": "white",
            "gridwidth": 2,
            "linecolor": "white",
            "showbackground": true,
            "ticks": "",
            "zerolinecolor": "white"
           },
           "yaxis": {
            "backgroundcolor": "#E5ECF6",
            "gridcolor": "white",
            "gridwidth": 2,
            "linecolor": "white",
            "showbackground": true,
            "ticks": "",
            "zerolinecolor": "white"
           },
           "zaxis": {
            "backgroundcolor": "#E5ECF6",
            "gridcolor": "white",
            "gridwidth": 2,
            "linecolor": "white",
            "showbackground": true,
            "ticks": "",
            "zerolinecolor": "white"
           }
          },
          "shapedefaults": {
           "line": {
            "color": "#2a3f5f"
           }
          },
          "ternary": {
           "aaxis": {
            "gridcolor": "white",
            "linecolor": "white",
            "ticks": ""
           },
           "baxis": {
            "gridcolor": "white",
            "linecolor": "white",
            "ticks": ""
           },
           "bgcolor": "#E5ECF6",
           "caxis": {
            "gridcolor": "white",
            "linecolor": "white",
            "ticks": ""
           }
          },
          "title": {
           "x": 0.05
          },
          "xaxis": {
           "automargin": true,
           "gridcolor": "white",
           "linecolor": "white",
           "ticks": "",
           "title": {
            "standoff": 15
           },
           "zerolinecolor": "white",
           "zerolinewidth": 2
          },
          "yaxis": {
           "automargin": true,
           "gridcolor": "white",
           "linecolor": "white",
           "ticks": "",
           "title": {
            "standoff": 15
           },
           "zerolinecolor": "white",
           "zerolinewidth": 2
          }
         }
        },
        "title": {
         "text": "Stock Proportions by Value on 2024-08-09"
        }
       }
      }
     },
     "metadata": {},
     "output_type": "display_data"
    }
   ],
   "source": [
    "def plot_stock_proportions(portfolio_data, date=None, show_values=True, main_threshold=3.0):\n",
    "    if date is None:\n",
    "        date = max(portfolio_data.keys())\n",
    "\n",
    "    if date not in portfolio_data:\n",
    "        print(f\"No data available for date: {date}\")\n",
    "        return None\n",
    "\n",
    "    holdings = portfolio_data[date]['holdings']\n",
    "    labels = list(holdings.keys())\n",
    "    values = [float(data['market_value']) for data in holdings.values()]\n",
    "\n",
    "    total = sum(values)\n",
    "    percentages = [(value / total) * 100 for value in values]\n",
    "\n",
    "    main_holdings = list(zip(labels, values, percentages))\n",
    "    main_holdings.sort(key=lambda x: x[2], reverse=True)\n",
    "\n",
    "    other_holdings = [h for h in main_holdings if h[2] < main_threshold]\n",
    "    if len(other_holdings) > 1:\n",
    "        others_value = sum(v for _, v, _ in other_holdings)\n",
    "        others_percentage = sum(p for _, _, p in other_holdings)\n",
    "        other_symbols_info = \"<br>\".join(f\"{l}: {p:.2f}%\" for l, _, p in other_holdings)\n",
    "        main_holdings = [h for h in main_holdings if h[2] >= main_threshold] + [(\"Others\", others_value, others_percentage)]\n",
    "\n",
    "    main_labels, main_values, main_percentages = zip(*main_holdings)\n",
    "\n",
    "    # Create custom hover text\n",
    "    hover_text = [f\"{label}<br>${value:,.2f}<br>{percentage:.2f}%\" for label, value, percentage in zip(main_labels, main_values, main_percentages)]\n",
    "    if \"Others\" in main_labels:\n",
    "        others_index = main_labels.index(\"Others\")\n",
    "        hover_text[others_index] += f\"<br><br>Symbols:<br>{other_symbols_info}\"\n",
    "\n",
    "    fig = go.Figure(data=[go.Pie(labels=main_labels,\n",
    "                    values=main_percentages, \n",
    "                    textinfo='label+percent',\n",
    "                    hovertext=hover_text,\n",
    "                    hoverinfo='text')])\n",
    "\n",
    "    fig.update_layout(\n",
    "        title=f'Stock Proportions by Value on {date}',\n",
    "        showlegend=True,\n",
    "        legend=dict(title=\"Holdings\")\n",
    "    )\n",
    "\n",
    "    if show_values:\n",
    "        fig.update_traces(\n",
    "            text=[f'${value:,.2f}' for value in main_values], textposition='inside')\n",
    "\n",
    "    return fig\n",
    "\n",
    "# Call the function\n",
    "plot_stock_proportions(portfolio_data, show_values=False)"
   ]
  },
  {
   "cell_type": "code",
   "execution_count": 47,
   "metadata": {},
   "outputs": [],
   "source": [
    "# plot_stock_proportions(\n",
    "#     portfolio_history, date=\"2023-10-26\")"
   ]
  },
  {
   "cell_type": "code",
   "execution_count": 28,
   "metadata": {},
   "outputs": [
    {
     "data": {
      "application/vnd.plotly.v1+json": {
       "config": {
        "plotlyServerURL": "https://plot.ly"
       },
       "data": [
        {
         "labels": [
          "ETF",
          "Consumer Cyclical",
          "Technology",
          "Communication Services"
         ],
         "textinfo": "label+percent",
         "type": "pie",
         "values": [
          8153.317051277466,
          15041.206464627076,
          19438.72875830597,
          1036.2442062890625
         ]
        }
       ],
       "layout": {
        "legend": {
         "title": {
          "text": "Sectors"
         }
        },
        "showlegend": true,
        "template": {
         "data": {
          "bar": [
           {
            "error_x": {
             "color": "#2a3f5f"
            },
            "error_y": {
             "color": "#2a3f5f"
            },
            "marker": {
             "line": {
              "color": "#E5ECF6",
              "width": 0.5
             },
             "pattern": {
              "fillmode": "overlay",
              "size": 10,
              "solidity": 0.2
             }
            },
            "type": "bar"
           }
          ],
          "barpolar": [
           {
            "marker": {
             "line": {
              "color": "#E5ECF6",
              "width": 0.5
             },
             "pattern": {
              "fillmode": "overlay",
              "size": 10,
              "solidity": 0.2
             }
            },
            "type": "barpolar"
           }
          ],
          "carpet": [
           {
            "aaxis": {
             "endlinecolor": "#2a3f5f",
             "gridcolor": "white",
             "linecolor": "white",
             "minorgridcolor": "white",
             "startlinecolor": "#2a3f5f"
            },
            "baxis": {
             "endlinecolor": "#2a3f5f",
             "gridcolor": "white",
             "linecolor": "white",
             "minorgridcolor": "white",
             "startlinecolor": "#2a3f5f"
            },
            "type": "carpet"
           }
          ],
          "choropleth": [
           {
            "colorbar": {
             "outlinewidth": 0,
             "ticks": ""
            },
            "type": "choropleth"
           }
          ],
          "contour": [
           {
            "colorbar": {
             "outlinewidth": 0,
             "ticks": ""
            },
            "colorscale": [
             [
              0,
              "#0d0887"
             ],
             [
              0.1111111111111111,
              "#46039f"
             ],
             [
              0.2222222222222222,
              "#7201a8"
             ],
             [
              0.3333333333333333,
              "#9c179e"
             ],
             [
              0.4444444444444444,
              "#bd3786"
             ],
             [
              0.5555555555555556,
              "#d8576b"
             ],
             [
              0.6666666666666666,
              "#ed7953"
             ],
             [
              0.7777777777777778,
              "#fb9f3a"
             ],
             [
              0.8888888888888888,
              "#fdca26"
             ],
             [
              1,
              "#f0f921"
             ]
            ],
            "type": "contour"
           }
          ],
          "contourcarpet": [
           {
            "colorbar": {
             "outlinewidth": 0,
             "ticks": ""
            },
            "type": "contourcarpet"
           }
          ],
          "heatmap": [
           {
            "colorbar": {
             "outlinewidth": 0,
             "ticks": ""
            },
            "colorscale": [
             [
              0,
              "#0d0887"
             ],
             [
              0.1111111111111111,
              "#46039f"
             ],
             [
              0.2222222222222222,
              "#7201a8"
             ],
             [
              0.3333333333333333,
              "#9c179e"
             ],
             [
              0.4444444444444444,
              "#bd3786"
             ],
             [
              0.5555555555555556,
              "#d8576b"
             ],
             [
              0.6666666666666666,
              "#ed7953"
             ],
             [
              0.7777777777777778,
              "#fb9f3a"
             ],
             [
              0.8888888888888888,
              "#fdca26"
             ],
             [
              1,
              "#f0f921"
             ]
            ],
            "type": "heatmap"
           }
          ],
          "heatmapgl": [
           {
            "colorbar": {
             "outlinewidth": 0,
             "ticks": ""
            },
            "colorscale": [
             [
              0,
              "#0d0887"
             ],
             [
              0.1111111111111111,
              "#46039f"
             ],
             [
              0.2222222222222222,
              "#7201a8"
             ],
             [
              0.3333333333333333,
              "#9c179e"
             ],
             [
              0.4444444444444444,
              "#bd3786"
             ],
             [
              0.5555555555555556,
              "#d8576b"
             ],
             [
              0.6666666666666666,
              "#ed7953"
             ],
             [
              0.7777777777777778,
              "#fb9f3a"
             ],
             [
              0.8888888888888888,
              "#fdca26"
             ],
             [
              1,
              "#f0f921"
             ]
            ],
            "type": "heatmapgl"
           }
          ],
          "histogram": [
           {
            "marker": {
             "pattern": {
              "fillmode": "overlay",
              "size": 10,
              "solidity": 0.2
             }
            },
            "type": "histogram"
           }
          ],
          "histogram2d": [
           {
            "colorbar": {
             "outlinewidth": 0,
             "ticks": ""
            },
            "colorscale": [
             [
              0,
              "#0d0887"
             ],
             [
              0.1111111111111111,
              "#46039f"
             ],
             [
              0.2222222222222222,
              "#7201a8"
             ],
             [
              0.3333333333333333,
              "#9c179e"
             ],
             [
              0.4444444444444444,
              "#bd3786"
             ],
             [
              0.5555555555555556,
              "#d8576b"
             ],
             [
              0.6666666666666666,
              "#ed7953"
             ],
             [
              0.7777777777777778,
              "#fb9f3a"
             ],
             [
              0.8888888888888888,
              "#fdca26"
             ],
             [
              1,
              "#f0f921"
             ]
            ],
            "type": "histogram2d"
           }
          ],
          "histogram2dcontour": [
           {
            "colorbar": {
             "outlinewidth": 0,
             "ticks": ""
            },
            "colorscale": [
             [
              0,
              "#0d0887"
             ],
             [
              0.1111111111111111,
              "#46039f"
             ],
             [
              0.2222222222222222,
              "#7201a8"
             ],
             [
              0.3333333333333333,
              "#9c179e"
             ],
             [
              0.4444444444444444,
              "#bd3786"
             ],
             [
              0.5555555555555556,
              "#d8576b"
             ],
             [
              0.6666666666666666,
              "#ed7953"
             ],
             [
              0.7777777777777778,
              "#fb9f3a"
             ],
             [
              0.8888888888888888,
              "#fdca26"
             ],
             [
              1,
              "#f0f921"
             ]
            ],
            "type": "histogram2dcontour"
           }
          ],
          "mesh3d": [
           {
            "colorbar": {
             "outlinewidth": 0,
             "ticks": ""
            },
            "type": "mesh3d"
           }
          ],
          "parcoords": [
           {
            "line": {
             "colorbar": {
              "outlinewidth": 0,
              "ticks": ""
             }
            },
            "type": "parcoords"
           }
          ],
          "pie": [
           {
            "automargin": true,
            "type": "pie"
           }
          ],
          "scatter": [
           {
            "fillpattern": {
             "fillmode": "overlay",
             "size": 10,
             "solidity": 0.2
            },
            "type": "scatter"
           }
          ],
          "scatter3d": [
           {
            "line": {
             "colorbar": {
              "outlinewidth": 0,
              "ticks": ""
             }
            },
            "marker": {
             "colorbar": {
              "outlinewidth": 0,
              "ticks": ""
             }
            },
            "type": "scatter3d"
           }
          ],
          "scattercarpet": [
           {
            "marker": {
             "colorbar": {
              "outlinewidth": 0,
              "ticks": ""
             }
            },
            "type": "scattercarpet"
           }
          ],
          "scattergeo": [
           {
            "marker": {
             "colorbar": {
              "outlinewidth": 0,
              "ticks": ""
             }
            },
            "type": "scattergeo"
           }
          ],
          "scattergl": [
           {
            "marker": {
             "colorbar": {
              "outlinewidth": 0,
              "ticks": ""
             }
            },
            "type": "scattergl"
           }
          ],
          "scattermapbox": [
           {
            "marker": {
             "colorbar": {
              "outlinewidth": 0,
              "ticks": ""
             }
            },
            "type": "scattermapbox"
           }
          ],
          "scatterpolar": [
           {
            "marker": {
             "colorbar": {
              "outlinewidth": 0,
              "ticks": ""
             }
            },
            "type": "scatterpolar"
           }
          ],
          "scatterpolargl": [
           {
            "marker": {
             "colorbar": {
              "outlinewidth": 0,
              "ticks": ""
             }
            },
            "type": "scatterpolargl"
           }
          ],
          "scatterternary": [
           {
            "marker": {
             "colorbar": {
              "outlinewidth": 0,
              "ticks": ""
             }
            },
            "type": "scatterternary"
           }
          ],
          "surface": [
           {
            "colorbar": {
             "outlinewidth": 0,
             "ticks": ""
            },
            "colorscale": [
             [
              0,
              "#0d0887"
             ],
             [
              0.1111111111111111,
              "#46039f"
             ],
             [
              0.2222222222222222,
              "#7201a8"
             ],
             [
              0.3333333333333333,
              "#9c179e"
             ],
             [
              0.4444444444444444,
              "#bd3786"
             ],
             [
              0.5555555555555556,
              "#d8576b"
             ],
             [
              0.6666666666666666,
              "#ed7953"
             ],
             [
              0.7777777777777778,
              "#fb9f3a"
             ],
             [
              0.8888888888888888,
              "#fdca26"
             ],
             [
              1,
              "#f0f921"
             ]
            ],
            "type": "surface"
           }
          ],
          "table": [
           {
            "cells": {
             "fill": {
              "color": "#EBF0F8"
             },
             "line": {
              "color": "white"
             }
            },
            "header": {
             "fill": {
              "color": "#C8D4E3"
             },
             "line": {
              "color": "white"
             }
            },
            "type": "table"
           }
          ]
         },
         "layout": {
          "annotationdefaults": {
           "arrowcolor": "#2a3f5f",
           "arrowhead": 0,
           "arrowwidth": 1
          },
          "autotypenumbers": "strict",
          "coloraxis": {
           "colorbar": {
            "outlinewidth": 0,
            "ticks": ""
           }
          },
          "colorscale": {
           "diverging": [
            [
             0,
             "#8e0152"
            ],
            [
             0.1,
             "#c51b7d"
            ],
            [
             0.2,
             "#de77ae"
            ],
            [
             0.3,
             "#f1b6da"
            ],
            [
             0.4,
             "#fde0ef"
            ],
            [
             0.5,
             "#f7f7f7"
            ],
            [
             0.6,
             "#e6f5d0"
            ],
            [
             0.7,
             "#b8e186"
            ],
            [
             0.8,
             "#7fbc41"
            ],
            [
             0.9,
             "#4d9221"
            ],
            [
             1,
             "#276419"
            ]
           ],
           "sequential": [
            [
             0,
             "#0d0887"
            ],
            [
             0.1111111111111111,
             "#46039f"
            ],
            [
             0.2222222222222222,
             "#7201a8"
            ],
            [
             0.3333333333333333,
             "#9c179e"
            ],
            [
             0.4444444444444444,
             "#bd3786"
            ],
            [
             0.5555555555555556,
             "#d8576b"
            ],
            [
             0.6666666666666666,
             "#ed7953"
            ],
            [
             0.7777777777777778,
             "#fb9f3a"
            ],
            [
             0.8888888888888888,
             "#fdca26"
            ],
            [
             1,
             "#f0f921"
            ]
           ],
           "sequentialminus": [
            [
             0,
             "#0d0887"
            ],
            [
             0.1111111111111111,
             "#46039f"
            ],
            [
             0.2222222222222222,
             "#7201a8"
            ],
            [
             0.3333333333333333,
             "#9c179e"
            ],
            [
             0.4444444444444444,
             "#bd3786"
            ],
            [
             0.5555555555555556,
             "#d8576b"
            ],
            [
             0.6666666666666666,
             "#ed7953"
            ],
            [
             0.7777777777777778,
             "#fb9f3a"
            ],
            [
             0.8888888888888888,
             "#fdca26"
            ],
            [
             1,
             "#f0f921"
            ]
           ]
          },
          "colorway": [
           "#636efa",
           "#EF553B",
           "#00cc96",
           "#ab63fa",
           "#FFA15A",
           "#19d3f3",
           "#FF6692",
           "#B6E880",
           "#FF97FF",
           "#FECB52"
          ],
          "font": {
           "color": "#2a3f5f"
          },
          "geo": {
           "bgcolor": "white",
           "lakecolor": "white",
           "landcolor": "#E5ECF6",
           "showlakes": true,
           "showland": true,
           "subunitcolor": "white"
          },
          "hoverlabel": {
           "align": "left"
          },
          "hovermode": "closest",
          "mapbox": {
           "style": "light"
          },
          "paper_bgcolor": "white",
          "plot_bgcolor": "#E5ECF6",
          "polar": {
           "angularaxis": {
            "gridcolor": "white",
            "linecolor": "white",
            "ticks": ""
           },
           "bgcolor": "#E5ECF6",
           "radialaxis": {
            "gridcolor": "white",
            "linecolor": "white",
            "ticks": ""
           }
          },
          "scene": {
           "xaxis": {
            "backgroundcolor": "#E5ECF6",
            "gridcolor": "white",
            "gridwidth": 2,
            "linecolor": "white",
            "showbackground": true,
            "ticks": "",
            "zerolinecolor": "white"
           },
           "yaxis": {
            "backgroundcolor": "#E5ECF6",
            "gridcolor": "white",
            "gridwidth": 2,
            "linecolor": "white",
            "showbackground": true,
            "ticks": "",
            "zerolinecolor": "white"
           },
           "zaxis": {
            "backgroundcolor": "#E5ECF6",
            "gridcolor": "white",
            "gridwidth": 2,
            "linecolor": "white",
            "showbackground": true,
            "ticks": "",
            "zerolinecolor": "white"
           }
          },
          "shapedefaults": {
           "line": {
            "color": "#2a3f5f"
           }
          },
          "ternary": {
           "aaxis": {
            "gridcolor": "white",
            "linecolor": "white",
            "ticks": ""
           },
           "baxis": {
            "gridcolor": "white",
            "linecolor": "white",
            "ticks": ""
           },
           "bgcolor": "#E5ECF6",
           "caxis": {
            "gridcolor": "white",
            "linecolor": "white",
            "ticks": ""
           }
          },
          "title": {
           "x": 0.05
          },
          "xaxis": {
           "automargin": true,
           "gridcolor": "white",
           "linecolor": "white",
           "ticks": "",
           "title": {
            "standoff": 15
           },
           "zerolinecolor": "white",
           "zerolinewidth": 2
          },
          "yaxis": {
           "automargin": true,
           "gridcolor": "white",
           "linecolor": "white",
           "ticks": "",
           "title": {
            "standoff": 15
           },
           "zerolinecolor": "white",
           "zerolinewidth": 2
          }
         }
        },
        "title": {
         "text": "Sector Proportions on 2024-08-09"
        }
       }
      }
     },
     "metadata": {},
     "output_type": "display_data"
    }
   ],
   "source": [
    "def plot_sector_proportions(portfolio_data, sectors, date=None):\n",
    "    if date is None:\n",
    "        date = max(portfolio_data.keys())\n",
    "\n",
    "    if date not in portfolio_data:\n",
    "        print(f\"No data available for date: {date}\")\n",
    "        return None\n",
    "\n",
    "    holdings = portfolio_data[date]['holdings']\n",
    "    sector_counts = {}\n",
    "    for symbol, data in holdings.items():\n",
    "        sector = sectors.get(symbol, 'ETF')\n",
    "        if sector not in sector_counts:\n",
    "            sector_counts[sector] = 0\n",
    "        sector_counts[sector] += float(data['quantity']) * \\\n",
    "            float(data['market_price'])\n",
    "\n",
    "    labels = list(sector_counts.keys())\n",
    "    sizes = list(sector_counts.values())\n",
    "\n",
    "    fig = go.Figure(\n",
    "        data=[go.Pie(labels=labels, values=sizes, textinfo='label+percent')])\n",
    "\n",
    "    fig.update_layout(\n",
    "        title=f'Sector Proportions on {date}',\n",
    "        showlegend=True,\n",
    "        legend=dict(title=\"Sectors\")\n",
    "    )\n",
    "\n",
    "    return fig\n",
    "\n",
    "\n",
    "# Call the function with the loaded data\n",
    "plot_sector_proportions(portfolio_data, sectors)"
   ]
  },
  {
   "cell_type": "code",
   "execution_count": 29,
   "metadata": {},
   "outputs": [],
   "source": [
    "def calculate_return(df, start_date):\n",
    "    start_value = df[df['Date'] >=\n",
    "                     start_date]['Unrealized Gain/Loss (%)'].iloc[0]\n",
    "    end_value = df['Unrealized Gain/Loss (%)'].iloc[-1]\n",
    "    return end_value - start_value\n",
    "\n",
    "def plot_portfolio_growth(portfolio_data, plot_sp500=True):\n",
    "    dates = sorted(portfolio_data.keys())\n",
    "    unrealized_gains_pct = [float(\n",
    "        portfolio_data[d]['summary']['unrealized_gain_loss_percentage']) for d in dates]\n",
    "    unrealized_gains = [\n",
    "        float(portfolio_data[d]['summary']['unrealized_gain_loss']) for d in dates]\n",
    "    df_plot = pd.DataFrame({\n",
    "        'Date': pd.to_datetime(dates),\n",
    "        'Unrealized Gain/Loss (%)': unrealized_gains_pct,\n",
    "        'Unrealized Gain/Loss ($)': unrealized_gains\n",
    "    })\n",
    "\n",
    "    # Calculate returns for specific periods\n",
    "    latest_date = df_plot['Date'].max()\n",
    "    returns = {\n",
    "        '5D': calculate_return(df_plot, latest_date - pd.Timedelta(days=5)),\n",
    "        '1M': calculate_return(df_plot, latest_date - pd.Timedelta(days=30)),\n",
    "        '6M': calculate_return(df_plot, latest_date - pd.Timedelta(days=180)),\n",
    "        'YTD': calculate_return(df_plot, pd.Timestamp(year=latest_date.year, month=1, day=1)),\n",
    "        '1Y': calculate_return(df_plot, latest_date - pd.Timedelta(days=365)),\n",
    "        'All': calculate_return(df_plot, df_plot['Date'].min())\n",
    "    }\n",
    "\n",
    "    fig = go.Figure()\n",
    "\n",
    "    fig.add_trace(go.Scatter(\n",
    "        x=df_plot['Date'],\n",
    "        y=df_plot['Unrealized Gain/Loss (%)'],\n",
    "        fill='tozeroy',\n",
    "        fillcolor='rgba(255,0,0,0.2)',\n",
    "        line=dict(color='red', width=2),\n",
    "        name='Portfolio',\n",
    "        hovertemplate='%{y:.2f}% ($%{customdata:.2f})<extra></extra>',\n",
    "        customdata=df_plot['Unrealized Gain/Loss ($)']\n",
    "    ))\n",
    "\n",
    "    if plot_sp500:\n",
    "        sp500_data = fetch_sp500_data(\n",
    "            df_plot['Date'].min(), df_plot['Date'].max())\n",
    "        sp500_performance = (\n",
    "            (sp500_data['Close'] - sp500_data['Close'].iloc[0]) / sp500_data['Close'].iloc[0]) * 100\n",
    "\n",
    "        fig.add_trace(go.Scatter(\n",
    "            x=sp500_data.index,\n",
    "            y=sp500_performance,\n",
    "            line=dict(color='blue', width=2),\n",
    "            name='S&P 500'\n",
    "        ))\n",
    "\n",
    "    performance_text = (\n",
    "        f\"Portfolio Performance:<br>\"\n",
    "        f\"<span style='display: inline-block; width: 70px;'>5D: {\n",
    "            returns['5D']:.2f}%</span> | <span style='display: inline-block; width: 80px;'>1M: {returns['1M']:.2f}%</span><br>\"\n",
    "        f\"<span style='display: inline-block; width: 70px;'>6M: {\n",
    "            returns['6M']:.2f}%</span> | <span style='display: inline-block; width: 80px;'>YTD: {returns['YTD']:.2f}%</span><br>\"\n",
    "        f\"<span style='display: inline-block; width: 70px;'>1Y: {\n",
    "            returns['1Y']:.2f}%</span> | <span style='display: inline-block; width: 80px;'>All: {returns['All']:.2f}%</span>\"\n",
    "    )\n",
    "\n",
    "    fig.add_annotation(\n",
    "        x=1,\n",
    "        y=1.05,\n",
    "        xref='paper',\n",
    "        yref='paper',\n",
    "        text=performance_text,\n",
    "        showarrow=False,\n",
    "        # Use monospace font for better alignment\n",
    "        font=dict(size=10, family=\"monospace\"),\n",
    "        align='left',\n",
    "        xanchor='right',\n",
    "        yanchor='bottom',\n",
    "        bgcolor='rgba(255,255,255,0.8)',\n",
    "        bordercolor='rgba(0,0,0,0.5)',\n",
    "        borderwidth=1,\n",
    "        borderpad=4\n",
    "    )\n",
    "\n",
    "\n",
    "    fig.update_layout(\n",
    "        title={\n",
    "            'text': 'Portfolio Performance vs S&P 500',\n",
    "            'y': 0.95,\n",
    "            'x': 0.5,\n",
    "            'xanchor': 'center',\n",
    "            'yanchor': 'top'\n",
    "        },\n",
    "        xaxis_title='Date',\n",
    "        yaxis_title='Performance (%)',\n",
    "        yaxis_tickformat='.2f',\n",
    "        hovermode='x unified',\n",
    "        showlegend=True,\n",
    "        yaxis=dict(\n",
    "            ticksuffix='%',\n",
    "            range=[min(df_plot['Unrealized Gain/Loss (%)'].min(), sp500_performance.min()) - 5,\n",
    "                   max(df_plot['Unrealized Gain/Loss (%)'].max(), sp500_performance.max()) + 5]\n",
    "        ),\n",
    "        xaxis=dict(\n",
    "            rangeslider=dict(visible=False),\n",
    "            rangeselector=dict(\n",
    "                buttons=list([\n",
    "                    dict(count=5, label=\"5D\", step=\"day\", stepmode=\"backward\"),\n",
    "                    dict(count=1, label=\"1M\", step=\"month\", stepmode=\"backward\"),\n",
    "                    dict(count=6, label=\"6M\", step=\"month\", stepmode=\"backward\"),\n",
    "                    dict(count=1, label=\"YTD\", step=\"year\", stepmode=\"todate\"),\n",
    "                    dict(count=1, label=\"1Y\", step=\"year\", stepmode=\"backward\"),\n",
    "                    dict(step=\"all\", label=\"MAX\")\n",
    "                ])\n",
    "            )\n",
    "        ),\n",
    "        margin=dict(t=100)  # Increase top margin to accommodate the annotation\n",
    "    )\n",
    "    return fig\n",
    "\n",
    "def fetch_sp500_data(start_date, end_date):\n",
    "    # Convert end_date to datetime and add one day\n",
    "    end_date = pd.to_datetime(end_date) + timedelta(days=1)\n",
    "\n",
    "    # Download S&P 500 data\n",
    "    sp500 = yf.Ticker(\"^GSPC\")\n",
    "    sp500_data = sp500.history(start=start_date, end=end_date)\n",
    "\n",
    "    # Return only the 'Close' prices\n",
    "    return sp500_data[['Close']]"
   ]
  },
  {
   "cell_type": "code",
   "execution_count": 30,
   "metadata": {},
   "outputs": [
    {
     "data": {
      "application/vnd.plotly.v1+json": {
       "config": {
        "plotlyServerURL": "https://plot.ly"
       },
       "data": [
        {
         "customdata": [
          0,
          -10.8692841,
          -11.2881199,
          -15.9827914,
          -7.747763,
          -11.08921,
          -36.204105,
          -17.049343,
          -34.565507,
          -33.85232,
          -75.759461,
          -112.765088,
          -151.801428,
          -171.345449,
          -77.423398,
          -75.435858,
          -30.763508,
          -144.059245,
          -63.346295,
          -34.408237,
          120.556277,
          134.439297,
          129.220354,
          39.80271,
          115.513424,
          51.688589,
          9.301545,
          2.451099,
          227.353351,
          188.125321,
          215.611521,
          292.064316,
          248.050728,
          185.080183,
          122.186308,
          62.002461,
          -56.242258,
          -155.732439,
          -126.295872,
          -224.001147,
          -209.422764,
          -107.844392,
          -51.831511,
          -20.743207,
          -185.602417,
          -23.539179,
          7.661701,
          139.270367,
          211.97652,
          249.248924,
          270.474373,
          232.507162,
          120.378938,
          196.275965,
          212.440471,
          33.642853,
          -163.392557,
          -333.443386,
          -320.597103,
          -239.664944,
          -458.493262,
          -636.310243,
          -635.651836,
          -726.15981,
          -595.91601,
          -394.72411,
          83.99537,
          179.53461,
          164.25795,
          275.20928,
          276.74157,
          55.69427,
          279.37747,
          529.89394,
          975.2404,
          1193.04766,
          961.90072,
          978.62452,
          1065.89164,
          1189.54735,
          1026.47479,
          1059.45645,
          1048.24625,
          1309.94714,
          1230.78253,
          1098.15997,
          1084.00944,
          931.17457,
          1012.92828,
          1024.32602,
          1209.93755,
          1284.3071,
          1159.02205,
          1074.40339,
          1243.72384,
          1644.50847,
          1702.45085,
          1668.49698,
          1875.65673,
          1438.5572,
          1738.59878,
          1668.4179,
          1816.91132,
          1717.07559,
          1514.89865,
          1361.49467,
          1268.24588,
          957.47711,
          891.30414,
          870.52504,
          1106.21696,
          897.60795,
          902.62259,
          701.43471,
          456.50084,
          518.16954,
          292.74761,
          249.68471,
          389.61308,
          374.01484,
          359.86903,
          267.67907,
          -796.56403,
          -774.69943,
          -251.83965,
          -302.1512,
          -730.4517,
          -561.35344,
          -492.54105,
          -852.46275,
          -59.6038,
          303.21922,
          549.4359,
          745.48267,
          318.61218,
          -46.21677,
          341.94982,
          1006.1464,
          840.61124,
          357.34538,
          181.39239,
          712.29626,
          420.44512,
          837.19798,
          761.17214,
          828.57349,
          948.75615,
          1142.78366,
          409.86566,
          -139.36859,
          -275.82072,
          -150.9634,
          -861.3818,
          -899.0206,
          -438.60992,
          -987.14403,
          -1568.47156,
          -1607.1774,
          -904.89083,
          -979.41967,
          -558.92013,
          null,
          -523.64237,
          -170.41149,
          -59.6516,
          -247.23608,
          -629.36115,
          -590.6079,
          -1219.53686,
          -1134.75826,
          -1369.75118,
          -1457.95593,
          -1029.58712,
          -912.01663,
          -1122.63145,
          -497.88013,
          -1058.88143,
          -1976.74218,
          -2136.7863,
          -2611.14207,
          -2990.15893,
          -4097.62512,
          -4005.75581,
          -3414.34953,
          -2533.89219,
          -1802.7748,
          -1300.32633,
          437.10903,
          -561.85783,
          -1157.91161,
          -746.87134,
          -106.36796,
          647.42295,
          -96.2706,
          -291.94079,
          -658.69604,
          -714.00134,
          -430.82508,
          185.7952,
          460.9185,
          423.21588,
          385.68454,
          515.0152,
          1402.70945,
          912.30869,
          1434.79106,
          2255.09991,
          2995.85552,
          2960.5937,
          2526.68386,
          2375.85205,
          2978.93795,
          3061.12091,
          4090.90614,
          4135.96536,
          4099.82508,
          4025.2857,
          3801.29879,
          4974.3447,
          5878.77118,
          5874.97271,
          6588.14094,
          6984.87188,
          6098.79919,
          5612.29253,
          4285.9616,
          5836.21648,
          6572.67735,
          6394.68532,
          6314.48103,
          7326.56022,
          8789.80928,
          10735.75134,
          10991.35619,
          11479.06999,
          12505.66535,
          13298.92961,
          10393.28303,
          11193.10842,
          11353.34701,
          11350.82067,
          9041.90543,
          9432.14684,
          8093.49819,
          9910.03243,
          9433.57212,
          5473.95168,
          5345.14155,
          5585.99492,
          6231.53178,
          4200.50691,
          7157.84756,
          4535.04009,
          3186.93629,
          1247.85403,
          2111.89871,
          670.77023,
          2633.64616,
          2793.48507
         ],
         "fill": "tozeroy",
         "fillcolor": "rgba(255,0,0,0.2)",
         "hovertemplate": "%{y:.2f}% ($%{customdata:.2f})<extra></extra>",
         "line": {
          "color": "red",
          "width": 2
         },
         "name": "Portfolio",
         "type": "scatter",
         "x": [
          "2023-08-01T00:00:00",
          "2023-08-02T00:00:00",
          "2023-08-03T00:00:00",
          "2023-08-04T00:00:00",
          "2023-08-07T00:00:00",
          "2023-08-08T00:00:00",
          "2023-08-09T00:00:00",
          "2023-08-10T00:00:00",
          "2023-08-11T00:00:00",
          "2023-08-14T00:00:00",
          "2023-08-15T00:00:00",
          "2023-08-16T00:00:00",
          "2023-08-17T00:00:00",
          "2023-08-18T00:00:00",
          "2023-08-21T00:00:00",
          "2023-08-22T00:00:00",
          "2023-08-23T00:00:00",
          "2023-08-24T00:00:00",
          "2023-08-25T00:00:00",
          "2023-08-28T00:00:00",
          "2023-08-29T00:00:00",
          "2023-08-30T00:00:00",
          "2023-08-31T00:00:00",
          "2023-09-01T00:00:00",
          "2023-09-05T00:00:00",
          "2023-09-06T00:00:00",
          "2023-09-07T00:00:00",
          "2023-09-08T00:00:00",
          "2023-09-11T00:00:00",
          "2023-09-12T00:00:00",
          "2023-09-13T00:00:00",
          "2023-09-14T00:00:00",
          "2023-09-15T00:00:00",
          "2023-09-18T00:00:00",
          "2023-09-19T00:00:00",
          "2023-09-20T00:00:00",
          "2023-09-21T00:00:00",
          "2023-09-22T00:00:00",
          "2023-09-25T00:00:00",
          "2023-09-26T00:00:00",
          "2023-09-27T00:00:00",
          "2023-09-28T00:00:00",
          "2023-09-29T00:00:00",
          "2023-10-02T00:00:00",
          "2023-10-03T00:00:00",
          "2023-10-04T00:00:00",
          "2023-10-05T00:00:00",
          "2023-10-06T00:00:00",
          "2023-10-09T00:00:00",
          "2023-10-10T00:00:00",
          "2023-10-11T00:00:00",
          "2023-10-12T00:00:00",
          "2023-10-13T00:00:00",
          "2023-10-16T00:00:00",
          "2023-10-17T00:00:00",
          "2023-10-18T00:00:00",
          "2023-10-19T00:00:00",
          "2023-10-20T00:00:00",
          "2023-10-23T00:00:00",
          "2023-10-24T00:00:00",
          "2023-10-25T00:00:00",
          "2023-10-26T00:00:00",
          "2023-10-27T00:00:00",
          "2023-10-30T00:00:00",
          "2023-10-31T00:00:00",
          "2023-11-01T00:00:00",
          "2023-11-02T00:00:00",
          "2023-11-03T00:00:00",
          "2023-11-06T00:00:00",
          "2023-11-07T00:00:00",
          "2023-11-08T00:00:00",
          "2023-11-09T00:00:00",
          "2023-11-10T00:00:00",
          "2023-11-13T00:00:00",
          "2023-11-14T00:00:00",
          "2023-11-15T00:00:00",
          "2023-11-16T00:00:00",
          "2023-11-17T00:00:00",
          "2023-11-20T00:00:00",
          "2023-11-21T00:00:00",
          "2023-11-22T00:00:00",
          "2023-11-24T00:00:00",
          "2023-11-27T00:00:00",
          "2023-11-28T00:00:00",
          "2023-11-29T00:00:00",
          "2023-11-30T00:00:00",
          "2023-12-01T00:00:00",
          "2023-12-04T00:00:00",
          "2023-12-05T00:00:00",
          "2023-12-06T00:00:00",
          "2023-12-07T00:00:00",
          "2023-12-08T00:00:00",
          "2023-12-11T00:00:00",
          "2023-12-12T00:00:00",
          "2023-12-13T00:00:00",
          "2023-12-14T00:00:00",
          "2023-12-15T00:00:00",
          "2023-12-18T00:00:00",
          "2023-12-19T00:00:00",
          "2023-12-20T00:00:00",
          "2023-12-21T00:00:00",
          "2023-12-22T00:00:00",
          "2023-12-26T00:00:00",
          "2023-12-27T00:00:00",
          "2023-12-28T00:00:00",
          "2023-12-29T00:00:00",
          "2024-01-02T00:00:00",
          "2024-01-03T00:00:00",
          "2024-01-04T00:00:00",
          "2024-01-05T00:00:00",
          "2024-01-08T00:00:00",
          "2024-01-09T00:00:00",
          "2024-01-10T00:00:00",
          "2024-01-11T00:00:00",
          "2024-01-12T00:00:00",
          "2024-01-16T00:00:00",
          "2024-01-17T00:00:00",
          "2024-01-18T00:00:00",
          "2024-01-19T00:00:00",
          "2024-01-22T00:00:00",
          "2024-01-23T00:00:00",
          "2024-01-24T00:00:00",
          "2024-01-25T00:00:00",
          "2024-01-26T00:00:00",
          "2024-01-29T00:00:00",
          "2024-01-30T00:00:00",
          "2024-01-31T00:00:00",
          "2024-02-01T00:00:00",
          "2024-02-02T00:00:00",
          "2024-02-05T00:00:00",
          "2024-02-06T00:00:00",
          "2024-02-07T00:00:00",
          "2024-02-08T00:00:00",
          "2024-02-09T00:00:00",
          "2024-02-12T00:00:00",
          "2024-02-13T00:00:00",
          "2024-02-14T00:00:00",
          "2024-02-15T00:00:00",
          "2024-02-16T00:00:00",
          "2024-02-20T00:00:00",
          "2024-02-21T00:00:00",
          "2024-02-22T00:00:00",
          "2024-02-23T00:00:00",
          "2024-02-26T00:00:00",
          "2024-02-27T00:00:00",
          "2024-02-28T00:00:00",
          "2024-02-29T00:00:00",
          "2024-03-01T00:00:00",
          "2024-03-04T00:00:00",
          "2024-03-05T00:00:00",
          "2024-03-06T00:00:00",
          "2024-03-07T00:00:00",
          "2024-03-08T00:00:00",
          "2024-03-11T00:00:00",
          "2024-03-12T00:00:00",
          "2024-03-13T00:00:00",
          "2024-03-14T00:00:00",
          "2024-03-15T00:00:00",
          "2024-03-18T00:00:00",
          "2024-03-19T00:00:00",
          "2024-03-20T00:00:00",
          "2024-03-21T00:00:00",
          "2024-03-22T00:00:00",
          "2024-03-25T00:00:00",
          "2024-03-26T00:00:00",
          "2024-03-27T00:00:00",
          "2024-03-28T00:00:00",
          "2024-04-01T00:00:00",
          "2024-04-02T00:00:00",
          "2024-04-03T00:00:00",
          "2024-04-04T00:00:00",
          "2024-04-05T00:00:00",
          "2024-04-08T00:00:00",
          "2024-04-09T00:00:00",
          "2024-04-10T00:00:00",
          "2024-04-11T00:00:00",
          "2024-04-12T00:00:00",
          "2024-04-15T00:00:00",
          "2024-04-16T00:00:00",
          "2024-04-17T00:00:00",
          "2024-04-18T00:00:00",
          "2024-04-19T00:00:00",
          "2024-04-22T00:00:00",
          "2024-04-23T00:00:00",
          "2024-04-24T00:00:00",
          "2024-04-25T00:00:00",
          "2024-04-26T00:00:00",
          "2024-04-29T00:00:00",
          "2024-04-30T00:00:00",
          "2024-05-01T00:00:00",
          "2024-05-02T00:00:00",
          "2024-05-03T00:00:00",
          "2024-05-06T00:00:00",
          "2024-05-07T00:00:00",
          "2024-05-08T00:00:00",
          "2024-05-09T00:00:00",
          "2024-05-10T00:00:00",
          "2024-05-13T00:00:00",
          "2024-05-14T00:00:00",
          "2024-05-15T00:00:00",
          "2024-05-16T00:00:00",
          "2024-05-17T00:00:00",
          "2024-05-20T00:00:00",
          "2024-05-21T00:00:00",
          "2024-05-22T00:00:00",
          "2024-05-23T00:00:00",
          "2024-05-24T00:00:00",
          "2024-05-28T00:00:00",
          "2024-05-29T00:00:00",
          "2024-05-30T00:00:00",
          "2024-05-31T00:00:00",
          "2024-06-03T00:00:00",
          "2024-06-04T00:00:00",
          "2024-06-05T00:00:00",
          "2024-06-06T00:00:00",
          "2024-06-07T00:00:00",
          "2024-06-10T00:00:00",
          "2024-06-11T00:00:00",
          "2024-06-12T00:00:00",
          "2024-06-13T00:00:00",
          "2024-06-14T00:00:00",
          "2024-06-17T00:00:00",
          "2024-06-18T00:00:00",
          "2024-06-20T00:00:00",
          "2024-06-21T00:00:00",
          "2024-06-24T00:00:00",
          "2024-06-25T00:00:00",
          "2024-06-26T00:00:00",
          "2024-06-27T00:00:00",
          "2024-06-28T00:00:00",
          "2024-07-01T00:00:00",
          "2024-07-02T00:00:00",
          "2024-07-03T00:00:00",
          "2024-07-05T00:00:00",
          "2024-07-08T00:00:00",
          "2024-07-09T00:00:00",
          "2024-07-10T00:00:00",
          "2024-07-11T00:00:00",
          "2024-07-12T00:00:00",
          "2024-07-15T00:00:00",
          "2024-07-16T00:00:00",
          "2024-07-17T00:00:00",
          "2024-07-18T00:00:00",
          "2024-07-19T00:00:00",
          "2024-07-22T00:00:00",
          "2024-07-23T00:00:00",
          "2024-07-24T00:00:00",
          "2024-07-25T00:00:00",
          "2024-07-26T00:00:00",
          "2024-07-29T00:00:00",
          "2024-07-30T00:00:00",
          "2024-07-31T00:00:00",
          "2024-08-01T00:00:00",
          "2024-08-02T00:00:00",
          "2024-08-05T00:00:00",
          "2024-08-06T00:00:00",
          "2024-08-07T00:00:00",
          "2024-08-08T00:00:00",
          "2024-08-09T00:00:00"
         ],
         "y": [
          0,
          -1.533260559,
          -1.156249798,
          -1.637128192,
          -0.4909955829,
          -0.5692700606,
          -1.712774096,
          -0.8065845858,
          -1.361366624,
          -1.333277669,
          -2.983795426,
          -4.075281907,
          -5.082376173,
          -5.283026313,
          -2.387164942,
          -2.049152424,
          -0.7482635261,
          -2.958405192,
          -1.300881509,
          -0.7066086387,
          2.392768222,
          2.66831463,
          2.390264978,
          0.6751176711,
          1.959292566,
          0.8767212039,
          0.1554122084,
          0.04095348767,
          3.798668539,
          3.143238202,
          3.602483526,
          4.879873218,
          4.144484752,
          3.092359384,
          1.959071469,
          0.980235769,
          -0.8657023544,
          -2.397093287,
          -1.943994385,
          -3.360494395,
          -3.141787594,
          -1.577763453,
          -0.7582950052,
          -0.2856219303,
          -2.527827078,
          -0.3205937456,
          0.1043491543,
          1.896803988,
          2.887031299,
          3.4638577,
          3.758831632,
          3.231194384,
          1.67258634,
          2.727125719,
          2.951720921,
          0.4521886818,
          -2.016899902,
          -3.846768255,
          -3.612681947,
          -2.70126172,
          -4.823252754,
          -6.414318626,
          -6.407681562,
          -6.102950849,
          -4.967190612,
          -3.290178248,
          0.7087991575,
          1.533997425,
          1.403469071,
          2.351470431,
          2.364562775,
          0.4607982806,
          2.311488378,
          4.38418919,
          8.272843064,
          10.12047497,
          8.159338144,
          8.301198043,
          9.041442775,
          10.0903543,
          8.707088719,
          8.986856174,
          8.891765474,
          11.11164743,
          10.44013237,
          9.315159397,
          9.195127302,
          7.775660007,
          8.45833442,
          8.490938363,
          9.95861634,
          10.57072877,
          9.539546835,
          8.843077195,
          9.863422474,
          13.04186772,
          13.50138305,
          13.23210996,
          14.87500211,
          11.40855949,
          13.78805626,
          13.23148281,
          14.4091183,
          14.66717825,
          12.94019242,
          10.99909273,
          10.10889149,
          7.261615879,
          6.667802215,
          6.512354795,
          8.275554399,
          6.633623998,
          6.508326648,
          4.766947938,
          2.969079249,
          3.370106417,
          1.833533845,
          1.550518261,
          2.358083451,
          2.263677094,
          2.178061384,
          1.620093415,
          -4.422616982,
          -4.301222157,
          -1.398243294,
          -1.677578924,
          -4.05465084,
          -3.116006434,
          -2.73403701,
          -4.601887826,
          -0.3217618618,
          1.63688189,
          3.049569195,
          4.020738998,
          1.696036011,
          -0.2390485084,
          1.768678218,
          5.102755703,
          4.236487031,
          1.800938408,
          0.8770329107,
          3.443955186,
          2.03285379,
          4.047855488,
          3.676070303,
          3.975448085,
          4.552077595,
          5.436430224,
          1.858058239,
          -0.631804472,
          -1.250387655,
          -0.6819764862,
          -3.845143519,
          -3.977627324,
          -1.940586014,
          -4.296392945,
          -6.730871658,
          -6.896972242,
          -3.741523297,
          -4.049683555,
          -2.272486491,
          null,
          -2.043249874,
          -0.6649447704,
          -0.2327602409,
          -0.9647116727,
          -2.493879788,
          -2.340317804,
          -4.832485015,
          -4.408475779,
          -5.116711573,
          -5.446200806,
          -3.846027227,
          -3.406842143,
          -4.193594732,
          -1.859833421,
          -3.954815093,
          -7.382932203,
          -7.980680811,
          -9.639679553,
          -10.85777802,
          -14.47675131,
          -14.08204614,
          -11.93370085,
          -8.856360815,
          -6.263456644,
          -4.517778699,
          1.496290958,
          -1.922971005,
          -3.871062235,
          -2.496896493,
          -0.3556031302,
          2.164426464,
          -0.3180615364,
          -0.964522255,
          -2.176218643,
          -2.350908338,
          -1.418527132,
          0.6117460296,
          1.517612201,
          1.393433297,
          1.269861803,
          1.695681477,
          4.618404333,
          3.00376561,
          4.724032656,
          7.424889877,
          9.558482356,
          9.445977102,
          8.06155802,
          7.496892882,
          9.399902959,
          9.659227544,
          12.90866791,
          13.05085023,
          12.93681122,
          12.7016056,
          11.99482512,
          15.30987495,
          18.09319953,
          18.08150891,
          20.27643957,
          21.21064311,
          18.51994642,
          16.78738012,
          12.26801599,
          16.70542197,
          18.81306991,
          18.30360073,
          18.07374113,
          20.97058367,
          25.15879559,
          30.72860455,
          31.4602143,
          32.85618222,
          35.79457394,
          38.06510937,
          29.33450506,
          31.58813725,
          32.04034752,
          32.03321792,
          25.13123041,
          25.471188,
          21.31328386,
          25.75776464,
          24.51936783,
          14.016416,
          13.68658912,
          14.1511236,
          15.78647631,
          10.6412364,
          18.12906789,
          11.48614147,
          7.872339026,
          3.052778357,
          5.166596829,
          1.640987481,
          6.443011606,
          6.834045135
         ]
        },
        {
         "line": {
          "color": "blue",
          "width": 2
         },
         "name": "S&P 500",
         "type": "scatter",
         "x": [
          "2023-08-01T00:00:00-04:00",
          "2023-08-02T00:00:00-04:00",
          "2023-08-03T00:00:00-04:00",
          "2023-08-04T00:00:00-04:00",
          "2023-08-07T00:00:00-04:00",
          "2023-08-08T00:00:00-04:00",
          "2023-08-09T00:00:00-04:00",
          "2023-08-10T00:00:00-04:00",
          "2023-08-11T00:00:00-04:00",
          "2023-08-14T00:00:00-04:00",
          "2023-08-15T00:00:00-04:00",
          "2023-08-16T00:00:00-04:00",
          "2023-08-17T00:00:00-04:00",
          "2023-08-18T00:00:00-04:00",
          "2023-08-21T00:00:00-04:00",
          "2023-08-22T00:00:00-04:00",
          "2023-08-23T00:00:00-04:00",
          "2023-08-24T00:00:00-04:00",
          "2023-08-25T00:00:00-04:00",
          "2023-08-28T00:00:00-04:00",
          "2023-08-29T00:00:00-04:00",
          "2023-08-30T00:00:00-04:00",
          "2023-08-31T00:00:00-04:00",
          "2023-09-01T00:00:00-04:00",
          "2023-09-05T00:00:00-04:00",
          "2023-09-06T00:00:00-04:00",
          "2023-09-07T00:00:00-04:00",
          "2023-09-08T00:00:00-04:00",
          "2023-09-11T00:00:00-04:00",
          "2023-09-12T00:00:00-04:00",
          "2023-09-13T00:00:00-04:00",
          "2023-09-14T00:00:00-04:00",
          "2023-09-15T00:00:00-04:00",
          "2023-09-18T00:00:00-04:00",
          "2023-09-19T00:00:00-04:00",
          "2023-09-20T00:00:00-04:00",
          "2023-09-21T00:00:00-04:00",
          "2023-09-22T00:00:00-04:00",
          "2023-09-25T00:00:00-04:00",
          "2023-09-26T00:00:00-04:00",
          "2023-09-27T00:00:00-04:00",
          "2023-09-28T00:00:00-04:00",
          "2023-09-29T00:00:00-04:00",
          "2023-10-02T00:00:00-04:00",
          "2023-10-03T00:00:00-04:00",
          "2023-10-04T00:00:00-04:00",
          "2023-10-05T00:00:00-04:00",
          "2023-10-06T00:00:00-04:00",
          "2023-10-09T00:00:00-04:00",
          "2023-10-10T00:00:00-04:00",
          "2023-10-11T00:00:00-04:00",
          "2023-10-12T00:00:00-04:00",
          "2023-10-13T00:00:00-04:00",
          "2023-10-16T00:00:00-04:00",
          "2023-10-17T00:00:00-04:00",
          "2023-10-18T00:00:00-04:00",
          "2023-10-19T00:00:00-04:00",
          "2023-10-20T00:00:00-04:00",
          "2023-10-23T00:00:00-04:00",
          "2023-10-24T00:00:00-04:00",
          "2023-10-25T00:00:00-04:00",
          "2023-10-26T00:00:00-04:00",
          "2023-10-27T00:00:00-04:00",
          "2023-10-30T00:00:00-04:00",
          "2023-10-31T00:00:00-04:00",
          "2023-11-01T00:00:00-04:00",
          "2023-11-02T00:00:00-04:00",
          "2023-11-03T00:00:00-04:00",
          "2023-11-06T00:00:00-05:00",
          "2023-11-07T00:00:00-05:00",
          "2023-11-08T00:00:00-05:00",
          "2023-11-09T00:00:00-05:00",
          "2023-11-10T00:00:00-05:00",
          "2023-11-13T00:00:00-05:00",
          "2023-11-14T00:00:00-05:00",
          "2023-11-15T00:00:00-05:00",
          "2023-11-16T00:00:00-05:00",
          "2023-11-17T00:00:00-05:00",
          "2023-11-20T00:00:00-05:00",
          "2023-11-21T00:00:00-05:00",
          "2023-11-22T00:00:00-05:00",
          "2023-11-24T00:00:00-05:00",
          "2023-11-27T00:00:00-05:00",
          "2023-11-28T00:00:00-05:00",
          "2023-11-29T00:00:00-05:00",
          "2023-11-30T00:00:00-05:00",
          "2023-12-01T00:00:00-05:00",
          "2023-12-04T00:00:00-05:00",
          "2023-12-05T00:00:00-05:00",
          "2023-12-06T00:00:00-05:00",
          "2023-12-07T00:00:00-05:00",
          "2023-12-08T00:00:00-05:00",
          "2023-12-11T00:00:00-05:00",
          "2023-12-12T00:00:00-05:00",
          "2023-12-13T00:00:00-05:00",
          "2023-12-14T00:00:00-05:00",
          "2023-12-15T00:00:00-05:00",
          "2023-12-18T00:00:00-05:00",
          "2023-12-19T00:00:00-05:00",
          "2023-12-20T00:00:00-05:00",
          "2023-12-21T00:00:00-05:00",
          "2023-12-22T00:00:00-05:00",
          "2023-12-26T00:00:00-05:00",
          "2023-12-27T00:00:00-05:00",
          "2023-12-28T00:00:00-05:00",
          "2023-12-29T00:00:00-05:00",
          "2024-01-02T00:00:00-05:00",
          "2024-01-03T00:00:00-05:00",
          "2024-01-04T00:00:00-05:00",
          "2024-01-05T00:00:00-05:00",
          "2024-01-08T00:00:00-05:00",
          "2024-01-09T00:00:00-05:00",
          "2024-01-10T00:00:00-05:00",
          "2024-01-11T00:00:00-05:00",
          "2024-01-12T00:00:00-05:00",
          "2024-01-16T00:00:00-05:00",
          "2024-01-17T00:00:00-05:00",
          "2024-01-18T00:00:00-05:00",
          "2024-01-19T00:00:00-05:00",
          "2024-01-22T00:00:00-05:00",
          "2024-01-23T00:00:00-05:00",
          "2024-01-24T00:00:00-05:00",
          "2024-01-25T00:00:00-05:00",
          "2024-01-26T00:00:00-05:00",
          "2024-01-29T00:00:00-05:00",
          "2024-01-30T00:00:00-05:00",
          "2024-01-31T00:00:00-05:00",
          "2024-02-01T00:00:00-05:00",
          "2024-02-02T00:00:00-05:00",
          "2024-02-05T00:00:00-05:00",
          "2024-02-06T00:00:00-05:00",
          "2024-02-07T00:00:00-05:00",
          "2024-02-08T00:00:00-05:00",
          "2024-02-09T00:00:00-05:00",
          "2024-02-12T00:00:00-05:00",
          "2024-02-13T00:00:00-05:00",
          "2024-02-14T00:00:00-05:00",
          "2024-02-15T00:00:00-05:00",
          "2024-02-16T00:00:00-05:00",
          "2024-02-20T00:00:00-05:00",
          "2024-02-21T00:00:00-05:00",
          "2024-02-22T00:00:00-05:00",
          "2024-02-23T00:00:00-05:00",
          "2024-02-26T00:00:00-05:00",
          "2024-02-27T00:00:00-05:00",
          "2024-02-28T00:00:00-05:00",
          "2024-02-29T00:00:00-05:00",
          "2024-03-01T00:00:00-05:00",
          "2024-03-04T00:00:00-05:00",
          "2024-03-05T00:00:00-05:00",
          "2024-03-06T00:00:00-05:00",
          "2024-03-07T00:00:00-05:00",
          "2024-03-08T00:00:00-05:00",
          "2024-03-11T00:00:00-04:00",
          "2024-03-12T00:00:00-04:00",
          "2024-03-13T00:00:00-04:00",
          "2024-03-14T00:00:00-04:00",
          "2024-03-15T00:00:00-04:00",
          "2024-03-18T00:00:00-04:00",
          "2024-03-19T00:00:00-04:00",
          "2024-03-20T00:00:00-04:00",
          "2024-03-21T00:00:00-04:00",
          "2024-03-22T00:00:00-04:00",
          "2024-03-25T00:00:00-04:00",
          "2024-03-26T00:00:00-04:00",
          "2024-03-27T00:00:00-04:00",
          "2024-03-28T00:00:00-04:00",
          "2024-04-01T00:00:00-04:00",
          "2024-04-02T00:00:00-04:00",
          "2024-04-03T00:00:00-04:00",
          "2024-04-04T00:00:00-04:00",
          "2024-04-05T00:00:00-04:00",
          "2024-04-08T00:00:00-04:00",
          "2024-04-09T00:00:00-04:00",
          "2024-04-10T00:00:00-04:00",
          "2024-04-11T00:00:00-04:00",
          "2024-04-12T00:00:00-04:00",
          "2024-04-15T00:00:00-04:00",
          "2024-04-16T00:00:00-04:00",
          "2024-04-17T00:00:00-04:00",
          "2024-04-18T00:00:00-04:00",
          "2024-04-19T00:00:00-04:00",
          "2024-04-22T00:00:00-04:00",
          "2024-04-23T00:00:00-04:00",
          "2024-04-24T00:00:00-04:00",
          "2024-04-25T00:00:00-04:00",
          "2024-04-26T00:00:00-04:00",
          "2024-04-29T00:00:00-04:00",
          "2024-04-30T00:00:00-04:00",
          "2024-05-01T00:00:00-04:00",
          "2024-05-02T00:00:00-04:00",
          "2024-05-03T00:00:00-04:00",
          "2024-05-06T00:00:00-04:00",
          "2024-05-07T00:00:00-04:00",
          "2024-05-08T00:00:00-04:00",
          "2024-05-09T00:00:00-04:00",
          "2024-05-10T00:00:00-04:00",
          "2024-05-13T00:00:00-04:00",
          "2024-05-14T00:00:00-04:00",
          "2024-05-15T00:00:00-04:00",
          "2024-05-16T00:00:00-04:00",
          "2024-05-17T00:00:00-04:00",
          "2024-05-20T00:00:00-04:00",
          "2024-05-21T00:00:00-04:00",
          "2024-05-22T00:00:00-04:00",
          "2024-05-23T00:00:00-04:00",
          "2024-05-24T00:00:00-04:00",
          "2024-05-28T00:00:00-04:00",
          "2024-05-29T00:00:00-04:00",
          "2024-05-30T00:00:00-04:00",
          "2024-05-31T00:00:00-04:00",
          "2024-06-03T00:00:00-04:00",
          "2024-06-04T00:00:00-04:00",
          "2024-06-05T00:00:00-04:00",
          "2024-06-06T00:00:00-04:00",
          "2024-06-07T00:00:00-04:00",
          "2024-06-10T00:00:00-04:00",
          "2024-06-11T00:00:00-04:00",
          "2024-06-12T00:00:00-04:00",
          "2024-06-13T00:00:00-04:00",
          "2024-06-14T00:00:00-04:00",
          "2024-06-17T00:00:00-04:00",
          "2024-06-18T00:00:00-04:00",
          "2024-06-20T00:00:00-04:00",
          "2024-06-21T00:00:00-04:00",
          "2024-06-24T00:00:00-04:00",
          "2024-06-25T00:00:00-04:00",
          "2024-06-26T00:00:00-04:00",
          "2024-06-27T00:00:00-04:00",
          "2024-06-28T00:00:00-04:00",
          "2024-07-01T00:00:00-04:00",
          "2024-07-02T00:00:00-04:00",
          "2024-07-03T00:00:00-04:00",
          "2024-07-05T00:00:00-04:00",
          "2024-07-08T00:00:00-04:00",
          "2024-07-09T00:00:00-04:00",
          "2024-07-10T00:00:00-04:00",
          "2024-07-11T00:00:00-04:00",
          "2024-07-12T00:00:00-04:00",
          "2024-07-15T00:00:00-04:00",
          "2024-07-16T00:00:00-04:00",
          "2024-07-17T00:00:00-04:00",
          "2024-07-18T00:00:00-04:00",
          "2024-07-19T00:00:00-04:00",
          "2024-07-22T00:00:00-04:00",
          "2024-07-23T00:00:00-04:00",
          "2024-07-24T00:00:00-04:00",
          "2024-07-25T00:00:00-04:00",
          "2024-07-26T00:00:00-04:00",
          "2024-07-29T00:00:00-04:00",
          "2024-07-30T00:00:00-04:00",
          "2024-07-31T00:00:00-04:00",
          "2024-08-01T00:00:00-04:00",
          "2024-08-02T00:00:00-04:00",
          "2024-08-05T00:00:00-04:00",
          "2024-08-06T00:00:00-04:00",
          "2024-08-07T00:00:00-04:00",
          "2024-08-08T00:00:00-04:00",
          "2024-08-09T00:00:00-04:00"
         ],
         "y": [
          0,
          -1.3839541336347903,
          -1.6352252387486246,
          -2.1565658392281013,
          -1.2736176115098212,
          -1.6900734364129513,
          -2.3820505032303463,
          -2.357576322051205,
          -2.4620236776500692,
          -1.901133909938214,
          -3.034265027216591,
          -3.7668794768201015,
          -4.509117165928227,
          -4.523317312026499,
          -3.866515212666658,
          -4.133522768189923,
          -3.0746890344039346,
          -4.379107413596485,
          -3.736729504713627,
          -3.1336767186844368,
          -1.7283103437128826,
          -1.3516170616409033,
          -1.509152266214225,
          -1.3319545002140691,
          -1.7457858052523045,
          -2.4307748212099187,
          -2.7440955504466324,
          -2.60534806734518,
          -1.950519692273979,
          -2.508998315719711,
          -2.387950338536391,
          -1.5650886794322885,
          -2.7620191007434753,
          -2.6918825414271392,
          -2.9011933350424717,
          -3.8134166949122617,
          -5.390966509312832,
          -5.608150862522848,
          -5.22840630938843,
          -6.6248215779915025,
          -6.603409336654738,
          -6.053006979622523,
          -6.307564068957445,
          -6.300127929340244,
          -7.587945686948337,
          -6.83850657138166,
          -6.959991968542462,
          -5.8607342275691305,
          -5.267294012264616,
          -4.773926952784141,
          -4.365120643096985,
          -4.962497638198841,
          -5.439477451693631,
          -4.437668346679444,
          -4.447056873025409,
          -5.727449159796239,
          -6.527148897653648,
          -7.703531248803095,
          -7.859103397867716,
          -7.189626787940822,
          -8.520493072601154,
          -9.602926147611319,
          -10.036857434053871,
          -8.956398083332347,
          -8.366894647825175,
          -7.404197290065882,
          -5.657974064836096,
          -4.771750521676667,
          -4.604816121977441,
          -4.333882455436773,
          -4.237746079410076,
          -5.011872751754668,
          -3.5284962578720926,
          -3.609130896648008,
          -1.7704733620302175,
          -1.6135996218130888,
          -1.496477755647172,
          -1.3701914075140005,
          -0.6412896933291213,
          -0.8420868005534536,
          -0.43939370177111353,
          -0.3799685975131287,
          -0.5746418250527064,
          -0.4771931890935623,
          -0.5713665096115572,
          -0.19512131629699878,
          0.3911068037690239,
          -0.15185941364598834,
          -0.20865999803907825,
          -0.5984652106555933,
          0.19358501198584083,
          0.603927625984155,
          0.9987471651718106,
          1.4632765124782585,
          2.8483188616667854,
          3.1205647881399017,
          3.1127018973251555,
          3.5796317201177876,
          4.187272081520574,
          2.6573583695458396,
          3.7148798433993804,
          3.887052614048457,
          4.326670360198282,
          4.475905253979375,
          4.514579581256788,
          4.219171733536979,
          3.6292308780523244,
          2.7985063281334766,
          2.4460738516418665,
          2.633108232745409,
          4.081736510367974,
          3.9279140412132834,
          4.516766681144201,
          4.446630121827865,
          4.52506699193643,
          4.135048403721142,
          3.550132543587567,
          4.461918483479875,
          5.748210605556749,
          5.980256569221231,
          6.289864563039313,
          6.376164323962624,
          6.935741831742032,
          6.866042692403178,
          7.673605321075332,
          7.608931177087558,
          5.875809213622367,
          7.198588563089244,
          8.343946102177252,
          7.998725720924134,
          8.248247146128039,
          9.140370524593513,
          9.202644193095102,
          9.829723071546011,
          9.725499760325858,
          8.225085224881344,
          9.261855921754314,
          9.897896575353645,
          9.370005343991872,
          8.71320324463203,
          8.850638467801035,
          11.149877901147992,
          11.188552228425406,
          10.76750882814868,
          10.956516933540863,
          10.77253382349976,
          11.351773892706001,
          12.243459851193991,
          12.109523987844845,
          10.966780299841792,
          11.537271969498384,
          12.686566288383736,
          11.950889898937849,
          11.82525434638093,
          13.077897136531472,
          12.86027536334397,
          12.536243179048906,
          11.806680000507834,
          12.513081257802211,
          13.148684491424062,
          14.156180056145521,
          14.52565057419907,
          14.36506409856331,
          14.015682893134137,
          13.69646232859138,
          14.67773403222377,
          14.805770060266871,
          14.574598936557354,
          13.745186646570954,
          13.86929656359665,
          12.464794359800123,
          13.71306295017584,
          13.67046251188102,
          13.83477239171535,
          12.75823915201123,
          13.597701432699788,
          11.944776688033032,
          10.599048792918236,
          10.371601073407287,
          9.733586695519316,
          9.491277365553902,
          8.532292743213242,
          9.479915114919296,
          10.789795909440409,
          10.813395250664586,
          10.306265465063321,
          11.432397862701977,
          11.786580019103518,
          10.02811970328416,
          9.65012483005967,
          10.651059095118894,
          12.040475644082246,
          13.197419478183573,
          13.349492267428332,
          13.34883080307214,
          13.925883772390968,
          14.113792993449476,
          14.086256872427958,
          14.638184864991391,
          15.981277571461355,
          15.739843081450907,
          15.874653784755019,
          15.980840151483871,
          16.271009628253832,
          15.95636597030473,
          15.100516443630488,
          15.90634006117265,
          15.935177773346679,
          15.081077926582365,
          14.393464390759855,
          15.31180096153446,
          15.440498453933754,
          15.613983484515279,
          16.983737472051796,
          16.96036217520633,
          16.829925671677046,
          17.131446730301672,
          17.4489176149345,
          18.447664780106308,
          18.72538379068793,
          18.678622528217055,
          19.58822136822195,
          19.889742426846578,
          19.5869091082895,
          19.40009877156467,
          19.034116944551045,
          19.502348358496185,
          19.69025757955469,
          19.79885509054967,
          19.309638186465307,
          19.628858751008067,
          20.369997555782515,
          20.982012116960128,
          21.641214691806155,
          21.764887188854367,
          21.85512372957502,
          23.09902878895585,
          22.020308449364318,
          22.693497794709845,
          23.04025448027412,
          23.82640486760951,
          22.101807259315258,
          21.147410212348195,
          20.282385534926757,
          21.58047732761572,
          21.391042471025994,
          18.580949847879204,
          17.97113305536894,
          19.279488214358835,
          19.376499430340495,
          18.784371474968427,
          20.660380408151248,
          19.00811712784068,
          16.82052647655114,
          13.31955567092063,
          14.492876082227701,
          13.607314003424465,
          16.225123205737926,
          16.768089423152936
         ]
        }
       ],
       "layout": {
        "annotations": [
         {
          "align": "left",
          "bgcolor": "rgba(255,255,255,0.8)",
          "bordercolor": "rgba(0,0,0,0.5)",
          "borderpad": 4,
          "borderwidth": 1,
          "font": {
           "family": "monospace",
           "size": 10
          },
          "showarrow": false,
          "text": "Portfolio Performance:<br><span style='display: inline-block; width: 70px;'>5D: 3.78%</span> | <span style='display: inline-block; width: 80px;'>1M: -31.23%</span><br><span style='display: inline-block; width: 70px;'>6M: 5.14%</span> | <span style='display: inline-block; width: 80px;'>YTD: -3.27%</span><br><span style='display: inline-block; width: 70px;'>1Y: 7.64%</span> | <span style='display: inline-block; width: 80px;'>All: 6.83%</span>",
          "x": 1,
          "xanchor": "right",
          "xref": "paper",
          "y": 1.05,
          "yanchor": "bottom",
          "yref": "paper"
         }
        ],
        "hovermode": "x unified",
        "margin": {
         "t": 100
        },
        "showlegend": true,
        "template": {
         "data": {
          "bar": [
           {
            "error_x": {
             "color": "#2a3f5f"
            },
            "error_y": {
             "color": "#2a3f5f"
            },
            "marker": {
             "line": {
              "color": "#E5ECF6",
              "width": 0.5
             },
             "pattern": {
              "fillmode": "overlay",
              "size": 10,
              "solidity": 0.2
             }
            },
            "type": "bar"
           }
          ],
          "barpolar": [
           {
            "marker": {
             "line": {
              "color": "#E5ECF6",
              "width": 0.5
             },
             "pattern": {
              "fillmode": "overlay",
              "size": 10,
              "solidity": 0.2
             }
            },
            "type": "barpolar"
           }
          ],
          "carpet": [
           {
            "aaxis": {
             "endlinecolor": "#2a3f5f",
             "gridcolor": "white",
             "linecolor": "white",
             "minorgridcolor": "white",
             "startlinecolor": "#2a3f5f"
            },
            "baxis": {
             "endlinecolor": "#2a3f5f",
             "gridcolor": "white",
             "linecolor": "white",
             "minorgridcolor": "white",
             "startlinecolor": "#2a3f5f"
            },
            "type": "carpet"
           }
          ],
          "choropleth": [
           {
            "colorbar": {
             "outlinewidth": 0,
             "ticks": ""
            },
            "type": "choropleth"
           }
          ],
          "contour": [
           {
            "colorbar": {
             "outlinewidth": 0,
             "ticks": ""
            },
            "colorscale": [
             [
              0,
              "#0d0887"
             ],
             [
              0.1111111111111111,
              "#46039f"
             ],
             [
              0.2222222222222222,
              "#7201a8"
             ],
             [
              0.3333333333333333,
              "#9c179e"
             ],
             [
              0.4444444444444444,
              "#bd3786"
             ],
             [
              0.5555555555555556,
              "#d8576b"
             ],
             [
              0.6666666666666666,
              "#ed7953"
             ],
             [
              0.7777777777777778,
              "#fb9f3a"
             ],
             [
              0.8888888888888888,
              "#fdca26"
             ],
             [
              1,
              "#f0f921"
             ]
            ],
            "type": "contour"
           }
          ],
          "contourcarpet": [
           {
            "colorbar": {
             "outlinewidth": 0,
             "ticks": ""
            },
            "type": "contourcarpet"
           }
          ],
          "heatmap": [
           {
            "colorbar": {
             "outlinewidth": 0,
             "ticks": ""
            },
            "colorscale": [
             [
              0,
              "#0d0887"
             ],
             [
              0.1111111111111111,
              "#46039f"
             ],
             [
              0.2222222222222222,
              "#7201a8"
             ],
             [
              0.3333333333333333,
              "#9c179e"
             ],
             [
              0.4444444444444444,
              "#bd3786"
             ],
             [
              0.5555555555555556,
              "#d8576b"
             ],
             [
              0.6666666666666666,
              "#ed7953"
             ],
             [
              0.7777777777777778,
              "#fb9f3a"
             ],
             [
              0.8888888888888888,
              "#fdca26"
             ],
             [
              1,
              "#f0f921"
             ]
            ],
            "type": "heatmap"
           }
          ],
          "heatmapgl": [
           {
            "colorbar": {
             "outlinewidth": 0,
             "ticks": ""
            },
            "colorscale": [
             [
              0,
              "#0d0887"
             ],
             [
              0.1111111111111111,
              "#46039f"
             ],
             [
              0.2222222222222222,
              "#7201a8"
             ],
             [
              0.3333333333333333,
              "#9c179e"
             ],
             [
              0.4444444444444444,
              "#bd3786"
             ],
             [
              0.5555555555555556,
              "#d8576b"
             ],
             [
              0.6666666666666666,
              "#ed7953"
             ],
             [
              0.7777777777777778,
              "#fb9f3a"
             ],
             [
              0.8888888888888888,
              "#fdca26"
             ],
             [
              1,
              "#f0f921"
             ]
            ],
            "type": "heatmapgl"
           }
          ],
          "histogram": [
           {
            "marker": {
             "pattern": {
              "fillmode": "overlay",
              "size": 10,
              "solidity": 0.2
             }
            },
            "type": "histogram"
           }
          ],
          "histogram2d": [
           {
            "colorbar": {
             "outlinewidth": 0,
             "ticks": ""
            },
            "colorscale": [
             [
              0,
              "#0d0887"
             ],
             [
              0.1111111111111111,
              "#46039f"
             ],
             [
              0.2222222222222222,
              "#7201a8"
             ],
             [
              0.3333333333333333,
              "#9c179e"
             ],
             [
              0.4444444444444444,
              "#bd3786"
             ],
             [
              0.5555555555555556,
              "#d8576b"
             ],
             [
              0.6666666666666666,
              "#ed7953"
             ],
             [
              0.7777777777777778,
              "#fb9f3a"
             ],
             [
              0.8888888888888888,
              "#fdca26"
             ],
             [
              1,
              "#f0f921"
             ]
            ],
            "type": "histogram2d"
           }
          ],
          "histogram2dcontour": [
           {
            "colorbar": {
             "outlinewidth": 0,
             "ticks": ""
            },
            "colorscale": [
             [
              0,
              "#0d0887"
             ],
             [
              0.1111111111111111,
              "#46039f"
             ],
             [
              0.2222222222222222,
              "#7201a8"
             ],
             [
              0.3333333333333333,
              "#9c179e"
             ],
             [
              0.4444444444444444,
              "#bd3786"
             ],
             [
              0.5555555555555556,
              "#d8576b"
             ],
             [
              0.6666666666666666,
              "#ed7953"
             ],
             [
              0.7777777777777778,
              "#fb9f3a"
             ],
             [
              0.8888888888888888,
              "#fdca26"
             ],
             [
              1,
              "#f0f921"
             ]
            ],
            "type": "histogram2dcontour"
           }
          ],
          "mesh3d": [
           {
            "colorbar": {
             "outlinewidth": 0,
             "ticks": ""
            },
            "type": "mesh3d"
           }
          ],
          "parcoords": [
           {
            "line": {
             "colorbar": {
              "outlinewidth": 0,
              "ticks": ""
             }
            },
            "type": "parcoords"
           }
          ],
          "pie": [
           {
            "automargin": true,
            "type": "pie"
           }
          ],
          "scatter": [
           {
            "fillpattern": {
             "fillmode": "overlay",
             "size": 10,
             "solidity": 0.2
            },
            "type": "scatter"
           }
          ],
          "scatter3d": [
           {
            "line": {
             "colorbar": {
              "outlinewidth": 0,
              "ticks": ""
             }
            },
            "marker": {
             "colorbar": {
              "outlinewidth": 0,
              "ticks": ""
             }
            },
            "type": "scatter3d"
           }
          ],
          "scattercarpet": [
           {
            "marker": {
             "colorbar": {
              "outlinewidth": 0,
              "ticks": ""
             }
            },
            "type": "scattercarpet"
           }
          ],
          "scattergeo": [
           {
            "marker": {
             "colorbar": {
              "outlinewidth": 0,
              "ticks": ""
             }
            },
            "type": "scattergeo"
           }
          ],
          "scattergl": [
           {
            "marker": {
             "colorbar": {
              "outlinewidth": 0,
              "ticks": ""
             }
            },
            "type": "scattergl"
           }
          ],
          "scattermapbox": [
           {
            "marker": {
             "colorbar": {
              "outlinewidth": 0,
              "ticks": ""
             }
            },
            "type": "scattermapbox"
           }
          ],
          "scatterpolar": [
           {
            "marker": {
             "colorbar": {
              "outlinewidth": 0,
              "ticks": ""
             }
            },
            "type": "scatterpolar"
           }
          ],
          "scatterpolargl": [
           {
            "marker": {
             "colorbar": {
              "outlinewidth": 0,
              "ticks": ""
             }
            },
            "type": "scatterpolargl"
           }
          ],
          "scatterternary": [
           {
            "marker": {
             "colorbar": {
              "outlinewidth": 0,
              "ticks": ""
             }
            },
            "type": "scatterternary"
           }
          ],
          "surface": [
           {
            "colorbar": {
             "outlinewidth": 0,
             "ticks": ""
            },
            "colorscale": [
             [
              0,
              "#0d0887"
             ],
             [
              0.1111111111111111,
              "#46039f"
             ],
             [
              0.2222222222222222,
              "#7201a8"
             ],
             [
              0.3333333333333333,
              "#9c179e"
             ],
             [
              0.4444444444444444,
              "#bd3786"
             ],
             [
              0.5555555555555556,
              "#d8576b"
             ],
             [
              0.6666666666666666,
              "#ed7953"
             ],
             [
              0.7777777777777778,
              "#fb9f3a"
             ],
             [
              0.8888888888888888,
              "#fdca26"
             ],
             [
              1,
              "#f0f921"
             ]
            ],
            "type": "surface"
           }
          ],
          "table": [
           {
            "cells": {
             "fill": {
              "color": "#EBF0F8"
             },
             "line": {
              "color": "white"
             }
            },
            "header": {
             "fill": {
              "color": "#C8D4E3"
             },
             "line": {
              "color": "white"
             }
            },
            "type": "table"
           }
          ]
         },
         "layout": {
          "annotationdefaults": {
           "arrowcolor": "#2a3f5f",
           "arrowhead": 0,
           "arrowwidth": 1
          },
          "autotypenumbers": "strict",
          "coloraxis": {
           "colorbar": {
            "outlinewidth": 0,
            "ticks": ""
           }
          },
          "colorscale": {
           "diverging": [
            [
             0,
             "#8e0152"
            ],
            [
             0.1,
             "#c51b7d"
            ],
            [
             0.2,
             "#de77ae"
            ],
            [
             0.3,
             "#f1b6da"
            ],
            [
             0.4,
             "#fde0ef"
            ],
            [
             0.5,
             "#f7f7f7"
            ],
            [
             0.6,
             "#e6f5d0"
            ],
            [
             0.7,
             "#b8e186"
            ],
            [
             0.8,
             "#7fbc41"
            ],
            [
             0.9,
             "#4d9221"
            ],
            [
             1,
             "#276419"
            ]
           ],
           "sequential": [
            [
             0,
             "#0d0887"
            ],
            [
             0.1111111111111111,
             "#46039f"
            ],
            [
             0.2222222222222222,
             "#7201a8"
            ],
            [
             0.3333333333333333,
             "#9c179e"
            ],
            [
             0.4444444444444444,
             "#bd3786"
            ],
            [
             0.5555555555555556,
             "#d8576b"
            ],
            [
             0.6666666666666666,
             "#ed7953"
            ],
            [
             0.7777777777777778,
             "#fb9f3a"
            ],
            [
             0.8888888888888888,
             "#fdca26"
            ],
            [
             1,
             "#f0f921"
            ]
           ],
           "sequentialminus": [
            [
             0,
             "#0d0887"
            ],
            [
             0.1111111111111111,
             "#46039f"
            ],
            [
             0.2222222222222222,
             "#7201a8"
            ],
            [
             0.3333333333333333,
             "#9c179e"
            ],
            [
             0.4444444444444444,
             "#bd3786"
            ],
            [
             0.5555555555555556,
             "#d8576b"
            ],
            [
             0.6666666666666666,
             "#ed7953"
            ],
            [
             0.7777777777777778,
             "#fb9f3a"
            ],
            [
             0.8888888888888888,
             "#fdca26"
            ],
            [
             1,
             "#f0f921"
            ]
           ]
          },
          "colorway": [
           "#636efa",
           "#EF553B",
           "#00cc96",
           "#ab63fa",
           "#FFA15A",
           "#19d3f3",
           "#FF6692",
           "#B6E880",
           "#FF97FF",
           "#FECB52"
          ],
          "font": {
           "color": "#2a3f5f"
          },
          "geo": {
           "bgcolor": "white",
           "lakecolor": "white",
           "landcolor": "#E5ECF6",
           "showlakes": true,
           "showland": true,
           "subunitcolor": "white"
          },
          "hoverlabel": {
           "align": "left"
          },
          "hovermode": "closest",
          "mapbox": {
           "style": "light"
          },
          "paper_bgcolor": "white",
          "plot_bgcolor": "#E5ECF6",
          "polar": {
           "angularaxis": {
            "gridcolor": "white",
            "linecolor": "white",
            "ticks": ""
           },
           "bgcolor": "#E5ECF6",
           "radialaxis": {
            "gridcolor": "white",
            "linecolor": "white",
            "ticks": ""
           }
          },
          "scene": {
           "xaxis": {
            "backgroundcolor": "#E5ECF6",
            "gridcolor": "white",
            "gridwidth": 2,
            "linecolor": "white",
            "showbackground": true,
            "ticks": "",
            "zerolinecolor": "white"
           },
           "yaxis": {
            "backgroundcolor": "#E5ECF6",
            "gridcolor": "white",
            "gridwidth": 2,
            "linecolor": "white",
            "showbackground": true,
            "ticks": "",
            "zerolinecolor": "white"
           },
           "zaxis": {
            "backgroundcolor": "#E5ECF6",
            "gridcolor": "white",
            "gridwidth": 2,
            "linecolor": "white",
            "showbackground": true,
            "ticks": "",
            "zerolinecolor": "white"
           }
          },
          "shapedefaults": {
           "line": {
            "color": "#2a3f5f"
           }
          },
          "ternary": {
           "aaxis": {
            "gridcolor": "white",
            "linecolor": "white",
            "ticks": ""
           },
           "baxis": {
            "gridcolor": "white",
            "linecolor": "white",
            "ticks": ""
           },
           "bgcolor": "#E5ECF6",
           "caxis": {
            "gridcolor": "white",
            "linecolor": "white",
            "ticks": ""
           }
          },
          "title": {
           "x": 0.05
          },
          "xaxis": {
           "automargin": true,
           "gridcolor": "white",
           "linecolor": "white",
           "ticks": "",
           "title": {
            "standoff": 15
           },
           "zerolinecolor": "white",
           "zerolinewidth": 2
          },
          "yaxis": {
           "automargin": true,
           "gridcolor": "white",
           "linecolor": "white",
           "ticks": "",
           "title": {
            "standoff": 15
           },
           "zerolinecolor": "white",
           "zerolinewidth": 2
          }
         }
        },
        "title": {
         "text": "Portfolio Performance vs S&P 500",
         "x": 0.5,
         "xanchor": "center",
         "y": 0.95,
         "yanchor": "top"
        },
        "xaxis": {
         "rangeselector": {
          "buttons": [
           {
            "count": 5,
            "label": "5D",
            "step": "day",
            "stepmode": "backward"
           },
           {
            "count": 1,
            "label": "1M",
            "step": "month",
            "stepmode": "backward"
           },
           {
            "count": 6,
            "label": "6M",
            "step": "month",
            "stepmode": "backward"
           },
           {
            "count": 1,
            "label": "YTD",
            "step": "year",
            "stepmode": "todate"
           },
           {
            "count": 1,
            "label": "1Y",
            "step": "year",
            "stepmode": "backward"
           },
           {
            "label": "MAX",
            "step": "all"
           }
          ]
         },
         "rangeslider": {
          "visible": false
         },
         "title": {
          "text": "Date"
         }
        },
        "yaxis": {
         "range": [
          -19.476751309999997,
          43.06510937
         ],
         "tickformat": ".2f",
         "ticksuffix": "%",
         "title": {
          "text": "Performance (%)"
         }
        }
       }
      }
     },
     "metadata": {},
     "output_type": "display_data"
    }
   ],
   "source": [
    "plot_portfolio_growth(portfolio_data)"
   ]
  },
  {
   "cell_type": "code",
   "execution_count": 31,
   "metadata": {},
   "outputs": [],
   "source": [
    "def process_portfolio_data(portfolio_data, date=None, sort_by='Symbol', ascending=True):\n",
    "    if date is None:\n",
    "        date = max(portfolio_data.keys())\n",
    "    elif date not in portfolio_data:\n",
    "        raise ValueError(f\"No data available for date: {date}\")\n",
    "    data = portfolio_data[date]\n",
    "\n",
    "    # Process holdings data\n",
    "    holdings_data = [\n",
    "        {\n",
    "            'Symbol': symbol,\n",
    "            'Quantity': round(float(info['quantity']), 2),\n",
    "            'Unit Cost': round(float(info['unit_cost']), 2),\n",
    "            'Market Price': round(float(info['market_price']), 2),\n",
    "            'Total Cost': round(float(info['total_cost']), 2),\n",
    "            'Market Value': round(float(info['market_value']), 2),\n",
    "            'Unrealized G/L': f\"${float(info['unrealized_gain_loss']):,.2f} ({float(info['unrealized_gain_loss_percentage']):.2f}%)\",\n",
    "            'Daily Gain': f\"${float(info['daily_gain']):,.2f} ({float(info['daily_return'])*100:.2f}%)\"\n",
    "        }\n",
    "        for symbol, info in data['holdings'].items()\n",
    "    ]\n",
    "\n",
    "    df = pd.DataFrame(holdings_data)\n",
    "    df = df.sort_values(by=sort_by, ascending=ascending)\n",
    "\n",
    "    # Process summary data\n",
    "    summary = data['summary']\n",
    "\n",
    "    # Process closed positions data\n",
    "    closed_positions = data.get('closed_positions', {})\n",
    "    closed_positions_data = [\n",
    "        {\n",
    "            'Symbol': symbol,\n",
    "            'Quantity': round(float(position['quantity']), 2),\n",
    "            'Sell Price': round(float(position['sell_price']), 2),\n",
    "            'Cost Basis': round(float(position['cost_basis']), 2),\n",
    "            'Realized Gain': f\"${float(position['realized_gain']):,.2f} ({(float(position['realized_gain']) / float(position['cost_basis']) * 100 if float(position['cost_basis']) != 0 else 0):.2f}%)\"\n",
    "        }\n",
    "        for symbol, positions in closed_positions.items()\n",
    "        for position in positions\n",
    "    ]\n",
    "\n",
    "    df_closed = pd.DataFrame(closed_positions_data)\n",
    "    df_closed = df_closed.sort_values(by='Symbol', ascending=True)\n",
    "\n",
    "    return {\n",
    "        'date': date,\n",
    "        'holdings': df,\n",
    "        'summary': summary,\n",
    "        'closed_positions': df_closed,\n",
    "        'realized_gains': data.get('realized_gains', 0),\n",
    "        'realized_gain_percentage': data.get('realized_gain_percentage', 0)\n",
    "    }"
   ]
  },
  {
   "cell_type": "code",
   "execution_count": 32,
   "metadata": {},
   "outputs": [],
   "source": [
    "def display_portfolio_analysis(processed_data):\n",
    "    date = processed_data['date']\n",
    "    df = processed_data['holdings']\n",
    "    summary = processed_data['summary']\n",
    "    df_closed = processed_data['closed_positions']\n",
    "\n",
    "    # Display holdings\n",
    "    display(HTML(f\"<h2>Portfolio Status as of {date}</h2>\"))\n",
    "    display(HTML(df.to_html(index=False, classes='dataframe')))\n",
    "\n",
    "    # Display summary\n",
    "    print(f\"\\nPortfolio Summary:\")\n",
    "    print(f\"Cash: ${float(summary.get('cash', 0)):,.2f}\")\n",
    "    print(f\"Total Market Value: ${\n",
    "          float(summary.get('total_market_value', 0)):,.2f}\")\n",
    "    print(f\"Invested Value: ${float(summary.get('invested_value', 0)):,.2f}\")\n",
    "    print(f\"Unrealized Gain/Loss: ${float(summary.get('unrealized_gain_loss', 0))          :,.2f} ({float(summary.get('unrealized_gain_loss_percentage', 0)):.2f}%)\")\n",
    "    print(f\"Daily Gain: ${float(summary.get('daily_gain', 0)):,.2f} ({\n",
    "          float(summary.get('daily_return', 0))*100:.2f}%)\")\n",
    "\n",
    "    # Display closed positions\n",
    "    display(HTML(\"<h2>Closed Positions</h2>\"))\n",
    "    display(HTML(df_closed.to_html(index=False, classes='dataframe')))\n",
    "\n",
    "    # Display total realized gains\n",
    "    print(f\"\\nTotal Realized Gains: ${float(processed_data['realized_gains']):,.2f} ({\n",
    "          float(processed_data['realized_gain_percentage']):.2f}%)\")"
   ]
  },
  {
   "cell_type": "code",
   "execution_count": 33,
   "metadata": {},
   "outputs": [
    {
     "data": {
      "text/html": [
       "<h2>Portfolio Status as of 2024-08-09</h2>"
      ],
      "text/plain": [
       "<IPython.core.display.HTML object>"
      ]
     },
     "metadata": {},
     "output_type": "display_data"
    },
    {
     "data": {
      "text/html": [
       "<table border=\"1\" class=\"dataframe dataframe\">\n",
       "  <thead>\n",
       "    <tr style=\"text-align: right;\">\n",
       "      <th>Symbol</th>\n",
       "      <th>Quantity</th>\n",
       "      <th>Unit Cost</th>\n",
       "      <th>Market Price</th>\n",
       "      <th>Total Cost</th>\n",
       "      <th>Market Value</th>\n",
       "      <th>Unrealized G/L</th>\n",
       "      <th>Daily Gain</th>\n",
       "    </tr>\n",
       "  </thead>\n",
       "  <tbody>\n",
       "    <tr>\n",
       "      <td>AAPL</td>\n",
       "      <td>5.01</td>\n",
       "      <td>177.20</td>\n",
       "      <td>216.24</td>\n",
       "      <td>888.24</td>\n",
       "      <td>1083.96</td>\n",
       "      <td>$195.72 (22.03%)</td>\n",
       "      <td>$14.69 (1.37%)</td>\n",
       "    </tr>\n",
       "    <tr>\n",
       "      <td>AMD</td>\n",
       "      <td>13.00</td>\n",
       "      <td>153.37</td>\n",
       "      <td>134.27</td>\n",
       "      <td>1994.13</td>\n",
       "      <td>1745.80</td>\n",
       "      <td>$-248.33 (-12.45%)</td>\n",
       "      <td>$-26.65 (-1.50%)</td>\n",
       "    </tr>\n",
       "    <tr>\n",
       "      <td>AMZN</td>\n",
       "      <td>6.24</td>\n",
       "      <td>174.85</td>\n",
       "      <td>166.94</td>\n",
       "      <td>1090.57</td>\n",
       "      <td>1041.21</td>\n",
       "      <td>$-49.36 (-4.53%)</td>\n",
       "      <td>$7.11 (0.69%)</td>\n",
       "    </tr>\n",
       "    <tr>\n",
       "      <td>CRWD</td>\n",
       "      <td>3.83</td>\n",
       "      <td>263.91</td>\n",
       "      <td>240.90</td>\n",
       "      <td>1010.54</td>\n",
       "      <td>922.42</td>\n",
       "      <td>$-88.12 (-8.72%)</td>\n",
       "      <td>$1.46 (0.16%)</td>\n",
       "    </tr>\n",
       "    <tr>\n",
       "      <td>META</td>\n",
       "      <td>2.00</td>\n",
       "      <td>432.42</td>\n",
       "      <td>517.77</td>\n",
       "      <td>865.43</td>\n",
       "      <td>1036.24</td>\n",
       "      <td>$170.81 (19.74%)</td>\n",
       "      <td>$16.29 (1.60%)</td>\n",
       "    </tr>\n",
       "    <tr>\n",
       "      <td>MSFT</td>\n",
       "      <td>2.00</td>\n",
       "      <td>411.01</td>\n",
       "      <td>406.02</td>\n",
       "      <td>822.50</td>\n",
       "      <td>812.52</td>\n",
       "      <td>$-9.98 (-1.21%)</td>\n",
       "      <td>$6.66 (0.83%)</td>\n",
       "    </tr>\n",
       "    <tr>\n",
       "      <td>NVDA</td>\n",
       "      <td>100.03</td>\n",
       "      <td>89.34</td>\n",
       "      <td>104.75</td>\n",
       "      <td>8936.58</td>\n",
       "      <td>10478.07</td>\n",
       "      <td>$1,541.49 (17.25%)</td>\n",
       "      <td>$-22.01 (-0.21%)</td>\n",
       "    </tr>\n",
       "    <tr>\n",
       "      <td>NVDL</td>\n",
       "      <td>50.00</td>\n",
       "      <td>40.07</td>\n",
       "      <td>46.24</td>\n",
       "      <td>2003.40</td>\n",
       "      <td>2312.00</td>\n",
       "      <td>$308.60 (15.40%)</td>\n",
       "      <td>$-23.00 (-0.99%)</td>\n",
       "    </tr>\n",
       "    <tr>\n",
       "      <td>OKTA</td>\n",
       "      <td>11.91</td>\n",
       "      <td>89.44</td>\n",
       "      <td>90.36</td>\n",
       "      <td>1065.68</td>\n",
       "      <td>1076.62</td>\n",
       "      <td>$10.94 (1.03%)</td>\n",
       "      <td>$20.37 (1.93%)</td>\n",
       "    </tr>\n",
       "    <tr>\n",
       "      <td>QQQ</td>\n",
       "      <td>7.01</td>\n",
       "      <td>430.16</td>\n",
       "      <td>450.41</td>\n",
       "      <td>3017.54</td>\n",
       "      <td>3159.60</td>\n",
       "      <td>$142.06 (4.71%)</td>\n",
       "      <td>$16.41 (0.52%)</td>\n",
       "    </tr>\n",
       "    <tr>\n",
       "      <td>SNOW</td>\n",
       "      <td>5.00</td>\n",
       "      <td>125.67</td>\n",
       "      <td>124.41</td>\n",
       "      <td>628.35</td>\n",
       "      <td>622.05</td>\n",
       "      <td>$-6.30 (-1.00%)</td>\n",
       "      <td>$14.05 (2.31%)</td>\n",
       "    </tr>\n",
       "    <tr>\n",
       "      <td>SPY</td>\n",
       "      <td>5.03</td>\n",
       "      <td>469.85</td>\n",
       "      <td>532.99</td>\n",
       "      <td>2364.05</td>\n",
       "      <td>2681.72</td>\n",
       "      <td>$317.67 (13.44%)</td>\n",
       "      <td>$11.77 (0.44%)</td>\n",
       "    </tr>\n",
       "    <tr>\n",
       "      <td>TSLA</td>\n",
       "      <td>70.00</td>\n",
       "      <td>201.36</td>\n",
       "      <td>200.00</td>\n",
       "      <td>14095.42</td>\n",
       "      <td>14000.00</td>\n",
       "      <td>$-95.42 (-0.68%)</td>\n",
       "      <td>$81.20 (0.58%)</td>\n",
       "    </tr>\n",
       "    <tr>\n",
       "      <td>TSM</td>\n",
       "      <td>16.14</td>\n",
       "      <td>129.72</td>\n",
       "      <td>167.12</td>\n",
       "      <td>2093.58</td>\n",
       "      <td>2697.28</td>\n",
       "      <td>$603.70 (28.84%)</td>\n",
       "      <td>$41.48 (1.56%)</td>\n",
       "    </tr>\n",
       "  </tbody>\n",
       "</table>"
      ],
      "text/plain": [
       "<IPython.core.display.HTML object>"
      ]
     },
     "metadata": {},
     "output_type": "display_data"
    },
    {
     "name": "stdout",
     "output_type": "stream",
     "text": [
      "\n",
      "Portfolio Summary:\n",
      "Cash: $118.33\n",
      "Total Market Value: $43,787.83\n",
      "Invested Value: $43,669.50\n",
      "Unrealized Gain/Loss: $2,793.49 (6.83%)\n",
      "Daily Gain: $159.84 (0.37%)\n"
     ]
    },
    {
     "data": {
      "text/html": [
       "<h2>Closed Positions</h2>"
      ],
      "text/plain": [
       "<IPython.core.display.HTML object>"
      ]
     },
     "metadata": {},
     "output_type": "display_data"
    },
    {
     "data": {
      "text/html": [
       "<table border=\"1\" class=\"dataframe dataframe\">\n",
       "  <thead>\n",
       "    <tr style=\"text-align: right;\">\n",
       "      <th>Symbol</th>\n",
       "      <th>Quantity</th>\n",
       "      <th>Sell Price</th>\n",
       "      <th>Cost Basis</th>\n",
       "      <th>Realized Gain</th>\n",
       "    </tr>\n",
       "  </thead>\n",
       "  <tbody>\n",
       "    <tr>\n",
       "      <td>AMD</td>\n",
       "      <td>3.00</td>\n",
       "      <td>120.39</td>\n",
       "      <td>298.02</td>\n",
       "      <td>$63.14 (21.19%)</td>\n",
       "    </tr>\n",
       "    <tr>\n",
       "      <td>ARM</td>\n",
       "      <td>5.00</td>\n",
       "      <td>133.22</td>\n",
       "      <td>668.58</td>\n",
       "      <td>$-2.46 (-0.37%)</td>\n",
       "    </tr>\n",
       "    <tr>\n",
       "      <td>DIS</td>\n",
       "      <td>10.00</td>\n",
       "      <td>110.42</td>\n",
       "      <td>840.60</td>\n",
       "      <td>$263.59 (31.36%)</td>\n",
       "    </tr>\n",
       "    <tr>\n",
       "      <td>DIS</td>\n",
       "      <td>0.05</td>\n",
       "      <td>110.31</td>\n",
       "      <td>3.97</td>\n",
       "      <td>$1.24 (31.23%)</td>\n",
       "    </tr>\n",
       "    <tr>\n",
       "      <td>GOOGL</td>\n",
       "      <td>5.00</td>\n",
       "      <td>155.74</td>\n",
       "      <td>656.44</td>\n",
       "      <td>$122.25 (18.62%)</td>\n",
       "    </tr>\n",
       "    <tr>\n",
       "      <td>PLTR</td>\n",
       "      <td>25.00</td>\n",
       "      <td>23.98</td>\n",
       "      <td>563.29</td>\n",
       "      <td>$36.31 (6.45%)</td>\n",
       "    </tr>\n",
       "    <tr>\n",
       "      <td>RDDT</td>\n",
       "      <td>15.00</td>\n",
       "      <td>52.30</td>\n",
       "      <td>736.98</td>\n",
       "      <td>$47.51 (6.45%)</td>\n",
       "    </tr>\n",
       "    <tr>\n",
       "      <td>SONY</td>\n",
       "      <td>2.00</td>\n",
       "      <td>83.86</td>\n",
       "      <td>165.80</td>\n",
       "      <td>$1.93 (1.16%)</td>\n",
       "    </tr>\n",
       "    <tr>\n",
       "      <td>TSLA</td>\n",
       "      <td>5.00</td>\n",
       "      <td>260.00</td>\n",
       "      <td>1078.73</td>\n",
       "      <td>$221.25 (20.51%)</td>\n",
       "    </tr>\n",
       "    <tr>\n",
       "      <td>TSM</td>\n",
       "      <td>5.00</td>\n",
       "      <td>110.28</td>\n",
       "      <td>449.14</td>\n",
       "      <td>$102.25 (22.77%)</td>\n",
       "    </tr>\n",
       "  </tbody>\n",
       "</table>"
      ],
      "text/plain": [
       "<IPython.core.display.HTML object>"
      ]
     },
     "metadata": {},
     "output_type": "display_data"
    },
    {
     "name": "stdout",
     "output_type": "stream",
     "text": [
      "\n",
      "Total Realized Gains: $1,946.22 (4.99%)\n"
     ]
    }
   ],
   "source": [
    "processed_data = process_portfolio_data(portfolio_data)\n",
    "display_portfolio_analysis(processed_data)"
   ]
  },
  {
   "cell_type": "code",
   "execution_count": 34,
   "metadata": {},
   "outputs": [
    {
     "data": {
      "text/html": [
       "<h2>Portfolio Status as of 2024-04-10</h2>"
      ],
      "text/plain": [
       "<IPython.core.display.HTML object>"
      ]
     },
     "metadata": {},
     "output_type": "display_data"
    },
    {
     "data": {
      "text/html": [
       "<table border=\"1\" class=\"dataframe dataframe\">\n",
       "  <thead>\n",
       "    <tr style=\"text-align: right;\">\n",
       "      <th>Symbol</th>\n",
       "      <th>Quantity</th>\n",
       "      <th>Unit Cost</th>\n",
       "      <th>Market Price</th>\n",
       "      <th>Total Cost</th>\n",
       "      <th>Market Value</th>\n",
       "      <th>Unrealized G/L</th>\n",
       "      <th>Daily Gain</th>\n",
       "    </tr>\n",
       "  </thead>\n",
       "  <tbody>\n",
       "    <tr>\n",
       "      <td>AAPL</td>\n",
       "      <td>5.01</td>\n",
       "      <td>177.18</td>\n",
       "      <td>167.55</td>\n",
       "      <td>887.37</td>\n",
       "      <td>839.14</td>\n",
       "      <td>$-48.23 (-5.44%)</td>\n",
       "      <td>$-9.45 (-1.11%)</td>\n",
       "    </tr>\n",
       "    <tr>\n",
       "      <td>GOOGL</td>\n",
       "      <td>5.00</td>\n",
       "      <td>131.29</td>\n",
       "      <td>155.96</td>\n",
       "      <td>656.44</td>\n",
       "      <td>779.80</td>\n",
       "      <td>$123.36 (18.79%)</td>\n",
       "      <td>$-2.30 (-0.29%)</td>\n",
       "    </tr>\n",
       "    <tr>\n",
       "      <td>NVDA</td>\n",
       "      <td>7.00</td>\n",
       "      <td>826.20</td>\n",
       "      <td>870.32</td>\n",
       "      <td>5783.49</td>\n",
       "      <td>6092.29</td>\n",
       "      <td>$308.80 (5.34%)</td>\n",
       "      <td>$117.94 (1.97%)</td>\n",
       "    </tr>\n",
       "    <tr>\n",
       "      <td>NVDL</td>\n",
       "      <td>25.00</td>\n",
       "      <td>42.00</td>\n",
       "      <td>38.29</td>\n",
       "      <td>1049.90</td>\n",
       "      <td>957.25</td>\n",
       "      <td>$-92.65 (-8.82%)</td>\n",
       "      <td>$35.25 (3.82%)</td>\n",
       "    </tr>\n",
       "    <tr>\n",
       "      <td>PLTR</td>\n",
       "      <td>20.00</td>\n",
       "      <td>23.00</td>\n",
       "      <td>22.42</td>\n",
       "      <td>459.92</td>\n",
       "      <td>448.40</td>\n",
       "      <td>$-11.51 (-2.50%)</td>\n",
       "      <td>$-7.80 (-1.71%)</td>\n",
       "    </tr>\n",
       "    <tr>\n",
       "      <td>QQQ</td>\n",
       "      <td>5.00</td>\n",
       "      <td>407.06</td>\n",
       "      <td>437.67</td>\n",
       "      <td>2037.17</td>\n",
       "      <td>2190.38</td>\n",
       "      <td>$153.21 (7.52%)</td>\n",
       "      <td>$-19.29 (-0.87%)</td>\n",
       "    </tr>\n",
       "    <tr>\n",
       "      <td>SPY</td>\n",
       "      <td>5.01</td>\n",
       "      <td>469.63</td>\n",
       "      <td>512.47</td>\n",
       "      <td>2354.50</td>\n",
       "      <td>2569.29</td>\n",
       "      <td>$214.79 (9.12%)</td>\n",
       "      <td>$-25.99 (-1.00%)</td>\n",
       "    </tr>\n",
       "    <tr>\n",
       "      <td>TSLA</td>\n",
       "      <td>60.00</td>\n",
       "      <td>207.89</td>\n",
       "      <td>171.76</td>\n",
       "      <td>12473.51</td>\n",
       "      <td>10305.60</td>\n",
       "      <td>$-2,167.91 (-17.38%)</td>\n",
       "      <td>$-307.20 (-2.89%)</td>\n",
       "    </tr>\n",
       "    <tr>\n",
       "      <td>TSM</td>\n",
       "      <td>10.05</td>\n",
       "      <td>106.22</td>\n",
       "      <td>145.76</td>\n",
       "      <td>1067.85</td>\n",
       "      <td>1465.37</td>\n",
       "      <td>$397.51 (37.23%)</td>\n",
       "      <td>$8.22 (0.56%)</td>\n",
       "    </tr>\n",
       "  </tbody>\n",
       "</table>"
      ],
      "text/plain": [
       "<IPython.core.display.HTML object>"
      ]
     },
     "metadata": {},
     "output_type": "display_data"
    },
    {
     "name": "stdout",
     "output_type": "stream",
     "text": [
      "\n",
      "Portfolio Summary:\n",
      "Cash: $39.36\n",
      "Total Market Value: $25,686.87\n",
      "Invested Value: $25,647.51\n",
      "Unrealized Gain/Loss: $-1,122.63 (-4.19%)\n",
      "Daily Gain: $-210.61 (-0.81%)\n"
     ]
    },
    {
     "data": {
      "text/html": [
       "<h2>Closed Positions</h2>"
      ],
      "text/plain": [
       "<IPython.core.display.HTML object>"
      ]
     },
     "metadata": {},
     "output_type": "display_data"
    },
    {
     "data": {
      "text/html": [
       "<table border=\"1\" class=\"dataframe dataframe\">\n",
       "  <thead>\n",
       "    <tr style=\"text-align: right;\">\n",
       "      <th>Symbol</th>\n",
       "      <th>Quantity</th>\n",
       "      <th>Sell Price</th>\n",
       "      <th>Cost Basis</th>\n",
       "      <th>Realized Gain</th>\n",
       "    </tr>\n",
       "  </thead>\n",
       "  <tbody>\n",
       "    <tr>\n",
       "      <td>AMD</td>\n",
       "      <td>3.00</td>\n",
       "      <td>120.39</td>\n",
       "      <td>298.02</td>\n",
       "      <td>$63.14 (21.19%)</td>\n",
       "    </tr>\n",
       "    <tr>\n",
       "      <td>ARM</td>\n",
       "      <td>5.00</td>\n",
       "      <td>133.22</td>\n",
       "      <td>668.58</td>\n",
       "      <td>$-2.46 (-0.37%)</td>\n",
       "    </tr>\n",
       "    <tr>\n",
       "      <td>DIS</td>\n",
       "      <td>10.00</td>\n",
       "      <td>110.42</td>\n",
       "      <td>840.60</td>\n",
       "      <td>$263.59 (31.36%)</td>\n",
       "    </tr>\n",
       "    <tr>\n",
       "      <td>DIS</td>\n",
       "      <td>0.05</td>\n",
       "      <td>110.31</td>\n",
       "      <td>3.97</td>\n",
       "      <td>$1.24 (31.23%)</td>\n",
       "    </tr>\n",
       "    <tr>\n",
       "      <td>GOOGL</td>\n",
       "      <td>5.00</td>\n",
       "      <td>155.74</td>\n",
       "      <td>656.44</td>\n",
       "      <td>$122.25 (18.62%)</td>\n",
       "    </tr>\n",
       "    <tr>\n",
       "      <td>PLTR</td>\n",
       "      <td>25.00</td>\n",
       "      <td>23.98</td>\n",
       "      <td>563.29</td>\n",
       "      <td>$36.31 (6.45%)</td>\n",
       "    </tr>\n",
       "    <tr>\n",
       "      <td>RDDT</td>\n",
       "      <td>15.00</td>\n",
       "      <td>52.30</td>\n",
       "      <td>736.98</td>\n",
       "      <td>$47.51 (6.45%)</td>\n",
       "    </tr>\n",
       "    <tr>\n",
       "      <td>SONY</td>\n",
       "      <td>2.00</td>\n",
       "      <td>83.86</td>\n",
       "      <td>165.80</td>\n",
       "      <td>$1.93 (1.16%)</td>\n",
       "    </tr>\n",
       "    <tr>\n",
       "      <td>TSLA</td>\n",
       "      <td>5.00</td>\n",
       "      <td>260.00</td>\n",
       "      <td>1078.73</td>\n",
       "      <td>$221.25 (20.51%)</td>\n",
       "    </tr>\n",
       "    <tr>\n",
       "      <td>TSM</td>\n",
       "      <td>5.00</td>\n",
       "      <td>110.28</td>\n",
       "      <td>449.14</td>\n",
       "      <td>$102.25 (22.77%)</td>\n",
       "    </tr>\n",
       "  </tbody>\n",
       "</table>"
      ],
      "text/plain": [
       "<IPython.core.display.HTML object>"
      ]
     },
     "metadata": {},
     "output_type": "display_data"
    },
    {
     "name": "stdout",
     "output_type": "stream",
     "text": [
      "\n",
      "Total Realized Gains: $1,787.66 (7.15%)\n"
     ]
    }
   ],
   "source": [
    "processed_data = process_portfolio_data(portfolio_data, date=\"2024-04-10\")\n",
    "display_portfolio_analysis(processed_data)"
   ]
  },
  {
   "cell_type": "code",
   "execution_count": 35,
   "metadata": {},
   "outputs": [],
   "source": [
    "def read_template(template_path):\n",
    "    with open(template_path, 'r') as file:\n",
    "        return file.read()\n",
    "\n",
    "def generate_html_report():\n",
    "    dates = sorted(portfolio_data.keys())\n",
    "    latest_date = dates[-1]\n",
    "\n",
    "    stock_proportions_plot = plot_stock_proportions(\n",
    "        portfolio_data, latest_date)\n",
    "    sector_proportions_plot = plot_sector_proportions(\n",
    "        portfolio_data, sectors, latest_date)\n",
    "    portfolio_growth_plot = plot_portfolio_growth(portfolio_data)\n",
    "\n",
    "    processed_data = process_portfolio_data(portfolio_data, latest_date)\n",
    "\n",
    "    # Convert DataFrames to HTML strings\n",
    "    portfolio_table = processed_data['holdings'].to_html(\n",
    "        index=False, classes='dataframe')\n",
    "    closed_positions_table = processed_data['closed_positions'].to_html(\n",
    "        index=False, classes='dataframe')\n",
    "\n",
    "    # Format portfolio summary\n",
    "    summary = processed_data['summary']\n",
    "    format_dict = {\n",
    "        'date': latest_date,\n",
    "        'portfolio_table': portfolio_table,\n",
    "        'closed_positions_table': closed_positions_table,\n",
    "        'stock_proportions_plot': stock_proportions_plot.to_json(),\n",
    "        'sector_proportions_plot': sector_proportions_plot.to_json(),\n",
    "        'portfolio_growth_plot': portfolio_growth_plot.to_json(),\n",
    "        'date_options': ' '.join(f'<option value=\"{date}\">{date}</option>' for date in dates),\n",
    "        'cash': f\"${float(summary.get('cash', 0)):,.2f}\",\n",
    "        'total_market_value': f\"${float(summary.get('total_market_value', 0)):,.2f}\",\n",
    "        'invested_value': f\"${float(summary.get('invested_value', 0)):,.2f}\",\n",
    "        'unrealized_gain_loss': f\"${float(summary.get('unrealized_gain_loss', 0)):,.2f} ({float(summary.get('unrealized_gain_loss_percentage', 0)):.2f}%)\",\n",
    "        'daily_gain': f\"${float(summary.get('daily_gain', 0)):,.2f} ({float(summary.get('daily_return', 0))*100:.2f}%)\",\n",
    "        'total_realized_gains': f\"${float(processed_data['realized_gains']):,.2f} ({float(processed_data['realized_gain_percentage']):.2f}%)\"\n",
    "    }\n",
    "\n",
    "    # Read the HTML template\n",
    "    template_path = 'reports/templates/portfolio_report_template.html'\n",
    "    with open(template_path, 'r') as template_file:\n",
    "        html_template = template_file.read()\n",
    "\n",
    "    # Read the CSS content\n",
    "    css_path = 'reports/templates/portfolio_report_styles.css'\n",
    "    with open(css_path, 'r') as css_file:\n",
    "        css_content = css_file.read()\n",
    "\n",
    "    # Escape curly braces in the CSS content\n",
    "    css_content_escaped = css_content.replace('{', '{{').replace('}', '}}')\n",
    "\n",
    "    # Replace the CSS placeholder with the escaped CSS content\n",
    "    html_template = html_template.replace(\n",
    "        '/* CSS_PLACEHOLDER */', css_content_escaped)\n",
    "\n",
    "    # Remove whitespace from placeholders\n",
    "    html_template = re.sub(r'\\{\\s*(\\w+)\\s*\\}', r'{\\1}', html_template)\n",
    "\n",
    "    # Generate the HTML content\n",
    "    html_content = html_template.format(**format_dict)\n",
    "\n",
    "    # Ensure the 'reports' directory exists\n",
    "    os.makedirs('reports', exist_ok=True)\n",
    "\n",
    "    # Generate only the 'latest' version\n",
    "    today_date = datetime.now().strftime(\"%Y-%m-%d\")\n",
    "    filename = f'portfolio_report_latest_{today_date}.html'\n",
    "    with open(os.path.join('reports', filename), 'w') as f:\n",
    "        f.write(html_content)\n",
    "\n",
    "    print(f\"HTML report generated: reports/{filename}\")"
   ]
  },
  {
   "cell_type": "code",
   "execution_count": 36,
   "metadata": {},
   "outputs": [
    {
     "name": "stdout",
     "output_type": "stream",
     "text": [
      "HTML report generated: reports/portfolio_report_latest_2024-08-11.html\n"
     ]
    }
   ],
   "source": [
    "generate_html_report()"
   ]
  }
 ],
 "metadata": {
  "kernelspec": {
   "display_name": "venv",
   "language": "python",
   "name": "python3"
  },
  "language_info": {
   "codemirror_mode": {
    "name": "ipython",
    "version": 3
   },
   "file_extension": ".py",
   "mimetype": "text/x-python",
   "name": "python",
   "nbconvert_exporter": "python",
   "pygments_lexer": "ipython3",
   "version": "3.12.4"
  }
 },
 "nbformat": 4,
 "nbformat_minor": 2
}
