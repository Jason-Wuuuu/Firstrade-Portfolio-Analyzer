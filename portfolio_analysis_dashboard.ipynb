{
 "cells": [
  {
   "cell_type": "code",
   "execution_count": 1,
   "metadata": {},
   "outputs": [],
   "source": [
    "import json\n",
    "import os\n",
    "import re\n",
    "from datetime import datetime, timedelta\n",
    "\n",
    "import pandas as pd\n",
    "import plotly.graph_objects as go\n",
    "import yfinance as yf\n",
    "from IPython.display import display, HTML\n",
    "\n",
    "from transaction_history_processor import PortfolioHistory"
   ]
  },
  {
   "cell_type": "code",
   "execution_count": 2,
   "metadata": {},
   "outputs": [],
   "source": [
    "if not os.path.exists('portfolio_history.json'):\n",
    "    print(\"portfolio_history.json not found. Generating it now...\")\n",
    "    portfolio_history = PortfolioHistory()\n",
    "    portfolio_history.process_transaction_history(\n",
    "        input_file='transaction_history.json',\n",
    "        save_output=True,\n",
    "        output_file='portfolio_history.json'\n",
    "    )\n",
    "    print(\"portfolio_history.json has been generated.\")\n",
    "\n",
    "with open('portfolio_history.json', 'r') as f:\n",
    "    data = json.load(f)\n",
    "    sectors = data['sectors']\n",
    "    portfolio_data = data['portfolios']"
   ]
  },
  {
   "cell_type": "code",
   "execution_count": 3,
   "metadata": {},
   "outputs": [
    {
     "data": {
      "application/vnd.plotly.v1+json": {
       "config": {
        "plotlyServerURL": "https://plot.ly"
       },
       "data": [
        {
         "labels": [
          "TSLA",
          "NVDA",
          "QQQ",
          "TSM",
          "SPY",
          "NVDL",
          "AMD",
          "Others"
         ],
         "textinfo": "label+percent",
         "type": "pie",
         "values": [
          32.05899111900352,
          23.994023341851754,
          7.235254365822861,
          6.176580549527527,
          6.140940546201251,
          5.294313582863671,
          3.9977502226976074,
          15.102146272031808
         ]
        }
       ],
       "layout": {
        "legend": {
         "title": {
          "text": "Holdings"
         }
        },
        "showlegend": true,
        "template": {
         "data": {
          "bar": [
           {
            "error_x": {
             "color": "#2a3f5f"
            },
            "error_y": {
             "color": "#2a3f5f"
            },
            "marker": {
             "line": {
              "color": "#E5ECF6",
              "width": 0.5
             },
             "pattern": {
              "fillmode": "overlay",
              "size": 10,
              "solidity": 0.2
             }
            },
            "type": "bar"
           }
          ],
          "barpolar": [
           {
            "marker": {
             "line": {
              "color": "#E5ECF6",
              "width": 0.5
             },
             "pattern": {
              "fillmode": "overlay",
              "size": 10,
              "solidity": 0.2
             }
            },
            "type": "barpolar"
           }
          ],
          "carpet": [
           {
            "aaxis": {
             "endlinecolor": "#2a3f5f",
             "gridcolor": "white",
             "linecolor": "white",
             "minorgridcolor": "white",
             "startlinecolor": "#2a3f5f"
            },
            "baxis": {
             "endlinecolor": "#2a3f5f",
             "gridcolor": "white",
             "linecolor": "white",
             "minorgridcolor": "white",
             "startlinecolor": "#2a3f5f"
            },
            "type": "carpet"
           }
          ],
          "choropleth": [
           {
            "colorbar": {
             "outlinewidth": 0,
             "ticks": ""
            },
            "type": "choropleth"
           }
          ],
          "contour": [
           {
            "colorbar": {
             "outlinewidth": 0,
             "ticks": ""
            },
            "colorscale": [
             [
              0,
              "#0d0887"
             ],
             [
              0.1111111111111111,
              "#46039f"
             ],
             [
              0.2222222222222222,
              "#7201a8"
             ],
             [
              0.3333333333333333,
              "#9c179e"
             ],
             [
              0.4444444444444444,
              "#bd3786"
             ],
             [
              0.5555555555555556,
              "#d8576b"
             ],
             [
              0.6666666666666666,
              "#ed7953"
             ],
             [
              0.7777777777777778,
              "#fb9f3a"
             ],
             [
              0.8888888888888888,
              "#fdca26"
             ],
             [
              1,
              "#f0f921"
             ]
            ],
            "type": "contour"
           }
          ],
          "contourcarpet": [
           {
            "colorbar": {
             "outlinewidth": 0,
             "ticks": ""
            },
            "type": "contourcarpet"
           }
          ],
          "heatmap": [
           {
            "colorbar": {
             "outlinewidth": 0,
             "ticks": ""
            },
            "colorscale": [
             [
              0,
              "#0d0887"
             ],
             [
              0.1111111111111111,
              "#46039f"
             ],
             [
              0.2222222222222222,
              "#7201a8"
             ],
             [
              0.3333333333333333,
              "#9c179e"
             ],
             [
              0.4444444444444444,
              "#bd3786"
             ],
             [
              0.5555555555555556,
              "#d8576b"
             ],
             [
              0.6666666666666666,
              "#ed7953"
             ],
             [
              0.7777777777777778,
              "#fb9f3a"
             ],
             [
              0.8888888888888888,
              "#fdca26"
             ],
             [
              1,
              "#f0f921"
             ]
            ],
            "type": "heatmap"
           }
          ],
          "heatmapgl": [
           {
            "colorbar": {
             "outlinewidth": 0,
             "ticks": ""
            },
            "colorscale": [
             [
              0,
              "#0d0887"
             ],
             [
              0.1111111111111111,
              "#46039f"
             ],
             [
              0.2222222222222222,
              "#7201a8"
             ],
             [
              0.3333333333333333,
              "#9c179e"
             ],
             [
              0.4444444444444444,
              "#bd3786"
             ],
             [
              0.5555555555555556,
              "#d8576b"
             ],
             [
              0.6666666666666666,
              "#ed7953"
             ],
             [
              0.7777777777777778,
              "#fb9f3a"
             ],
             [
              0.8888888888888888,
              "#fdca26"
             ],
             [
              1,
              "#f0f921"
             ]
            ],
            "type": "heatmapgl"
           }
          ],
          "histogram": [
           {
            "marker": {
             "pattern": {
              "fillmode": "overlay",
              "size": 10,
              "solidity": 0.2
             }
            },
            "type": "histogram"
           }
          ],
          "histogram2d": [
           {
            "colorbar": {
             "outlinewidth": 0,
             "ticks": ""
            },
            "colorscale": [
             [
              0,
              "#0d0887"
             ],
             [
              0.1111111111111111,
              "#46039f"
             ],
             [
              0.2222222222222222,
              "#7201a8"
             ],
             [
              0.3333333333333333,
              "#9c179e"
             ],
             [
              0.4444444444444444,
              "#bd3786"
             ],
             [
              0.5555555555555556,
              "#d8576b"
             ],
             [
              0.6666666666666666,
              "#ed7953"
             ],
             [
              0.7777777777777778,
              "#fb9f3a"
             ],
             [
              0.8888888888888888,
              "#fdca26"
             ],
             [
              1,
              "#f0f921"
             ]
            ],
            "type": "histogram2d"
           }
          ],
          "histogram2dcontour": [
           {
            "colorbar": {
             "outlinewidth": 0,
             "ticks": ""
            },
            "colorscale": [
             [
              0,
              "#0d0887"
             ],
             [
              0.1111111111111111,
              "#46039f"
             ],
             [
              0.2222222222222222,
              "#7201a8"
             ],
             [
              0.3333333333333333,
              "#9c179e"
             ],
             [
              0.4444444444444444,
              "#bd3786"
             ],
             [
              0.5555555555555556,
              "#d8576b"
             ],
             [
              0.6666666666666666,
              "#ed7953"
             ],
             [
              0.7777777777777778,
              "#fb9f3a"
             ],
             [
              0.8888888888888888,
              "#fdca26"
             ],
             [
              1,
              "#f0f921"
             ]
            ],
            "type": "histogram2dcontour"
           }
          ],
          "mesh3d": [
           {
            "colorbar": {
             "outlinewidth": 0,
             "ticks": ""
            },
            "type": "mesh3d"
           }
          ],
          "parcoords": [
           {
            "line": {
             "colorbar": {
              "outlinewidth": 0,
              "ticks": ""
             }
            },
            "type": "parcoords"
           }
          ],
          "pie": [
           {
            "automargin": true,
            "type": "pie"
           }
          ],
          "scatter": [
           {
            "fillpattern": {
             "fillmode": "overlay",
             "size": 10,
             "solidity": 0.2
            },
            "type": "scatter"
           }
          ],
          "scatter3d": [
           {
            "line": {
             "colorbar": {
              "outlinewidth": 0,
              "ticks": ""
             }
            },
            "marker": {
             "colorbar": {
              "outlinewidth": 0,
              "ticks": ""
             }
            },
            "type": "scatter3d"
           }
          ],
          "scattercarpet": [
           {
            "marker": {
             "colorbar": {
              "outlinewidth": 0,
              "ticks": ""
             }
            },
            "type": "scattercarpet"
           }
          ],
          "scattergeo": [
           {
            "marker": {
             "colorbar": {
              "outlinewidth": 0,
              "ticks": ""
             }
            },
            "type": "scattergeo"
           }
          ],
          "scattergl": [
           {
            "marker": {
             "colorbar": {
              "outlinewidth": 0,
              "ticks": ""
             }
            },
            "type": "scattergl"
           }
          ],
          "scattermapbox": [
           {
            "marker": {
             "colorbar": {
              "outlinewidth": 0,
              "ticks": ""
             }
            },
            "type": "scattermapbox"
           }
          ],
          "scatterpolar": [
           {
            "marker": {
             "colorbar": {
              "outlinewidth": 0,
              "ticks": ""
             }
            },
            "type": "scatterpolar"
           }
          ],
          "scatterpolargl": [
           {
            "marker": {
             "colorbar": {
              "outlinewidth": 0,
              "ticks": ""
             }
            },
            "type": "scatterpolargl"
           }
          ],
          "scatterternary": [
           {
            "marker": {
             "colorbar": {
              "outlinewidth": 0,
              "ticks": ""
             }
            },
            "type": "scatterternary"
           }
          ],
          "surface": [
           {
            "colorbar": {
             "outlinewidth": 0,
             "ticks": ""
            },
            "colorscale": [
             [
              0,
              "#0d0887"
             ],
             [
              0.1111111111111111,
              "#46039f"
             ],
             [
              0.2222222222222222,
              "#7201a8"
             ],
             [
              0.3333333333333333,
              "#9c179e"
             ],
             [
              0.4444444444444444,
              "#bd3786"
             ],
             [
              0.5555555555555556,
              "#d8576b"
             ],
             [
              0.6666666666666666,
              "#ed7953"
             ],
             [
              0.7777777777777778,
              "#fb9f3a"
             ],
             [
              0.8888888888888888,
              "#fdca26"
             ],
             [
              1,
              "#f0f921"
             ]
            ],
            "type": "surface"
           }
          ],
          "table": [
           {
            "cells": {
             "fill": {
              "color": "#EBF0F8"
             },
             "line": {
              "color": "white"
             }
            },
            "header": {
             "fill": {
              "color": "#C8D4E3"
             },
             "line": {
              "color": "white"
             }
            },
            "type": "table"
           }
          ]
         },
         "layout": {
          "annotationdefaults": {
           "arrowcolor": "#2a3f5f",
           "arrowhead": 0,
           "arrowwidth": 1
          },
          "autotypenumbers": "strict",
          "coloraxis": {
           "colorbar": {
            "outlinewidth": 0,
            "ticks": ""
           }
          },
          "colorscale": {
           "diverging": [
            [
             0,
             "#8e0152"
            ],
            [
             0.1,
             "#c51b7d"
            ],
            [
             0.2,
             "#de77ae"
            ],
            [
             0.3,
             "#f1b6da"
            ],
            [
             0.4,
             "#fde0ef"
            ],
            [
             0.5,
             "#f7f7f7"
            ],
            [
             0.6,
             "#e6f5d0"
            ],
            [
             0.7,
             "#b8e186"
            ],
            [
             0.8,
             "#7fbc41"
            ],
            [
             0.9,
             "#4d9221"
            ],
            [
             1,
             "#276419"
            ]
           ],
           "sequential": [
            [
             0,
             "#0d0887"
            ],
            [
             0.1111111111111111,
             "#46039f"
            ],
            [
             0.2222222222222222,
             "#7201a8"
            ],
            [
             0.3333333333333333,
             "#9c179e"
            ],
            [
             0.4444444444444444,
             "#bd3786"
            ],
            [
             0.5555555555555556,
             "#d8576b"
            ],
            [
             0.6666666666666666,
             "#ed7953"
            ],
            [
             0.7777777777777778,
             "#fb9f3a"
            ],
            [
             0.8888888888888888,
             "#fdca26"
            ],
            [
             1,
             "#f0f921"
            ]
           ],
           "sequentialminus": [
            [
             0,
             "#0d0887"
            ],
            [
             0.1111111111111111,
             "#46039f"
            ],
            [
             0.2222222222222222,
             "#7201a8"
            ],
            [
             0.3333333333333333,
             "#9c179e"
            ],
            [
             0.4444444444444444,
             "#bd3786"
            ],
            [
             0.5555555555555556,
             "#d8576b"
            ],
            [
             0.6666666666666666,
             "#ed7953"
            ],
            [
             0.7777777777777778,
             "#fb9f3a"
            ],
            [
             0.8888888888888888,
             "#fdca26"
            ],
            [
             1,
             "#f0f921"
            ]
           ]
          },
          "colorway": [
           "#636efa",
           "#EF553B",
           "#00cc96",
           "#ab63fa",
           "#FFA15A",
           "#19d3f3",
           "#FF6692",
           "#B6E880",
           "#FF97FF",
           "#FECB52"
          ],
          "font": {
           "color": "#2a3f5f"
          },
          "geo": {
           "bgcolor": "white",
           "lakecolor": "white",
           "landcolor": "#E5ECF6",
           "showlakes": true,
           "showland": true,
           "subunitcolor": "white"
          },
          "hoverlabel": {
           "align": "left"
          },
          "hovermode": "closest",
          "mapbox": {
           "style": "light"
          },
          "paper_bgcolor": "white",
          "plot_bgcolor": "#E5ECF6",
          "polar": {
           "angularaxis": {
            "gridcolor": "white",
            "linecolor": "white",
            "ticks": ""
           },
           "bgcolor": "#E5ECF6",
           "radialaxis": {
            "gridcolor": "white",
            "linecolor": "white",
            "ticks": ""
           }
          },
          "scene": {
           "xaxis": {
            "backgroundcolor": "#E5ECF6",
            "gridcolor": "white",
            "gridwidth": 2,
            "linecolor": "white",
            "showbackground": true,
            "ticks": "",
            "zerolinecolor": "white"
           },
           "yaxis": {
            "backgroundcolor": "#E5ECF6",
            "gridcolor": "white",
            "gridwidth": 2,
            "linecolor": "white",
            "showbackground": true,
            "ticks": "",
            "zerolinecolor": "white"
           },
           "zaxis": {
            "backgroundcolor": "#E5ECF6",
            "gridcolor": "white",
            "gridwidth": 2,
            "linecolor": "white",
            "showbackground": true,
            "ticks": "",
            "zerolinecolor": "white"
           }
          },
          "shapedefaults": {
           "line": {
            "color": "#2a3f5f"
           }
          },
          "ternary": {
           "aaxis": {
            "gridcolor": "white",
            "linecolor": "white",
            "ticks": ""
           },
           "baxis": {
            "gridcolor": "white",
            "linecolor": "white",
            "ticks": ""
           },
           "bgcolor": "#E5ECF6",
           "caxis": {
            "gridcolor": "white",
            "linecolor": "white",
            "ticks": ""
           }
          },
          "title": {
           "x": 0.05
          },
          "xaxis": {
           "automargin": true,
           "gridcolor": "white",
           "linecolor": "white",
           "ticks": "",
           "title": {
            "standoff": 15
           },
           "zerolinecolor": "white",
           "zerolinewidth": 2
          },
          "yaxis": {
           "automargin": true,
           "gridcolor": "white",
           "linecolor": "white",
           "ticks": "",
           "title": {
            "standoff": 15
           },
           "zerolinecolor": "white",
           "zerolinewidth": 2
          }
         }
        },
        "title": {
         "text": "Stock Proportions by Value on 2024-08-09"
        }
       }
      }
     },
     "metadata": {},
     "output_type": "display_data"
    }
   ],
   "source": [
    "def plot_stock_proportions(portfolio_data, date=None, show_values=True, main_threshold=3.0):\n",
    "    if date is None:\n",
    "        date = max(portfolio_data.keys())\n",
    "\n",
    "    if date not in portfolio_data:\n",
    "        print(f\"No data available for date: {date}\")\n",
    "        return None\n",
    "\n",
    "    holdings = portfolio_data[date]['holdings']\n",
    "    labels = list(holdings.keys())\n",
    "    values = [float(data['market_value']) for data in holdings.values()]\n",
    "\n",
    "    total = sum(values)\n",
    "    percentages = [(value / total) * 100 for value in values]\n",
    "\n",
    "    main_holdings = list(zip(labels, values, percentages))\n",
    "    main_holdings.sort(key=lambda x: x[2], reverse=True)\n",
    "\n",
    "    other_holdings = [h for h in main_holdings if h[2] < main_threshold]\n",
    "    if len(other_holdings) > 1:\n",
    "        others_value = sum(v for _, v, _ in other_holdings)\n",
    "        others_percentage = sum(p for _, _, p in other_holdings)\n",
    "        main_holdings = [h for h in main_holdings if h[2] >=\n",
    "                         main_threshold] + [(\"Others\", others_value, others_percentage)]\n",
    "\n",
    "    main_labels, main_values, main_percentages = zip(*main_holdings)\n",
    "\n",
    "    fig = go.Figure(data=[go.Pie(labels=main_labels,\n",
    "                    values=main_percentages, textinfo='label+percent')])\n",
    "\n",
    "    fig.update_layout(\n",
    "        title=f'Stock Proportions by Value on {date}',\n",
    "        showlegend=True,\n",
    "        legend=dict(title=\"Holdings\")\n",
    "    )\n",
    "\n",
    "    if show_values:\n",
    "        fig.update_traces(\n",
    "            text=[f'${value:,.2f}' for value in main_values], textposition='inside')\n",
    "\n",
    "    return fig\n",
    "\n",
    "# Call the function\n",
    "plot_stock_proportions(portfolio_data, show_values=False)"
   ]
  },
  {
   "cell_type": "code",
   "execution_count": 4,
   "metadata": {},
   "outputs": [],
   "source": [
    "# plot_stock_proportions(\n",
    "#     portfolio_history, date=\"2023-10-26\")"
   ]
  },
  {
   "cell_type": "code",
   "execution_count": 5,
   "metadata": {},
   "outputs": [
    {
     "data": {
      "application/vnd.plotly.v1+json": {
       "config": {
        "plotlyServerURL": "https://plot.ly"
       },
       "data": [
        {
         "labels": [
          "ETF",
          "Consumer Cyclical",
          "Technology",
          "Communication Services"
         ],
         "textinfo": "label+percent",
         "type": "pie",
         "values": [
          8153.317051277466,
          15041.206464627076,
          19438.72875830597,
          1036.2442062890625
         ]
        }
       ],
       "layout": {
        "legend": {
         "title": {
          "text": "Sectors"
         }
        },
        "showlegend": true,
        "template": {
         "data": {
          "bar": [
           {
            "error_x": {
             "color": "#2a3f5f"
            },
            "error_y": {
             "color": "#2a3f5f"
            },
            "marker": {
             "line": {
              "color": "#E5ECF6",
              "width": 0.5
             },
             "pattern": {
              "fillmode": "overlay",
              "size": 10,
              "solidity": 0.2
             }
            },
            "type": "bar"
           }
          ],
          "barpolar": [
           {
            "marker": {
             "line": {
              "color": "#E5ECF6",
              "width": 0.5
             },
             "pattern": {
              "fillmode": "overlay",
              "size": 10,
              "solidity": 0.2
             }
            },
            "type": "barpolar"
           }
          ],
          "carpet": [
           {
            "aaxis": {
             "endlinecolor": "#2a3f5f",
             "gridcolor": "white",
             "linecolor": "white",
             "minorgridcolor": "white",
             "startlinecolor": "#2a3f5f"
            },
            "baxis": {
             "endlinecolor": "#2a3f5f",
             "gridcolor": "white",
             "linecolor": "white",
             "minorgridcolor": "white",
             "startlinecolor": "#2a3f5f"
            },
            "type": "carpet"
           }
          ],
          "choropleth": [
           {
            "colorbar": {
             "outlinewidth": 0,
             "ticks": ""
            },
            "type": "choropleth"
           }
          ],
          "contour": [
           {
            "colorbar": {
             "outlinewidth": 0,
             "ticks": ""
            },
            "colorscale": [
             [
              0,
              "#0d0887"
             ],
             [
              0.1111111111111111,
              "#46039f"
             ],
             [
              0.2222222222222222,
              "#7201a8"
             ],
             [
              0.3333333333333333,
              "#9c179e"
             ],
             [
              0.4444444444444444,
              "#bd3786"
             ],
             [
              0.5555555555555556,
              "#d8576b"
             ],
             [
              0.6666666666666666,
              "#ed7953"
             ],
             [
              0.7777777777777778,
              "#fb9f3a"
             ],
             [
              0.8888888888888888,
              "#fdca26"
             ],
             [
              1,
              "#f0f921"
             ]
            ],
            "type": "contour"
           }
          ],
          "contourcarpet": [
           {
            "colorbar": {
             "outlinewidth": 0,
             "ticks": ""
            },
            "type": "contourcarpet"
           }
          ],
          "heatmap": [
           {
            "colorbar": {
             "outlinewidth": 0,
             "ticks": ""
            },
            "colorscale": [
             [
              0,
              "#0d0887"
             ],
             [
              0.1111111111111111,
              "#46039f"
             ],
             [
              0.2222222222222222,
              "#7201a8"
             ],
             [
              0.3333333333333333,
              "#9c179e"
             ],
             [
              0.4444444444444444,
              "#bd3786"
             ],
             [
              0.5555555555555556,
              "#d8576b"
             ],
             [
              0.6666666666666666,
              "#ed7953"
             ],
             [
              0.7777777777777778,
              "#fb9f3a"
             ],
             [
              0.8888888888888888,
              "#fdca26"
             ],
             [
              1,
              "#f0f921"
             ]
            ],
            "type": "heatmap"
           }
          ],
          "heatmapgl": [
           {
            "colorbar": {
             "outlinewidth": 0,
             "ticks": ""
            },
            "colorscale": [
             [
              0,
              "#0d0887"
             ],
             [
              0.1111111111111111,
              "#46039f"
             ],
             [
              0.2222222222222222,
              "#7201a8"
             ],
             [
              0.3333333333333333,
              "#9c179e"
             ],
             [
              0.4444444444444444,
              "#bd3786"
             ],
             [
              0.5555555555555556,
              "#d8576b"
             ],
             [
              0.6666666666666666,
              "#ed7953"
             ],
             [
              0.7777777777777778,
              "#fb9f3a"
             ],
             [
              0.8888888888888888,
              "#fdca26"
             ],
             [
              1,
              "#f0f921"
             ]
            ],
            "type": "heatmapgl"
           }
          ],
          "histogram": [
           {
            "marker": {
             "pattern": {
              "fillmode": "overlay",
              "size": 10,
              "solidity": 0.2
             }
            },
            "type": "histogram"
           }
          ],
          "histogram2d": [
           {
            "colorbar": {
             "outlinewidth": 0,
             "ticks": ""
            },
            "colorscale": [
             [
              0,
              "#0d0887"
             ],
             [
              0.1111111111111111,
              "#46039f"
             ],
             [
              0.2222222222222222,
              "#7201a8"
             ],
             [
              0.3333333333333333,
              "#9c179e"
             ],
             [
              0.4444444444444444,
              "#bd3786"
             ],
             [
              0.5555555555555556,
              "#d8576b"
             ],
             [
              0.6666666666666666,
              "#ed7953"
             ],
             [
              0.7777777777777778,
              "#fb9f3a"
             ],
             [
              0.8888888888888888,
              "#fdca26"
             ],
             [
              1,
              "#f0f921"
             ]
            ],
            "type": "histogram2d"
           }
          ],
          "histogram2dcontour": [
           {
            "colorbar": {
             "outlinewidth": 0,
             "ticks": ""
            },
            "colorscale": [
             [
              0,
              "#0d0887"
             ],
             [
              0.1111111111111111,
              "#46039f"
             ],
             [
              0.2222222222222222,
              "#7201a8"
             ],
             [
              0.3333333333333333,
              "#9c179e"
             ],
             [
              0.4444444444444444,
              "#bd3786"
             ],
             [
              0.5555555555555556,
              "#d8576b"
             ],
             [
              0.6666666666666666,
              "#ed7953"
             ],
             [
              0.7777777777777778,
              "#fb9f3a"
             ],
             [
              0.8888888888888888,
              "#fdca26"
             ],
             [
              1,
              "#f0f921"
             ]
            ],
            "type": "histogram2dcontour"
           }
          ],
          "mesh3d": [
           {
            "colorbar": {
             "outlinewidth": 0,
             "ticks": ""
            },
            "type": "mesh3d"
           }
          ],
          "parcoords": [
           {
            "line": {
             "colorbar": {
              "outlinewidth": 0,
              "ticks": ""
             }
            },
            "type": "parcoords"
           }
          ],
          "pie": [
           {
            "automargin": true,
            "type": "pie"
           }
          ],
          "scatter": [
           {
            "fillpattern": {
             "fillmode": "overlay",
             "size": 10,
             "solidity": 0.2
            },
            "type": "scatter"
           }
          ],
          "scatter3d": [
           {
            "line": {
             "colorbar": {
              "outlinewidth": 0,
              "ticks": ""
             }
            },
            "marker": {
             "colorbar": {
              "outlinewidth": 0,
              "ticks": ""
             }
            },
            "type": "scatter3d"
           }
          ],
          "scattercarpet": [
           {
            "marker": {
             "colorbar": {
              "outlinewidth": 0,
              "ticks": ""
             }
            },
            "type": "scattercarpet"
           }
          ],
          "scattergeo": [
           {
            "marker": {
             "colorbar": {
              "outlinewidth": 0,
              "ticks": ""
             }
            },
            "type": "scattergeo"
           }
          ],
          "scattergl": [
           {
            "marker": {
             "colorbar": {
              "outlinewidth": 0,
              "ticks": ""
             }
            },
            "type": "scattergl"
           }
          ],
          "scattermapbox": [
           {
            "marker": {
             "colorbar": {
              "outlinewidth": 0,
              "ticks": ""
             }
            },
            "type": "scattermapbox"
           }
          ],
          "scatterpolar": [
           {
            "marker": {
             "colorbar": {
              "outlinewidth": 0,
              "ticks": ""
             }
            },
            "type": "scatterpolar"
           }
          ],
          "scatterpolargl": [
           {
            "marker": {
             "colorbar": {
              "outlinewidth": 0,
              "ticks": ""
             }
            },
            "type": "scatterpolargl"
           }
          ],
          "scatterternary": [
           {
            "marker": {
             "colorbar": {
              "outlinewidth": 0,
              "ticks": ""
             }
            },
            "type": "scatterternary"
           }
          ],
          "surface": [
           {
            "colorbar": {
             "outlinewidth": 0,
             "ticks": ""
            },
            "colorscale": [
             [
              0,
              "#0d0887"
             ],
             [
              0.1111111111111111,
              "#46039f"
             ],
             [
              0.2222222222222222,
              "#7201a8"
             ],
             [
              0.3333333333333333,
              "#9c179e"
             ],
             [
              0.4444444444444444,
              "#bd3786"
             ],
             [
              0.5555555555555556,
              "#d8576b"
             ],
             [
              0.6666666666666666,
              "#ed7953"
             ],
             [
              0.7777777777777778,
              "#fb9f3a"
             ],
             [
              0.8888888888888888,
              "#fdca26"
             ],
             [
              1,
              "#f0f921"
             ]
            ],
            "type": "surface"
           }
          ],
          "table": [
           {
            "cells": {
             "fill": {
              "color": "#EBF0F8"
             },
             "line": {
              "color": "white"
             }
            },
            "header": {
             "fill": {
              "color": "#C8D4E3"
             },
             "line": {
              "color": "white"
             }
            },
            "type": "table"
           }
          ]
         },
         "layout": {
          "annotationdefaults": {
           "arrowcolor": "#2a3f5f",
           "arrowhead": 0,
           "arrowwidth": 1
          },
          "autotypenumbers": "strict",
          "coloraxis": {
           "colorbar": {
            "outlinewidth": 0,
            "ticks": ""
           }
          },
          "colorscale": {
           "diverging": [
            [
             0,
             "#8e0152"
            ],
            [
             0.1,
             "#c51b7d"
            ],
            [
             0.2,
             "#de77ae"
            ],
            [
             0.3,
             "#f1b6da"
            ],
            [
             0.4,
             "#fde0ef"
            ],
            [
             0.5,
             "#f7f7f7"
            ],
            [
             0.6,
             "#e6f5d0"
            ],
            [
             0.7,
             "#b8e186"
            ],
            [
             0.8,
             "#7fbc41"
            ],
            [
             0.9,
             "#4d9221"
            ],
            [
             1,
             "#276419"
            ]
           ],
           "sequential": [
            [
             0,
             "#0d0887"
            ],
            [
             0.1111111111111111,
             "#46039f"
            ],
            [
             0.2222222222222222,
             "#7201a8"
            ],
            [
             0.3333333333333333,
             "#9c179e"
            ],
            [
             0.4444444444444444,
             "#bd3786"
            ],
            [
             0.5555555555555556,
             "#d8576b"
            ],
            [
             0.6666666666666666,
             "#ed7953"
            ],
            [
             0.7777777777777778,
             "#fb9f3a"
            ],
            [
             0.8888888888888888,
             "#fdca26"
            ],
            [
             1,
             "#f0f921"
            ]
           ],
           "sequentialminus": [
            [
             0,
             "#0d0887"
            ],
            [
             0.1111111111111111,
             "#46039f"
            ],
            [
             0.2222222222222222,
             "#7201a8"
            ],
            [
             0.3333333333333333,
             "#9c179e"
            ],
            [
             0.4444444444444444,
             "#bd3786"
            ],
            [
             0.5555555555555556,
             "#d8576b"
            ],
            [
             0.6666666666666666,
             "#ed7953"
            ],
            [
             0.7777777777777778,
             "#fb9f3a"
            ],
            [
             0.8888888888888888,
             "#fdca26"
            ],
            [
             1,
             "#f0f921"
            ]
           ]
          },
          "colorway": [
           "#636efa",
           "#EF553B",
           "#00cc96",
           "#ab63fa",
           "#FFA15A",
           "#19d3f3",
           "#FF6692",
           "#B6E880",
           "#FF97FF",
           "#FECB52"
          ],
          "font": {
           "color": "#2a3f5f"
          },
          "geo": {
           "bgcolor": "white",
           "lakecolor": "white",
           "landcolor": "#E5ECF6",
           "showlakes": true,
           "showland": true,
           "subunitcolor": "white"
          },
          "hoverlabel": {
           "align": "left"
          },
          "hovermode": "closest",
          "mapbox": {
           "style": "light"
          },
          "paper_bgcolor": "white",
          "plot_bgcolor": "#E5ECF6",
          "polar": {
           "angularaxis": {
            "gridcolor": "white",
            "linecolor": "white",
            "ticks": ""
           },
           "bgcolor": "#E5ECF6",
           "radialaxis": {
            "gridcolor": "white",
            "linecolor": "white",
            "ticks": ""
           }
          },
          "scene": {
           "xaxis": {
            "backgroundcolor": "#E5ECF6",
            "gridcolor": "white",
            "gridwidth": 2,
            "linecolor": "white",
            "showbackground": true,
            "ticks": "",
            "zerolinecolor": "white"
           },
           "yaxis": {
            "backgroundcolor": "#E5ECF6",
            "gridcolor": "white",
            "gridwidth": 2,
            "linecolor": "white",
            "showbackground": true,
            "ticks": "",
            "zerolinecolor": "white"
           },
           "zaxis": {
            "backgroundcolor": "#E5ECF6",
            "gridcolor": "white",
            "gridwidth": 2,
            "linecolor": "white",
            "showbackground": true,
            "ticks": "",
            "zerolinecolor": "white"
           }
          },
          "shapedefaults": {
           "line": {
            "color": "#2a3f5f"
           }
          },
          "ternary": {
           "aaxis": {
            "gridcolor": "white",
            "linecolor": "white",
            "ticks": ""
           },
           "baxis": {
            "gridcolor": "white",
            "linecolor": "white",
            "ticks": ""
           },
           "bgcolor": "#E5ECF6",
           "caxis": {
            "gridcolor": "white",
            "linecolor": "white",
            "ticks": ""
           }
          },
          "title": {
           "x": 0.05
          },
          "xaxis": {
           "automargin": true,
           "gridcolor": "white",
           "linecolor": "white",
           "ticks": "",
           "title": {
            "standoff": 15
           },
           "zerolinecolor": "white",
           "zerolinewidth": 2
          },
          "yaxis": {
           "automargin": true,
           "gridcolor": "white",
           "linecolor": "white",
           "ticks": "",
           "title": {
            "standoff": 15
           },
           "zerolinecolor": "white",
           "zerolinewidth": 2
          }
         }
        },
        "title": {
         "text": "Sector Proportions on 2024-08-09"
        }
       }
      }
     },
     "metadata": {},
     "output_type": "display_data"
    }
   ],
   "source": [
    "def plot_sector_proportions(portfolio_data, sectors, date=None):\n",
    "    if date is None:\n",
    "        date = max(portfolio_data.keys())\n",
    "\n",
    "    if date not in portfolio_data:\n",
    "        print(f\"No data available for date: {date}\")\n",
    "        return None\n",
    "\n",
    "    holdings = portfolio_data[date]['holdings']\n",
    "    sector_counts = {}\n",
    "    for symbol, data in holdings.items():\n",
    "        sector = sectors.get(symbol, 'ETF')\n",
    "        if sector not in sector_counts:\n",
    "            sector_counts[sector] = 0\n",
    "        sector_counts[sector] += float(data['quantity']) * \\\n",
    "            float(data['market_price'])\n",
    "\n",
    "    labels = list(sector_counts.keys())\n",
    "    sizes = list(sector_counts.values())\n",
    "\n",
    "    fig = go.Figure(\n",
    "        data=[go.Pie(labels=labels, values=sizes, textinfo='label+percent')])\n",
    "\n",
    "    fig.update_layout(\n",
    "        title=f'Sector Proportions on {date}',\n",
    "        showlegend=True,\n",
    "        legend=dict(title=\"Sectors\")\n",
    "    )\n",
    "\n",
    "    return fig\n",
    "\n",
    "\n",
    "# Call the function with the loaded data\n",
    "plot_sector_proportions(portfolio_data, sectors)"
   ]
  },
  {
   "cell_type": "code",
   "execution_count": 6,
   "metadata": {},
   "outputs": [],
   "source": [
    "def plot_portfolio_growth(portfolio_data, plot_sp500=True):\n",
    "    dates = sorted(portfolio_data.keys())\n",
    "    unrealized_gains = [float(\n",
    "        portfolio_data[d]['summary']['unrealized_gain_loss_percentage']) for d in dates]\n",
    "    df_plot = pd.DataFrame({'Date': pd.to_datetime(\n",
    "        dates), 'Unrealized Gain/Loss (%)': unrealized_gains})\n",
    "\n",
    "    fig = go.Figure()\n",
    "\n",
    "    fig.add_trace(go.Scatter(\n",
    "        x=df_plot['Date'],\n",
    "        y=df_plot['Unrealized Gain/Loss (%)'],\n",
    "        fill='tozeroy',\n",
    "        fillcolor='rgba(255,0,0,0.2)',\n",
    "        line=dict(color='red', width=2),\n",
    "        name='Portfolio'\n",
    "    ))\n",
    "\n",
    "    if plot_sp500:\n",
    "        sp500_data = fetch_sp500_data(\n",
    "            df_plot['Date'].min(), df_plot['Date'].max())\n",
    "        sp500_performance = (\n",
    "            (sp500_data['Close'] - sp500_data['Close'].iloc[0]) / sp500_data['Close'].iloc[0]) * 100\n",
    "\n",
    "        fig.add_trace(go.Scatter(\n",
    "            x=sp500_data.index,\n",
    "            y=sp500_performance,\n",
    "            line=dict(color='blue', width=2),\n",
    "            name='S&P 500'\n",
    "        ))\n",
    "\n",
    "    fig.update_layout(\n",
    "        title='Portfolio Performance vs S&P 500',\n",
    "        xaxis_title='Date',\n",
    "        yaxis_title='Performance (%)',\n",
    "        yaxis_tickformat='.2f',\n",
    "        hovermode='x unified',\n",
    "        showlegend=True,\n",
    "        yaxis=dict(\n",
    "            ticksuffix='%',\n",
    "            range=[min(df_plot['Unrealized Gain/Loss (%)'].min(), sp500_performance.min()) - 5,\n",
    "                   max(df_plot['Unrealized Gain/Loss (%)'].max(), sp500_performance.max()) + 5]\n",
    "        ),\n",
    "        xaxis=dict(\n",
    "            rangeslider=dict(visible=False),\n",
    "            rangeselector=dict(\n",
    "                buttons=list([\n",
    "                    dict(count=5, label=\"5D\", step=\"day\", stepmode=\"backward\"),\n",
    "                    dict(count=1, label=\"1M\", step=\"month\", stepmode=\"backward\"),\n",
    "                    dict(count=6, label=\"6M\", step=\"month\", stepmode=\"backward\"),\n",
    "                    dict(count=1, label=\"YTD\", step=\"year\", stepmode=\"todate\"),\n",
    "                    dict(count=1, label=\"1Y\", step=\"year\", stepmode=\"backward\"),\n",
    "                    dict(step=\"all\")\n",
    "                ])\n",
    "            )\n",
    "        )\n",
    "    )\n",
    "\n",
    "    return fig\n",
    "\n",
    "def fetch_sp500_data(start_date, end_date):\n",
    "    # Convert end_date to datetime and add one day\n",
    "    end_date = pd.to_datetime(end_date) + timedelta(days=1)\n",
    "\n",
    "    # Download S&P 500 data\n",
    "    sp500 = yf.Ticker(\"^GSPC\")\n",
    "    sp500_data = sp500.history(start=start_date, end=end_date)\n",
    "\n",
    "    # Return only the 'Close' prices\n",
    "    return sp500_data[['Close']]"
   ]
  },
  {
   "cell_type": "code",
   "execution_count": 7,
   "metadata": {},
   "outputs": [
    {
     "data": {
      "application/vnd.plotly.v1+json": {
       "config": {
        "plotlyServerURL": "https://plot.ly"
       },
       "data": [
        {
         "fill": "tozeroy",
         "fillcolor": "rgba(255,0,0,0.2)",
         "line": {
          "color": "red",
          "width": 2
         },
         "name": "Portfolio",
         "type": "scatter",
         "x": [
          "2023-08-01T00:00:00",
          "2023-08-02T00:00:00",
          "2023-08-03T00:00:00",
          "2023-08-04T00:00:00",
          "2023-08-07T00:00:00",
          "2023-08-08T00:00:00",
          "2023-08-09T00:00:00",
          "2023-08-10T00:00:00",
          "2023-08-11T00:00:00",
          "2023-08-14T00:00:00",
          "2023-08-15T00:00:00",
          "2023-08-16T00:00:00",
          "2023-08-17T00:00:00",
          "2023-08-18T00:00:00",
          "2023-08-21T00:00:00",
          "2023-08-22T00:00:00",
          "2023-08-23T00:00:00",
          "2023-08-24T00:00:00",
          "2023-08-25T00:00:00",
          "2023-08-28T00:00:00",
          "2023-08-29T00:00:00",
          "2023-08-30T00:00:00",
          "2023-08-31T00:00:00",
          "2023-09-01T00:00:00",
          "2023-09-05T00:00:00",
          "2023-09-06T00:00:00",
          "2023-09-07T00:00:00",
          "2023-09-08T00:00:00",
          "2023-09-11T00:00:00",
          "2023-09-12T00:00:00",
          "2023-09-13T00:00:00",
          "2023-09-14T00:00:00",
          "2023-09-15T00:00:00",
          "2023-09-18T00:00:00",
          "2023-09-19T00:00:00",
          "2023-09-20T00:00:00",
          "2023-09-21T00:00:00",
          "2023-09-22T00:00:00",
          "2023-09-25T00:00:00",
          "2023-09-26T00:00:00",
          "2023-09-27T00:00:00",
          "2023-09-28T00:00:00",
          "2023-09-29T00:00:00",
          "2023-10-02T00:00:00",
          "2023-10-03T00:00:00",
          "2023-10-04T00:00:00",
          "2023-10-05T00:00:00",
          "2023-10-06T00:00:00",
          "2023-10-09T00:00:00",
          "2023-10-10T00:00:00",
          "2023-10-11T00:00:00",
          "2023-10-12T00:00:00",
          "2023-10-13T00:00:00",
          "2023-10-16T00:00:00",
          "2023-10-17T00:00:00",
          "2023-10-18T00:00:00",
          "2023-10-19T00:00:00",
          "2023-10-20T00:00:00",
          "2023-10-23T00:00:00",
          "2023-10-24T00:00:00",
          "2023-10-25T00:00:00",
          "2023-10-26T00:00:00",
          "2023-10-27T00:00:00",
          "2023-10-30T00:00:00",
          "2023-10-31T00:00:00",
          "2023-11-01T00:00:00",
          "2023-11-02T00:00:00",
          "2023-11-03T00:00:00",
          "2023-11-06T00:00:00",
          "2023-11-07T00:00:00",
          "2023-11-08T00:00:00",
          "2023-11-09T00:00:00",
          "2023-11-10T00:00:00",
          "2023-11-13T00:00:00",
          "2023-11-14T00:00:00",
          "2023-11-15T00:00:00",
          "2023-11-16T00:00:00",
          "2023-11-17T00:00:00",
          "2023-11-20T00:00:00",
          "2023-11-21T00:00:00",
          "2023-11-22T00:00:00",
          "2023-11-24T00:00:00",
          "2023-11-27T00:00:00",
          "2023-11-28T00:00:00",
          "2023-11-29T00:00:00",
          "2023-11-30T00:00:00",
          "2023-12-01T00:00:00",
          "2023-12-04T00:00:00",
          "2023-12-05T00:00:00",
          "2023-12-06T00:00:00",
          "2023-12-07T00:00:00",
          "2023-12-08T00:00:00",
          "2023-12-11T00:00:00",
          "2023-12-12T00:00:00",
          "2023-12-13T00:00:00",
          "2023-12-14T00:00:00",
          "2023-12-15T00:00:00",
          "2023-12-18T00:00:00",
          "2023-12-19T00:00:00",
          "2023-12-20T00:00:00",
          "2023-12-21T00:00:00",
          "2023-12-22T00:00:00",
          "2023-12-26T00:00:00",
          "2023-12-27T00:00:00",
          "2023-12-28T00:00:00",
          "2023-12-29T00:00:00",
          "2024-01-02T00:00:00",
          "2024-01-03T00:00:00",
          "2024-01-04T00:00:00",
          "2024-01-05T00:00:00",
          "2024-01-08T00:00:00",
          "2024-01-09T00:00:00",
          "2024-01-10T00:00:00",
          "2024-01-11T00:00:00",
          "2024-01-12T00:00:00",
          "2024-01-16T00:00:00",
          "2024-01-17T00:00:00",
          "2024-01-18T00:00:00",
          "2024-01-19T00:00:00",
          "2024-01-22T00:00:00",
          "2024-01-23T00:00:00",
          "2024-01-24T00:00:00",
          "2024-01-25T00:00:00",
          "2024-01-26T00:00:00",
          "2024-01-29T00:00:00",
          "2024-01-30T00:00:00",
          "2024-01-31T00:00:00",
          "2024-02-01T00:00:00",
          "2024-02-02T00:00:00",
          "2024-02-05T00:00:00",
          "2024-02-06T00:00:00",
          "2024-02-07T00:00:00",
          "2024-02-08T00:00:00",
          "2024-02-09T00:00:00",
          "2024-02-12T00:00:00",
          "2024-02-13T00:00:00",
          "2024-02-14T00:00:00",
          "2024-02-15T00:00:00",
          "2024-02-16T00:00:00",
          "2024-02-20T00:00:00",
          "2024-02-21T00:00:00",
          "2024-02-22T00:00:00",
          "2024-02-23T00:00:00",
          "2024-02-26T00:00:00",
          "2024-02-27T00:00:00",
          "2024-02-28T00:00:00",
          "2024-02-29T00:00:00",
          "2024-03-01T00:00:00",
          "2024-03-04T00:00:00",
          "2024-03-05T00:00:00",
          "2024-03-06T00:00:00",
          "2024-03-07T00:00:00",
          "2024-03-08T00:00:00",
          "2024-03-11T00:00:00",
          "2024-03-12T00:00:00",
          "2024-03-13T00:00:00",
          "2024-03-14T00:00:00",
          "2024-03-15T00:00:00",
          "2024-03-18T00:00:00",
          "2024-03-19T00:00:00",
          "2024-03-20T00:00:00",
          "2024-03-21T00:00:00",
          "2024-03-22T00:00:00",
          "2024-03-25T00:00:00",
          "2024-03-26T00:00:00",
          "2024-03-27T00:00:00",
          "2024-03-28T00:00:00",
          "2024-04-01T00:00:00",
          "2024-04-02T00:00:00",
          "2024-04-03T00:00:00",
          "2024-04-04T00:00:00",
          "2024-04-05T00:00:00",
          "2024-04-08T00:00:00",
          "2024-04-09T00:00:00",
          "2024-04-10T00:00:00",
          "2024-04-11T00:00:00",
          "2024-04-12T00:00:00",
          "2024-04-15T00:00:00",
          "2024-04-16T00:00:00",
          "2024-04-17T00:00:00",
          "2024-04-18T00:00:00",
          "2024-04-19T00:00:00",
          "2024-04-22T00:00:00",
          "2024-04-23T00:00:00",
          "2024-04-24T00:00:00",
          "2024-04-25T00:00:00",
          "2024-04-26T00:00:00",
          "2024-04-29T00:00:00",
          "2024-04-30T00:00:00",
          "2024-05-01T00:00:00",
          "2024-05-02T00:00:00",
          "2024-05-03T00:00:00",
          "2024-05-06T00:00:00",
          "2024-05-07T00:00:00",
          "2024-05-08T00:00:00",
          "2024-05-09T00:00:00",
          "2024-05-10T00:00:00",
          "2024-05-13T00:00:00",
          "2024-05-14T00:00:00",
          "2024-05-15T00:00:00",
          "2024-05-16T00:00:00",
          "2024-05-17T00:00:00",
          "2024-05-20T00:00:00",
          "2024-05-21T00:00:00",
          "2024-05-22T00:00:00",
          "2024-05-23T00:00:00",
          "2024-05-24T00:00:00",
          "2024-05-28T00:00:00",
          "2024-05-29T00:00:00",
          "2024-05-30T00:00:00",
          "2024-05-31T00:00:00",
          "2024-06-03T00:00:00",
          "2024-06-04T00:00:00",
          "2024-06-05T00:00:00",
          "2024-06-06T00:00:00",
          "2024-06-07T00:00:00",
          "2024-06-10T00:00:00",
          "2024-06-11T00:00:00",
          "2024-06-12T00:00:00",
          "2024-06-13T00:00:00",
          "2024-06-14T00:00:00",
          "2024-06-17T00:00:00",
          "2024-06-18T00:00:00",
          "2024-06-20T00:00:00",
          "2024-06-21T00:00:00",
          "2024-06-24T00:00:00",
          "2024-06-25T00:00:00",
          "2024-06-26T00:00:00",
          "2024-06-27T00:00:00",
          "2024-06-28T00:00:00",
          "2024-07-01T00:00:00",
          "2024-07-02T00:00:00",
          "2024-07-03T00:00:00",
          "2024-07-05T00:00:00",
          "2024-07-08T00:00:00",
          "2024-07-09T00:00:00",
          "2024-07-10T00:00:00",
          "2024-07-11T00:00:00",
          "2024-07-12T00:00:00",
          "2024-07-15T00:00:00",
          "2024-07-16T00:00:00",
          "2024-07-17T00:00:00",
          "2024-07-18T00:00:00",
          "2024-07-19T00:00:00",
          "2024-07-22T00:00:00",
          "2024-07-23T00:00:00",
          "2024-07-24T00:00:00",
          "2024-07-25T00:00:00",
          "2024-07-26T00:00:00",
          "2024-07-29T00:00:00",
          "2024-07-30T00:00:00",
          "2024-07-31T00:00:00",
          "2024-08-01T00:00:00",
          "2024-08-02T00:00:00",
          "2024-08-05T00:00:00",
          "2024-08-06T00:00:00",
          "2024-08-07T00:00:00",
          "2024-08-08T00:00:00",
          "2024-08-09T00:00:00"
         ],
         "y": [
          0,
          -1.533260559,
          -1.156250576,
          -1.637128192,
          -0.4909951393,
          -0.5692688286,
          -1.71277121,
          -0.8065831193,
          -1.361364222,
          -1.333279756,
          -2.983795426,
          -4.075282738,
          -5.082377947,
          -5.283029118,
          -2.387164017,
          -2.049153048,
          -0.7482612883,
          -2.958405808,
          -1.30087962,
          -0.706608803,
          2.392768818,
          2.668312963,
          2.390266106,
          0.6751166364,
          1.95929165,
          0.8767201522,
          0.1554106545,
          0.04095450687,
          3.798669057,
          3.143238202,
          3.602484044,
          4.879875256,
          4.144484251,
          3.092359918,
          1.95907195,
          0.980235769,
          -0.8657014155,
          -2.397093749,
          -1.943994385,
          -3.360493945,
          -3.141788059,
          -1.577763453,
          -0.7582947711,
          -0.2856206635,
          -2.527828331,
          -0.3205931327,
          0.1043504073,
          1.896803988,
          2.887031299,
          3.463856839,
          3.758830992,
          3.231193106,
          1.672586979,
          2.727125719,
          2.951722199,
          0.4521899184,
          -2.016900655,
          -3.846768082,
          -3.612681947,
          -2.701260694,
          -4.823254364,
          -6.414317699,
          -6.407681874,
          -6.102949168,
          -4.967190612,
          -3.290179081,
          0.7087991575,
          1.533997425,
          1.403467875,
          2.351469662,
          2.364562775,
          0.4607978669,
          2.311487633,
          4.384189603,
          8.272843573,
          10.12047548,
          8.159337889,
          8.301198043,
          9.041443284,
          10.09035447,
          8.707088549,
          8.98685575,
          8.891765898,
          11.11164701,
          10.44013313,
          9.315159397,
          9.195127556,
          7.775661092,
          8.458333669,
          8.49093828,
          9.958616834,
          10.57072844,
          9.539544448,
          8.843077936,
          9.86342176,
          13.04186772,
          13.50138305,
          13.23211012,
          14.87500211,
          11.40855949,
          13.78805626,
          13.23148281,
          14.40911862,
          14.66717825,
          12.94019242,
          10.99909273,
          10.10889149,
          7.261616258,
          6.667802215,
          6.512354795,
          8.275554399,
          6.633623998,
          6.508326215,
          4.766947938,
          2.969079249,
          3.370106417,
          1.833533845,
          1.550518695,
          2.358083451,
          2.263677094,
          2.178061384,
          1.620093415,
          -4.422616982,
          -4.301222157,
          -1.398242961,
          -1.677578924,
          -4.05465084,
          -3.116006434,
          -2.73403701,
          -4.601887826,
          -0.3217618618,
          1.636882214,
          3.049569195,
          4.020738998,
          1.696036011,
          -0.2390485084,
          1.768678218,
          5.102755703,
          4.236487031,
          1.800938408,
          0.8770329107,
          3.443955911,
          2.032854515,
          4.047855488,
          3.676070303,
          3.975447365,
          4.552077595,
          5.436430224,
          1.858058239,
          -0.631804472,
          -1.250387655,
          -0.6819764862,
          -3.845143519,
          -3.977627324,
          -1.940586014,
          -4.296392945,
          -6.730871658,
          -6.896972242,
          -3.741523297,
          -4.049683555,
          -2.272486491,
          null,
          -2.043249874,
          -0.6649447704,
          -0.2327602409,
          -0.9647116727,
          -2.493879788,
          -2.340317804,
          -4.832485015,
          -4.408475779,
          -5.116711573,
          -5.446200806,
          -3.846027227,
          -3.406842143,
          -4.193594732,
          -1.859833421,
          -3.954815093,
          -7.382932203,
          -7.980680811,
          -9.639679553,
          -10.85777802,
          -14.47675131,
          -14.08204614,
          -11.93370085,
          -8.856360815,
          -6.263456644,
          -4.517778699,
          1.496290958,
          -1.922971005,
          -3.871062235,
          -2.496896493,
          -0.3556031302,
          2.164426464,
          -0.3180615364,
          -0.964522255,
          -2.176218643,
          -2.350908338,
          -1.418527132,
          0.6117460296,
          1.517612201,
          1.393433297,
          1.269861803,
          1.695681477,
          4.618404333,
          3.00376561,
          4.724032656,
          7.424889877,
          9.558482356,
          9.445977102,
          8.06155802,
          7.496892882,
          9.399902959,
          9.659227544,
          12.90866791,
          13.05085023,
          12.93681122,
          12.7016056,
          11.99482512,
          15.30987495,
          18.09319953,
          18.08150891,
          20.27643957,
          21.21064311,
          18.51994642,
          16.78738012,
          12.26801599,
          16.70542197,
          18.81306991,
          18.30360073,
          18.07374113,
          20.97058367,
          25.15879559,
          30.72860455,
          31.4602143,
          32.85618222,
          35.79457394,
          38.06510937,
          29.33450506,
          31.58813725,
          32.04034752,
          32.03321792,
          25.13123041,
          25.471188,
          21.31328386,
          25.75776464,
          24.51936783,
          14.016416,
          13.68658912,
          14.1511236,
          15.78647631,
          10.6412364,
          18.12906789,
          11.48614147,
          7.872339026,
          3.052778357,
          5.166596829,
          1.640987481,
          6.443011606,
          6.834045135
         ]
        },
        {
         "line": {
          "color": "blue",
          "width": 2
         },
         "name": "S&P 500",
         "type": "scatter",
         "x": [
          "2023-08-01T00:00:00-04:00",
          "2023-08-02T00:00:00-04:00",
          "2023-08-03T00:00:00-04:00",
          "2023-08-04T00:00:00-04:00",
          "2023-08-07T00:00:00-04:00",
          "2023-08-08T00:00:00-04:00",
          "2023-08-09T00:00:00-04:00",
          "2023-08-10T00:00:00-04:00",
          "2023-08-11T00:00:00-04:00",
          "2023-08-14T00:00:00-04:00",
          "2023-08-15T00:00:00-04:00",
          "2023-08-16T00:00:00-04:00",
          "2023-08-17T00:00:00-04:00",
          "2023-08-18T00:00:00-04:00",
          "2023-08-21T00:00:00-04:00",
          "2023-08-22T00:00:00-04:00",
          "2023-08-23T00:00:00-04:00",
          "2023-08-24T00:00:00-04:00",
          "2023-08-25T00:00:00-04:00",
          "2023-08-28T00:00:00-04:00",
          "2023-08-29T00:00:00-04:00",
          "2023-08-30T00:00:00-04:00",
          "2023-08-31T00:00:00-04:00",
          "2023-09-01T00:00:00-04:00",
          "2023-09-05T00:00:00-04:00",
          "2023-09-06T00:00:00-04:00",
          "2023-09-07T00:00:00-04:00",
          "2023-09-08T00:00:00-04:00",
          "2023-09-11T00:00:00-04:00",
          "2023-09-12T00:00:00-04:00",
          "2023-09-13T00:00:00-04:00",
          "2023-09-14T00:00:00-04:00",
          "2023-09-15T00:00:00-04:00",
          "2023-09-18T00:00:00-04:00",
          "2023-09-19T00:00:00-04:00",
          "2023-09-20T00:00:00-04:00",
          "2023-09-21T00:00:00-04:00",
          "2023-09-22T00:00:00-04:00",
          "2023-09-25T00:00:00-04:00",
          "2023-09-26T00:00:00-04:00",
          "2023-09-27T00:00:00-04:00",
          "2023-09-28T00:00:00-04:00",
          "2023-09-29T00:00:00-04:00",
          "2023-10-02T00:00:00-04:00",
          "2023-10-03T00:00:00-04:00",
          "2023-10-04T00:00:00-04:00",
          "2023-10-05T00:00:00-04:00",
          "2023-10-06T00:00:00-04:00",
          "2023-10-09T00:00:00-04:00",
          "2023-10-10T00:00:00-04:00",
          "2023-10-11T00:00:00-04:00",
          "2023-10-12T00:00:00-04:00",
          "2023-10-13T00:00:00-04:00",
          "2023-10-16T00:00:00-04:00",
          "2023-10-17T00:00:00-04:00",
          "2023-10-18T00:00:00-04:00",
          "2023-10-19T00:00:00-04:00",
          "2023-10-20T00:00:00-04:00",
          "2023-10-23T00:00:00-04:00",
          "2023-10-24T00:00:00-04:00",
          "2023-10-25T00:00:00-04:00",
          "2023-10-26T00:00:00-04:00",
          "2023-10-27T00:00:00-04:00",
          "2023-10-30T00:00:00-04:00",
          "2023-10-31T00:00:00-04:00",
          "2023-11-01T00:00:00-04:00",
          "2023-11-02T00:00:00-04:00",
          "2023-11-03T00:00:00-04:00",
          "2023-11-06T00:00:00-05:00",
          "2023-11-07T00:00:00-05:00",
          "2023-11-08T00:00:00-05:00",
          "2023-11-09T00:00:00-05:00",
          "2023-11-10T00:00:00-05:00",
          "2023-11-13T00:00:00-05:00",
          "2023-11-14T00:00:00-05:00",
          "2023-11-15T00:00:00-05:00",
          "2023-11-16T00:00:00-05:00",
          "2023-11-17T00:00:00-05:00",
          "2023-11-20T00:00:00-05:00",
          "2023-11-21T00:00:00-05:00",
          "2023-11-22T00:00:00-05:00",
          "2023-11-24T00:00:00-05:00",
          "2023-11-27T00:00:00-05:00",
          "2023-11-28T00:00:00-05:00",
          "2023-11-29T00:00:00-05:00",
          "2023-11-30T00:00:00-05:00",
          "2023-12-01T00:00:00-05:00",
          "2023-12-04T00:00:00-05:00",
          "2023-12-05T00:00:00-05:00",
          "2023-12-06T00:00:00-05:00",
          "2023-12-07T00:00:00-05:00",
          "2023-12-08T00:00:00-05:00",
          "2023-12-11T00:00:00-05:00",
          "2023-12-12T00:00:00-05:00",
          "2023-12-13T00:00:00-05:00",
          "2023-12-14T00:00:00-05:00",
          "2023-12-15T00:00:00-05:00",
          "2023-12-18T00:00:00-05:00",
          "2023-12-19T00:00:00-05:00",
          "2023-12-20T00:00:00-05:00",
          "2023-12-21T00:00:00-05:00",
          "2023-12-22T00:00:00-05:00",
          "2023-12-26T00:00:00-05:00",
          "2023-12-27T00:00:00-05:00",
          "2023-12-28T00:00:00-05:00",
          "2023-12-29T00:00:00-05:00",
          "2024-01-02T00:00:00-05:00",
          "2024-01-03T00:00:00-05:00",
          "2024-01-04T00:00:00-05:00",
          "2024-01-05T00:00:00-05:00",
          "2024-01-08T00:00:00-05:00",
          "2024-01-09T00:00:00-05:00",
          "2024-01-10T00:00:00-05:00",
          "2024-01-11T00:00:00-05:00",
          "2024-01-12T00:00:00-05:00",
          "2024-01-16T00:00:00-05:00",
          "2024-01-17T00:00:00-05:00",
          "2024-01-18T00:00:00-05:00",
          "2024-01-19T00:00:00-05:00",
          "2024-01-22T00:00:00-05:00",
          "2024-01-23T00:00:00-05:00",
          "2024-01-24T00:00:00-05:00",
          "2024-01-25T00:00:00-05:00",
          "2024-01-26T00:00:00-05:00",
          "2024-01-29T00:00:00-05:00",
          "2024-01-30T00:00:00-05:00",
          "2024-01-31T00:00:00-05:00",
          "2024-02-01T00:00:00-05:00",
          "2024-02-02T00:00:00-05:00",
          "2024-02-05T00:00:00-05:00",
          "2024-02-06T00:00:00-05:00",
          "2024-02-07T00:00:00-05:00",
          "2024-02-08T00:00:00-05:00",
          "2024-02-09T00:00:00-05:00",
          "2024-02-12T00:00:00-05:00",
          "2024-02-13T00:00:00-05:00",
          "2024-02-14T00:00:00-05:00",
          "2024-02-15T00:00:00-05:00",
          "2024-02-16T00:00:00-05:00",
          "2024-02-20T00:00:00-05:00",
          "2024-02-21T00:00:00-05:00",
          "2024-02-22T00:00:00-05:00",
          "2024-02-23T00:00:00-05:00",
          "2024-02-26T00:00:00-05:00",
          "2024-02-27T00:00:00-05:00",
          "2024-02-28T00:00:00-05:00",
          "2024-02-29T00:00:00-05:00",
          "2024-03-01T00:00:00-05:00",
          "2024-03-04T00:00:00-05:00",
          "2024-03-05T00:00:00-05:00",
          "2024-03-06T00:00:00-05:00",
          "2024-03-07T00:00:00-05:00",
          "2024-03-08T00:00:00-05:00",
          "2024-03-11T00:00:00-04:00",
          "2024-03-12T00:00:00-04:00",
          "2024-03-13T00:00:00-04:00",
          "2024-03-14T00:00:00-04:00",
          "2024-03-15T00:00:00-04:00",
          "2024-03-18T00:00:00-04:00",
          "2024-03-19T00:00:00-04:00",
          "2024-03-20T00:00:00-04:00",
          "2024-03-21T00:00:00-04:00",
          "2024-03-22T00:00:00-04:00",
          "2024-03-25T00:00:00-04:00",
          "2024-03-26T00:00:00-04:00",
          "2024-03-27T00:00:00-04:00",
          "2024-03-28T00:00:00-04:00",
          "2024-04-01T00:00:00-04:00",
          "2024-04-02T00:00:00-04:00",
          "2024-04-03T00:00:00-04:00",
          "2024-04-04T00:00:00-04:00",
          "2024-04-05T00:00:00-04:00",
          "2024-04-08T00:00:00-04:00",
          "2024-04-09T00:00:00-04:00",
          "2024-04-10T00:00:00-04:00",
          "2024-04-11T00:00:00-04:00",
          "2024-04-12T00:00:00-04:00",
          "2024-04-15T00:00:00-04:00",
          "2024-04-16T00:00:00-04:00",
          "2024-04-17T00:00:00-04:00",
          "2024-04-18T00:00:00-04:00",
          "2024-04-19T00:00:00-04:00",
          "2024-04-22T00:00:00-04:00",
          "2024-04-23T00:00:00-04:00",
          "2024-04-24T00:00:00-04:00",
          "2024-04-25T00:00:00-04:00",
          "2024-04-26T00:00:00-04:00",
          "2024-04-29T00:00:00-04:00",
          "2024-04-30T00:00:00-04:00",
          "2024-05-01T00:00:00-04:00",
          "2024-05-02T00:00:00-04:00",
          "2024-05-03T00:00:00-04:00",
          "2024-05-06T00:00:00-04:00",
          "2024-05-07T00:00:00-04:00",
          "2024-05-08T00:00:00-04:00",
          "2024-05-09T00:00:00-04:00",
          "2024-05-10T00:00:00-04:00",
          "2024-05-13T00:00:00-04:00",
          "2024-05-14T00:00:00-04:00",
          "2024-05-15T00:00:00-04:00",
          "2024-05-16T00:00:00-04:00",
          "2024-05-17T00:00:00-04:00",
          "2024-05-20T00:00:00-04:00",
          "2024-05-21T00:00:00-04:00",
          "2024-05-22T00:00:00-04:00",
          "2024-05-23T00:00:00-04:00",
          "2024-05-24T00:00:00-04:00",
          "2024-05-28T00:00:00-04:00",
          "2024-05-29T00:00:00-04:00",
          "2024-05-30T00:00:00-04:00",
          "2024-05-31T00:00:00-04:00",
          "2024-06-03T00:00:00-04:00",
          "2024-06-04T00:00:00-04:00",
          "2024-06-05T00:00:00-04:00",
          "2024-06-06T00:00:00-04:00",
          "2024-06-07T00:00:00-04:00",
          "2024-06-10T00:00:00-04:00",
          "2024-06-11T00:00:00-04:00",
          "2024-06-12T00:00:00-04:00",
          "2024-06-13T00:00:00-04:00",
          "2024-06-14T00:00:00-04:00",
          "2024-06-17T00:00:00-04:00",
          "2024-06-18T00:00:00-04:00",
          "2024-06-20T00:00:00-04:00",
          "2024-06-21T00:00:00-04:00",
          "2024-06-24T00:00:00-04:00",
          "2024-06-25T00:00:00-04:00",
          "2024-06-26T00:00:00-04:00",
          "2024-06-27T00:00:00-04:00",
          "2024-06-28T00:00:00-04:00",
          "2024-07-01T00:00:00-04:00",
          "2024-07-02T00:00:00-04:00",
          "2024-07-03T00:00:00-04:00",
          "2024-07-05T00:00:00-04:00",
          "2024-07-08T00:00:00-04:00",
          "2024-07-09T00:00:00-04:00",
          "2024-07-10T00:00:00-04:00",
          "2024-07-11T00:00:00-04:00",
          "2024-07-12T00:00:00-04:00",
          "2024-07-15T00:00:00-04:00",
          "2024-07-16T00:00:00-04:00",
          "2024-07-17T00:00:00-04:00",
          "2024-07-18T00:00:00-04:00",
          "2024-07-19T00:00:00-04:00",
          "2024-07-22T00:00:00-04:00",
          "2024-07-23T00:00:00-04:00",
          "2024-07-24T00:00:00-04:00",
          "2024-07-25T00:00:00-04:00",
          "2024-07-26T00:00:00-04:00",
          "2024-07-29T00:00:00-04:00",
          "2024-07-30T00:00:00-04:00",
          "2024-07-31T00:00:00-04:00",
          "2024-08-01T00:00:00-04:00",
          "2024-08-02T00:00:00-04:00",
          "2024-08-05T00:00:00-04:00",
          "2024-08-06T00:00:00-04:00",
          "2024-08-07T00:00:00-04:00",
          "2024-08-08T00:00:00-04:00",
          "2024-08-09T00:00:00-04:00"
         ],
         "y": [
          0,
          -1.3839541336347903,
          -1.6352252387486246,
          -2.1565658392281013,
          -1.2736176115098212,
          -1.6900734364129513,
          -2.3820505032303463,
          -2.357576322051205,
          -2.4620236776500692,
          -1.901133909938214,
          -3.034265027216591,
          -3.7668794768201015,
          -4.509117165928227,
          -4.523317312026499,
          -3.866515212666658,
          -4.133522768189923,
          -3.0746890344039346,
          -4.379107413596485,
          -3.736729504713627,
          -3.1336767186844368,
          -1.7283103437128826,
          -1.3516170616409033,
          -1.509152266214225,
          -1.3319545002140691,
          -1.7457858052523045,
          -2.4307748212099187,
          -2.7440955504466324,
          -2.60534806734518,
          -1.950519692273979,
          -2.508998315719711,
          -2.387950338536391,
          -1.5650886794322885,
          -2.7620191007434753,
          -2.6918825414271392,
          -2.9011933350424717,
          -3.8134166949122617,
          -5.390966509312832,
          -5.608150862522848,
          -5.22840630938843,
          -6.6248215779915025,
          -6.603409336654738,
          -6.053006979622523,
          -6.307564068957445,
          -6.300127929340244,
          -7.587945686948337,
          -6.83850657138166,
          -6.959991968542462,
          -5.8607342275691305,
          -5.267294012264616,
          -4.773926952784141,
          -4.365120643096985,
          -4.962497638198841,
          -5.439477451693631,
          -4.437668346679444,
          -4.447056873025409,
          -5.727449159796239,
          -6.527148897653648,
          -7.703531248803095,
          -7.859103397867716,
          -7.189626787940822,
          -8.520493072601154,
          -9.602926147611319,
          -10.036857434053871,
          -8.956398083332347,
          -8.366894647825175,
          -7.404197290065882,
          -5.657974064836096,
          -4.771750521676667,
          -4.604816121977441,
          -4.333882455436773,
          -4.237746079410076,
          -5.011872751754668,
          -3.5284962578720926,
          -3.609130896648008,
          -1.7704733620302175,
          -1.6135996218130888,
          -1.496477755647172,
          -1.3701914075140005,
          -0.6412896933291213,
          -0.8420868005534536,
          -0.43939370177111353,
          -0.3799685975131287,
          -0.5746418250527064,
          -0.4771931890935623,
          -0.5713665096115572,
          -0.19512131629699878,
          0.3911068037690239,
          -0.15185941364598834,
          -0.20865999803907825,
          -0.5984652106555933,
          0.19358501198584083,
          0.603927625984155,
          0.9987471651718106,
          1.4632765124782585,
          2.8483188616667854,
          3.1205647881399017,
          3.1127018973251555,
          3.5796317201177876,
          4.187272081520574,
          2.6573583695458396,
          3.7148798433993804,
          3.887052614048457,
          4.326670360198282,
          4.475905253979375,
          4.514579581256788,
          4.219171733536979,
          3.6292308780523244,
          2.7985063281334766,
          2.4460738516418665,
          2.633108232745409,
          4.081736510367974,
          3.9279140412132834,
          4.516766681144201,
          4.446630121827865,
          4.52506699193643,
          4.135048403721142,
          3.550132543587567,
          4.461918483479875,
          5.748210605556749,
          5.980256569221231,
          6.289864563039313,
          6.376164323962624,
          6.935741831742032,
          6.866042692403178,
          7.673605321075332,
          7.608931177087558,
          5.875809213622367,
          7.198588563089244,
          8.343946102177252,
          7.998725720924134,
          8.248247146128039,
          9.140370524593513,
          9.202644193095102,
          9.829723071546011,
          9.725499760325858,
          8.225085224881344,
          9.261855921754314,
          9.897896575353645,
          9.370005343991872,
          8.71320324463203,
          8.850638467801035,
          11.149877901147992,
          11.188552228425406,
          10.76750882814868,
          10.956516933540863,
          10.77253382349976,
          11.351773892706001,
          12.243459851193991,
          12.109523987844845,
          10.966780299841792,
          11.537271969498384,
          12.686566288383736,
          11.950889898937849,
          11.82525434638093,
          13.077897136531472,
          12.86027536334397,
          12.536243179048906,
          11.806680000507834,
          12.513081257802211,
          13.148684491424062,
          14.156180056145521,
          14.52565057419907,
          14.36506409856331,
          14.015682893134137,
          13.69646232859138,
          14.67773403222377,
          14.805770060266871,
          14.574598936557354,
          13.745186646570954,
          13.86929656359665,
          12.464794359800123,
          13.71306295017584,
          13.67046251188102,
          13.83477239171535,
          12.75823915201123,
          13.597701432699788,
          11.944776688033032,
          10.599048792918236,
          10.371601073407287,
          9.733586695519316,
          9.491277365553902,
          8.532292743213242,
          9.479915114919296,
          10.789795909440409,
          10.813395250664586,
          10.306265465063321,
          11.432397862701977,
          11.786580019103518,
          10.02811970328416,
          9.65012483005967,
          10.651059095118894,
          12.040475644082246,
          13.197419478183573,
          13.349492267428332,
          13.34883080307214,
          13.925883772390968,
          14.113792993449476,
          14.086256872427958,
          14.638184864991391,
          15.981277571461355,
          15.739843081450907,
          15.874653784755019,
          15.980840151483871,
          16.271009628253832,
          15.95636597030473,
          15.100516443630488,
          15.90634006117265,
          15.935177773346679,
          15.081077926582365,
          14.393464390759855,
          15.31180096153446,
          15.440498453933754,
          15.613983484515279,
          16.983737472051796,
          16.96036217520633,
          16.829925671677046,
          17.131446730301672,
          17.4489176149345,
          18.447664780106308,
          18.72538379068793,
          18.678622528217055,
          19.58822136822195,
          19.889742426846578,
          19.5869091082895,
          19.40009877156467,
          19.034116944551045,
          19.502348358496185,
          19.69025757955469,
          19.79885509054967,
          19.309638186465307,
          19.628858751008067,
          20.369997555782515,
          20.982012116960128,
          21.641214691806155,
          21.764887188854367,
          21.85512372957502,
          23.09902878895585,
          22.020308449364318,
          22.693497794709845,
          23.04025448027412,
          23.82640486760951,
          22.101807259315258,
          21.147410212348195,
          20.282385534926757,
          21.58047732761572,
          21.391042471025994,
          18.580949847879204,
          17.97113305536894,
          19.279488214358835,
          19.376499430340495,
          18.784371474968427,
          20.660380408151248,
          19.00811712784068,
          16.82052647655114,
          13.31955567092063,
          14.492876082227701,
          13.607314003424465,
          16.225123205737926,
          16.768089423152936
         ]
        }
       ],
       "layout": {
        "hovermode": "x unified",
        "showlegend": true,
        "template": {
         "data": {
          "bar": [
           {
            "error_x": {
             "color": "#2a3f5f"
            },
            "error_y": {
             "color": "#2a3f5f"
            },
            "marker": {
             "line": {
              "color": "#E5ECF6",
              "width": 0.5
             },
             "pattern": {
              "fillmode": "overlay",
              "size": 10,
              "solidity": 0.2
             }
            },
            "type": "bar"
           }
          ],
          "barpolar": [
           {
            "marker": {
             "line": {
              "color": "#E5ECF6",
              "width": 0.5
             },
             "pattern": {
              "fillmode": "overlay",
              "size": 10,
              "solidity": 0.2
             }
            },
            "type": "barpolar"
           }
          ],
          "carpet": [
           {
            "aaxis": {
             "endlinecolor": "#2a3f5f",
             "gridcolor": "white",
             "linecolor": "white",
             "minorgridcolor": "white",
             "startlinecolor": "#2a3f5f"
            },
            "baxis": {
             "endlinecolor": "#2a3f5f",
             "gridcolor": "white",
             "linecolor": "white",
             "minorgridcolor": "white",
             "startlinecolor": "#2a3f5f"
            },
            "type": "carpet"
           }
          ],
          "choropleth": [
           {
            "colorbar": {
             "outlinewidth": 0,
             "ticks": ""
            },
            "type": "choropleth"
           }
          ],
          "contour": [
           {
            "colorbar": {
             "outlinewidth": 0,
             "ticks": ""
            },
            "colorscale": [
             [
              0,
              "#0d0887"
             ],
             [
              0.1111111111111111,
              "#46039f"
             ],
             [
              0.2222222222222222,
              "#7201a8"
             ],
             [
              0.3333333333333333,
              "#9c179e"
             ],
             [
              0.4444444444444444,
              "#bd3786"
             ],
             [
              0.5555555555555556,
              "#d8576b"
             ],
             [
              0.6666666666666666,
              "#ed7953"
             ],
             [
              0.7777777777777778,
              "#fb9f3a"
             ],
             [
              0.8888888888888888,
              "#fdca26"
             ],
             [
              1,
              "#f0f921"
             ]
            ],
            "type": "contour"
           }
          ],
          "contourcarpet": [
           {
            "colorbar": {
             "outlinewidth": 0,
             "ticks": ""
            },
            "type": "contourcarpet"
           }
          ],
          "heatmap": [
           {
            "colorbar": {
             "outlinewidth": 0,
             "ticks": ""
            },
            "colorscale": [
             [
              0,
              "#0d0887"
             ],
             [
              0.1111111111111111,
              "#46039f"
             ],
             [
              0.2222222222222222,
              "#7201a8"
             ],
             [
              0.3333333333333333,
              "#9c179e"
             ],
             [
              0.4444444444444444,
              "#bd3786"
             ],
             [
              0.5555555555555556,
              "#d8576b"
             ],
             [
              0.6666666666666666,
              "#ed7953"
             ],
             [
              0.7777777777777778,
              "#fb9f3a"
             ],
             [
              0.8888888888888888,
              "#fdca26"
             ],
             [
              1,
              "#f0f921"
             ]
            ],
            "type": "heatmap"
           }
          ],
          "heatmapgl": [
           {
            "colorbar": {
             "outlinewidth": 0,
             "ticks": ""
            },
            "colorscale": [
             [
              0,
              "#0d0887"
             ],
             [
              0.1111111111111111,
              "#46039f"
             ],
             [
              0.2222222222222222,
              "#7201a8"
             ],
             [
              0.3333333333333333,
              "#9c179e"
             ],
             [
              0.4444444444444444,
              "#bd3786"
             ],
             [
              0.5555555555555556,
              "#d8576b"
             ],
             [
              0.6666666666666666,
              "#ed7953"
             ],
             [
              0.7777777777777778,
              "#fb9f3a"
             ],
             [
              0.8888888888888888,
              "#fdca26"
             ],
             [
              1,
              "#f0f921"
             ]
            ],
            "type": "heatmapgl"
           }
          ],
          "histogram": [
           {
            "marker": {
             "pattern": {
              "fillmode": "overlay",
              "size": 10,
              "solidity": 0.2
             }
            },
            "type": "histogram"
           }
          ],
          "histogram2d": [
           {
            "colorbar": {
             "outlinewidth": 0,
             "ticks": ""
            },
            "colorscale": [
             [
              0,
              "#0d0887"
             ],
             [
              0.1111111111111111,
              "#46039f"
             ],
             [
              0.2222222222222222,
              "#7201a8"
             ],
             [
              0.3333333333333333,
              "#9c179e"
             ],
             [
              0.4444444444444444,
              "#bd3786"
             ],
             [
              0.5555555555555556,
              "#d8576b"
             ],
             [
              0.6666666666666666,
              "#ed7953"
             ],
             [
              0.7777777777777778,
              "#fb9f3a"
             ],
             [
              0.8888888888888888,
              "#fdca26"
             ],
             [
              1,
              "#f0f921"
             ]
            ],
            "type": "histogram2d"
           }
          ],
          "histogram2dcontour": [
           {
            "colorbar": {
             "outlinewidth": 0,
             "ticks": ""
            },
            "colorscale": [
             [
              0,
              "#0d0887"
             ],
             [
              0.1111111111111111,
              "#46039f"
             ],
             [
              0.2222222222222222,
              "#7201a8"
             ],
             [
              0.3333333333333333,
              "#9c179e"
             ],
             [
              0.4444444444444444,
              "#bd3786"
             ],
             [
              0.5555555555555556,
              "#d8576b"
             ],
             [
              0.6666666666666666,
              "#ed7953"
             ],
             [
              0.7777777777777778,
              "#fb9f3a"
             ],
             [
              0.8888888888888888,
              "#fdca26"
             ],
             [
              1,
              "#f0f921"
             ]
            ],
            "type": "histogram2dcontour"
           }
          ],
          "mesh3d": [
           {
            "colorbar": {
             "outlinewidth": 0,
             "ticks": ""
            },
            "type": "mesh3d"
           }
          ],
          "parcoords": [
           {
            "line": {
             "colorbar": {
              "outlinewidth": 0,
              "ticks": ""
             }
            },
            "type": "parcoords"
           }
          ],
          "pie": [
           {
            "automargin": true,
            "type": "pie"
           }
          ],
          "scatter": [
           {
            "fillpattern": {
             "fillmode": "overlay",
             "size": 10,
             "solidity": 0.2
            },
            "type": "scatter"
           }
          ],
          "scatter3d": [
           {
            "line": {
             "colorbar": {
              "outlinewidth": 0,
              "ticks": ""
             }
            },
            "marker": {
             "colorbar": {
              "outlinewidth": 0,
              "ticks": ""
             }
            },
            "type": "scatter3d"
           }
          ],
          "scattercarpet": [
           {
            "marker": {
             "colorbar": {
              "outlinewidth": 0,
              "ticks": ""
             }
            },
            "type": "scattercarpet"
           }
          ],
          "scattergeo": [
           {
            "marker": {
             "colorbar": {
              "outlinewidth": 0,
              "ticks": ""
             }
            },
            "type": "scattergeo"
           }
          ],
          "scattergl": [
           {
            "marker": {
             "colorbar": {
              "outlinewidth": 0,
              "ticks": ""
             }
            },
            "type": "scattergl"
           }
          ],
          "scattermapbox": [
           {
            "marker": {
             "colorbar": {
              "outlinewidth": 0,
              "ticks": ""
             }
            },
            "type": "scattermapbox"
           }
          ],
          "scatterpolar": [
           {
            "marker": {
             "colorbar": {
              "outlinewidth": 0,
              "ticks": ""
             }
            },
            "type": "scatterpolar"
           }
          ],
          "scatterpolargl": [
           {
            "marker": {
             "colorbar": {
              "outlinewidth": 0,
              "ticks": ""
             }
            },
            "type": "scatterpolargl"
           }
          ],
          "scatterternary": [
           {
            "marker": {
             "colorbar": {
              "outlinewidth": 0,
              "ticks": ""
             }
            },
            "type": "scatterternary"
           }
          ],
          "surface": [
           {
            "colorbar": {
             "outlinewidth": 0,
             "ticks": ""
            },
            "colorscale": [
             [
              0,
              "#0d0887"
             ],
             [
              0.1111111111111111,
              "#46039f"
             ],
             [
              0.2222222222222222,
              "#7201a8"
             ],
             [
              0.3333333333333333,
              "#9c179e"
             ],
             [
              0.4444444444444444,
              "#bd3786"
             ],
             [
              0.5555555555555556,
              "#d8576b"
             ],
             [
              0.6666666666666666,
              "#ed7953"
             ],
             [
              0.7777777777777778,
              "#fb9f3a"
             ],
             [
              0.8888888888888888,
              "#fdca26"
             ],
             [
              1,
              "#f0f921"
             ]
            ],
            "type": "surface"
           }
          ],
          "table": [
           {
            "cells": {
             "fill": {
              "color": "#EBF0F8"
             },
             "line": {
              "color": "white"
             }
            },
            "header": {
             "fill": {
              "color": "#C8D4E3"
             },
             "line": {
              "color": "white"
             }
            },
            "type": "table"
           }
          ]
         },
         "layout": {
          "annotationdefaults": {
           "arrowcolor": "#2a3f5f",
           "arrowhead": 0,
           "arrowwidth": 1
          },
          "autotypenumbers": "strict",
          "coloraxis": {
           "colorbar": {
            "outlinewidth": 0,
            "ticks": ""
           }
          },
          "colorscale": {
           "diverging": [
            [
             0,
             "#8e0152"
            ],
            [
             0.1,
             "#c51b7d"
            ],
            [
             0.2,
             "#de77ae"
            ],
            [
             0.3,
             "#f1b6da"
            ],
            [
             0.4,
             "#fde0ef"
            ],
            [
             0.5,
             "#f7f7f7"
            ],
            [
             0.6,
             "#e6f5d0"
            ],
            [
             0.7,
             "#b8e186"
            ],
            [
             0.8,
             "#7fbc41"
            ],
            [
             0.9,
             "#4d9221"
            ],
            [
             1,
             "#276419"
            ]
           ],
           "sequential": [
            [
             0,
             "#0d0887"
            ],
            [
             0.1111111111111111,
             "#46039f"
            ],
            [
             0.2222222222222222,
             "#7201a8"
            ],
            [
             0.3333333333333333,
             "#9c179e"
            ],
            [
             0.4444444444444444,
             "#bd3786"
            ],
            [
             0.5555555555555556,
             "#d8576b"
            ],
            [
             0.6666666666666666,
             "#ed7953"
            ],
            [
             0.7777777777777778,
             "#fb9f3a"
            ],
            [
             0.8888888888888888,
             "#fdca26"
            ],
            [
             1,
             "#f0f921"
            ]
           ],
           "sequentialminus": [
            [
             0,
             "#0d0887"
            ],
            [
             0.1111111111111111,
             "#46039f"
            ],
            [
             0.2222222222222222,
             "#7201a8"
            ],
            [
             0.3333333333333333,
             "#9c179e"
            ],
            [
             0.4444444444444444,
             "#bd3786"
            ],
            [
             0.5555555555555556,
             "#d8576b"
            ],
            [
             0.6666666666666666,
             "#ed7953"
            ],
            [
             0.7777777777777778,
             "#fb9f3a"
            ],
            [
             0.8888888888888888,
             "#fdca26"
            ],
            [
             1,
             "#f0f921"
            ]
           ]
          },
          "colorway": [
           "#636efa",
           "#EF553B",
           "#00cc96",
           "#ab63fa",
           "#FFA15A",
           "#19d3f3",
           "#FF6692",
           "#B6E880",
           "#FF97FF",
           "#FECB52"
          ],
          "font": {
           "color": "#2a3f5f"
          },
          "geo": {
           "bgcolor": "white",
           "lakecolor": "white",
           "landcolor": "#E5ECF6",
           "showlakes": true,
           "showland": true,
           "subunitcolor": "white"
          },
          "hoverlabel": {
           "align": "left"
          },
          "hovermode": "closest",
          "mapbox": {
           "style": "light"
          },
          "paper_bgcolor": "white",
          "plot_bgcolor": "#E5ECF6",
          "polar": {
           "angularaxis": {
            "gridcolor": "white",
            "linecolor": "white",
            "ticks": ""
           },
           "bgcolor": "#E5ECF6",
           "radialaxis": {
            "gridcolor": "white",
            "linecolor": "white",
            "ticks": ""
           }
          },
          "scene": {
           "xaxis": {
            "backgroundcolor": "#E5ECF6",
            "gridcolor": "white",
            "gridwidth": 2,
            "linecolor": "white",
            "showbackground": true,
            "ticks": "",
            "zerolinecolor": "white"
           },
           "yaxis": {
            "backgroundcolor": "#E5ECF6",
            "gridcolor": "white",
            "gridwidth": 2,
            "linecolor": "white",
            "showbackground": true,
            "ticks": "",
            "zerolinecolor": "white"
           },
           "zaxis": {
            "backgroundcolor": "#E5ECF6",
            "gridcolor": "white",
            "gridwidth": 2,
            "linecolor": "white",
            "showbackground": true,
            "ticks": "",
            "zerolinecolor": "white"
           }
          },
          "shapedefaults": {
           "line": {
            "color": "#2a3f5f"
           }
          },
          "ternary": {
           "aaxis": {
            "gridcolor": "white",
            "linecolor": "white",
            "ticks": ""
           },
           "baxis": {
            "gridcolor": "white",
            "linecolor": "white",
            "ticks": ""
           },
           "bgcolor": "#E5ECF6",
           "caxis": {
            "gridcolor": "white",
            "linecolor": "white",
            "ticks": ""
           }
          },
          "title": {
           "x": 0.05
          },
          "xaxis": {
           "automargin": true,
           "gridcolor": "white",
           "linecolor": "white",
           "ticks": "",
           "title": {
            "standoff": 15
           },
           "zerolinecolor": "white",
           "zerolinewidth": 2
          },
          "yaxis": {
           "automargin": true,
           "gridcolor": "white",
           "linecolor": "white",
           "ticks": "",
           "title": {
            "standoff": 15
           },
           "zerolinecolor": "white",
           "zerolinewidth": 2
          }
         }
        },
        "title": {
         "text": "Portfolio Performance vs S&P 500"
        },
        "xaxis": {
         "rangeselector": {
          "buttons": [
           {
            "count": 5,
            "label": "5D",
            "step": "day",
            "stepmode": "backward"
           },
           {
            "count": 1,
            "label": "1M",
            "step": "month",
            "stepmode": "backward"
           },
           {
            "count": 6,
            "label": "6M",
            "step": "month",
            "stepmode": "backward"
           },
           {
            "count": 1,
            "label": "YTD",
            "step": "year",
            "stepmode": "todate"
           },
           {
            "count": 1,
            "label": "1Y",
            "step": "year",
            "stepmode": "backward"
           },
           {
            "step": "all"
           }
          ]
         },
         "rangeslider": {
          "visible": false
         },
         "title": {
          "text": "Date"
         }
        },
        "yaxis": {
         "range": [
          -19.476751309999997,
          43.06510937
         ],
         "tickformat": ".2f",
         "ticksuffix": "%",
         "title": {
          "text": "Performance (%)"
         }
        }
       }
      }
     },
     "metadata": {},
     "output_type": "display_data"
    }
   ],
   "source": [
    "plot_portfolio_growth(portfolio_data)"
   ]
  },
  {
   "cell_type": "code",
   "execution_count": 8,
   "metadata": {},
   "outputs": [],
   "source": [
    "def process_portfolio_data(portfolio_data, date=None, sort_by='Symbol', ascending=True):\n",
    "    if date is None:\n",
    "        date = max(portfolio_data.keys())\n",
    "    elif date not in portfolio_data:\n",
    "        raise ValueError(f\"No data available for date: {date}\")\n",
    "    data = portfolio_data[date]\n",
    "\n",
    "    # Process holdings data\n",
    "    holdings_data = [\n",
    "        {\n",
    "            'Symbol': symbol,\n",
    "            'Quantity': float(info['quantity']),\n",
    "            'Unit Cost': float(info['unit_cost']),\n",
    "            'Market Price': float(info['market_price']),\n",
    "            'Total Cost': float(info['total_cost']),\n",
    "            'Market Value': float(info['market_value']),\n",
    "            'Unrealized G/L': f\"${float(info['unrealized_gain_loss']):,.2f} ({float(info['unrealized_gain_loss_percentage']):.2f}%)\",\n",
    "            'Daily Gain': f\"${float(info['daily_gain']):,.2f} ({float(info['daily_return'])*100:.2f}%)\"\n",
    "        }\n",
    "        for symbol, info in data['holdings'].items()\n",
    "    ]\n",
    "\n",
    "    df = pd.DataFrame(holdings_data)\n",
    "    df = df.sort_values(by=sort_by, ascending=ascending)\n",
    "\n",
    "    # Process summary data\n",
    "    summary = data['summary']\n",
    "\n",
    "    # Process closed positions data\n",
    "    closed_positions = data.get('closed_positions', {})\n",
    "    closed_positions_data = [\n",
    "        {\n",
    "            'Symbol': symbol,\n",
    "            'Quantity': float(position['quantity']),\n",
    "            'Sell Price': float(position['sell_price']),\n",
    "            'Cost Basis': float(position['cost_basis']),\n",
    "            'Realized Gain': f\"${float(position['realized_gain']):,.2f} ({(float(position['realized_gain']) / float(position['cost_basis']) * 100 if float(position['cost_basis']) != 0 else 0):.2f}%)\"\n",
    "        }\n",
    "        for symbol, positions in closed_positions.items()\n",
    "        for position in positions\n",
    "    ]\n",
    "\n",
    "    df_closed = pd.DataFrame(closed_positions_data)\n",
    "    df_closed = df_closed.sort_values(by='Symbol', ascending=True)\n",
    "\n",
    "    return {\n",
    "        'date': date,\n",
    "        'holdings': df,\n",
    "        'summary': summary,\n",
    "        'closed_positions': df_closed,\n",
    "        'realized_gains': data.get('realized_gains', 0),\n",
    "        'realized_gain_percentage': data.get('realized_gain_percentage', 0)\n",
    "    }"
   ]
  },
  {
   "cell_type": "code",
   "execution_count": 9,
   "metadata": {},
   "outputs": [],
   "source": [
    "def display_portfolio_analysis(processed_data):\n",
    "    date = processed_data['date']\n",
    "    df = processed_data['holdings']\n",
    "    summary = processed_data['summary']\n",
    "    df_closed = processed_data['closed_positions']\n",
    "\n",
    "    # Display holdings\n",
    "    display(HTML(f\"<h2>Portfolio Status as of {date}</h2>\"))\n",
    "    display(HTML(df.to_html(index=False, classes='dataframe')))\n",
    "\n",
    "    # Display summary\n",
    "    print(f\"\\nPortfolio Summary:\")\n",
    "    print(f\"Cash: ${float(summary.get('cash', 0)):,.2f}\")\n",
    "    print(f\"Total Market Value: ${\n",
    "          float(summary.get('total_market_value', 0)):,.2f}\")\n",
    "    print(f\"Invested Value: ${float(summary.get('invested_value', 0)):,.2f}\")\n",
    "    print(f\"Unrealized Gain/Loss: ${float(summary.get('unrealized_gain_loss', 0))          :,.2f} ({float(summary.get('unrealized_gain_loss_percentage', 0)):.2f}%)\")\n",
    "    print(f\"Daily Gain: ${float(summary.get('daily_gain', 0)):,.2f} ({\n",
    "          float(summary.get('daily_return', 0))*100:.2f}%)\")\n",
    "\n",
    "    # Display closed positions\n",
    "    display(HTML(\"<h2>Closed Positions</h2>\"))\n",
    "    display(HTML(df_closed.to_html(index=False, classes='dataframe')))\n",
    "\n",
    "    # Display total realized gains\n",
    "    print(f\"\\nTotal Realized Gains: ${float(processed_data['realized_gains']):,.2f} ({\n",
    "          float(processed_data['realized_gain_percentage']):.2f}%)\")"
   ]
  },
  {
   "cell_type": "code",
   "execution_count": 10,
   "metadata": {},
   "outputs": [
    {
     "data": {
      "text/html": [
       "<h2>Portfolio Status as of 2024-08-09</h2>"
      ],
      "text/plain": [
       "<IPython.core.display.HTML object>"
      ]
     },
     "metadata": {},
     "output_type": "display_data"
    },
    {
     "data": {
      "text/html": [
       "<table border=\"1\" class=\"dataframe dataframe\">\n",
       "  <thead>\n",
       "    <tr style=\"text-align: right;\">\n",
       "      <th>Symbol</th>\n",
       "      <th>Quantity</th>\n",
       "      <th>Unit Cost</th>\n",
       "      <th>Market Price</th>\n",
       "      <th>Total Cost</th>\n",
       "      <th>Market Value</th>\n",
       "      <th>Unrealized G/L</th>\n",
       "      <th>Daily Gain</th>\n",
       "    </tr>\n",
       "  </thead>\n",
       "  <tbody>\n",
       "    <tr>\n",
       "      <td>AAPL</td>\n",
       "      <td>5.01278</td>\n",
       "      <td>177.195089</td>\n",
       "      <td>216.240005</td>\n",
       "      <td>888.240000</td>\n",
       "      <td>1083.963575</td>\n",
       "      <td>$195.72 (22.03%)</td>\n",
       "      <td>$14.69 (1.37%)</td>\n",
       "    </tr>\n",
       "    <tr>\n",
       "      <td>AMD</td>\n",
       "      <td>13.00214</td>\n",
       "      <td>153.369368</td>\n",
       "      <td>134.270004</td>\n",
       "      <td>1994.130000</td>\n",
       "      <td>1745.797393</td>\n",
       "      <td>$-248.33 (-12.45%)</td>\n",
       "      <td>$-26.65 (-1.50%)</td>\n",
       "    </tr>\n",
       "    <tr>\n",
       "      <td>AMZN</td>\n",
       "      <td>6.23701</td>\n",
       "      <td>174.854618</td>\n",
       "      <td>166.940002</td>\n",
       "      <td>1090.570000</td>\n",
       "      <td>1041.206465</td>\n",
       "      <td>$-49.36 (-4.53%)</td>\n",
       "      <td>$7.11 (0.69%)</td>\n",
       "    </tr>\n",
       "    <tr>\n",
       "      <td>CRWD</td>\n",
       "      <td>3.82907</td>\n",
       "      <td>263.912647</td>\n",
       "      <td>240.899994</td>\n",
       "      <td>1010.540000</td>\n",
       "      <td>922.422940</td>\n",
       "      <td>$-88.12 (-8.72%)</td>\n",
       "      <td>$1.46 (0.16%)</td>\n",
       "    </tr>\n",
       "    <tr>\n",
       "      <td>META</td>\n",
       "      <td>2.00136</td>\n",
       "      <td>432.420954</td>\n",
       "      <td>517.770020</td>\n",
       "      <td>865.430000</td>\n",
       "      <td>1036.244206</td>\n",
       "      <td>$170.81 (19.74%)</td>\n",
       "      <td>$16.29 (1.60%)</td>\n",
       "    </tr>\n",
       "    <tr>\n",
       "      <td>MSFT</td>\n",
       "      <td>2.00118</td>\n",
       "      <td>411.007506</td>\n",
       "      <td>406.019989</td>\n",
       "      <td>822.500000</td>\n",
       "      <td>812.519082</td>\n",
       "      <td>$-9.98 (-1.21%)</td>\n",
       "      <td>$6.66 (0.83%)</td>\n",
       "    </tr>\n",
       "    <tr>\n",
       "      <td>NVDA</td>\n",
       "      <td>100.02930</td>\n",
       "      <td>89.339623</td>\n",
       "      <td>104.750000</td>\n",
       "      <td>8936.580000</td>\n",
       "      <td>10478.069180</td>\n",
       "      <td>$1,541.49 (17.25%)</td>\n",
       "      <td>$-22.01 (-0.21%)</td>\n",
       "    </tr>\n",
       "    <tr>\n",
       "      <td>NVDL</td>\n",
       "      <td>50.00000</td>\n",
       "      <td>40.068000</td>\n",
       "      <td>46.240002</td>\n",
       "      <td>2003.400000</td>\n",
       "      <td>2312.000084</td>\n",
       "      <td>$308.60 (15.40%)</td>\n",
       "      <td>$-23.00 (-0.99%)</td>\n",
       "    </tr>\n",
       "    <tr>\n",
       "      <td>OKTA</td>\n",
       "      <td>11.91484</td>\n",
       "      <td>89.441402</td>\n",
       "      <td>90.360001</td>\n",
       "      <td>1065.680000</td>\n",
       "      <td>1076.624950</td>\n",
       "      <td>$10.94 (1.03%)</td>\n",
       "      <td>$20.37 (1.93%)</td>\n",
       "    </tr>\n",
       "    <tr>\n",
       "      <td>QQQ</td>\n",
       "      <td>7.01494</td>\n",
       "      <td>430.159061</td>\n",
       "      <td>450.410004</td>\n",
       "      <td>3017.540000</td>\n",
       "      <td>3159.599151</td>\n",
       "      <td>$142.06 (4.71%)</td>\n",
       "      <td>$16.41 (0.52%)</td>\n",
       "    </tr>\n",
       "    <tr>\n",
       "      <td>SNOW</td>\n",
       "      <td>5.00000</td>\n",
       "      <td>125.670000</td>\n",
       "      <td>124.410004</td>\n",
       "      <td>628.350000</td>\n",
       "      <td>622.050018</td>\n",
       "      <td>$-6.30 (-1.00%)</td>\n",
       "      <td>$14.05 (2.31%)</td>\n",
       "    </tr>\n",
       "    <tr>\n",
       "      <td>SPY</td>\n",
       "      <td>5.03146</td>\n",
       "      <td>469.853681</td>\n",
       "      <td>532.989990</td>\n",
       "      <td>2364.050000</td>\n",
       "      <td>2681.717816</td>\n",
       "      <td>$317.67 (13.44%)</td>\n",
       "      <td>$11.77 (0.44%)</td>\n",
       "    </tr>\n",
       "    <tr>\n",
       "      <td>TSLA</td>\n",
       "      <td>70.00000</td>\n",
       "      <td>201.363143</td>\n",
       "      <td>200.000000</td>\n",
       "      <td>14095.420000</td>\n",
       "      <td>14000.000000</td>\n",
       "      <td>$-95.42 (-0.68%)</td>\n",
       "      <td>$81.20 (0.58%)</td>\n",
       "    </tr>\n",
       "    <tr>\n",
       "      <td>TSM</td>\n",
       "      <td>16.13979</td>\n",
       "      <td>129.715530</td>\n",
       "      <td>167.119995</td>\n",
       "      <td>2093.581419</td>\n",
       "      <td>2697.281626</td>\n",
       "      <td>$603.70 (28.84%)</td>\n",
       "      <td>$41.48 (1.56%)</td>\n",
       "    </tr>\n",
       "  </tbody>\n",
       "</table>"
      ],
      "text/plain": [
       "<IPython.core.display.HTML object>"
      ]
     },
     "metadata": {},
     "output_type": "display_data"
    },
    {
     "name": "stdout",
     "output_type": "stream",
     "text": [
      "\n",
      "Portfolio Summary:\n",
      "Cash: $118.33\n",
      "Total Market Value: $43,787.83\n",
      "Invested Value: $43,669.50\n",
      "Unrealized Gain/Loss: $2,793.49 (6.83%)\n",
      "Daily Gain: $159.84 (0.37%)\n"
     ]
    },
    {
     "data": {
      "text/html": [
       "<h2>Closed Positions</h2>"
      ],
      "text/plain": [
       "<IPython.core.display.HTML object>"
      ]
     },
     "metadata": {},
     "output_type": "display_data"
    },
    {
     "data": {
      "text/html": [
       "<table border=\"1\" class=\"dataframe dataframe\">\n",
       "  <thead>\n",
       "    <tr style=\"text-align: right;\">\n",
       "      <th>Symbol</th>\n",
       "      <th>Quantity</th>\n",
       "      <th>Sell Price</th>\n",
       "      <th>Cost Basis</th>\n",
       "      <th>Realized Gain</th>\n",
       "    </tr>\n",
       "  </thead>\n",
       "  <tbody>\n",
       "    <tr>\n",
       "      <td>AMD</td>\n",
       "      <td>3.00000</td>\n",
       "      <td>120.386667</td>\n",
       "      <td>298.020000</td>\n",
       "      <td>$63.14 (21.19%)</td>\n",
       "    </tr>\n",
       "    <tr>\n",
       "      <td>ARM</td>\n",
       "      <td>5.00000</td>\n",
       "      <td>133.224000</td>\n",
       "      <td>668.580000</td>\n",
       "      <td>$-2.46 (-0.37%)</td>\n",
       "    </tr>\n",
       "    <tr>\n",
       "      <td>DIS</td>\n",
       "      <td>10.00000</td>\n",
       "      <td>110.419000</td>\n",
       "      <td>840.597537</td>\n",
       "      <td>$263.59 (31.36%)</td>\n",
       "    </tr>\n",
       "    <tr>\n",
       "      <td>DIS</td>\n",
       "      <td>0.04723</td>\n",
       "      <td>110.311243</td>\n",
       "      <td>3.970142</td>\n",
       "      <td>$1.24 (31.23%)</td>\n",
       "    </tr>\n",
       "    <tr>\n",
       "      <td>GOOGL</td>\n",
       "      <td>5.00000</td>\n",
       "      <td>155.738000</td>\n",
       "      <td>656.440000</td>\n",
       "      <td>$122.25 (18.62%)</td>\n",
       "    </tr>\n",
       "    <tr>\n",
       "      <td>PLTR</td>\n",
       "      <td>25.00000</td>\n",
       "      <td>23.984400</td>\n",
       "      <td>563.295000</td>\n",
       "      <td>$36.31 (6.45%)</td>\n",
       "    </tr>\n",
       "    <tr>\n",
       "      <td>RDDT</td>\n",
       "      <td>15.00000</td>\n",
       "      <td>52.299333</td>\n",
       "      <td>736.980000</td>\n",
       "      <td>$47.51 (6.45%)</td>\n",
       "    </tr>\n",
       "    <tr>\n",
       "      <td>SONY</td>\n",
       "      <td>2.00000</td>\n",
       "      <td>83.865000</td>\n",
       "      <td>165.800000</td>\n",
       "      <td>$1.93 (1.16%)</td>\n",
       "    </tr>\n",
       "    <tr>\n",
       "      <td>TSLA</td>\n",
       "      <td>5.00000</td>\n",
       "      <td>259.996000</td>\n",
       "      <td>1078.730000</td>\n",
       "      <td>$221.25 (20.51%)</td>\n",
       "    </tr>\n",
       "    <tr>\n",
       "      <td>TSM</td>\n",
       "      <td>5.00000</td>\n",
       "      <td>110.278000</td>\n",
       "      <td>449.138581</td>\n",
       "      <td>$102.25 (22.77%)</td>\n",
       "    </tr>\n",
       "  </tbody>\n",
       "</table>"
      ],
      "text/plain": [
       "<IPython.core.display.HTML object>"
      ]
     },
     "metadata": {},
     "output_type": "display_data"
    },
    {
     "name": "stdout",
     "output_type": "stream",
     "text": [
      "\n",
      "Total Realized Gains: $1,946.22 (4.99%)\n"
     ]
    }
   ],
   "source": [
    "processed_data = process_portfolio_data(portfolio_data)\n",
    "display_portfolio_analysis(processed_data)"
   ]
  },
  {
   "cell_type": "code",
   "execution_count": 11,
   "metadata": {},
   "outputs": [
    {
     "data": {
      "text/html": [
       "<h2>Portfolio Status as of 2024-04-10</h2>"
      ],
      "text/plain": [
       "<IPython.core.display.HTML object>"
      ]
     },
     "metadata": {},
     "output_type": "display_data"
    },
    {
     "data": {
      "text/html": [
       "<table border=\"1\" class=\"dataframe dataframe\">\n",
       "  <thead>\n",
       "    <tr style=\"text-align: right;\">\n",
       "      <th>Symbol</th>\n",
       "      <th>Quantity</th>\n",
       "      <th>Unit Cost</th>\n",
       "      <th>Market Price</th>\n",
       "      <th>Total Cost</th>\n",
       "      <th>Market Value</th>\n",
       "      <th>Unrealized G/L</th>\n",
       "      <th>Daily Gain</th>\n",
       "    </tr>\n",
       "  </thead>\n",
       "  <tbody>\n",
       "    <tr>\n",
       "      <td>AAPL</td>\n",
       "      <td>5.00821</td>\n",
       "      <td>177.183065</td>\n",
       "      <td>167.552734</td>\n",
       "      <td>887.370000</td>\n",
       "      <td>839.139280</td>\n",
       "      <td>$-48.23 (-5.44%)</td>\n",
       "      <td>$-9.45 (-1.11%)</td>\n",
       "    </tr>\n",
       "    <tr>\n",
       "      <td>GOOGL</td>\n",
       "      <td>5.00000</td>\n",
       "      <td>131.288000</td>\n",
       "      <td>155.960999</td>\n",
       "      <td>656.440000</td>\n",
       "      <td>779.804993</td>\n",
       "      <td>$123.36 (18.79%)</td>\n",
       "      <td>$-2.30 (-0.29%)</td>\n",
       "    </tr>\n",
       "    <tr>\n",
       "      <td>NVDA</td>\n",
       "      <td>7.00007</td>\n",
       "      <td>826.204595</td>\n",
       "      <td>870.318527</td>\n",
       "      <td>5783.490000</td>\n",
       "      <td>6092.290613</td>\n",
       "      <td>$308.80 (5.34%)</td>\n",
       "      <td>$117.94 (1.97%)</td>\n",
       "    </tr>\n",
       "    <tr>\n",
       "      <td>NVDL</td>\n",
       "      <td>25.00000</td>\n",
       "      <td>41.996000</td>\n",
       "      <td>38.290001</td>\n",
       "      <td>1049.900000</td>\n",
       "      <td>957.250023</td>\n",
       "      <td>$-92.65 (-8.82%)</td>\n",
       "      <td>$35.25 (3.82%)</td>\n",
       "    </tr>\n",
       "    <tr>\n",
       "      <td>PLTR</td>\n",
       "      <td>20.00000</td>\n",
       "      <td>22.995750</td>\n",
       "      <td>22.420000</td>\n",
       "      <td>459.915000</td>\n",
       "      <td>448.400001</td>\n",
       "      <td>$-11.51 (-2.50%)</td>\n",
       "      <td>$-7.80 (-1.71%)</td>\n",
       "    </tr>\n",
       "    <tr>\n",
       "      <td>QQQ</td>\n",
       "      <td>5.00458</td>\n",
       "      <td>407.061132</td>\n",
       "      <td>437.674347</td>\n",
       "      <td>2037.170000</td>\n",
       "      <td>2190.376283</td>\n",
       "      <td>$153.21 (7.52%)</td>\n",
       "      <td>$-19.29 (-0.87%)</td>\n",
       "    </tr>\n",
       "    <tr>\n",
       "      <td>SPY</td>\n",
       "      <td>5.01357</td>\n",
       "      <td>469.625437</td>\n",
       "      <td>512.466736</td>\n",
       "      <td>2354.500000</td>\n",
       "      <td>2569.287853</td>\n",
       "      <td>$214.79 (9.12%)</td>\n",
       "      <td>$-25.99 (-1.00%)</td>\n",
       "    </tr>\n",
       "    <tr>\n",
       "      <td>TSLA</td>\n",
       "      <td>60.00000</td>\n",
       "      <td>207.891833</td>\n",
       "      <td>171.759995</td>\n",
       "      <td>12473.510000</td>\n",
       "      <td>10305.599670</td>\n",
       "      <td>$-2,167.91 (-17.38%)</td>\n",
       "      <td>$-307.20 (-2.89%)</td>\n",
       "    </tr>\n",
       "    <tr>\n",
       "      <td>TSM</td>\n",
       "      <td>10.05327</td>\n",
       "      <td>106.219312</td>\n",
       "      <td>145.760162</td>\n",
       "      <td>1067.851419</td>\n",
       "      <td>1465.366267</td>\n",
       "      <td>$397.51 (37.23%)</td>\n",
       "      <td>$8.22 (0.56%)</td>\n",
       "    </tr>\n",
       "  </tbody>\n",
       "</table>"
      ],
      "text/plain": [
       "<IPython.core.display.HTML object>"
      ]
     },
     "metadata": {},
     "output_type": "display_data"
    },
    {
     "name": "stdout",
     "output_type": "stream",
     "text": [
      "\n",
      "Portfolio Summary:\n",
      "Cash: $39.36\n",
      "Total Market Value: $25,686.87\n",
      "Invested Value: $25,647.51\n",
      "Unrealized Gain/Loss: $-1,122.63 (-4.19%)\n",
      "Daily Gain: $-210.61 (-0.81%)\n"
     ]
    },
    {
     "data": {
      "text/html": [
       "<h2>Closed Positions</h2>"
      ],
      "text/plain": [
       "<IPython.core.display.HTML object>"
      ]
     },
     "metadata": {},
     "output_type": "display_data"
    },
    {
     "data": {
      "text/html": [
       "<table border=\"1\" class=\"dataframe dataframe\">\n",
       "  <thead>\n",
       "    <tr style=\"text-align: right;\">\n",
       "      <th>Symbol</th>\n",
       "      <th>Quantity</th>\n",
       "      <th>Sell Price</th>\n",
       "      <th>Cost Basis</th>\n",
       "      <th>Realized Gain</th>\n",
       "    </tr>\n",
       "  </thead>\n",
       "  <tbody>\n",
       "    <tr>\n",
       "      <td>AMD</td>\n",
       "      <td>3.00000</td>\n",
       "      <td>120.386667</td>\n",
       "      <td>298.020000</td>\n",
       "      <td>$63.14 (21.19%)</td>\n",
       "    </tr>\n",
       "    <tr>\n",
       "      <td>ARM</td>\n",
       "      <td>5.00000</td>\n",
       "      <td>133.224000</td>\n",
       "      <td>668.580000</td>\n",
       "      <td>$-2.46 (-0.37%)</td>\n",
       "    </tr>\n",
       "    <tr>\n",
       "      <td>DIS</td>\n",
       "      <td>10.00000</td>\n",
       "      <td>110.419000</td>\n",
       "      <td>840.597537</td>\n",
       "      <td>$263.59 (31.36%)</td>\n",
       "    </tr>\n",
       "    <tr>\n",
       "      <td>DIS</td>\n",
       "      <td>0.04723</td>\n",
       "      <td>110.311243</td>\n",
       "      <td>3.970142</td>\n",
       "      <td>$1.24 (31.23%)</td>\n",
       "    </tr>\n",
       "    <tr>\n",
       "      <td>GOOGL</td>\n",
       "      <td>5.00000</td>\n",
       "      <td>155.738000</td>\n",
       "      <td>656.440000</td>\n",
       "      <td>$122.25 (18.62%)</td>\n",
       "    </tr>\n",
       "    <tr>\n",
       "      <td>PLTR</td>\n",
       "      <td>25.00000</td>\n",
       "      <td>23.984400</td>\n",
       "      <td>563.295000</td>\n",
       "      <td>$36.31 (6.45%)</td>\n",
       "    </tr>\n",
       "    <tr>\n",
       "      <td>RDDT</td>\n",
       "      <td>15.00000</td>\n",
       "      <td>52.299333</td>\n",
       "      <td>736.980000</td>\n",
       "      <td>$47.51 (6.45%)</td>\n",
       "    </tr>\n",
       "    <tr>\n",
       "      <td>SONY</td>\n",
       "      <td>2.00000</td>\n",
       "      <td>83.865000</td>\n",
       "      <td>165.800000</td>\n",
       "      <td>$1.93 (1.16%)</td>\n",
       "    </tr>\n",
       "    <tr>\n",
       "      <td>TSLA</td>\n",
       "      <td>5.00000</td>\n",
       "      <td>259.996000</td>\n",
       "      <td>1078.730000</td>\n",
       "      <td>$221.25 (20.51%)</td>\n",
       "    </tr>\n",
       "    <tr>\n",
       "      <td>TSM</td>\n",
       "      <td>5.00000</td>\n",
       "      <td>110.278000</td>\n",
       "      <td>449.138581</td>\n",
       "      <td>$102.25 (22.77%)</td>\n",
       "    </tr>\n",
       "  </tbody>\n",
       "</table>"
      ],
      "text/plain": [
       "<IPython.core.display.HTML object>"
      ]
     },
     "metadata": {},
     "output_type": "display_data"
    },
    {
     "name": "stdout",
     "output_type": "stream",
     "text": [
      "\n",
      "Total Realized Gains: $1,787.66 (7.15%)\n"
     ]
    }
   ],
   "source": [
    "processed_data = process_portfolio_data(portfolio_data, date=\"2024-04-10\")\n",
    "display_portfolio_analysis(processed_data)"
   ]
  },
  {
   "cell_type": "code",
   "execution_count": 12,
   "metadata": {},
   "outputs": [],
   "source": [
    "def read_template(template_path):\n",
    "    with open(template_path, 'r') as file:\n",
    "        return file.read()\n",
    "\n",
    "def generate_html_report():\n",
    "    dates = sorted(portfolio_data.keys())\n",
    "    latest_date = dates[-1]\n",
    "\n",
    "    stock_proportions_plot = plot_stock_proportions(\n",
    "        portfolio_data, latest_date)\n",
    "    sector_proportions_plot = plot_sector_proportions(\n",
    "        portfolio_data, sectors, latest_date)\n",
    "    portfolio_growth_plot = plot_portfolio_growth(portfolio_data)\n",
    "\n",
    "    processed_data = process_portfolio_data(portfolio_data, latest_date)\n",
    "\n",
    "    # Convert DataFrames to HTML strings\n",
    "    portfolio_table = processed_data['holdings'].to_html(\n",
    "        index=False, classes='dataframe')\n",
    "    closed_positions_table = processed_data['closed_positions'].to_html(\n",
    "        index=False, classes='dataframe')\n",
    "\n",
    "    # Format portfolio summary\n",
    "    summary = processed_data['summary']\n",
    "    format_dict = {\n",
    "        'date': latest_date,\n",
    "        'portfolio_table': portfolio_table,\n",
    "        'closed_positions_table': closed_positions_table,\n",
    "        'stock_proportions_plot': stock_proportions_plot.to_json(),\n",
    "        'sector_proportions_plot': sector_proportions_plot.to_json(),\n",
    "        'portfolio_growth_plot': portfolio_growth_plot.to_json(),\n",
    "        'date_options': ' '.join(f'<option value=\"{date}\">{date}</option>' for date in dates),\n",
    "        'cash': f\"${float(summary.get('cash', 0)):,.2f}\",\n",
    "        'total_market_value': f\"${float(summary.get('total_market_value', 0)):,.2f}\",\n",
    "        'invested_value': f\"${float(summary.get('invested_value', 0)):,.2f}\",\n",
    "        'unrealized_gain_loss': f\"${float(summary.get('unrealized_gain_loss', 0)):,.2f} ({float(summary.get('unrealized_gain_loss_percentage', 0)):.2f}%)\",\n",
    "        'daily_gain': f\"${float(summary.get('daily_gain', 0)):,.2f} ({float(summary.get('daily_return', 0))*100:.2f}%)\",\n",
    "        'total_realized_gains': f\"${float(processed_data['realized_gains']):,.2f} ({float(processed_data['realized_gain_percentage']):.2f}%)\"\n",
    "    }\n",
    "\n",
    "    # Read the HTML template\n",
    "    template_path = 'reports/templates/portfolio_report_template.html'\n",
    "    with open(template_path, 'r') as template_file:\n",
    "        html_template = template_file.read()\n",
    "\n",
    "    # Read the CSS content\n",
    "    css_path = 'reports/templates/portfolio_report_styles.css'\n",
    "    with open(css_path, 'r') as css_file:\n",
    "        css_content = css_file.read()\n",
    "\n",
    "    # Escape curly braces in the CSS content\n",
    "    css_content_escaped = css_content.replace('{', '{{').replace('}', '}}')\n",
    "\n",
    "    # Replace the CSS placeholder with the escaped CSS content\n",
    "    html_template = html_template.replace(\n",
    "        '/* CSS_PLACEHOLDER */', css_content_escaped)\n",
    "\n",
    "    # Remove whitespace from placeholders\n",
    "    html_template = re.sub(r'\\{\\s*(\\w+)\\s*\\}', r'{\\1}', html_template)\n",
    "\n",
    "    # Generate the HTML content\n",
    "    html_content = html_template.format(**format_dict)\n",
    "\n",
    "    # Ensure the 'reports' directory exists\n",
    "    os.makedirs('reports', exist_ok=True)\n",
    "\n",
    "    # Generate only the 'latest' version\n",
    "    today_date = datetime.now().strftime(\"%Y-%m-%d\")\n",
    "    filename = f'portfolio_report_latest_{today_date}.html'\n",
    "    with open(os.path.join('reports', filename), 'w') as f:\n",
    "        f.write(html_content)\n",
    "\n",
    "    print(f\"HTML report generated: reports/{filename}\")"
   ]
  },
  {
   "cell_type": "code",
   "execution_count": 13,
   "metadata": {},
   "outputs": [
    {
     "name": "stdout",
     "output_type": "stream",
     "text": [
      "HTML report generated: reports/portfolio_report_latest_2024-08-11.html\n"
     ]
    }
   ],
   "source": [
    "generate_html_report()"
   ]
  }
 ],
 "metadata": {
  "kernelspec": {
   "display_name": "venv",
   "language": "python",
   "name": "python3"
  },
  "language_info": {
   "codemirror_mode": {
    "name": "ipython",
    "version": 3
   },
   "file_extension": ".py",
   "mimetype": "text/x-python",
   "name": "python",
   "nbconvert_exporter": "python",
   "pygments_lexer": "ipython3",
   "version": "3.12.4"
  }
 },
 "nbformat": 4,
 "nbformat_minor": 2
}
