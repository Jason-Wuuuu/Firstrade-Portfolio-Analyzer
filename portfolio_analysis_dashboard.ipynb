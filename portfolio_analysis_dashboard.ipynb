{
 "cells": [
  {
   "cell_type": "code",
   "execution_count": 1,
   "metadata": {},
   "outputs": [],
   "source": [
    "import json\n",
    "import os\n",
    "import re\n",
    "import math\n",
    "from datetime import datetime, timedelta, time\n",
    "from collections import defaultdict\n",
    "from decimal import Decimal\n",
    "\n",
    "import pandas as pd\n",
    "\n",
    "import plotly.graph_objects as go\n",
    "from plotly.subplots import make_subplots\n",
    "from plotly.io import to_html\n",
    "\n",
    "import yfinance as yf\n",
    "\n",
    "from IPython.display import display, HTML\n",
    "\n",
    "from transaction_history_processor import PortfolioHistory"
   ]
  },
  {
   "cell_type": "code",
   "execution_count": 2,
   "metadata": {},
   "outputs": [],
   "source": [
    "def find_closest_date(dates, target_date):\n",
    "    target_date = pd.to_datetime(target_date)\n",
    "    dates = pd.to_datetime(dates)\n",
    "    closest_date = min(dates, key=lambda x: abs(x - target_date))\n",
    "    return closest_date.strftime('%Y-%m-%d')\n",
    "\n",
    "NOTEBOOK_DATE = None  # Set to None to use the latest date by default\n",
    "\n",
    "# To set a specific date, uncomment and modify the following line:\n",
    "NOTEBOOK_DATE = \"2023-12-19\""
   ]
  },
  {
   "cell_type": "code",
   "execution_count": 3,
   "metadata": {},
   "outputs": [
    {
     "name": "stderr",
     "output_type": "stream",
     "text": [
      "2024-09-26 17:20:21,132 - INFO - Successfully loaded transactions from transaction_history.json\n"
     ]
    },
    {
     "name": "stdout",
     "output_type": "stream",
     "text": [
      "Generating / updating portfolio_history.json...\n"
     ]
    },
    {
     "name": "stderr",
     "output_type": "stream",
     "text": [
      "[*********************100%%**********************]  10 of 10 completed\n",
      "[*********************100%%**********************]  10 of 10 completed\n",
      "2024-09-26 17:20:30,888 - INFO - Successfully fetched historical data and sector information for 20 symbols.\n",
      "2024-09-26 17:20:30,980 - INFO - Portfolio history and sectors saved to portfolio_history.json\n",
      "2024-09-26 17:20:30,980 - INFO - Successfully processed transaction history with 132 dates.\n"
     ]
    },
    {
     "name": "stdout",
     "output_type": "stream",
     "text": [
      "Split detected for NVDA on 2024-06-10. Ratio: 10.0000\n",
      "portfolio_history.json has been generated / updated.\n"
     ]
    }
   ],
   "source": [
    "# if not os.path.exists('portfolio_history.json'):\n",
    "\n",
    "print(\"Generating / updating portfolio_history.json...\")\n",
    "portfolio_history = PortfolioHistory()\n",
    "portfolio_history.process_transaction_history(\n",
    "    input_file='transaction_history.json',\n",
    "    save_output=True,\n",
    "    output_file='portfolio_history.json'\n",
    ")\n",
    "print(\"portfolio_history.json has been generated / updated.\")\n",
    "\n",
    "with open('portfolio_history.json', 'r') as f:\n",
    "    data = json.load(f)\n",
    "    sectors = data['sectors']\n",
    "    portfolio_data = data['portfolios']"
   ]
  },
  {
   "cell_type": "code",
   "execution_count": 4,
   "metadata": {},
   "outputs": [],
   "source": [
    "# Adjust NOTEBOOK_DATE if it's set but not available in the data\n",
    "if NOTEBOOK_DATE:\n",
    "    available_dates = sorted(portfolio_data.keys())\n",
    "    if NOTEBOOK_DATE not in available_dates:\n",
    "        closest_date = find_closest_date(available_dates, NOTEBOOK_DATE)\n",
    "        print(f\"No data available for {\n",
    "              NOTEBOOK_DATE}. Using closest available date: {closest_date}\")\n",
    "        NOTEBOOK_DATE = closest_date"
   ]
  },
  {
   "cell_type": "code",
   "execution_count": 5,
   "metadata": {},
   "outputs": [
    {
     "data": {
      "text/html": [
       "<h2>Portfolio Status as of 2023-12-19</h2>"
      ],
      "text/plain": [
       "<IPython.core.display.HTML object>"
      ]
     },
     "metadata": {},
     "output_type": "display_data"
    },
    {
     "data": {
      "text/html": [
       "<table border=\"1\" class=\"dataframe dataframe\">\n",
       "  <thead>\n",
       "    <tr style=\"text-align: right;\">\n",
       "      <th>Symbol</th>\n",
       "      <th>Quantity</th>\n",
       "      <th>Avg Cost</th>\n",
       "      <th>Market Price</th>\n",
       "      <th>Total Cost</th>\n",
       "      <th>Market Value</th>\n",
       "      <th>Unrealized P/L</th>\n",
       "      <th>Daily Change</th>\n",
       "    </tr>\n",
       "  </thead>\n",
       "  <tbody>\n",
       "    <tr>\n",
       "      <td>AAPL</td>\n",
       "      <td>3.00</td>\n",
       "      <td>175.16</td>\n",
       "      <td>196.20</td>\n",
       "      <td>526.29</td>\n",
       "      <td>589.48</td>\n",
       "      <td>$63.19 (12.01%)</td>\n",
       "      <td>$3.14 (0.54%)</td>\n",
       "    </tr>\n",
       "    <tr>\n",
       "      <td>DIS</td>\n",
       "      <td>20.00</td>\n",
       "      <td>84.05</td>\n",
       "      <td>93.50</td>\n",
       "      <td>1680.97</td>\n",
       "      <td>1869.97</td>\n",
       "      <td>$189.01 (11.24%)</td>\n",
       "      <td>$21.30 (1.15%)</td>\n",
       "    </tr>\n",
       "    <tr>\n",
       "      <td>GOOGL</td>\n",
       "      <td>5.00</td>\n",
       "      <td>126.71</td>\n",
       "      <td>136.31</td>\n",
       "      <td>633.56</td>\n",
       "      <td>681.56</td>\n",
       "      <td>$48.00 (7.58%)</td>\n",
       "      <td>$4.24 (0.63%)</td>\n",
       "    </tr>\n",
       "    <tr>\n",
       "      <td>PLTR</td>\n",
       "      <td>20.00</td>\n",
       "      <td>18.04</td>\n",
       "      <td>17.95</td>\n",
       "      <td>360.70</td>\n",
       "      <td>359.00</td>\n",
       "      <td>$-1.70 (-0.47%)</td>\n",
       "      <td>$2.20 (0.62%)</td>\n",
       "    </tr>\n",
       "    <tr>\n",
       "      <td>QQQ</td>\n",
       "      <td>2.00</td>\n",
       "      <td>363.03</td>\n",
       "      <td>407.18</td>\n",
       "      <td>726.46</td>\n",
       "      <td>814.81</td>\n",
       "      <td>$88.35 (12.16%)</td>\n",
       "      <td>$4.14 (0.51%)</td>\n",
       "    </tr>\n",
       "    <tr>\n",
       "      <td>SPY</td>\n",
       "      <td>3.01</td>\n",
       "      <td>439.46</td>\n",
       "      <td>470.40</td>\n",
       "      <td>1320.72</td>\n",
       "      <td>1413.73</td>\n",
       "      <td>$93.01 (7.04%)</td>\n",
       "      <td>$8.54 (0.61%)</td>\n",
       "    </tr>\n",
       "    <tr>\n",
       "      <td>TSLA</td>\n",
       "      <td>30.00</td>\n",
       "      <td>215.75</td>\n",
       "      <td>257.22</td>\n",
       "      <td>6472.38</td>\n",
       "      <td>7716.60</td>\n",
       "      <td>$1,244.22 (19.22%)</td>\n",
       "      <td>$154.20 (2.04%)</td>\n",
       "    </tr>\n",
       "    <tr>\n",
       "      <td>TSM</td>\n",
       "      <td>10.02</td>\n",
       "      <td>88.70</td>\n",
       "      <td>102.75</td>\n",
       "      <td>888.38</td>\n",
       "      <td>1029.09</td>\n",
       "      <td>$140.71 (15.84%)</td>\n",
       "      <td>$9.31 (0.91%)</td>\n",
       "    </tr>\n",
       "  </tbody>\n",
       "</table>"
      ],
      "text/plain": [
       "<IPython.core.display.HTML object>"
      ]
     },
     "metadata": {},
     "output_type": "display_data"
    },
    {
     "name": "stdout",
     "output_type": "stream",
     "text": [
      "\n",
      "Portfolio Summary:\n",
      "Cash: $592.13\n",
      "Total Value: $15,066.38\n",
      "Total Market Value: $14,474.25\n",
      "Total Deposits: $13,000.00\n",
      "Unrealized Profit/Loss: $1,864.79 (14.79%)\n",
      "Realized Profit/Loss: $194.61 (1.50%)\n",
      "Daily Gain: $207.08 (1.39%)\n",
      "\n",
      "Closed Positions:\n"
     ]
    },
    {
     "data": {
      "text/html": [
       "<table border=\"1\" class=\"dataframe dataframe\">\n",
       "  <thead>\n",
       "    <tr style=\"text-align: right;\">\n",
       "      <th>Symbol</th>\n",
       "      <th>Close Date</th>\n",
       "      <th>Quantity</th>\n",
       "      <th>Cost Basis</th>\n",
       "      <th>Realized P/L</th>\n",
       "      <th>Realized Return</th>\n",
       "    </tr>\n",
       "  </thead>\n",
       "  <tbody>\n",
       "    <tr>\n",
       "      <td>SONY</td>\n",
       "      <td>2023-10-24</td>\n",
       "      <td>2.0</td>\n",
       "      <td>165.8</td>\n",
       "      <td>$1.93</td>\n",
       "      <td>1.16%</td>\n",
       "    </tr>\n",
       "    <tr>\n",
       "      <td>PLTR</td>\n",
       "      <td>2023-11-03</td>\n",
       "      <td>30.0</td>\n",
       "      <td>440.0</td>\n",
       "      <td>$109.17</td>\n",
       "      <td>24.81%</td>\n",
       "    </tr>\n",
       "    <tr>\n",
       "      <td>AMD</td>\n",
       "      <td>2023-11-14</td>\n",
       "      <td>3.0</td>\n",
       "      <td>298.02</td>\n",
       "      <td>$63.14</td>\n",
       "      <td>21.19%</td>\n",
       "    </tr>\n",
       "  </tbody>\n",
       "</table>"
      ],
      "text/plain": [
       "<IPython.core.display.HTML object>"
      ]
     },
     "metadata": {},
     "output_type": "display_data"
    },
    {
     "name": "stdout",
     "output_type": "stream",
     "text": [
      "\n",
      "Partially Sold Positions:\n"
     ]
    },
    {
     "data": {
      "text/html": [
       "<table border=\"1\" class=\"dataframe dataframe\">\n",
       "  <thead>\n",
       "    <tr style=\"text-align: right;\">\n",
       "      <th>Symbol</th>\n",
       "      <th>Last Sell Date</th>\n",
       "      <th>Quantity</th>\n",
       "      <th>Cost Basis</th>\n",
       "      <th>Realized P/L</th>\n",
       "      <th>Realized Return</th>\n",
       "    </tr>\n",
       "  </thead>\n",
       "  <tbody>\n",
       "    <tr>\n",
       "      <td>DIS</td>\n",
       "      <td>2023-11-09</td>\n",
       "      <td>3.0</td>\n",
       "      <td>252.1447826</td>\n",
       "      <td>$20.37</td>\n",
       "      <td>8.08%</td>\n",
       "    </tr>\n",
       "  </tbody>\n",
       "</table>"
      ],
      "text/plain": [
       "<IPython.core.display.HTML object>"
      ]
     },
     "metadata": {},
     "output_type": "display_data"
    }
   ],
   "source": [
    "def process_portfolio_data(portfolio_data, date=None, sort_by='Symbol', ascending=True):\n",
    "    date = NOTEBOOK_DATE or date or max(portfolio_data.keys())\n",
    "    if date not in portfolio_data:\n",
    "        raise ValueError(f\"No data available for date: {date}\")\n",
    "\n",
    "    data = portfolio_data[date]\n",
    "    holdings_data = process_holdings(data['holdings'])\n",
    "\n",
    "    df = pd.DataFrame(holdings_data)\n",
    "    df = df.sort_values(by=sort_by, ascending=ascending)\n",
    "\n",
    "    closed_positions_df = process_closed_positions(data['closed_positions'])\n",
    "    partially_sold_positions_df = process_partially_sold_positions(\n",
    "        data['partially_sold_positions'])\n",
    "\n",
    "    return {\n",
    "        'date': date,\n",
    "        'holdings': df,\n",
    "        'summary': data['summary'],\n",
    "        'closed_positions': closed_positions_df,\n",
    "        'partially_sold_positions': partially_sold_positions_df,\n",
    "    }\n",
    "\n",
    "def process_holdings(holdings):\n",
    "    return [\n",
    "        {\n",
    "            'Symbol': symbol,\n",
    "            'Quantity': round(float(info['quantity']), 2),\n",
    "            'Avg Cost': round(float(info['average_cost']), 2),\n",
    "            'Market Price': round(float(info['market_price']), 2),\n",
    "            'Total Cost': round(float(info['cost_basis']), 2),\n",
    "            'Market Value': round(float(info['market_value']), 2),\n",
    "            'Unrealized P/L': f\"${float(info['unrealized_pnl']):,.2f} ({float(info['unrealized_return'])*100:.2f}%)\",\n",
    "            'Daily Change': f\"${float(info['daily_change']):,.2f} ({float(info['daily_return'])*100:.2f}%)\"\n",
    "        }\n",
    "        for symbol, info in holdings.items()\n",
    "    ]\n",
    "\n",
    "def process_closed_positions(closed_positions):\n",
    "    df = pd.DataFrame(closed_positions).T.reset_index()\n",
    "    df.columns = ['Symbol', 'Close Date', 'Quantity',\n",
    "                  'Cost Basis', 'Realized P/L', 'Realized Return']\n",
    "    df['Realized P/L'] = df['Realized P/L'].apply(\n",
    "        lambda x: f\"${float(x):,.2f}\")\n",
    "    df['Realized Return'] = df['Realized Return'].apply(\n",
    "        lambda x: f\"{float(x)*100:.2f}%\")  # Multiply by 100 here\n",
    "    return df\n",
    "\n",
    "def process_partially_sold_positions(partially_sold_positions):\n",
    "    df = pd.DataFrame(partially_sold_positions).T.reset_index()\n",
    "    df.columns = ['Symbol', 'Last Sell Date', 'Quantity',\n",
    "                  'Cost Basis', 'Realized P/L', 'Realized Return']\n",
    "    df['Realized P/L'] = df['Realized P/L'].apply(\n",
    "        lambda x: f\"${float(x):,.2f}\")\n",
    "    df['Realized Return'] = df['Realized Return'].apply(\n",
    "        lambda x: f\"{float(x)*100:.2f}%\")  # Multiply by 100 here\n",
    "    return df\n",
    "\n",
    "def display_portfolio_analysis(processed_data):\n",
    "    date = processed_data['date']\n",
    "    df = processed_data['holdings']\n",
    "    summary = processed_data['summary']\n",
    "    closed_positions_df = processed_data['closed_positions']\n",
    "    partially_sold_positions_df = processed_data['partially_sold_positions']\n",
    "\n",
    "    # Display holdings\n",
    "    display(HTML(f\"<h2>Portfolio Status as of {date}</h2>\"))\n",
    "    display(HTML(df.to_html(index=False, classes='dataframe')))\n",
    "\n",
    "    # Display summary\n",
    "    print(\"\\nPortfolio Summary:\")\n",
    "    print_summary_item(\"Cash\", summary['cash'])\n",
    "    print_summary_item(\"Total Value\", summary['total_value'])\n",
    "    print_summary_item(\"Total Market Value\", summary['total_market_value'])\n",
    "    print_summary_item(\"Total Deposits\", summary['total_deposits'])\n",
    "\n",
    "    # Display Unrealized Gain/Loss with percentage\n",
    "    total_unrealized_pnl = summary['total_unrealized_pnl']\n",
    "    total_unrealized_return = summary['total_unrealized_return']\n",
    "    print(f\"Unrealized Profit/Loss: ${float(total_unrealized_pnl)\n",
    "          :,.2f} ({float(total_unrealized_return)*100:.2f}%)\")\n",
    "\n",
    "    total_realized_pnl = summary['total_realized_pnl']\n",
    "    total_realized_return = summary['total_realized_return']\n",
    "    print(f\"Realized Profit/Loss: ${float(total_realized_pnl)\n",
    "          :,.2f} ({float(total_realized_return)*100:.2f}%)\")\n",
    "\n",
    "    # Display daily gain\n",
    "    daily_gain_loss = summary['total_daily_change']\n",
    "    daily_return = summary['total_daily_return']\n",
    "    print(f\"Daily Gain: ${float(daily_gain_loss)\n",
    "          :,.2f} ({float(daily_return)*100:.2f}%)\")\n",
    "\n",
    "    # Display closed positions\n",
    "    print(\"\\nClosed Positions:\")\n",
    "    display(HTML(closed_positions_df.to_html(index=False, classes='dataframe')))\n",
    "\n",
    "    # Display partially sold positions\n",
    "    print(\"\\nPartially Sold Positions:\")\n",
    "    display(HTML(partially_sold_positions_df.to_html(\n",
    "        index=False, classes='dataframe')))\n",
    "\n",
    "def print_summary_item(label, value, is_percentage=False):\n",
    "    if is_percentage:\n",
    "        print(f\"{label}: {float(value)*100:.2f}%\")\n",
    "    else:\n",
    "        print(f\"{label}: ${float(value):,.2f}\")\n",
    "\n",
    "\n",
    "# Example usage:\n",
    "\n",
    "# processed_data = process_portfolio_data(portfolio_data, date=\"2024-03-21\")\n",
    "processed_data = process_portfolio_data(portfolio_data)\n",
    "\n",
    "display_portfolio_analysis(processed_data)"
   ]
  },
  {
   "cell_type": "code",
   "execution_count": 6,
   "metadata": {},
   "outputs": [
    {
     "data": {
      "application/vnd.plotly.v1+json": {
       "config": {
        "plotlyServerURL": "https://plot.ly"
       },
       "data": [
        {
         "hoverinfo": "text",
         "hovertext": [
          "TSLA<br>$7,716.60<br>53.31%",
          "DIS<br>$1,869.97<br>12.92%",
          "SPY<br>$1,413.73<br>9.77%",
          "TSM<br>$1,029.09<br>7.11%",
          "QQQ<br>$814.81<br>5.63%",
          "GOOGL<br>$681.56<br>4.71%",
          "AAPL<br>$589.48<br>4.07%",
          "PLTR<br>$359.00<br>2.48%"
         ],
         "labels": [
          "TSLA",
          "DIS",
          "SPY",
          "TSM",
          "QQQ",
          "GOOGL",
          "AAPL",
          "PLTR"
         ],
         "text": [
          "$7,716.60",
          "$1,869.97",
          "$1,413.73",
          "$1,029.09",
          "$814.81",
          "$681.56",
          "$589.48",
          "$359.00"
         ],
         "textinfo": "label+percent",
         "textposition": "inside",
         "type": "pie",
         "values": [
          53.312623389575094,
          12.919311255776773,
          9.767204008920157,
          7.1097669787702396,
          5.629398555092415,
          4.708793583861492,
          4.0726346852038064,
          2.480267542800028
         ]
        }
       ],
       "layout": {
        "legend": {
         "title": {
          "text": "Holdings"
         }
        },
        "showlegend": true,
        "template": {
         "data": {
          "bar": [
           {
            "error_x": {
             "color": "#2a3f5f"
            },
            "error_y": {
             "color": "#2a3f5f"
            },
            "marker": {
             "line": {
              "color": "#E5ECF6",
              "width": 0.5
             },
             "pattern": {
              "fillmode": "overlay",
              "size": 10,
              "solidity": 0.2
             }
            },
            "type": "bar"
           }
          ],
          "barpolar": [
           {
            "marker": {
             "line": {
              "color": "#E5ECF6",
              "width": 0.5
             },
             "pattern": {
              "fillmode": "overlay",
              "size": 10,
              "solidity": 0.2
             }
            },
            "type": "barpolar"
           }
          ],
          "carpet": [
           {
            "aaxis": {
             "endlinecolor": "#2a3f5f",
             "gridcolor": "white",
             "linecolor": "white",
             "minorgridcolor": "white",
             "startlinecolor": "#2a3f5f"
            },
            "baxis": {
             "endlinecolor": "#2a3f5f",
             "gridcolor": "white",
             "linecolor": "white",
             "minorgridcolor": "white",
             "startlinecolor": "#2a3f5f"
            },
            "type": "carpet"
           }
          ],
          "choropleth": [
           {
            "colorbar": {
             "outlinewidth": 0,
             "ticks": ""
            },
            "type": "choropleth"
           }
          ],
          "contour": [
           {
            "colorbar": {
             "outlinewidth": 0,
             "ticks": ""
            },
            "colorscale": [
             [
              0,
              "#0d0887"
             ],
             [
              0.1111111111111111,
              "#46039f"
             ],
             [
              0.2222222222222222,
              "#7201a8"
             ],
             [
              0.3333333333333333,
              "#9c179e"
             ],
             [
              0.4444444444444444,
              "#bd3786"
             ],
             [
              0.5555555555555556,
              "#d8576b"
             ],
             [
              0.6666666666666666,
              "#ed7953"
             ],
             [
              0.7777777777777778,
              "#fb9f3a"
             ],
             [
              0.8888888888888888,
              "#fdca26"
             ],
             [
              1,
              "#f0f921"
             ]
            ],
            "type": "contour"
           }
          ],
          "contourcarpet": [
           {
            "colorbar": {
             "outlinewidth": 0,
             "ticks": ""
            },
            "type": "contourcarpet"
           }
          ],
          "heatmap": [
           {
            "colorbar": {
             "outlinewidth": 0,
             "ticks": ""
            },
            "colorscale": [
             [
              0,
              "#0d0887"
             ],
             [
              0.1111111111111111,
              "#46039f"
             ],
             [
              0.2222222222222222,
              "#7201a8"
             ],
             [
              0.3333333333333333,
              "#9c179e"
             ],
             [
              0.4444444444444444,
              "#bd3786"
             ],
             [
              0.5555555555555556,
              "#d8576b"
             ],
             [
              0.6666666666666666,
              "#ed7953"
             ],
             [
              0.7777777777777778,
              "#fb9f3a"
             ],
             [
              0.8888888888888888,
              "#fdca26"
             ],
             [
              1,
              "#f0f921"
             ]
            ],
            "type": "heatmap"
           }
          ],
          "heatmapgl": [
           {
            "colorbar": {
             "outlinewidth": 0,
             "ticks": ""
            },
            "colorscale": [
             [
              0,
              "#0d0887"
             ],
             [
              0.1111111111111111,
              "#46039f"
             ],
             [
              0.2222222222222222,
              "#7201a8"
             ],
             [
              0.3333333333333333,
              "#9c179e"
             ],
             [
              0.4444444444444444,
              "#bd3786"
             ],
             [
              0.5555555555555556,
              "#d8576b"
             ],
             [
              0.6666666666666666,
              "#ed7953"
             ],
             [
              0.7777777777777778,
              "#fb9f3a"
             ],
             [
              0.8888888888888888,
              "#fdca26"
             ],
             [
              1,
              "#f0f921"
             ]
            ],
            "type": "heatmapgl"
           }
          ],
          "histogram": [
           {
            "marker": {
             "pattern": {
              "fillmode": "overlay",
              "size": 10,
              "solidity": 0.2
             }
            },
            "type": "histogram"
           }
          ],
          "histogram2d": [
           {
            "colorbar": {
             "outlinewidth": 0,
             "ticks": ""
            },
            "colorscale": [
             [
              0,
              "#0d0887"
             ],
             [
              0.1111111111111111,
              "#46039f"
             ],
             [
              0.2222222222222222,
              "#7201a8"
             ],
             [
              0.3333333333333333,
              "#9c179e"
             ],
             [
              0.4444444444444444,
              "#bd3786"
             ],
             [
              0.5555555555555556,
              "#d8576b"
             ],
             [
              0.6666666666666666,
              "#ed7953"
             ],
             [
              0.7777777777777778,
              "#fb9f3a"
             ],
             [
              0.8888888888888888,
              "#fdca26"
             ],
             [
              1,
              "#f0f921"
             ]
            ],
            "type": "histogram2d"
           }
          ],
          "histogram2dcontour": [
           {
            "colorbar": {
             "outlinewidth": 0,
             "ticks": ""
            },
            "colorscale": [
             [
              0,
              "#0d0887"
             ],
             [
              0.1111111111111111,
              "#46039f"
             ],
             [
              0.2222222222222222,
              "#7201a8"
             ],
             [
              0.3333333333333333,
              "#9c179e"
             ],
             [
              0.4444444444444444,
              "#bd3786"
             ],
             [
              0.5555555555555556,
              "#d8576b"
             ],
             [
              0.6666666666666666,
              "#ed7953"
             ],
             [
              0.7777777777777778,
              "#fb9f3a"
             ],
             [
              0.8888888888888888,
              "#fdca26"
             ],
             [
              1,
              "#f0f921"
             ]
            ],
            "type": "histogram2dcontour"
           }
          ],
          "mesh3d": [
           {
            "colorbar": {
             "outlinewidth": 0,
             "ticks": ""
            },
            "type": "mesh3d"
           }
          ],
          "parcoords": [
           {
            "line": {
             "colorbar": {
              "outlinewidth": 0,
              "ticks": ""
             }
            },
            "type": "parcoords"
           }
          ],
          "pie": [
           {
            "automargin": true,
            "type": "pie"
           }
          ],
          "scatter": [
           {
            "fillpattern": {
             "fillmode": "overlay",
             "size": 10,
             "solidity": 0.2
            },
            "type": "scatter"
           }
          ],
          "scatter3d": [
           {
            "line": {
             "colorbar": {
              "outlinewidth": 0,
              "ticks": ""
             }
            },
            "marker": {
             "colorbar": {
              "outlinewidth": 0,
              "ticks": ""
             }
            },
            "type": "scatter3d"
           }
          ],
          "scattercarpet": [
           {
            "marker": {
             "colorbar": {
              "outlinewidth": 0,
              "ticks": ""
             }
            },
            "type": "scattercarpet"
           }
          ],
          "scattergeo": [
           {
            "marker": {
             "colorbar": {
              "outlinewidth": 0,
              "ticks": ""
             }
            },
            "type": "scattergeo"
           }
          ],
          "scattergl": [
           {
            "marker": {
             "colorbar": {
              "outlinewidth": 0,
              "ticks": ""
             }
            },
            "type": "scattergl"
           }
          ],
          "scattermapbox": [
           {
            "marker": {
             "colorbar": {
              "outlinewidth": 0,
              "ticks": ""
             }
            },
            "type": "scattermapbox"
           }
          ],
          "scatterpolar": [
           {
            "marker": {
             "colorbar": {
              "outlinewidth": 0,
              "ticks": ""
             }
            },
            "type": "scatterpolar"
           }
          ],
          "scatterpolargl": [
           {
            "marker": {
             "colorbar": {
              "outlinewidth": 0,
              "ticks": ""
             }
            },
            "type": "scatterpolargl"
           }
          ],
          "scatterternary": [
           {
            "marker": {
             "colorbar": {
              "outlinewidth": 0,
              "ticks": ""
             }
            },
            "type": "scatterternary"
           }
          ],
          "surface": [
           {
            "colorbar": {
             "outlinewidth": 0,
             "ticks": ""
            },
            "colorscale": [
             [
              0,
              "#0d0887"
             ],
             [
              0.1111111111111111,
              "#46039f"
             ],
             [
              0.2222222222222222,
              "#7201a8"
             ],
             [
              0.3333333333333333,
              "#9c179e"
             ],
             [
              0.4444444444444444,
              "#bd3786"
             ],
             [
              0.5555555555555556,
              "#d8576b"
             ],
             [
              0.6666666666666666,
              "#ed7953"
             ],
             [
              0.7777777777777778,
              "#fb9f3a"
             ],
             [
              0.8888888888888888,
              "#fdca26"
             ],
             [
              1,
              "#f0f921"
             ]
            ],
            "type": "surface"
           }
          ],
          "table": [
           {
            "cells": {
             "fill": {
              "color": "#EBF0F8"
             },
             "line": {
              "color": "white"
             }
            },
            "header": {
             "fill": {
              "color": "#C8D4E3"
             },
             "line": {
              "color": "white"
             }
            },
            "type": "table"
           }
          ]
         },
         "layout": {
          "annotationdefaults": {
           "arrowcolor": "#2a3f5f",
           "arrowhead": 0,
           "arrowwidth": 1
          },
          "autotypenumbers": "strict",
          "coloraxis": {
           "colorbar": {
            "outlinewidth": 0,
            "ticks": ""
           }
          },
          "colorscale": {
           "diverging": [
            [
             0,
             "#8e0152"
            ],
            [
             0.1,
             "#c51b7d"
            ],
            [
             0.2,
             "#de77ae"
            ],
            [
             0.3,
             "#f1b6da"
            ],
            [
             0.4,
             "#fde0ef"
            ],
            [
             0.5,
             "#f7f7f7"
            ],
            [
             0.6,
             "#e6f5d0"
            ],
            [
             0.7,
             "#b8e186"
            ],
            [
             0.8,
             "#7fbc41"
            ],
            [
             0.9,
             "#4d9221"
            ],
            [
             1,
             "#276419"
            ]
           ],
           "sequential": [
            [
             0,
             "#0d0887"
            ],
            [
             0.1111111111111111,
             "#46039f"
            ],
            [
             0.2222222222222222,
             "#7201a8"
            ],
            [
             0.3333333333333333,
             "#9c179e"
            ],
            [
             0.4444444444444444,
             "#bd3786"
            ],
            [
             0.5555555555555556,
             "#d8576b"
            ],
            [
             0.6666666666666666,
             "#ed7953"
            ],
            [
             0.7777777777777778,
             "#fb9f3a"
            ],
            [
             0.8888888888888888,
             "#fdca26"
            ],
            [
             1,
             "#f0f921"
            ]
           ],
           "sequentialminus": [
            [
             0,
             "#0d0887"
            ],
            [
             0.1111111111111111,
             "#46039f"
            ],
            [
             0.2222222222222222,
             "#7201a8"
            ],
            [
             0.3333333333333333,
             "#9c179e"
            ],
            [
             0.4444444444444444,
             "#bd3786"
            ],
            [
             0.5555555555555556,
             "#d8576b"
            ],
            [
             0.6666666666666666,
             "#ed7953"
            ],
            [
             0.7777777777777778,
             "#fb9f3a"
            ],
            [
             0.8888888888888888,
             "#fdca26"
            ],
            [
             1,
             "#f0f921"
            ]
           ]
          },
          "colorway": [
           "#636efa",
           "#EF553B",
           "#00cc96",
           "#ab63fa",
           "#FFA15A",
           "#19d3f3",
           "#FF6692",
           "#B6E880",
           "#FF97FF",
           "#FECB52"
          ],
          "font": {
           "color": "#2a3f5f"
          },
          "geo": {
           "bgcolor": "white",
           "lakecolor": "white",
           "landcolor": "#E5ECF6",
           "showlakes": true,
           "showland": true,
           "subunitcolor": "white"
          },
          "hoverlabel": {
           "align": "left"
          },
          "hovermode": "closest",
          "mapbox": {
           "style": "light"
          },
          "paper_bgcolor": "white",
          "plot_bgcolor": "#E5ECF6",
          "polar": {
           "angularaxis": {
            "gridcolor": "white",
            "linecolor": "white",
            "ticks": ""
           },
           "bgcolor": "#E5ECF6",
           "radialaxis": {
            "gridcolor": "white",
            "linecolor": "white",
            "ticks": ""
           }
          },
          "scene": {
           "xaxis": {
            "backgroundcolor": "#E5ECF6",
            "gridcolor": "white",
            "gridwidth": 2,
            "linecolor": "white",
            "showbackground": true,
            "ticks": "",
            "zerolinecolor": "white"
           },
           "yaxis": {
            "backgroundcolor": "#E5ECF6",
            "gridcolor": "white",
            "gridwidth": 2,
            "linecolor": "white",
            "showbackground": true,
            "ticks": "",
            "zerolinecolor": "white"
           },
           "zaxis": {
            "backgroundcolor": "#E5ECF6",
            "gridcolor": "white",
            "gridwidth": 2,
            "linecolor": "white",
            "showbackground": true,
            "ticks": "",
            "zerolinecolor": "white"
           }
          },
          "shapedefaults": {
           "line": {
            "color": "#2a3f5f"
           }
          },
          "ternary": {
           "aaxis": {
            "gridcolor": "white",
            "linecolor": "white",
            "ticks": ""
           },
           "baxis": {
            "gridcolor": "white",
            "linecolor": "white",
            "ticks": ""
           },
           "bgcolor": "#E5ECF6",
           "caxis": {
            "gridcolor": "white",
            "linecolor": "white",
            "ticks": ""
           }
          },
          "title": {
           "x": 0.05
          },
          "xaxis": {
           "automargin": true,
           "gridcolor": "white",
           "linecolor": "white",
           "ticks": "",
           "title": {
            "standoff": 15
           },
           "zerolinecolor": "white",
           "zerolinewidth": 2
          },
          "yaxis": {
           "automargin": true,
           "gridcolor": "white",
           "linecolor": "white",
           "ticks": "",
           "title": {
            "standoff": 15
           },
           "zerolinecolor": "white",
           "zerolinewidth": 2
          }
         }
        },
        "title": {
         "text": "Stock Proportions by Value on 2023-12-19"
        }
       }
      }
     },
     "metadata": {},
     "output_type": "display_data"
    }
   ],
   "source": [
    "def plot_stock_proportions(portfolio_data, date=None, show_values=True, main_threshold=3.0):\n",
    "    date = NOTEBOOK_DATE or date or max(portfolio_data.keys())\n",
    "    if date not in portfolio_data:\n",
    "        raise ValueError(f\"No data available for date: {date}\")\n",
    "\n",
    "    holdings = portfolio_data[date]['holdings']\n",
    "    labels = list(holdings.keys())\n",
    "    values = [float(data['market_value']) for data in holdings.values()]\n",
    "\n",
    "    total = sum(values)\n",
    "    percentages = [(value / total) * 100 for value in values]\n",
    "\n",
    "    main_holdings = list(zip(labels, values, percentages))\n",
    "    main_holdings.sort(key=lambda x: x[2], reverse=True)\n",
    "\n",
    "    other_holdings = [h for h in main_holdings if h[2] < main_threshold]\n",
    "    if len(other_holdings) > 1:\n",
    "        others_value = sum(v for _, v, _ in other_holdings)\n",
    "        others_percentage = sum(p for _, _, p in other_holdings)\n",
    "        other_symbols_info = \"<br>\".join(f\"<span style='font-family: monospace;'>{l:<5}\\t{\n",
    "                                         p:>6.2f}%</span>\" for l, _, p in other_holdings)\n",
    "        main_holdings = [h for h in main_holdings if h[2] >=\n",
    "                         main_threshold] + [(\"Others\", others_value, others_percentage)]\n",
    "\n",
    "    main_labels, main_values, main_percentages = zip(*main_holdings)\n",
    "\n",
    "    # Create custom hover text\n",
    "    hover_text = [f\"{label}<br>${value:,.2f}<br>{percentage:.2f}%\" for label,\n",
    "                  value, percentage in zip(main_labels, main_values, main_percentages)]\n",
    "    if \"Others\" in main_labels:\n",
    "        others_index = main_labels.index(\"Others\")\n",
    "        hover_text[others_index] += f\"<br><br>{other_symbols_info}\"\n",
    "\n",
    "    fig = go.Figure(data=[go.Pie(labels=main_labels,\n",
    "                                 values=main_percentages,\n",
    "                                 textinfo='label+percent',\n",
    "                                 hovertext=hover_text,\n",
    "                                 hoverinfo='text')])\n",
    "\n",
    "    fig.update_layout(\n",
    "        title=f'Stock Proportions by Value on {date}',\n",
    "        showlegend=True,\n",
    "        legend=dict(title=\"Holdings\")\n",
    "    )\n",
    "\n",
    "    if show_values:\n",
    "        fig.update_traces(\n",
    "            text=[f'${value:,.2f}' for value in main_values], textposition='inside')\n",
    "\n",
    "    return fig\n",
    "\n",
    "\n",
    "# Example usage:\n",
    "# plot_stock_proportions(portfolio_data, date=\"2024-04-10\", show_values=False)\n",
    "plot_stock_proportions(portfolio_data)"
   ]
  },
  {
   "cell_type": "code",
   "execution_count": 7,
   "metadata": {},
   "outputs": [
    {
     "data": {
      "application/vnd.plotly.v1+json": {
       "config": {
        "plotlyServerURL": "https://plot.ly"
       },
       "data": [
        {
         "hoverinfo": "text",
         "hovertext": [
          "ETF<br>$2,228.54<br>15.40%",
          "Consumer Cyclical<br>$7,716.60<br>53.31%",
          "Technology<br>$1,977.57<br>13.66%",
          "Communication Services<br>$2,551.54<br>17.63%"
         ],
         "labels": [
          "ETF",
          "Consumer<br>Cyclical",
          "Technology",
          "Communication<br>Services"
         ],
         "text": [
          "$2,228.54",
          "$7,716.60",
          "$1,977.57",
          "$2,551.54"
         ],
         "textinfo": "label+percent",
         "type": "pie",
         "values": [
          2228.5420667999997,
          7716.600037,
          1977.5682944,
          2551.5351864
         ]
        }
       ],
       "layout": {
        "legend": {
         "title": {
          "text": "Sectors"
         }
        },
        "showlegend": true,
        "template": {
         "data": {
          "bar": [
           {
            "error_x": {
             "color": "#2a3f5f"
            },
            "error_y": {
             "color": "#2a3f5f"
            },
            "marker": {
             "line": {
              "color": "#E5ECF6",
              "width": 0.5
             },
             "pattern": {
              "fillmode": "overlay",
              "size": 10,
              "solidity": 0.2
             }
            },
            "type": "bar"
           }
          ],
          "barpolar": [
           {
            "marker": {
             "line": {
              "color": "#E5ECF6",
              "width": 0.5
             },
             "pattern": {
              "fillmode": "overlay",
              "size": 10,
              "solidity": 0.2
             }
            },
            "type": "barpolar"
           }
          ],
          "carpet": [
           {
            "aaxis": {
             "endlinecolor": "#2a3f5f",
             "gridcolor": "white",
             "linecolor": "white",
             "minorgridcolor": "white",
             "startlinecolor": "#2a3f5f"
            },
            "baxis": {
             "endlinecolor": "#2a3f5f",
             "gridcolor": "white",
             "linecolor": "white",
             "minorgridcolor": "white",
             "startlinecolor": "#2a3f5f"
            },
            "type": "carpet"
           }
          ],
          "choropleth": [
           {
            "colorbar": {
             "outlinewidth": 0,
             "ticks": ""
            },
            "type": "choropleth"
           }
          ],
          "contour": [
           {
            "colorbar": {
             "outlinewidth": 0,
             "ticks": ""
            },
            "colorscale": [
             [
              0,
              "#0d0887"
             ],
             [
              0.1111111111111111,
              "#46039f"
             ],
             [
              0.2222222222222222,
              "#7201a8"
             ],
             [
              0.3333333333333333,
              "#9c179e"
             ],
             [
              0.4444444444444444,
              "#bd3786"
             ],
             [
              0.5555555555555556,
              "#d8576b"
             ],
             [
              0.6666666666666666,
              "#ed7953"
             ],
             [
              0.7777777777777778,
              "#fb9f3a"
             ],
             [
              0.8888888888888888,
              "#fdca26"
             ],
             [
              1,
              "#f0f921"
             ]
            ],
            "type": "contour"
           }
          ],
          "contourcarpet": [
           {
            "colorbar": {
             "outlinewidth": 0,
             "ticks": ""
            },
            "type": "contourcarpet"
           }
          ],
          "heatmap": [
           {
            "colorbar": {
             "outlinewidth": 0,
             "ticks": ""
            },
            "colorscale": [
             [
              0,
              "#0d0887"
             ],
             [
              0.1111111111111111,
              "#46039f"
             ],
             [
              0.2222222222222222,
              "#7201a8"
             ],
             [
              0.3333333333333333,
              "#9c179e"
             ],
             [
              0.4444444444444444,
              "#bd3786"
             ],
             [
              0.5555555555555556,
              "#d8576b"
             ],
             [
              0.6666666666666666,
              "#ed7953"
             ],
             [
              0.7777777777777778,
              "#fb9f3a"
             ],
             [
              0.8888888888888888,
              "#fdca26"
             ],
             [
              1,
              "#f0f921"
             ]
            ],
            "type": "heatmap"
           }
          ],
          "heatmapgl": [
           {
            "colorbar": {
             "outlinewidth": 0,
             "ticks": ""
            },
            "colorscale": [
             [
              0,
              "#0d0887"
             ],
             [
              0.1111111111111111,
              "#46039f"
             ],
             [
              0.2222222222222222,
              "#7201a8"
             ],
             [
              0.3333333333333333,
              "#9c179e"
             ],
             [
              0.4444444444444444,
              "#bd3786"
             ],
             [
              0.5555555555555556,
              "#d8576b"
             ],
             [
              0.6666666666666666,
              "#ed7953"
             ],
             [
              0.7777777777777778,
              "#fb9f3a"
             ],
             [
              0.8888888888888888,
              "#fdca26"
             ],
             [
              1,
              "#f0f921"
             ]
            ],
            "type": "heatmapgl"
           }
          ],
          "histogram": [
           {
            "marker": {
             "pattern": {
              "fillmode": "overlay",
              "size": 10,
              "solidity": 0.2
             }
            },
            "type": "histogram"
           }
          ],
          "histogram2d": [
           {
            "colorbar": {
             "outlinewidth": 0,
             "ticks": ""
            },
            "colorscale": [
             [
              0,
              "#0d0887"
             ],
             [
              0.1111111111111111,
              "#46039f"
             ],
             [
              0.2222222222222222,
              "#7201a8"
             ],
             [
              0.3333333333333333,
              "#9c179e"
             ],
             [
              0.4444444444444444,
              "#bd3786"
             ],
             [
              0.5555555555555556,
              "#d8576b"
             ],
             [
              0.6666666666666666,
              "#ed7953"
             ],
             [
              0.7777777777777778,
              "#fb9f3a"
             ],
             [
              0.8888888888888888,
              "#fdca26"
             ],
             [
              1,
              "#f0f921"
             ]
            ],
            "type": "histogram2d"
           }
          ],
          "histogram2dcontour": [
           {
            "colorbar": {
             "outlinewidth": 0,
             "ticks": ""
            },
            "colorscale": [
             [
              0,
              "#0d0887"
             ],
             [
              0.1111111111111111,
              "#46039f"
             ],
             [
              0.2222222222222222,
              "#7201a8"
             ],
             [
              0.3333333333333333,
              "#9c179e"
             ],
             [
              0.4444444444444444,
              "#bd3786"
             ],
             [
              0.5555555555555556,
              "#d8576b"
             ],
             [
              0.6666666666666666,
              "#ed7953"
             ],
             [
              0.7777777777777778,
              "#fb9f3a"
             ],
             [
              0.8888888888888888,
              "#fdca26"
             ],
             [
              1,
              "#f0f921"
             ]
            ],
            "type": "histogram2dcontour"
           }
          ],
          "mesh3d": [
           {
            "colorbar": {
             "outlinewidth": 0,
             "ticks": ""
            },
            "type": "mesh3d"
           }
          ],
          "parcoords": [
           {
            "line": {
             "colorbar": {
              "outlinewidth": 0,
              "ticks": ""
             }
            },
            "type": "parcoords"
           }
          ],
          "pie": [
           {
            "automargin": true,
            "type": "pie"
           }
          ],
          "scatter": [
           {
            "fillpattern": {
             "fillmode": "overlay",
             "size": 10,
             "solidity": 0.2
            },
            "type": "scatter"
           }
          ],
          "scatter3d": [
           {
            "line": {
             "colorbar": {
              "outlinewidth": 0,
              "ticks": ""
             }
            },
            "marker": {
             "colorbar": {
              "outlinewidth": 0,
              "ticks": ""
             }
            },
            "type": "scatter3d"
           }
          ],
          "scattercarpet": [
           {
            "marker": {
             "colorbar": {
              "outlinewidth": 0,
              "ticks": ""
             }
            },
            "type": "scattercarpet"
           }
          ],
          "scattergeo": [
           {
            "marker": {
             "colorbar": {
              "outlinewidth": 0,
              "ticks": ""
             }
            },
            "type": "scattergeo"
           }
          ],
          "scattergl": [
           {
            "marker": {
             "colorbar": {
              "outlinewidth": 0,
              "ticks": ""
             }
            },
            "type": "scattergl"
           }
          ],
          "scattermapbox": [
           {
            "marker": {
             "colorbar": {
              "outlinewidth": 0,
              "ticks": ""
             }
            },
            "type": "scattermapbox"
           }
          ],
          "scatterpolar": [
           {
            "marker": {
             "colorbar": {
              "outlinewidth": 0,
              "ticks": ""
             }
            },
            "type": "scatterpolar"
           }
          ],
          "scatterpolargl": [
           {
            "marker": {
             "colorbar": {
              "outlinewidth": 0,
              "ticks": ""
             }
            },
            "type": "scatterpolargl"
           }
          ],
          "scatterternary": [
           {
            "marker": {
             "colorbar": {
              "outlinewidth": 0,
              "ticks": ""
             }
            },
            "type": "scatterternary"
           }
          ],
          "surface": [
           {
            "colorbar": {
             "outlinewidth": 0,
             "ticks": ""
            },
            "colorscale": [
             [
              0,
              "#0d0887"
             ],
             [
              0.1111111111111111,
              "#46039f"
             ],
             [
              0.2222222222222222,
              "#7201a8"
             ],
             [
              0.3333333333333333,
              "#9c179e"
             ],
             [
              0.4444444444444444,
              "#bd3786"
             ],
             [
              0.5555555555555556,
              "#d8576b"
             ],
             [
              0.6666666666666666,
              "#ed7953"
             ],
             [
              0.7777777777777778,
              "#fb9f3a"
             ],
             [
              0.8888888888888888,
              "#fdca26"
             ],
             [
              1,
              "#f0f921"
             ]
            ],
            "type": "surface"
           }
          ],
          "table": [
           {
            "cells": {
             "fill": {
              "color": "#EBF0F8"
             },
             "line": {
              "color": "white"
             }
            },
            "header": {
             "fill": {
              "color": "#C8D4E3"
             },
             "line": {
              "color": "white"
             }
            },
            "type": "table"
           }
          ]
         },
         "layout": {
          "annotationdefaults": {
           "arrowcolor": "#2a3f5f",
           "arrowhead": 0,
           "arrowwidth": 1
          },
          "autotypenumbers": "strict",
          "coloraxis": {
           "colorbar": {
            "outlinewidth": 0,
            "ticks": ""
           }
          },
          "colorscale": {
           "diverging": [
            [
             0,
             "#8e0152"
            ],
            [
             0.1,
             "#c51b7d"
            ],
            [
             0.2,
             "#de77ae"
            ],
            [
             0.3,
             "#f1b6da"
            ],
            [
             0.4,
             "#fde0ef"
            ],
            [
             0.5,
             "#f7f7f7"
            ],
            [
             0.6,
             "#e6f5d0"
            ],
            [
             0.7,
             "#b8e186"
            ],
            [
             0.8,
             "#7fbc41"
            ],
            [
             0.9,
             "#4d9221"
            ],
            [
             1,
             "#276419"
            ]
           ],
           "sequential": [
            [
             0,
             "#0d0887"
            ],
            [
             0.1111111111111111,
             "#46039f"
            ],
            [
             0.2222222222222222,
             "#7201a8"
            ],
            [
             0.3333333333333333,
             "#9c179e"
            ],
            [
             0.4444444444444444,
             "#bd3786"
            ],
            [
             0.5555555555555556,
             "#d8576b"
            ],
            [
             0.6666666666666666,
             "#ed7953"
            ],
            [
             0.7777777777777778,
             "#fb9f3a"
            ],
            [
             0.8888888888888888,
             "#fdca26"
            ],
            [
             1,
             "#f0f921"
            ]
           ],
           "sequentialminus": [
            [
             0,
             "#0d0887"
            ],
            [
             0.1111111111111111,
             "#46039f"
            ],
            [
             0.2222222222222222,
             "#7201a8"
            ],
            [
             0.3333333333333333,
             "#9c179e"
            ],
            [
             0.4444444444444444,
             "#bd3786"
            ],
            [
             0.5555555555555556,
             "#d8576b"
            ],
            [
             0.6666666666666666,
             "#ed7953"
            ],
            [
             0.7777777777777778,
             "#fb9f3a"
            ],
            [
             0.8888888888888888,
             "#fdca26"
            ],
            [
             1,
             "#f0f921"
            ]
           ]
          },
          "colorway": [
           "#636efa",
           "#EF553B",
           "#00cc96",
           "#ab63fa",
           "#FFA15A",
           "#19d3f3",
           "#FF6692",
           "#B6E880",
           "#FF97FF",
           "#FECB52"
          ],
          "font": {
           "color": "#2a3f5f"
          },
          "geo": {
           "bgcolor": "white",
           "lakecolor": "white",
           "landcolor": "#E5ECF6",
           "showlakes": true,
           "showland": true,
           "subunitcolor": "white"
          },
          "hoverlabel": {
           "align": "left"
          },
          "hovermode": "closest",
          "mapbox": {
           "style": "light"
          },
          "paper_bgcolor": "white",
          "plot_bgcolor": "#E5ECF6",
          "polar": {
           "angularaxis": {
            "gridcolor": "white",
            "linecolor": "white",
            "ticks": ""
           },
           "bgcolor": "#E5ECF6",
           "radialaxis": {
            "gridcolor": "white",
            "linecolor": "white",
            "ticks": ""
           }
          },
          "scene": {
           "xaxis": {
            "backgroundcolor": "#E5ECF6",
            "gridcolor": "white",
            "gridwidth": 2,
            "linecolor": "white",
            "showbackground": true,
            "ticks": "",
            "zerolinecolor": "white"
           },
           "yaxis": {
            "backgroundcolor": "#E5ECF6",
            "gridcolor": "white",
            "gridwidth": 2,
            "linecolor": "white",
            "showbackground": true,
            "ticks": "",
            "zerolinecolor": "white"
           },
           "zaxis": {
            "backgroundcolor": "#E5ECF6",
            "gridcolor": "white",
            "gridwidth": 2,
            "linecolor": "white",
            "showbackground": true,
            "ticks": "",
            "zerolinecolor": "white"
           }
          },
          "shapedefaults": {
           "line": {
            "color": "#2a3f5f"
           }
          },
          "ternary": {
           "aaxis": {
            "gridcolor": "white",
            "linecolor": "white",
            "ticks": ""
           },
           "baxis": {
            "gridcolor": "white",
            "linecolor": "white",
            "ticks": ""
           },
           "bgcolor": "#E5ECF6",
           "caxis": {
            "gridcolor": "white",
            "linecolor": "white",
            "ticks": ""
           }
          },
          "title": {
           "x": 0.05
          },
          "xaxis": {
           "automargin": true,
           "gridcolor": "white",
           "linecolor": "white",
           "ticks": "",
           "title": {
            "standoff": 15
           },
           "zerolinecolor": "white",
           "zerolinewidth": 2
          },
          "yaxis": {
           "automargin": true,
           "gridcolor": "white",
           "linecolor": "white",
           "ticks": "",
           "title": {
            "standoff": 15
           },
           "zerolinecolor": "white",
           "zerolinewidth": 2
          }
         }
        },
        "title": {
         "text": "Sector Proportions on 2023-12-19"
        }
       }
      }
     },
     "metadata": {},
     "output_type": "display_data"
    }
   ],
   "source": [
    "def plot_sector_proportions(portfolio_data, sectors, date=None, max_label_length=15):\n",
    "    date = NOTEBOOK_DATE or date or max(portfolio_data.keys())\n",
    "    if date not in portfolio_data:\n",
    "        raise ValueError(f\"No data available for date: {date}\")\n",
    "\n",
    "    holdings = portfolio_data[date]['holdings']\n",
    "    sector_values = defaultdict(float)\n",
    "    total_value = 0\n",
    "\n",
    "    for symbol, data in holdings.items():\n",
    "        sector = sectors.get(symbol, 'ETF')\n",
    "        market_value = float(data['market_value'])\n",
    "        sector_values[sector] += market_value\n",
    "        total_value += market_value\n",
    "\n",
    "    labels = list(sector_values.keys())\n",
    "    sizes = list(sector_values.values())\n",
    "    percentages = [value / total_value * 100 for value in sizes]\n",
    "\n",
    "    # Wrap long labels\n",
    "    wrapped_labels = [wrap_label(label, max_label_length) for label in labels]\n",
    "\n",
    "    hover_text = [f\"{sector}<br>${value:,.2f}<br>{percentage:.2f}%\"\n",
    "                  for sector, value, percentage in zip(labels, sizes, percentages)]\n",
    "\n",
    "    fig = go.Figure(data=[go.Pie(\n",
    "        labels=wrapped_labels,\n",
    "        values=sizes,\n",
    "        text=[f'${value:,.2f}' for value in sizes],\n",
    "        hovertext=hover_text,\n",
    "        hoverinfo='text',\n",
    "        textinfo='label+percent'\n",
    "    )])\n",
    "\n",
    "    fig.update_layout(\n",
    "        title=f'Sector Proportions on {date}',\n",
    "        showlegend=True,\n",
    "        legend=dict(title=\"Sectors\")\n",
    "    )\n",
    "\n",
    "    return fig\n",
    "\n",
    "\n",
    "def wrap_label(label, max_length):\n",
    "    if len(label) <= max_length:\n",
    "        return label\n",
    "\n",
    "    # Find the last space before max_length\n",
    "    split_index = label.rfind(' ', 0, max_length)\n",
    "    if split_index == -1:  # If no space found, split at max_length\n",
    "        split_index = max_length\n",
    "\n",
    "    return f\"{label[:split_index]}<br>{label[split_index:].strip()}\"\n",
    "\n",
    "# Example usage:\n",
    "# plot_sector_proportions(portfolio_data, sectors, date=\"2024-04-10\")\n",
    "plot_sector_proportions(portfolio_data, sectors)"
   ]
  },
  {
   "cell_type": "code",
   "execution_count": 8,
   "metadata": {},
   "outputs": [],
   "source": [
    "def plot_portfolio_growth(portfolio_data, end_date=None):\n",
    "    dates = sorted(portfolio_data.keys())\n",
    "\n",
    "    end_date = NOTEBOOK_DATE or end_date or max(portfolio_data.keys())\n",
    "    if end_date is None:\n",
    "        end_date = dates[-1]\n",
    "    else:\n",
    "        end_date = str(end_date)\n",
    "        if end_date not in dates:\n",
    "            raise ValueError(f\"No data available for date: {end_date}\")\n",
    "\n",
    "    start_date = pd.to_datetime(dates[0])\n",
    "    dates = [d for d in dates if pd.to_datetime(\n",
    "        d) >= start_date and pd.to_datetime(d) <= pd.to_datetime(end_date)]\n",
    "\n",
    "    df_plot = pd.DataFrame({\n",
    "        'Date': pd.to_datetime(dates),\n",
    "        'Total Market Value': [float(portfolio_data[d]['summary']['total_market_value']) for d in dates],\n",
    "        'Cash': [float(portfolio_data[d]['summary']['cash']) for d in dates],\n",
    "        'Unrealized P/L': [float(portfolio_data[d]['summary']['total_unrealized_pnl']) for d in dates],\n",
    "        'Realized P/L': [float(portfolio_data[d]['summary']['total_realized_pnl']) for d in dates],\n",
    "        'Daily P/L': [float(portfolio_data[d]['summary']['total_daily_change']) for d in dates],\n",
    "        'Unrealized Return (%)': [float(portfolio_data[d]['summary']['total_unrealized_return']) * 100 for d in dates],\n",
    "        'Realized Return (%)': [float(portfolio_data[d]['summary']['total_realized_return']) * 100 for d in dates],\n",
    "        'Daily Return (%)': [float(portfolio_data[d]['summary']['total_daily_return']) * 100 for d in dates],\n",
    "    })\n",
    "\n",
    "    returns = calculate_returns(df_plot, pd.to_datetime(end_date))\n",
    "\n",
    "    fig = make_subplots(specs=[[{\"secondary_y\": True}]])\n",
    "\n",
    "    # Add traces in the desired order\n",
    "    add_realized_pl_trace(fig, df_plot)\n",
    "    add_unrealized_pl_trace(fig, df_plot)\n",
    "    add_unrealized_return_trace(fig, df_plot)\n",
    "    add_total_market_value_trace(fig, df_plot)\n",
    "    add_sp500_trace(fig, df_plot)\n",
    "\n",
    "    add_performance_annotation(fig, returns)\n",
    "\n",
    "    fig.update_layout(\n",
    "        title={'text': f'Portfolio Performance as of {end_date}<br>',\n",
    "               'xanchor': 'left',\n",
    "               'yanchor': 'top'},\n",
    "        xaxis_title='Date',\n",
    "        hovermode='x unified',\n",
    "        showlegend=True,\n",
    "        xaxis=dict(\n",
    "            rangeslider=dict(visible=False),\n",
    "            rangeselector=dict(\n",
    "                buttons=get_range_selector_buttons(df_plot)\n",
    "            )\n",
    "        ),\n",
    "        margin=dict(t=120),\n",
    "        barmode='stack'\n",
    "    )\n",
    "\n",
    "    fig.update_yaxes(title_text=\"Return (%)\",\n",
    "                     ticksuffix='%', secondary_y=False)\n",
    "    fig.update_yaxes(title_text=\"Value ($)\", tickprefix='$', secondary_y=True)\n",
    "\n",
    "    return fig\n",
    "\n",
    "def calculate_returns(df_plot, latest_date):\n",
    "    returns = {}\n",
    "    periods = [('1D', 1), ('1W', 7), ('1M', 30), ('3M', 90),\n",
    "               ('6M', 180), ('YTD', None), ('1Y', 365), ('Max', None)]\n",
    "\n",
    "    for period, days in periods:\n",
    "        if period == '1D':\n",
    "            # Use the daily return directly for 1D\n",
    "            returns[period] = df_plot[df_plot['Date'] ==\n",
    "                                      latest_date]['Daily Return (%)'].values[0]\n",
    "        elif period == 'YTD':\n",
    "            start_date = pd.Timestamp(year=latest_date.year, month=1, day=1)\n",
    "        elif period == 'Max':\n",
    "            start_date = df_plot['Date'].min()\n",
    "        else:\n",
    "            start_date = latest_date - pd.Timedelta(days=days)\n",
    "\n",
    "        if period != '1D' and start_date >= df_plot['Date'].min():\n",
    "            returns[period] = df_plot[df_plot['Date'] == latest_date]['Unrealized Return (%)'].values[0] - \\\n",
    "                df_plot[df_plot['Date'] >=\n",
    "                        start_date]['Unrealized Return (%)'].iloc[0]\n",
    "\n",
    "    return returns\n",
    "\n",
    "\n",
    "def add_total_market_value_trace(fig, df_plot):\n",
    "    fig.add_trace(\n",
    "        go.Scatter(x=df_plot['Date'], y=df_plot['Total Market Value'].round(2),\n",
    "                   line=dict(color='green', width=2), name='Total Market Value', visible=True,\n",
    "                   hovertemplate='$%{y:,.2f}\\t(Cash: $%{customdata:,.2f})',\n",
    "                   customdata=df_plot['Cash'].round(2)),\n",
    "        secondary_y=True\n",
    "    )\n",
    "\n",
    "\n",
    "def add_unrealized_return_trace(fig, df_plot):\n",
    "    fig.add_trace(\n",
    "        go.Scatter(x=df_plot['Date'], y=df_plot['Unrealized Return (%)'].round(2), fill='tozeroy',\n",
    "                   fillcolor='rgba(255,0,0,0.2)', line=dict(color='red', width=2), name='Unr. Return',\n",
    "                   hovertemplate='%{y:.2f}%\\t(Daily: %{customdata:.2f}%)',\n",
    "                   customdata=df_plot['Daily Return (%)'].round(2), visible=True),\n",
    "        secondary_y=False\n",
    "    )\n",
    "\n",
    "\n",
    "def add_unrealized_pl_trace(fig, df_plot):\n",
    "    fig.add_trace(\n",
    "        go.Bar(x=df_plot['Date'], y=df_plot['Unrealized P/L'].round(2), name='Unr. P/L',\n",
    "               marker_color='gray', opacity=0.9,\n",
    "               hovertemplate='$%{y:.2f} (Daily: $%{customdata:.2f})',\n",
    "               customdata=df_plot['Daily P/L'].round(2)),\n",
    "        secondary_y=True\n",
    "    )\n",
    "\n",
    "def add_realized_pl_trace(fig, df_plot):\n",
    "    fig.add_trace(\n",
    "        go.Bar(x=df_plot['Date'], y=df_plot['Realized P/L'].round(2), name='Realized P/L',\n",
    "               marker_color='black', opacity=0.9,\n",
    "               hovertemplate='$%{y:.2f} (Total: $%{customdata:.2f})',\n",
    "               customdata=(df_plot['Realized P/L'] + df_plot['Unrealized P/L']).round(2)),\n",
    "        secondary_y=True\n",
    "    )\n",
    "\n",
    "\n",
    "def add_sp500_trace(fig, df_plot):\n",
    "    sp500_data = fetch_sp500_data(df_plot['Date'].min(), df_plot['Date'].max())\n",
    "    sp500_performance = (\n",
    "        (sp500_data['Close'] - sp500_data['Close'].iloc[0]) / sp500_data['Close'].iloc[0]) * 100\n",
    "    fig.add_trace(\n",
    "        go.Scatter(x=sp500_data.index, y=sp500_performance.round(2), line=dict(color='blue', width=2),\n",
    "                   name='S&P 500', visible=True,\n",
    "                   hovertemplate='S&P 500: %{y:.2f}%<extra></extra>'),\n",
    "        secondary_y=False\n",
    "    )\n",
    "\n",
    "\n",
    "def add_performance_annotation(fig, returns):\n",
    "    performance_text = \"Portfolio Return:<br>\"\n",
    "    for i, (period, value) in enumerate(returns.items()):\n",
    "        if i % 2 == 0 and i != 0:\n",
    "            performance_text += \"<br>\"\n",
    "        color = 'green' if value >= 0 else 'red'\n",
    "        sign = '+' if value > 0 else ('-' if value < 0 else ' ')\n",
    "        formatted_value = f\"{sign}{abs(value):6.2f}%\"\n",
    "        performance_text += f\"<span style='display: inline-block; width: 70px;'>{\n",
    "            period:>3}: <span style='color: {color};'>{formatted_value:>9}</span></span>\"\n",
    "        if i % 2 == 0 and i != len(returns) - 1:\n",
    "            performance_text += \" | \"\n",
    "\n",
    "    fig.add_annotation(\n",
    "        x=1, y=1.05, xref='paper', yref='paper', text=performance_text, showarrow=False,\n",
    "        font=dict(size=10, family=\"monospace\"), align='left', xanchor='right', yanchor='bottom',\n",
    "        bgcolor='rgba(255,255,255,0.8)', bordercolor='rgba(0,0,0,0.5)', borderwidth=1, borderpad=4\n",
    "    )\n",
    "\n",
    "def get_range_selector_buttons(df_plot):\n",
    "    start_date = df_plot['Date'].min()\n",
    "    end_date = df_plot['Date'].max()\n",
    "    date_range = end_date - start_date\n",
    "\n",
    "    buttons = []\n",
    "\n",
    "    if date_range >= timedelta(days=7):\n",
    "        buttons.append(\n",
    "            dict(count=7, label=\"1W\", step=\"day\", stepmode=\"backward\"))\n",
    "\n",
    "    if date_range >= timedelta(days=30):\n",
    "        buttons.append(\n",
    "            dict(count=1, label=\"1M\", step=\"month\", stepmode=\"backward\"))\n",
    "\n",
    "    if date_range >= timedelta(days=90):\n",
    "        buttons.append(\n",
    "            dict(count=3, label=\"3M\", step=\"month\", stepmode=\"backward\"))\n",
    "\n",
    "    if date_range >= timedelta(days=180):\n",
    "        buttons.append(\n",
    "            dict(count=6, label=\"6M\", step=\"month\", stepmode=\"backward\"))\n",
    "\n",
    "    if end_date.year > start_date.year:\n",
    "        buttons.append(dict(count=1, label=\"YTD\",\n",
    "                       step=\"year\", stepmode=\"todate\"))\n",
    "\n",
    "    if date_range >= timedelta(days=365):\n",
    "        buttons.append(\n",
    "            dict(count=1, label=\"1Y\", step=\"year\", stepmode=\"backward\"))\n",
    "\n",
    "    buttons.append(dict(step=\"all\", label=\"MAX\"))\n",
    "\n",
    "    return buttons\n",
    "\n",
    "\n",
    "def fetch_sp500_data(start_date, end_date):\n",
    "    end_date = pd.to_datetime(end_date) + timedelta(days=1)\n",
    "    sp500 = yf.Ticker(\"^GSPC\")\n",
    "    sp500_data = sp500.history(start=start_date, end=end_date)\n",
    "    return sp500_data[['Close']]\n",
    "\n",
    "# Example usage:\n",
    "# To plot for the latest date:\n",
    "# plot_portfolio_growth(portfolio_data)\n",
    "\n",
    "# To plot for a specific date:\n",
    "# plot_portfolio_growth(portfolio_data, end_date=\"2024-03-15\")"
   ]
  },
  {
   "cell_type": "code",
   "execution_count": 9,
   "metadata": {},
   "outputs": [
    {
     "data": {
      "application/vnd.plotly.v1+json": {
       "config": {
        "plotlyServerURL": "https://plot.ly"
       },
       "data": [
        {
         "customdata": [
          0,
          -12.23,
          -12.99,
          -17.68,
          -9.87,
          -13.72,
          -39.92,
          -20.79,
          -38.96,
          -38.25,
          -80.11,
          -117.08,
          -156.1,
          -175.64,
          -81.75,
          -81.07,
          -36.48,
          -149.68,
          -69,
          -40.11,
          114.78,
          128.65,
          123.43,
          33.98,
          109.7,
          45.93,
          3.26,
          -3.57,
          221.29,
          182.07,
          209.56,
          285.95,
          242.01,
          179.03,
          115.83,
          55.41,
          -63.33,
          -162.82,
          -133.43,
          -231.6,
          -217.08,
          -115.22,
          -59.21,
          -29.45,
          -194.16,
          -32.19,
          -1.01,
          130.45,
          203.13,
          274.24,
          295.39,
          257.42,
          145.4,
          221.22,
          237.4,
          58.73,
          -138.39,
          -308.81,
          -295.95,
          -212.6,
          -432.02,
          -609.73,
          -609.01,
          -699.6,
          -569.4,
          -368.35,
          143.49,
          280.85,
          265.51,
          376.44,
          377.97,
          177.35,
          400.71,
          651.28,
          1159.56,
          1377.35,
          1146.18,
          1162.87,
          1250.07,
          1373.8,
          1210.68,
          1243.71,
          1232.53,
          1494.19,
          1415.02,
          1282.45,
          1268.23,
          1115.5,
          1197.24,
          1208.63,
          1394.09,
          1468.41,
          1343.09,
          1258.42,
          1427.64,
          1828.35,
          1886.33,
          1852.31,
          2059.4
         ],
         "hovertemplate": "$%{y:.2f} (Total: $%{customdata:.2f})",
         "marker": {
          "color": "black"
         },
         "name": "Realized P/L",
         "opacity": 0.9,
         "type": "bar",
         "x": [
          "2023-08-01T00:00:00",
          "2023-08-02T00:00:00",
          "2023-08-03T00:00:00",
          "2023-08-04T00:00:00",
          "2023-08-07T00:00:00",
          "2023-08-08T00:00:00",
          "2023-08-09T00:00:00",
          "2023-08-10T00:00:00",
          "2023-08-11T00:00:00",
          "2023-08-14T00:00:00",
          "2023-08-15T00:00:00",
          "2023-08-16T00:00:00",
          "2023-08-17T00:00:00",
          "2023-08-18T00:00:00",
          "2023-08-21T00:00:00",
          "2023-08-22T00:00:00",
          "2023-08-23T00:00:00",
          "2023-08-24T00:00:00",
          "2023-08-25T00:00:00",
          "2023-08-28T00:00:00",
          "2023-08-29T00:00:00",
          "2023-08-30T00:00:00",
          "2023-08-31T00:00:00",
          "2023-09-01T00:00:00",
          "2023-09-05T00:00:00",
          "2023-09-06T00:00:00",
          "2023-09-07T00:00:00",
          "2023-09-08T00:00:00",
          "2023-09-11T00:00:00",
          "2023-09-12T00:00:00",
          "2023-09-13T00:00:00",
          "2023-09-14T00:00:00",
          "2023-09-15T00:00:00",
          "2023-09-18T00:00:00",
          "2023-09-19T00:00:00",
          "2023-09-20T00:00:00",
          "2023-09-21T00:00:00",
          "2023-09-22T00:00:00",
          "2023-09-25T00:00:00",
          "2023-09-26T00:00:00",
          "2023-09-27T00:00:00",
          "2023-09-28T00:00:00",
          "2023-09-29T00:00:00",
          "2023-10-02T00:00:00",
          "2023-10-03T00:00:00",
          "2023-10-04T00:00:00",
          "2023-10-05T00:00:00",
          "2023-10-06T00:00:00",
          "2023-10-09T00:00:00",
          "2023-10-10T00:00:00",
          "2023-10-11T00:00:00",
          "2023-10-12T00:00:00",
          "2023-10-13T00:00:00",
          "2023-10-16T00:00:00",
          "2023-10-17T00:00:00",
          "2023-10-18T00:00:00",
          "2023-10-19T00:00:00",
          "2023-10-20T00:00:00",
          "2023-10-23T00:00:00",
          "2023-10-24T00:00:00",
          "2023-10-25T00:00:00",
          "2023-10-26T00:00:00",
          "2023-10-27T00:00:00",
          "2023-10-30T00:00:00",
          "2023-10-31T00:00:00",
          "2023-11-01T00:00:00",
          "2023-11-02T00:00:00",
          "2023-11-03T00:00:00",
          "2023-11-06T00:00:00",
          "2023-11-07T00:00:00",
          "2023-11-08T00:00:00",
          "2023-11-09T00:00:00",
          "2023-11-10T00:00:00",
          "2023-11-13T00:00:00",
          "2023-11-14T00:00:00",
          "2023-11-15T00:00:00",
          "2023-11-16T00:00:00",
          "2023-11-17T00:00:00",
          "2023-11-20T00:00:00",
          "2023-11-21T00:00:00",
          "2023-11-22T00:00:00",
          "2023-11-24T00:00:00",
          "2023-11-27T00:00:00",
          "2023-11-28T00:00:00",
          "2023-11-29T00:00:00",
          "2023-11-30T00:00:00",
          "2023-12-01T00:00:00",
          "2023-12-04T00:00:00",
          "2023-12-05T00:00:00",
          "2023-12-06T00:00:00",
          "2023-12-07T00:00:00",
          "2023-12-08T00:00:00",
          "2023-12-11T00:00:00",
          "2023-12-12T00:00:00",
          "2023-12-13T00:00:00",
          "2023-12-14T00:00:00",
          "2023-12-15T00:00:00",
          "2023-12-18T00:00:00",
          "2023-12-19T00:00:00"
         ],
         "xaxis": "x",
         "y": [
          0,
          0,
          0,
          0,
          0,
          0,
          0,
          0,
          0,
          0,
          0,
          0,
          0,
          0,
          0,
          0,
          0,
          0,
          0,
          0,
          0,
          0,
          0,
          0,
          0,
          0,
          0,
          0,
          0,
          0,
          0,
          0,
          0,
          0,
          0,
          0,
          0,
          0,
          0,
          0,
          0,
          0,
          0,
          0,
          0,
          0,
          0,
          0,
          0,
          33.92,
          33.92,
          33.92,
          33.92,
          33.92,
          33.92,
          33.92,
          33.92,
          33.92,
          33.92,
          35.85,
          35.85,
          35.85,
          35.85,
          35.85,
          35.85,
          35.85,
          69.18,
          111.1,
          111.1,
          111.1,
          111.1,
          131.47,
          131.47,
          131.47,
          194.61,
          194.61,
          194.61,
          194.61,
          194.61,
          194.61,
          194.61,
          194.61,
          194.61,
          194.61,
          194.61,
          194.61,
          194.61,
          194.61,
          194.61,
          194.61,
          194.61,
          194.61,
          194.61,
          194.61,
          194.61,
          194.61,
          194.61,
          194.61,
          194.61
         ],
         "yaxis": "y2"
        },
        {
         "customdata": [
          0,
          0,
          3.94,
          -4.69,
          254.11,
          -2.78,
          -26.99,
          19.13,
          407.09,
          0.71,
          -41.86,
          191.05,
          180.75,
          236.96,
          93.89,
          438.68,
          474.6,
          370.67,
          80.68,
          28.89,
          323.76,
          13.87,
          362.54,
          400.11,
          75.72,
          -63.77,
          46.75,
          -6.84,
          224.86,
          -39.22,
          27.49,
          76.38,
          -43.94,
          -62.97,
          188.67,
          27.89,
          52.72,
          -99.49,
          29.39,
          70.82,
          14.52,
          271.42,
          56,
          456.96,
          -84.81,
          161.97,
          31.18,
          131.46,
          72.68,
          -109.48,
          21.14,
          -37.97,
          -110.55,
          75.82,
          16.18,
          64.16,
          464.06,
          396.55,
          218.93,
          245.21,
          -212.37,
          236.55,
          0.72,
          1887.76,
          228.74,
          201.05,
          331.84,
          128.47,
          -15.34,
          110.92,
          1.53,
          161.78,
          223.36,
          250.57,
          497.49,
          217.79,
          -230.67,
          16.69,
          87.2,
          123.73,
          -163.11,
          33.03,
          -11.18,
          261.66,
          -79.18,
          -132.56,
          -14.22,
          -150.17,
          81.74,
          99.64,
          271.36,
          74.32,
          -125.31,
          -84.67,
          629.02,
          400.71,
          57.97,
          -34.01,
          207.08
         ],
         "hovertemplate": "$%{y:.2f} (Daily: $%{customdata:.2f})",
         "marker": {
          "color": "gray"
         },
         "name": "Unr. P/L",
         "opacity": 0.9,
         "type": "bar",
         "x": [
          "2023-08-01T00:00:00",
          "2023-08-02T00:00:00",
          "2023-08-03T00:00:00",
          "2023-08-04T00:00:00",
          "2023-08-07T00:00:00",
          "2023-08-08T00:00:00",
          "2023-08-09T00:00:00",
          "2023-08-10T00:00:00",
          "2023-08-11T00:00:00",
          "2023-08-14T00:00:00",
          "2023-08-15T00:00:00",
          "2023-08-16T00:00:00",
          "2023-08-17T00:00:00",
          "2023-08-18T00:00:00",
          "2023-08-21T00:00:00",
          "2023-08-22T00:00:00",
          "2023-08-23T00:00:00",
          "2023-08-24T00:00:00",
          "2023-08-25T00:00:00",
          "2023-08-28T00:00:00",
          "2023-08-29T00:00:00",
          "2023-08-30T00:00:00",
          "2023-08-31T00:00:00",
          "2023-09-01T00:00:00",
          "2023-09-05T00:00:00",
          "2023-09-06T00:00:00",
          "2023-09-07T00:00:00",
          "2023-09-08T00:00:00",
          "2023-09-11T00:00:00",
          "2023-09-12T00:00:00",
          "2023-09-13T00:00:00",
          "2023-09-14T00:00:00",
          "2023-09-15T00:00:00",
          "2023-09-18T00:00:00",
          "2023-09-19T00:00:00",
          "2023-09-20T00:00:00",
          "2023-09-21T00:00:00",
          "2023-09-22T00:00:00",
          "2023-09-25T00:00:00",
          "2023-09-26T00:00:00",
          "2023-09-27T00:00:00",
          "2023-09-28T00:00:00",
          "2023-09-29T00:00:00",
          "2023-10-02T00:00:00",
          "2023-10-03T00:00:00",
          "2023-10-04T00:00:00",
          "2023-10-05T00:00:00",
          "2023-10-06T00:00:00",
          "2023-10-09T00:00:00",
          "2023-10-10T00:00:00",
          "2023-10-11T00:00:00",
          "2023-10-12T00:00:00",
          "2023-10-13T00:00:00",
          "2023-10-16T00:00:00",
          "2023-10-17T00:00:00",
          "2023-10-18T00:00:00",
          "2023-10-19T00:00:00",
          "2023-10-20T00:00:00",
          "2023-10-23T00:00:00",
          "2023-10-24T00:00:00",
          "2023-10-25T00:00:00",
          "2023-10-26T00:00:00",
          "2023-10-27T00:00:00",
          "2023-10-30T00:00:00",
          "2023-10-31T00:00:00",
          "2023-11-01T00:00:00",
          "2023-11-02T00:00:00",
          "2023-11-03T00:00:00",
          "2023-11-06T00:00:00",
          "2023-11-07T00:00:00",
          "2023-11-08T00:00:00",
          "2023-11-09T00:00:00",
          "2023-11-10T00:00:00",
          "2023-11-13T00:00:00",
          "2023-11-14T00:00:00",
          "2023-11-15T00:00:00",
          "2023-11-16T00:00:00",
          "2023-11-17T00:00:00",
          "2023-11-20T00:00:00",
          "2023-11-21T00:00:00",
          "2023-11-22T00:00:00",
          "2023-11-24T00:00:00",
          "2023-11-27T00:00:00",
          "2023-11-28T00:00:00",
          "2023-11-29T00:00:00",
          "2023-11-30T00:00:00",
          "2023-12-01T00:00:00",
          "2023-12-04T00:00:00",
          "2023-12-05T00:00:00",
          "2023-12-06T00:00:00",
          "2023-12-07T00:00:00",
          "2023-12-08T00:00:00",
          "2023-12-11T00:00:00",
          "2023-12-12T00:00:00",
          "2023-12-13T00:00:00",
          "2023-12-14T00:00:00",
          "2023-12-15T00:00:00",
          "2023-12-18T00:00:00",
          "2023-12-19T00:00:00"
         ],
         "xaxis": "x",
         "y": [
          0,
          -12.23,
          -12.99,
          -17.68,
          -9.87,
          -13.72,
          -39.92,
          -20.79,
          -38.96,
          -38.25,
          -80.11,
          -117.08,
          -156.1,
          -175.64,
          -81.75,
          -81.07,
          -36.48,
          -149.68,
          -69,
          -40.11,
          114.78,
          128.65,
          123.43,
          33.98,
          109.7,
          45.93,
          3.26,
          -3.57,
          221.29,
          182.07,
          209.56,
          285.95,
          242.01,
          179.03,
          115.83,
          55.41,
          -63.33,
          -162.82,
          -133.43,
          -231.6,
          -217.08,
          -115.22,
          -59.21,
          -29.45,
          -194.16,
          -32.19,
          -1.01,
          130.45,
          203.13,
          240.32,
          261.46,
          223.5,
          111.48,
          187.3,
          203.48,
          24.8,
          -172.31,
          -342.73,
          -329.87,
          -248.45,
          -467.87,
          -645.58,
          -644.86,
          -735.45,
          -605.25,
          -404.2,
          74.31,
          169.75,
          154.41,
          265.34,
          266.87,
          45.89,
          269.24,
          519.81,
          964.95,
          1182.74,
          951.58,
          968.27,
          1055.47,
          1179.19,
          1016.08,
          1049.1,
          1037.93,
          1299.59,
          1220.41,
          1087.85,
          1073.62,
          920.9,
          1002.64,
          1014.03,
          1199.49,
          1273.8,
          1148.49,
          1063.82,
          1233.04,
          1633.75,
          1691.72,
          1657.71,
          1864.79
         ],
         "yaxis": "y2"
        },
        {
         "customdata": [
          0,
          0,
          0.08,
          -0.09,
          5.37,
          -0.06,
          -0.54,
          0.39,
          8.94,
          0.01,
          -0.84,
          4.07,
          3.88,
          5.16,
          1.95,
          9.79,
          10.57,
          8.27,
          1.38,
          0.49,
          5.59,
          0.23,
          6.29,
          7.1,
          1.25,
          -1.04,
          0.78,
          -0.11,
          3.75,
          -0.63,
          0.44,
          1.23,
          -0.7,
          -1.01,
          2.93,
          0.43,
          0.83,
          -1.55,
          0.46,
          1.06,
          0.21,
          4.1,
          0.81,
          6.51,
          -1.15,
          2.22,
          0.42,
          1.75,
          0.95,
          -1.39,
          0.27,
          -0.49,
          -1.42,
          0.99,
          0.21,
          0.86,
          5.87,
          4.78,
          2.58,
          2.87,
          -2.29,
          2.58,
          0.01,
          20.05,
          2.04,
          1.76,
          2.81,
          1.06,
          -0.12,
          0.9,
          0.01,
          1.35,
          1.83,
          2.02,
          3.93,
          1.65,
          -1.72,
          0.13,
          0.66,
          0.93,
          -1.22,
          0.25,
          -0.08,
          1.98,
          -0.59,
          -0.99,
          -0.11,
          -1.13,
          0.62,
          0.76,
          2.07,
          0.55,
          -0.93,
          -0.63,
          4.56,
          2.78,
          0.39,
          -0.23,
          1.39
         ],
         "fill": "tozeroy",
         "fillcolor": "rgba(255,0,0,0.2)",
         "hovertemplate": "%{y:.2f}%\t(Daily: %{customdata:.2f}%)",
         "line": {
          "color": "red",
          "width": 2
         },
         "name": "Unr. Return",
         "type": "scatter",
         "visible": true,
         "x": [
          "2023-08-01T00:00:00",
          "2023-08-02T00:00:00",
          "2023-08-03T00:00:00",
          "2023-08-04T00:00:00",
          "2023-08-07T00:00:00",
          "2023-08-08T00:00:00",
          "2023-08-09T00:00:00",
          "2023-08-10T00:00:00",
          "2023-08-11T00:00:00",
          "2023-08-14T00:00:00",
          "2023-08-15T00:00:00",
          "2023-08-16T00:00:00",
          "2023-08-17T00:00:00",
          "2023-08-18T00:00:00",
          "2023-08-21T00:00:00",
          "2023-08-22T00:00:00",
          "2023-08-23T00:00:00",
          "2023-08-24T00:00:00",
          "2023-08-25T00:00:00",
          "2023-08-28T00:00:00",
          "2023-08-29T00:00:00",
          "2023-08-30T00:00:00",
          "2023-08-31T00:00:00",
          "2023-09-01T00:00:00",
          "2023-09-05T00:00:00",
          "2023-09-06T00:00:00",
          "2023-09-07T00:00:00",
          "2023-09-08T00:00:00",
          "2023-09-11T00:00:00",
          "2023-09-12T00:00:00",
          "2023-09-13T00:00:00",
          "2023-09-14T00:00:00",
          "2023-09-15T00:00:00",
          "2023-09-18T00:00:00",
          "2023-09-19T00:00:00",
          "2023-09-20T00:00:00",
          "2023-09-21T00:00:00",
          "2023-09-22T00:00:00",
          "2023-09-25T00:00:00",
          "2023-09-26T00:00:00",
          "2023-09-27T00:00:00",
          "2023-09-28T00:00:00",
          "2023-09-29T00:00:00",
          "2023-10-02T00:00:00",
          "2023-10-03T00:00:00",
          "2023-10-04T00:00:00",
          "2023-10-05T00:00:00",
          "2023-10-06T00:00:00",
          "2023-10-09T00:00:00",
          "2023-10-10T00:00:00",
          "2023-10-11T00:00:00",
          "2023-10-12T00:00:00",
          "2023-10-13T00:00:00",
          "2023-10-16T00:00:00",
          "2023-10-17T00:00:00",
          "2023-10-18T00:00:00",
          "2023-10-19T00:00:00",
          "2023-10-20T00:00:00",
          "2023-10-23T00:00:00",
          "2023-10-24T00:00:00",
          "2023-10-25T00:00:00",
          "2023-10-26T00:00:00",
          "2023-10-27T00:00:00",
          "2023-10-30T00:00:00",
          "2023-10-31T00:00:00",
          "2023-11-01T00:00:00",
          "2023-11-02T00:00:00",
          "2023-11-03T00:00:00",
          "2023-11-06T00:00:00",
          "2023-11-07T00:00:00",
          "2023-11-08T00:00:00",
          "2023-11-09T00:00:00",
          "2023-11-10T00:00:00",
          "2023-11-13T00:00:00",
          "2023-11-14T00:00:00",
          "2023-11-15T00:00:00",
          "2023-11-16T00:00:00",
          "2023-11-17T00:00:00",
          "2023-11-20T00:00:00",
          "2023-11-21T00:00:00",
          "2023-11-22T00:00:00",
          "2023-11-24T00:00:00",
          "2023-11-27T00:00:00",
          "2023-11-28T00:00:00",
          "2023-11-29T00:00:00",
          "2023-11-30T00:00:00",
          "2023-12-01T00:00:00",
          "2023-12-04T00:00:00",
          "2023-12-05T00:00:00",
          "2023-12-06T00:00:00",
          "2023-12-07T00:00:00",
          "2023-12-08T00:00:00",
          "2023-12-11T00:00:00",
          "2023-12-12T00:00:00",
          "2023-12-13T00:00:00",
          "2023-12-14T00:00:00",
          "2023-12-15T00:00:00",
          "2023-12-18T00:00:00",
          "2023-12-19T00:00:00"
         ],
         "xaxis": "x",
         "y": [
          0,
          -1.72,
          -1.33,
          -1.81,
          -0.63,
          -0.7,
          -1.89,
          -0.98,
          -1.53,
          -1.51,
          -3.16,
          -4.23,
          -5.23,
          -5.42,
          -2.52,
          -2.2,
          -0.89,
          -3.07,
          -1.42,
          -0.82,
          2.28,
          2.55,
          2.28,
          0.58,
          1.86,
          0.78,
          0.05,
          -0.06,
          3.7,
          3.04,
          3.5,
          4.78,
          4.04,
          2.99,
          1.86,
          0.88,
          -0.97,
          -2.51,
          -2.05,
          -3.47,
          -3.26,
          -1.69,
          -0.87,
          -0.41,
          -2.64,
          -0.44,
          -0.01,
          1.78,
          2.77,
          3.34,
          3.63,
          3.11,
          1.55,
          2.6,
          2.83,
          0.33,
          -2.13,
          -3.95,
          -3.72,
          -2.8,
          -4.92,
          -6.51,
          -6.5,
          -6.18,
          -5.05,
          -3.37,
          0.63,
          1.45,
          1.32,
          2.27,
          2.28,
          0.38,
          2.23,
          4.3,
          8.19,
          10.03,
          8.07,
          8.21,
          8.95,
          10,
          8.62,
          8.9,
          8.8,
          11.02,
          10.35,
          9.23,
          9.11,
          7.69,
          8.37,
          8.41,
          9.87,
          10.48,
          9.45,
          8.76,
          9.78,
          12.96,
          13.42,
          13.15,
          14.79
         ],
         "yaxis": "y"
        },
        {
         "customdata": [
          1500,
          791.1,
          4023.73,
          4023.73,
          3422.03,
          3052.03,
          2886.23,
          2886.23,
          2460.97,
          2460.97,
          2460.97,
          2233.57,
          2014.14,
          1757.64,
          1757.64,
          1319.64,
          889.64,
          131.47,
          1131.47,
          1131.47,
          962.6,
          962.6,
          594.85,
          105.29,
          105.29,
          105.29,
          15.88,
          15.88,
          15.88,
          15.88,
          15.88,
          15.88,
          15.88,
          16.3,
          264.43,
          176.12,
          4.66,
          4.66,
          4.66,
          335.66,
          335.66,
          166.11,
          166.11,
          238.91,
          159.01,
          159.01,
          159.01,
          159.01,
          159.01,
          339.6,
          339.6,
          339.6,
          339.6,
          339.7,
          339.7,
          96.87,
          435.7,
          368.73,
          162.66,
          166.47,
          32.91,
          118.65,
          118.65,
          140.3,
          44.36,
          44.36,
          224.35,
          412.94,
          412.94,
          412.94,
          412.94,
          50.54,
          50.54,
          50.54,
          411.7,
          411.7,
          411.94,
          411.94,
          411.94,
          411.94,
          411.94,
          411.94,
          411.94,
          411.94,
          411.94,
          411.94,
          411.94,
          225.39,
          225.39,
          137.14,
          51.24,
          51.24,
          51.24,
          51.24,
          591.98,
          591.98,
          591.98,
          592.13,
          592.13
         ],
         "hovertemplate": "$%{y:,.2f}\t(Cash: $%{customdata:,.2f})",
         "line": {
          "color": "green",
          "width": 2
         },
         "name": "Total Market Value",
         "type": "scatter",
         "visible": true,
         "x": [
          "2023-08-01T00:00:00",
          "2023-08-02T00:00:00",
          "2023-08-03T00:00:00",
          "2023-08-04T00:00:00",
          "2023-08-07T00:00:00",
          "2023-08-08T00:00:00",
          "2023-08-09T00:00:00",
          "2023-08-10T00:00:00",
          "2023-08-11T00:00:00",
          "2023-08-14T00:00:00",
          "2023-08-15T00:00:00",
          "2023-08-16T00:00:00",
          "2023-08-17T00:00:00",
          "2023-08-18T00:00:00",
          "2023-08-21T00:00:00",
          "2023-08-22T00:00:00",
          "2023-08-23T00:00:00",
          "2023-08-24T00:00:00",
          "2023-08-25T00:00:00",
          "2023-08-28T00:00:00",
          "2023-08-29T00:00:00",
          "2023-08-30T00:00:00",
          "2023-08-31T00:00:00",
          "2023-09-01T00:00:00",
          "2023-09-05T00:00:00",
          "2023-09-06T00:00:00",
          "2023-09-07T00:00:00",
          "2023-09-08T00:00:00",
          "2023-09-11T00:00:00",
          "2023-09-12T00:00:00",
          "2023-09-13T00:00:00",
          "2023-09-14T00:00:00",
          "2023-09-15T00:00:00",
          "2023-09-18T00:00:00",
          "2023-09-19T00:00:00",
          "2023-09-20T00:00:00",
          "2023-09-21T00:00:00",
          "2023-09-22T00:00:00",
          "2023-09-25T00:00:00",
          "2023-09-26T00:00:00",
          "2023-09-27T00:00:00",
          "2023-09-28T00:00:00",
          "2023-09-29T00:00:00",
          "2023-10-02T00:00:00",
          "2023-10-03T00:00:00",
          "2023-10-04T00:00:00",
          "2023-10-05T00:00:00",
          "2023-10-06T00:00:00",
          "2023-10-09T00:00:00",
          "2023-10-10T00:00:00",
          "2023-10-11T00:00:00",
          "2023-10-12T00:00:00",
          "2023-10-13T00:00:00",
          "2023-10-16T00:00:00",
          "2023-10-17T00:00:00",
          "2023-10-18T00:00:00",
          "2023-10-19T00:00:00",
          "2023-10-20T00:00:00",
          "2023-10-23T00:00:00",
          "2023-10-24T00:00:00",
          "2023-10-25T00:00:00",
          "2023-10-26T00:00:00",
          "2023-10-27T00:00:00",
          "2023-10-30T00:00:00",
          "2023-10-31T00:00:00",
          "2023-11-01T00:00:00",
          "2023-11-02T00:00:00",
          "2023-11-03T00:00:00",
          "2023-11-06T00:00:00",
          "2023-11-07T00:00:00",
          "2023-11-08T00:00:00",
          "2023-11-09T00:00:00",
          "2023-11-10T00:00:00",
          "2023-11-13T00:00:00",
          "2023-11-14T00:00:00",
          "2023-11-15T00:00:00",
          "2023-11-16T00:00:00",
          "2023-11-17T00:00:00",
          "2023-11-20T00:00:00",
          "2023-11-21T00:00:00",
          "2023-11-22T00:00:00",
          "2023-11-24T00:00:00",
          "2023-11-27T00:00:00",
          "2023-11-28T00:00:00",
          "2023-11-29T00:00:00",
          "2023-11-30T00:00:00",
          "2023-12-01T00:00:00",
          "2023-12-04T00:00:00",
          "2023-12-05T00:00:00",
          "2023-12-06T00:00:00",
          "2023-12-07T00:00:00",
          "2023-12-08T00:00:00",
          "2023-12-11T00:00:00",
          "2023-12-12T00:00:00",
          "2023-12-13T00:00:00",
          "2023-12-14T00:00:00",
          "2023-12-15T00:00:00",
          "2023-12-18T00:00:00",
          "2023-12-19T00:00:00"
         ],
         "xaxis": "x",
         "y": [
          0,
          696.67,
          963.28,
          958.59,
          1568.1,
          1934.25,
          2073.85,
          2092.98,
          2500.07,
          2500.78,
          2458.92,
          2649.97,
          2830.72,
          3067.68,
          3161.57,
          3600.25,
          4074.84,
          4719.81,
          4800.49,
          4829.38,
          5153.14,
          5167.01,
          5529.54,
          5929.65,
          6005.37,
          5941.6,
          5988.34,
          5981.51,
          6206.37,
          6167.15,
          6194.64,
          6271.03,
          6227.09,
          6164.11,
          6352.78,
          6380.67,
          6433.39,
          6333.9,
          6363.29,
          6434.12,
          6448.64,
          6720.05,
          6776.06,
          7233.02,
          7148.21,
          7310.18,
          7341.36,
          7472.82,
          7545.5,
          7436.02,
          7457.17,
          7419.2,
          7308.65,
          7384.47,
          7400.65,
          7464.81,
          7928.86,
          8325.41,
          8544.34,
          8623.88,
          9038.02,
          9274.57,
          9275.29,
          11163.05,
          11391.79,
          11592.84,
          11924.69,
          11873.46,
          11858.12,
          11969.05,
          11970.58,
          12132.36,
          12355.72,
          12606.29,
          12753.41,
          12971.2,
          12740.53,
          12757.22,
          12844.42,
          12968.15,
          12805.03,
          12838.06,
          12826.88,
          13088.54,
          13009.37,
          12876.8,
          12862.58,
          12896.4,
          12978.14,
          13077.78,
          13349.14,
          13423.46,
          13298.14,
          13213.47,
          13842.49,
          14243.2,
          14301.18,
          14267.16,
          14474.25
         ],
         "yaxis": "y2"
        },
        {
         "hovertemplate": "S&P 500: %{y:.2f}%<extra></extra>",
         "line": {
          "color": "blue",
          "width": 2
         },
         "name": "S&P 500",
         "type": "scatter",
         "visible": true,
         "x": [
          "2023-08-01T00:00:00-04:00",
          "2023-08-02T00:00:00-04:00",
          "2023-08-03T00:00:00-04:00",
          "2023-08-04T00:00:00-04:00",
          "2023-08-07T00:00:00-04:00",
          "2023-08-08T00:00:00-04:00",
          "2023-08-09T00:00:00-04:00",
          "2023-08-10T00:00:00-04:00",
          "2023-08-11T00:00:00-04:00",
          "2023-08-14T00:00:00-04:00",
          "2023-08-15T00:00:00-04:00",
          "2023-08-16T00:00:00-04:00",
          "2023-08-17T00:00:00-04:00",
          "2023-08-18T00:00:00-04:00",
          "2023-08-21T00:00:00-04:00",
          "2023-08-22T00:00:00-04:00",
          "2023-08-23T00:00:00-04:00",
          "2023-08-24T00:00:00-04:00",
          "2023-08-25T00:00:00-04:00",
          "2023-08-28T00:00:00-04:00",
          "2023-08-29T00:00:00-04:00",
          "2023-08-30T00:00:00-04:00",
          "2023-08-31T00:00:00-04:00",
          "2023-09-01T00:00:00-04:00",
          "2023-09-05T00:00:00-04:00",
          "2023-09-06T00:00:00-04:00",
          "2023-09-07T00:00:00-04:00",
          "2023-09-08T00:00:00-04:00",
          "2023-09-11T00:00:00-04:00",
          "2023-09-12T00:00:00-04:00",
          "2023-09-13T00:00:00-04:00",
          "2023-09-14T00:00:00-04:00",
          "2023-09-15T00:00:00-04:00",
          "2023-09-18T00:00:00-04:00",
          "2023-09-19T00:00:00-04:00",
          "2023-09-20T00:00:00-04:00",
          "2023-09-21T00:00:00-04:00",
          "2023-09-22T00:00:00-04:00",
          "2023-09-25T00:00:00-04:00",
          "2023-09-26T00:00:00-04:00",
          "2023-09-27T00:00:00-04:00",
          "2023-09-28T00:00:00-04:00",
          "2023-09-29T00:00:00-04:00",
          "2023-10-02T00:00:00-04:00",
          "2023-10-03T00:00:00-04:00",
          "2023-10-04T00:00:00-04:00",
          "2023-10-05T00:00:00-04:00",
          "2023-10-06T00:00:00-04:00",
          "2023-10-09T00:00:00-04:00",
          "2023-10-10T00:00:00-04:00",
          "2023-10-11T00:00:00-04:00",
          "2023-10-12T00:00:00-04:00",
          "2023-10-13T00:00:00-04:00",
          "2023-10-16T00:00:00-04:00",
          "2023-10-17T00:00:00-04:00",
          "2023-10-18T00:00:00-04:00",
          "2023-10-19T00:00:00-04:00",
          "2023-10-20T00:00:00-04:00",
          "2023-10-23T00:00:00-04:00",
          "2023-10-24T00:00:00-04:00",
          "2023-10-25T00:00:00-04:00",
          "2023-10-26T00:00:00-04:00",
          "2023-10-27T00:00:00-04:00",
          "2023-10-30T00:00:00-04:00",
          "2023-10-31T00:00:00-04:00",
          "2023-11-01T00:00:00-04:00",
          "2023-11-02T00:00:00-04:00",
          "2023-11-03T00:00:00-04:00",
          "2023-11-06T00:00:00-05:00",
          "2023-11-07T00:00:00-05:00",
          "2023-11-08T00:00:00-05:00",
          "2023-11-09T00:00:00-05:00",
          "2023-11-10T00:00:00-05:00",
          "2023-11-13T00:00:00-05:00",
          "2023-11-14T00:00:00-05:00",
          "2023-11-15T00:00:00-05:00",
          "2023-11-16T00:00:00-05:00",
          "2023-11-17T00:00:00-05:00",
          "2023-11-20T00:00:00-05:00",
          "2023-11-21T00:00:00-05:00",
          "2023-11-22T00:00:00-05:00",
          "2023-11-24T00:00:00-05:00",
          "2023-11-27T00:00:00-05:00",
          "2023-11-28T00:00:00-05:00",
          "2023-11-29T00:00:00-05:00",
          "2023-11-30T00:00:00-05:00",
          "2023-12-01T00:00:00-05:00",
          "2023-12-04T00:00:00-05:00",
          "2023-12-05T00:00:00-05:00",
          "2023-12-06T00:00:00-05:00",
          "2023-12-07T00:00:00-05:00",
          "2023-12-08T00:00:00-05:00",
          "2023-12-11T00:00:00-05:00",
          "2023-12-12T00:00:00-05:00",
          "2023-12-13T00:00:00-05:00",
          "2023-12-14T00:00:00-05:00",
          "2023-12-15T00:00:00-05:00",
          "2023-12-18T00:00:00-05:00",
          "2023-12-19T00:00:00-05:00"
         ],
         "xaxis": "x",
         "y": [
          0,
          -1.38,
          -1.64,
          -2.16,
          -1.27,
          -1.69,
          -2.38,
          -2.36,
          -2.46,
          -1.9,
          -3.03,
          -3.77,
          -4.51,
          -4.52,
          -3.87,
          -4.13,
          -3.07,
          -4.38,
          -3.74,
          -3.13,
          -1.73,
          -1.35,
          -1.51,
          -1.33,
          -1.75,
          -2.43,
          -2.74,
          -2.61,
          -1.95,
          -2.51,
          -2.39,
          -1.57,
          -2.76,
          -2.69,
          -2.9,
          -3.81,
          -5.39,
          -5.61,
          -5.23,
          -6.62,
          -6.6,
          -6.05,
          -6.31,
          -6.3,
          -7.59,
          -6.84,
          -6.96,
          -5.86,
          -5.27,
          -4.77,
          -4.37,
          -4.96,
          -5.44,
          -4.44,
          -4.45,
          -5.73,
          -6.53,
          -7.7,
          -7.86,
          -7.19,
          -8.52,
          -9.6,
          -10.04,
          -8.96,
          -8.37,
          -7.4,
          -5.66,
          -4.77,
          -4.6,
          -4.33,
          -4.24,
          -5.01,
          -3.53,
          -3.61,
          -1.77,
          -1.61,
          -1.5,
          -1.37,
          -0.64,
          -0.84,
          -0.44,
          -0.38,
          -0.57,
          -0.48,
          -0.57,
          -0.2,
          0.39,
          -0.15,
          -0.21,
          -0.6,
          0.19,
          0.6,
          1,
          1.46,
          2.85,
          3.12,
          3.11,
          3.58,
          4.19
         ],
         "yaxis": "y"
        }
       ],
       "layout": {
        "annotations": [
         {
          "align": "left",
          "bgcolor": "rgba(255,255,255,0.8)",
          "bordercolor": "rgba(0,0,0,0.5)",
          "borderpad": 4,
          "borderwidth": 1,
          "font": {
           "family": "monospace",
           "size": 10
          },
          "showarrow": false,
          "text": "Portfolio Return:<br><span style='display: inline-block; width: 70px;'> 1D: <span style='color: green;'> +  1.39%</span></span> | <span style='display: inline-block; width: 70px;'> 1W: <span style='color: green;'> +  6.03%</span></span><br><span style='display: inline-block; width: 70px;'> 1M: <span style='color: green;'> +  5.84%</span></span> | <span style='display: inline-block; width: 70px;'> 3M: <span style='color: green;'> + 13.91%</span></span><br><span style='display: inline-block; width: 70px;'>Max: <span style='color: green;'> + 14.79%</span></span>",
          "x": 1,
          "xanchor": "right",
          "xref": "paper",
          "y": 1.05,
          "yanchor": "bottom",
          "yref": "paper"
         }
        ],
        "barmode": "stack",
        "hovermode": "x unified",
        "margin": {
         "t": 120
        },
        "showlegend": true,
        "template": {
         "data": {
          "bar": [
           {
            "error_x": {
             "color": "#2a3f5f"
            },
            "error_y": {
             "color": "#2a3f5f"
            },
            "marker": {
             "line": {
              "color": "#E5ECF6",
              "width": 0.5
             },
             "pattern": {
              "fillmode": "overlay",
              "size": 10,
              "solidity": 0.2
             }
            },
            "type": "bar"
           }
          ],
          "barpolar": [
           {
            "marker": {
             "line": {
              "color": "#E5ECF6",
              "width": 0.5
             },
             "pattern": {
              "fillmode": "overlay",
              "size": 10,
              "solidity": 0.2
             }
            },
            "type": "barpolar"
           }
          ],
          "carpet": [
           {
            "aaxis": {
             "endlinecolor": "#2a3f5f",
             "gridcolor": "white",
             "linecolor": "white",
             "minorgridcolor": "white",
             "startlinecolor": "#2a3f5f"
            },
            "baxis": {
             "endlinecolor": "#2a3f5f",
             "gridcolor": "white",
             "linecolor": "white",
             "minorgridcolor": "white",
             "startlinecolor": "#2a3f5f"
            },
            "type": "carpet"
           }
          ],
          "choropleth": [
           {
            "colorbar": {
             "outlinewidth": 0,
             "ticks": ""
            },
            "type": "choropleth"
           }
          ],
          "contour": [
           {
            "colorbar": {
             "outlinewidth": 0,
             "ticks": ""
            },
            "colorscale": [
             [
              0,
              "#0d0887"
             ],
             [
              0.1111111111111111,
              "#46039f"
             ],
             [
              0.2222222222222222,
              "#7201a8"
             ],
             [
              0.3333333333333333,
              "#9c179e"
             ],
             [
              0.4444444444444444,
              "#bd3786"
             ],
             [
              0.5555555555555556,
              "#d8576b"
             ],
             [
              0.6666666666666666,
              "#ed7953"
             ],
             [
              0.7777777777777778,
              "#fb9f3a"
             ],
             [
              0.8888888888888888,
              "#fdca26"
             ],
             [
              1,
              "#f0f921"
             ]
            ],
            "type": "contour"
           }
          ],
          "contourcarpet": [
           {
            "colorbar": {
             "outlinewidth": 0,
             "ticks": ""
            },
            "type": "contourcarpet"
           }
          ],
          "heatmap": [
           {
            "colorbar": {
             "outlinewidth": 0,
             "ticks": ""
            },
            "colorscale": [
             [
              0,
              "#0d0887"
             ],
             [
              0.1111111111111111,
              "#46039f"
             ],
             [
              0.2222222222222222,
              "#7201a8"
             ],
             [
              0.3333333333333333,
              "#9c179e"
             ],
             [
              0.4444444444444444,
              "#bd3786"
             ],
             [
              0.5555555555555556,
              "#d8576b"
             ],
             [
              0.6666666666666666,
              "#ed7953"
             ],
             [
              0.7777777777777778,
              "#fb9f3a"
             ],
             [
              0.8888888888888888,
              "#fdca26"
             ],
             [
              1,
              "#f0f921"
             ]
            ],
            "type": "heatmap"
           }
          ],
          "heatmapgl": [
           {
            "colorbar": {
             "outlinewidth": 0,
             "ticks": ""
            },
            "colorscale": [
             [
              0,
              "#0d0887"
             ],
             [
              0.1111111111111111,
              "#46039f"
             ],
             [
              0.2222222222222222,
              "#7201a8"
             ],
             [
              0.3333333333333333,
              "#9c179e"
             ],
             [
              0.4444444444444444,
              "#bd3786"
             ],
             [
              0.5555555555555556,
              "#d8576b"
             ],
             [
              0.6666666666666666,
              "#ed7953"
             ],
             [
              0.7777777777777778,
              "#fb9f3a"
             ],
             [
              0.8888888888888888,
              "#fdca26"
             ],
             [
              1,
              "#f0f921"
             ]
            ],
            "type": "heatmapgl"
           }
          ],
          "histogram": [
           {
            "marker": {
             "pattern": {
              "fillmode": "overlay",
              "size": 10,
              "solidity": 0.2
             }
            },
            "type": "histogram"
           }
          ],
          "histogram2d": [
           {
            "colorbar": {
             "outlinewidth": 0,
             "ticks": ""
            },
            "colorscale": [
             [
              0,
              "#0d0887"
             ],
             [
              0.1111111111111111,
              "#46039f"
             ],
             [
              0.2222222222222222,
              "#7201a8"
             ],
             [
              0.3333333333333333,
              "#9c179e"
             ],
             [
              0.4444444444444444,
              "#bd3786"
             ],
             [
              0.5555555555555556,
              "#d8576b"
             ],
             [
              0.6666666666666666,
              "#ed7953"
             ],
             [
              0.7777777777777778,
              "#fb9f3a"
             ],
             [
              0.8888888888888888,
              "#fdca26"
             ],
             [
              1,
              "#f0f921"
             ]
            ],
            "type": "histogram2d"
           }
          ],
          "histogram2dcontour": [
           {
            "colorbar": {
             "outlinewidth": 0,
             "ticks": ""
            },
            "colorscale": [
             [
              0,
              "#0d0887"
             ],
             [
              0.1111111111111111,
              "#46039f"
             ],
             [
              0.2222222222222222,
              "#7201a8"
             ],
             [
              0.3333333333333333,
              "#9c179e"
             ],
             [
              0.4444444444444444,
              "#bd3786"
             ],
             [
              0.5555555555555556,
              "#d8576b"
             ],
             [
              0.6666666666666666,
              "#ed7953"
             ],
             [
              0.7777777777777778,
              "#fb9f3a"
             ],
             [
              0.8888888888888888,
              "#fdca26"
             ],
             [
              1,
              "#f0f921"
             ]
            ],
            "type": "histogram2dcontour"
           }
          ],
          "mesh3d": [
           {
            "colorbar": {
             "outlinewidth": 0,
             "ticks": ""
            },
            "type": "mesh3d"
           }
          ],
          "parcoords": [
           {
            "line": {
             "colorbar": {
              "outlinewidth": 0,
              "ticks": ""
             }
            },
            "type": "parcoords"
           }
          ],
          "pie": [
           {
            "automargin": true,
            "type": "pie"
           }
          ],
          "scatter": [
           {
            "fillpattern": {
             "fillmode": "overlay",
             "size": 10,
             "solidity": 0.2
            },
            "type": "scatter"
           }
          ],
          "scatter3d": [
           {
            "line": {
             "colorbar": {
              "outlinewidth": 0,
              "ticks": ""
             }
            },
            "marker": {
             "colorbar": {
              "outlinewidth": 0,
              "ticks": ""
             }
            },
            "type": "scatter3d"
           }
          ],
          "scattercarpet": [
           {
            "marker": {
             "colorbar": {
              "outlinewidth": 0,
              "ticks": ""
             }
            },
            "type": "scattercarpet"
           }
          ],
          "scattergeo": [
           {
            "marker": {
             "colorbar": {
              "outlinewidth": 0,
              "ticks": ""
             }
            },
            "type": "scattergeo"
           }
          ],
          "scattergl": [
           {
            "marker": {
             "colorbar": {
              "outlinewidth": 0,
              "ticks": ""
             }
            },
            "type": "scattergl"
           }
          ],
          "scattermapbox": [
           {
            "marker": {
             "colorbar": {
              "outlinewidth": 0,
              "ticks": ""
             }
            },
            "type": "scattermapbox"
           }
          ],
          "scatterpolar": [
           {
            "marker": {
             "colorbar": {
              "outlinewidth": 0,
              "ticks": ""
             }
            },
            "type": "scatterpolar"
           }
          ],
          "scatterpolargl": [
           {
            "marker": {
             "colorbar": {
              "outlinewidth": 0,
              "ticks": ""
             }
            },
            "type": "scatterpolargl"
           }
          ],
          "scatterternary": [
           {
            "marker": {
             "colorbar": {
              "outlinewidth": 0,
              "ticks": ""
             }
            },
            "type": "scatterternary"
           }
          ],
          "surface": [
           {
            "colorbar": {
             "outlinewidth": 0,
             "ticks": ""
            },
            "colorscale": [
             [
              0,
              "#0d0887"
             ],
             [
              0.1111111111111111,
              "#46039f"
             ],
             [
              0.2222222222222222,
              "#7201a8"
             ],
             [
              0.3333333333333333,
              "#9c179e"
             ],
             [
              0.4444444444444444,
              "#bd3786"
             ],
             [
              0.5555555555555556,
              "#d8576b"
             ],
             [
              0.6666666666666666,
              "#ed7953"
             ],
             [
              0.7777777777777778,
              "#fb9f3a"
             ],
             [
              0.8888888888888888,
              "#fdca26"
             ],
             [
              1,
              "#f0f921"
             ]
            ],
            "type": "surface"
           }
          ],
          "table": [
           {
            "cells": {
             "fill": {
              "color": "#EBF0F8"
             },
             "line": {
              "color": "white"
             }
            },
            "header": {
             "fill": {
              "color": "#C8D4E3"
             },
             "line": {
              "color": "white"
             }
            },
            "type": "table"
           }
          ]
         },
         "layout": {
          "annotationdefaults": {
           "arrowcolor": "#2a3f5f",
           "arrowhead": 0,
           "arrowwidth": 1
          },
          "autotypenumbers": "strict",
          "coloraxis": {
           "colorbar": {
            "outlinewidth": 0,
            "ticks": ""
           }
          },
          "colorscale": {
           "diverging": [
            [
             0,
             "#8e0152"
            ],
            [
             0.1,
             "#c51b7d"
            ],
            [
             0.2,
             "#de77ae"
            ],
            [
             0.3,
             "#f1b6da"
            ],
            [
             0.4,
             "#fde0ef"
            ],
            [
             0.5,
             "#f7f7f7"
            ],
            [
             0.6,
             "#e6f5d0"
            ],
            [
             0.7,
             "#b8e186"
            ],
            [
             0.8,
             "#7fbc41"
            ],
            [
             0.9,
             "#4d9221"
            ],
            [
             1,
             "#276419"
            ]
           ],
           "sequential": [
            [
             0,
             "#0d0887"
            ],
            [
             0.1111111111111111,
             "#46039f"
            ],
            [
             0.2222222222222222,
             "#7201a8"
            ],
            [
             0.3333333333333333,
             "#9c179e"
            ],
            [
             0.4444444444444444,
             "#bd3786"
            ],
            [
             0.5555555555555556,
             "#d8576b"
            ],
            [
             0.6666666666666666,
             "#ed7953"
            ],
            [
             0.7777777777777778,
             "#fb9f3a"
            ],
            [
             0.8888888888888888,
             "#fdca26"
            ],
            [
             1,
             "#f0f921"
            ]
           ],
           "sequentialminus": [
            [
             0,
             "#0d0887"
            ],
            [
             0.1111111111111111,
             "#46039f"
            ],
            [
             0.2222222222222222,
             "#7201a8"
            ],
            [
             0.3333333333333333,
             "#9c179e"
            ],
            [
             0.4444444444444444,
             "#bd3786"
            ],
            [
             0.5555555555555556,
             "#d8576b"
            ],
            [
             0.6666666666666666,
             "#ed7953"
            ],
            [
             0.7777777777777778,
             "#fb9f3a"
            ],
            [
             0.8888888888888888,
             "#fdca26"
            ],
            [
             1,
             "#f0f921"
            ]
           ]
          },
          "colorway": [
           "#636efa",
           "#EF553B",
           "#00cc96",
           "#ab63fa",
           "#FFA15A",
           "#19d3f3",
           "#FF6692",
           "#B6E880",
           "#FF97FF",
           "#FECB52"
          ],
          "font": {
           "color": "#2a3f5f"
          },
          "geo": {
           "bgcolor": "white",
           "lakecolor": "white",
           "landcolor": "#E5ECF6",
           "showlakes": true,
           "showland": true,
           "subunitcolor": "white"
          },
          "hoverlabel": {
           "align": "left"
          },
          "hovermode": "closest",
          "mapbox": {
           "style": "light"
          },
          "paper_bgcolor": "white",
          "plot_bgcolor": "#E5ECF6",
          "polar": {
           "angularaxis": {
            "gridcolor": "white",
            "linecolor": "white",
            "ticks": ""
           },
           "bgcolor": "#E5ECF6",
           "radialaxis": {
            "gridcolor": "white",
            "linecolor": "white",
            "ticks": ""
           }
          },
          "scene": {
           "xaxis": {
            "backgroundcolor": "#E5ECF6",
            "gridcolor": "white",
            "gridwidth": 2,
            "linecolor": "white",
            "showbackground": true,
            "ticks": "",
            "zerolinecolor": "white"
           },
           "yaxis": {
            "backgroundcolor": "#E5ECF6",
            "gridcolor": "white",
            "gridwidth": 2,
            "linecolor": "white",
            "showbackground": true,
            "ticks": "",
            "zerolinecolor": "white"
           },
           "zaxis": {
            "backgroundcolor": "#E5ECF6",
            "gridcolor": "white",
            "gridwidth": 2,
            "linecolor": "white",
            "showbackground": true,
            "ticks": "",
            "zerolinecolor": "white"
           }
          },
          "shapedefaults": {
           "line": {
            "color": "#2a3f5f"
           }
          },
          "ternary": {
           "aaxis": {
            "gridcolor": "white",
            "linecolor": "white",
            "ticks": ""
           },
           "baxis": {
            "gridcolor": "white",
            "linecolor": "white",
            "ticks": ""
           },
           "bgcolor": "#E5ECF6",
           "caxis": {
            "gridcolor": "white",
            "linecolor": "white",
            "ticks": ""
           }
          },
          "title": {
           "x": 0.05
          },
          "xaxis": {
           "automargin": true,
           "gridcolor": "white",
           "linecolor": "white",
           "ticks": "",
           "title": {
            "standoff": 15
           },
           "zerolinecolor": "white",
           "zerolinewidth": 2
          },
          "yaxis": {
           "automargin": true,
           "gridcolor": "white",
           "linecolor": "white",
           "ticks": "",
           "title": {
            "standoff": 15
           },
           "zerolinecolor": "white",
           "zerolinewidth": 2
          }
         }
        },
        "title": {
         "text": "Portfolio Performance as of 2023-12-19<br>",
         "xanchor": "left",
         "yanchor": "top"
        },
        "xaxis": {
         "anchor": "y",
         "domain": [
          0,
          0.94
         ],
         "rangeselector": {
          "buttons": [
           {
            "count": 7,
            "label": "1W",
            "step": "day",
            "stepmode": "backward"
           },
           {
            "count": 1,
            "label": "1M",
            "step": "month",
            "stepmode": "backward"
           },
           {
            "count": 3,
            "label": "3M",
            "step": "month",
            "stepmode": "backward"
           },
           {
            "label": "MAX",
            "step": "all"
           }
          ]
         },
         "rangeslider": {
          "visible": false
         },
         "title": {
          "text": "Date"
         }
        },
        "yaxis": {
         "anchor": "x",
         "domain": [
          0,
          1
         ],
         "ticksuffix": "%",
         "title": {
          "text": "Return (%)"
         }
        },
        "yaxis2": {
         "anchor": "x",
         "overlaying": "y",
         "side": "right",
         "tickprefix": "$",
         "title": {
          "text": "Value ($)"
         }
        }
       }
      }
     },
     "metadata": {},
     "output_type": "display_data"
    }
   ],
   "source": [
    "plot_portfolio_growth(portfolio_data)"
   ]
  },
  {
   "cell_type": "code",
   "execution_count": 10,
   "metadata": {},
   "outputs": [
    {
     "data": {
      "application/vnd.plotly.v1+json": {
       "config": {
        "plotlyServerURL": "https://plot.ly"
       },
       "data": [
        {
         "hoverinfo": "text",
         "mode": "lines",
         "name": "PLTR",
         "stackgroup": "one",
         "text": [
          "PLTR: 0.00%",
          "PLTR: 0.00%",
          "PLTR: 0.00%",
          "PLTR: 0.00%",
          "PLTR: 0.00%",
          "PLTR: 0.00%",
          "PLTR: 0.00%",
          "PLTR: 0.00%",
          "PLTR: 0.00%",
          "PLTR: 0.00%",
          "PLTR: 0.00%",
          "PLTR: 0.00%",
          "PLTR: 0.00%",
          "PLTR: 0.00%",
          "PLTR: 0.00%",
          "PLTR: 0.00%",
          "PLTR: 0.00%",
          "PLTR: 1.46%",
          "PLTR: 1.22%",
          "PLTR: 1.23%",
          "PLTR: 1.26%",
          "PLTR: 1.33%",
          "PLTR: 7.34%",
          "PLTR: 7.55%",
          "PLTR: 7.47%",
          "PLTR: 7.59%",
          "PLTR: 7.60%",
          "PLTR: 7.57%",
          "PLTR: 7.61%",
          "PLTR: 7.56%",
          "PLTR: 7.54%",
          "PLTR: 7.55%",
          "PLTR: 7.37%",
          "PLTR: 7.50%",
          "PLTR: 6.87%",
          "PLTR: 6.74%",
          "PLTR: 6.52%",
          "PLTR: 6.69%",
          "PLTR: 6.70%",
          "PLTR: 6.19%",
          "PLTR: 6.57%",
          "PLTR: 6.87%",
          "PLTR: 6.91%",
          "PLTR: 6.38%",
          "PLTR: 6.12%",
          "PLTR: 6.32%",
          "PLTR: 6.32%",
          "PLTR: 6.53%",
          "PLTR: 6.86%",
          "PLTR: 4.58%",
          "PLTR: 4.60%",
          "PLTR: 4.62%",
          "PLTR: 4.54%",
          "PLTR: 4.49%",
          "PLTR: 4.61%",
          "PLTR: 4.55%",
          "PLTR: 4.08%",
          "PLTR: 3.71%",
          "PLTR: 3.72%",
          "PLTR: 3.79%",
          "PLTR: 3.44%",
          "PLTR: 3.26%",
          "PLTR: 3.21%",
          "PLTR: 2.60%",
          "PLTR: 2.59%",
          "PLTR: 2.56%",
          "PLTR: 1.48%",
          "PLTR: 0.00%",
          "PLTR: 0.00%",
          "PLTR: 0.00%",
          "PLTR: 0.00%",
          "PLTR: 0.00%",
          "PLTR: 0.00%",
          "PLTR: 0.00%",
          "PLTR: 0.00%",
          "PLTR: 0.00%",
          "PLTR: 0.00%",
          "PLTR: 0.00%",
          "PLTR: 0.00%",
          "PLTR: 0.00%",
          "PLTR: 0.00%",
          "PLTR: 0.00%",
          "PLTR: 0.00%",
          "PLTR: 0.00%",
          "PLTR: 0.00%",
          "PLTR: 0.00%",
          "PLTR: 0.00%",
          "PLTR: 1.40%",
          "PLTR: 1.39%",
          "PLTR: 1.94%",
          "PLTR: 2.57%",
          "PLTR: 2.64%",
          "PLTR: 2.66%",
          "PLTR: 2.64%",
          "PLTR: 2.48%",
          "PLTR: 2.45%",
          "PLTR: 2.44%",
          "PLTR: 2.40%",
          "PLTR: 2.38%"
         ],
         "type": "scatter",
         "x": [
          "2023-08-01",
          "2023-08-02",
          "2023-08-03",
          "2023-08-04",
          "2023-08-07",
          "2023-08-08",
          "2023-08-09",
          "2023-08-10",
          "2023-08-11",
          "2023-08-14",
          "2023-08-15",
          "2023-08-16",
          "2023-08-17",
          "2023-08-18",
          "2023-08-21",
          "2023-08-22",
          "2023-08-23",
          "2023-08-24",
          "2023-08-25",
          "2023-08-28",
          "2023-08-29",
          "2023-08-30",
          "2023-08-31",
          "2023-09-01",
          "2023-09-05",
          "2023-09-06",
          "2023-09-07",
          "2023-09-08",
          "2023-09-11",
          "2023-09-12",
          "2023-09-13",
          "2023-09-14",
          "2023-09-15",
          "2023-09-18",
          "2023-09-19",
          "2023-09-20",
          "2023-09-21",
          "2023-09-22",
          "2023-09-25",
          "2023-09-26",
          "2023-09-27",
          "2023-09-28",
          "2023-09-29",
          "2023-10-02",
          "2023-10-03",
          "2023-10-04",
          "2023-10-05",
          "2023-10-06",
          "2023-10-09",
          "2023-10-10",
          "2023-10-11",
          "2023-10-12",
          "2023-10-13",
          "2023-10-16",
          "2023-10-17",
          "2023-10-18",
          "2023-10-19",
          "2023-10-20",
          "2023-10-23",
          "2023-10-24",
          "2023-10-25",
          "2023-10-26",
          "2023-10-27",
          "2023-10-30",
          "2023-10-31",
          "2023-11-01",
          "2023-11-02",
          "2023-11-03",
          "2023-11-06",
          "2023-11-07",
          "2023-11-08",
          "2023-11-09",
          "2023-11-10",
          "2023-11-13",
          "2023-11-14",
          "2023-11-15",
          "2023-11-16",
          "2023-11-17",
          "2023-11-20",
          "2023-11-21",
          "2023-11-22",
          "2023-11-24",
          "2023-11-27",
          "2023-11-28",
          "2023-11-29",
          "2023-11-30",
          "2023-12-01",
          "2023-12-04",
          "2023-12-05",
          "2023-12-06",
          "2023-12-07",
          "2023-12-08",
          "2023-12-11",
          "2023-12-12",
          "2023-12-13",
          "2023-12-14",
          "2023-12-15",
          "2023-12-18",
          "2023-12-19"
         ],
         "y": [
          0,
          0,
          0,
          0,
          0,
          0,
          0,
          0,
          0,
          0,
          0,
          0,
          0,
          0,
          0,
          0,
          0,
          1.457346380308468,
          1.224721266960209,
          1.2280121982204353,
          1.2590463073611868,
          1.3320592161540916,
          7.337870561610287,
          7.5460528291976665,
          7.467279934068308,
          7.590685010117583,
          7.599649430687504,
          7.568295947758334,
          7.6130010841656865,
          7.56424678916864,
          7.535597568376054,
          7.55379398424443,
          7.366691386280236,
          7.50435391639009,
          6.868448806851581,
          6.744151534129787,
          6.523709456315823,
          6.6876348320055135,
          6.699168185012012,
          6.186320568114782,
          6.566635187240843,
          6.87029814212326,
          6.914268607196584,
          6.375865378880197,
          6.117239570833338,
          6.317952426765033,
          6.323687002240799,
          6.529230219321783,
          6.857018577309483,
          4.578410935669606,
          4.596776647861529,
          4.624426192874571,
          4.5396003869135315,
          4.4949805706993615,
          4.6096109915854395,
          4.549255333363241,
          4.079112791156385,
          3.7059426635292305,
          3.721143344761825,
          3.785967554700103,
          3.4373548606896636,
          3.255539907647399,
          3.2084515923137187,
          2.599229090371979,
          2.5882834919820965,
          2.5641898201264177,
          1.4791293523840936,
          0,
          0,
          0,
          0,
          0,
          0,
          0,
          0,
          0,
          0,
          0,
          0,
          0,
          0,
          0,
          0,
          0,
          0,
          0,
          0,
          1.4022472071905798,
          1.3859926584246367,
          1.944392847671176,
          2.570075960715891,
          2.6375360610816267,
          2.6622950271871613,
          2.6385791794696023,
          2.4760172396384204,
          2.4549749305249735,
          2.444075719242155,
          2.4011912071401866,
          2.382789498935295
         ]
        },
        {
         "hoverinfo": "text",
         "mode": "lines",
         "name": "AAPL",
         "stackgroup": "one",
         "text": [
          "AAPL: 0.00%",
          "AAPL: 0.00%",
          "AAPL: 0.00%",
          "AAPL: 0.00%",
          "AAPL: 7.12%",
          "AAPL: 7.17%",
          "AAPL: 7.14%",
          "AAPL: 7.10%",
          "AAPL: 7.13%",
          "AAPL: 7.20%",
          "AAPL: 7.18%",
          "AAPL: 7.19%",
          "AAPL: 7.15%",
          "AAPL: 7.20%",
          "AAPL: 7.12%",
          "AAPL: 7.17%",
          "AAPL: 7.27%",
          "AAPL: 7.24%",
          "AAPL: 6.00%",
          "AAPL: 6.02%",
          "AAPL: 6.00%",
          "AAPL: 6.10%",
          "AAPL: 6.11%",
          "AAPL: 6.25%",
          "AAPL: 6.18%",
          "AAPL: 6.02%",
          "AAPL: 5.89%",
          "AAPL: 5.92%",
          "AAPL: 5.74%",
          "AAPL: 5.68%",
          "AAPL: 5.59%",
          "AAPL: 5.57%",
          "AAPL: 5.58%",
          "AAPL: 5.74%",
          "AAPL: 5.39%",
          "AAPL: 5.33%",
          "AAPL: 5.38%",
          "AAPL: 5.49%",
          "AAPL: 5.51%",
          "AAPL: 5.06%",
          "AAPL: 5.00%",
          "AAPL: 7.40%",
          "AAPL: 7.37%",
          "AAPL: 6.95%",
          "AAPL: 7.05%",
          "AAPL: 6.94%",
          "AAPL: 6.96%",
          "AAPL: 6.95%",
          "AAPL: 6.94%",
          "AAPL: 6.85%",
          "AAPL: 6.89%",
          "AAPL: 6.96%",
          "AAPL: 6.98%",
          "AAPL: 6.91%",
          "AAPL: 6.84%",
          "AAPL: 6.95%",
          "AAPL: 6.26%",
          "AAPL: 5.94%",
          "AAPL: 5.93%",
          "AAPL: 5.89%",
          "AAPL: 5.63%",
          "AAPL: 5.31%",
          "AAPL: 5.35%",
          "AAPL: 4.50%",
          "AAPL: 4.46%",
          "AAPL: 4.46%",
          "AAPL: 4.37%",
          "AAPL: 4.29%",
          "AAPL: 4.36%",
          "AAPL: 4.39%",
          "AAPL: 4.41%",
          "AAPL: 4.47%",
          "AAPL: 4.49%",
          "AAPL: 4.37%",
          "AAPL: 4.26%",
          "AAPL: 4.20%",
          "AAPL: 4.32%",
          "AAPL: 4.31%",
          "AAPL: 4.32%",
          "AAPL: 4.26%",
          "AAPL: 4.33%",
          "AAPL: 4.29%",
          "AAPL: 4.29%",
          "AAPL: 4.22%",
          "AAPL: 4.22%",
          "AAPL: 4.28%",
          "AAPL: 4.31%",
          "AAPL: 4.32%",
          "AAPL: 4.38%",
          "AAPL: 4.36%",
          "AAPL: 4.34%",
          "AAPL: 4.35%",
          "AAPL: 4.33%",
          "AAPL: 4.39%",
          "AAPL: 4.11%",
          "AAPL: 4.00%",
          "AAPL: 3.97%",
          "AAPL: 3.95%",
          "AAPL: 3.91%"
         ],
         "type": "scatter",
         "x": [
          "2023-08-01",
          "2023-08-02",
          "2023-08-03",
          "2023-08-04",
          "2023-08-07",
          "2023-08-08",
          "2023-08-09",
          "2023-08-10",
          "2023-08-11",
          "2023-08-14",
          "2023-08-15",
          "2023-08-16",
          "2023-08-17",
          "2023-08-18",
          "2023-08-21",
          "2023-08-22",
          "2023-08-23",
          "2023-08-24",
          "2023-08-25",
          "2023-08-28",
          "2023-08-29",
          "2023-08-30",
          "2023-08-31",
          "2023-09-01",
          "2023-09-05",
          "2023-09-06",
          "2023-09-07",
          "2023-09-08",
          "2023-09-11",
          "2023-09-12",
          "2023-09-13",
          "2023-09-14",
          "2023-09-15",
          "2023-09-18",
          "2023-09-19",
          "2023-09-20",
          "2023-09-21",
          "2023-09-22",
          "2023-09-25",
          "2023-09-26",
          "2023-09-27",
          "2023-09-28",
          "2023-09-29",
          "2023-10-02",
          "2023-10-03",
          "2023-10-04",
          "2023-10-05",
          "2023-10-06",
          "2023-10-09",
          "2023-10-10",
          "2023-10-11",
          "2023-10-12",
          "2023-10-13",
          "2023-10-16",
          "2023-10-17",
          "2023-10-18",
          "2023-10-19",
          "2023-10-20",
          "2023-10-23",
          "2023-10-24",
          "2023-10-25",
          "2023-10-26",
          "2023-10-27",
          "2023-10-30",
          "2023-10-31",
          "2023-11-01",
          "2023-11-02",
          "2023-11-03",
          "2023-11-06",
          "2023-11-07",
          "2023-11-08",
          "2023-11-09",
          "2023-11-10",
          "2023-11-13",
          "2023-11-14",
          "2023-11-15",
          "2023-11-16",
          "2023-11-17",
          "2023-11-20",
          "2023-11-21",
          "2023-11-22",
          "2023-11-24",
          "2023-11-27",
          "2023-11-28",
          "2023-11-29",
          "2023-11-30",
          "2023-12-01",
          "2023-12-04",
          "2023-12-05",
          "2023-12-06",
          "2023-12-07",
          "2023-12-08",
          "2023-12-11",
          "2023-12-12",
          "2023-12-13",
          "2023-12-14",
          "2023-12-15",
          "2023-12-18",
          "2023-12-19"
         ],
         "y": [
          0,
          0,
          0,
          0,
          7.122035021150189,
          7.165391656055717,
          7.138741068476125,
          7.102534539607477,
          7.130953005873359,
          7.196911120260265,
          7.176851876965032,
          7.194419656682542,
          7.153231271772867,
          7.202428387432794,
          7.119623048300011,
          7.174911544023733,
          7.2665276632318765,
          7.2414759875994275,
          5.997107608829132,
          6.020834749101139,
          5.996341273648128,
          6.09747866474319,
          6.109825691123799,
          6.252861031128712,
          6.183205433987675,
          6.024765480697234,
          5.890098948622846,
          5.917404028198529,
          5.741329339597419,
          5.679172094494166,
          5.587008252014808,
          5.567599718435341,
          5.583497146664617,
          5.73540072562154,
          5.389916096729196,
          5.330836937826594,
          5.38089109895283,
          5.492373940438431,
          5.507372283254813,
          5.059266922370336,
          5.003519184480228,
          7.403141696711348,
          7.365792637119944,
          6.945084113179021,
          7.046452991646773,
          6.944028670118878,
          6.964937632474805,
          6.945928809545551,
          6.938551371752512,
          6.8520520209106275,
          6.887481260215932,
          6.956213917060146,
          6.984128579773552,
          6.910453817710203,
          6.835430912891795,
          6.945201388646878,
          6.264987105224384,
          5.938862237476008,
          5.93420869535256,
          5.892888598804803,
          5.63356909618206,
          5.306415052723605,
          5.348293516438172,
          4.4995309567292185,
          4.459817187743424,
          4.464893300291198,
          4.365289412740574,
          4.294122300597946,
          4.36228365334176,
          4.385678067977829,
          4.410940024881691,
          4.471808878851499,
          4.493266428650587,
          4.366507188377089,
          4.257896072745342,
          4.201340544669582,
          4.317379865647825,
          4.311453179649556,
          4.322833415401471,
          4.264740166920529,
          4.332545681792915,
          4.2914754999865785,
          4.291028435576064,
          4.221386653818971,
          4.2233187810196595,
          4.278513208394685,
          4.312185558571939,
          4.321086357406907,
          4.384788847195534,
          4.356095066476243,
          4.339363393499468,
          4.347418331319804,
          4.331500427225974,
          4.393674001773322,
          4.105007918536298,
          3.99715500803397,
          3.970742217297238,
          3.9459502820345826,
          3.912574346696471
         ]
        },
        {
         "hoverinfo": "text",
         "mode": "lines",
         "name": "GOOGL",
         "stackgroup": "one",
         "text": [
          "GOOGL: 0.00%",
          "GOOGL: 0.00%",
          "GOOGL: 0.00%",
          "GOOGL: 0.00%",
          "GOOGL: 0.00%",
          "GOOGL: 0.00%",
          "GOOGL: 0.00%",
          "GOOGL: 0.00%",
          "GOOGL: 0.00%",
          "GOOGL: 0.00%",
          "GOOGL: 0.00%",
          "GOOGL: 0.00%",
          "GOOGL: 0.00%",
          "GOOGL: 0.00%",
          "GOOGL: 0.00%",
          "GOOGL: 0.00%",
          "GOOGL: 0.00%",
          "GOOGL: 0.00%",
          "GOOGL: 0.00%",
          "GOOGL: 0.00%",
          "GOOGL: 0.00%",
          "GOOGL: 0.00%",
          "GOOGL: 0.00%",
          "GOOGL: 0.00%",
          "GOOGL: 0.00%",
          "GOOGL: 0.00%",
          "GOOGL: 0.00%",
          "GOOGL: 0.00%",
          "GOOGL: 0.00%",
          "GOOGL: 0.00%",
          "GOOGL: 0.00%",
          "GOOGL: 0.00%",
          "GOOGL: 0.00%",
          "GOOGL: 0.00%",
          "GOOGL: 0.00%",
          "GOOGL: 0.00%",
          "GOOGL: 0.00%",
          "GOOGL: 0.00%",
          "GOOGL: 0.00%",
          "GOOGL: 0.00%",
          "GOOGL: 0.00%",
          "GOOGL: 0.00%",
          "GOOGL: 0.00%",
          "GOOGL: 0.00%",
          "GOOGL: 0.00%",
          "GOOGL: 0.00%",
          "GOOGL: 0.00%",
          "GOOGL: 0.00%",
          "GOOGL: 0.00%",
          "GOOGL: 0.00%",
          "GOOGL: 0.00%",
          "GOOGL: 0.00%",
          "GOOGL: 0.00%",
          "GOOGL: 0.00%",
          "GOOGL: 0.00%",
          "GOOGL: 0.00%",
          "GOOGL: 0.00%",
          "GOOGL: 0.00%",
          "GOOGL: 0.00%",
          "GOOGL: 0.00%",
          "GOOGL: 6.91%",
          "GOOGL: 6.49%",
          "GOOGL: 6.49%",
          "GOOGL: 5.49%",
          "GOOGL: 5.41%",
          "GOOGL: 5.42%",
          "GOOGL: 5.23%",
          "GOOGL: 5.24%",
          "GOOGL: 5.29%",
          "GOOGL: 5.28%",
          "GOOGL: 5.31%",
          "GOOGL: 5.33%",
          "GOOGL: 5.33%",
          "GOOGL: 5.21%",
          "GOOGL: 5.06%",
          "GOOGL: 5.02%",
          "GOOGL: 5.19%",
          "GOOGL: 5.12%",
          "GOOGL: 5.13%",
          "GOOGL: 5.11%",
          "GOOGL: 5.23%",
          "GOOGL: 5.15%",
          "GOOGL: 5.14%",
          "GOOGL: 5.07%",
          "GOOGL: 5.02%",
          "GOOGL: 4.97%",
          "GOOGL: 4.95%",
          "GOOGL: 4.91%",
          "GOOGL: 4.95%",
          "GOOGL: 4.91%",
          "GOOGL: 5.10%",
          "GOOGL: 5.00%",
          "GOOGL: 4.98%",
          "GOOGL: 4.98%",
          "GOOGL: 4.58%",
          "GOOGL: 4.44%",
          "GOOGL: 4.44%",
          "GOOGL: 4.56%",
          "GOOGL: 4.52%"
         ],
         "type": "scatter",
         "x": [
          "2023-08-01",
          "2023-08-02",
          "2023-08-03",
          "2023-08-04",
          "2023-08-07",
          "2023-08-08",
          "2023-08-09",
          "2023-08-10",
          "2023-08-11",
          "2023-08-14",
          "2023-08-15",
          "2023-08-16",
          "2023-08-17",
          "2023-08-18",
          "2023-08-21",
          "2023-08-22",
          "2023-08-23",
          "2023-08-24",
          "2023-08-25",
          "2023-08-28",
          "2023-08-29",
          "2023-08-30",
          "2023-08-31",
          "2023-09-01",
          "2023-09-05",
          "2023-09-06",
          "2023-09-07",
          "2023-09-08",
          "2023-09-11",
          "2023-09-12",
          "2023-09-13",
          "2023-09-14",
          "2023-09-15",
          "2023-09-18",
          "2023-09-19",
          "2023-09-20",
          "2023-09-21",
          "2023-09-22",
          "2023-09-25",
          "2023-09-26",
          "2023-09-27",
          "2023-09-28",
          "2023-09-29",
          "2023-10-02",
          "2023-10-03",
          "2023-10-04",
          "2023-10-05",
          "2023-10-06",
          "2023-10-09",
          "2023-10-10",
          "2023-10-11",
          "2023-10-12",
          "2023-10-13",
          "2023-10-16",
          "2023-10-17",
          "2023-10-18",
          "2023-10-19",
          "2023-10-20",
          "2023-10-23",
          "2023-10-24",
          "2023-10-25",
          "2023-10-26",
          "2023-10-27",
          "2023-10-30",
          "2023-10-31",
          "2023-11-01",
          "2023-11-02",
          "2023-11-03",
          "2023-11-06",
          "2023-11-07",
          "2023-11-08",
          "2023-11-09",
          "2023-11-10",
          "2023-11-13",
          "2023-11-14",
          "2023-11-15",
          "2023-11-16",
          "2023-11-17",
          "2023-11-20",
          "2023-11-21",
          "2023-11-22",
          "2023-11-24",
          "2023-11-27",
          "2023-11-28",
          "2023-11-29",
          "2023-11-30",
          "2023-12-01",
          "2023-12-04",
          "2023-12-05",
          "2023-12-06",
          "2023-12-07",
          "2023-12-08",
          "2023-12-11",
          "2023-12-12",
          "2023-12-13",
          "2023-12-14",
          "2023-12-15",
          "2023-12-18",
          "2023-12-19"
         ],
         "y": [
          0,
          0,
          0,
          0,
          0,
          0,
          0,
          0,
          0,
          0,
          0,
          0,
          0,
          0,
          0,
          0,
          0,
          0,
          0,
          0,
          0,
          0,
          0,
          0,
          0,
          0,
          0,
          0,
          0,
          0,
          0,
          0,
          0,
          0,
          0,
          0,
          0,
          0,
          0,
          0,
          0,
          0,
          0,
          0,
          0,
          0,
          0,
          0,
          0,
          0,
          0,
          0,
          0,
          0,
          0,
          0,
          0,
          0,
          0,
          0,
          6.9066653683346075,
          6.492873011363068,
          6.486535057009216,
          5.491848323397534,
          5.4115026709989245,
          5.419586038847057,
          5.233957221423061,
          5.2408006192098116,
          5.294092145229945,
          5.275668387562651,
          5.310055017078914,
          5.331992922577215,
          5.330474529332161,
          5.205242143415942,
          5.062243865298162,
          5.017129844160543,
          5.19262726944858,
          5.124689991889944,
          5.126349163243119,
          5.105784858928835,
          5.226156065927987,
          5.145372843161326,
          5.139168332447898,
          5.068749002367536,
          5.016522630076271,
          4.974234779961815,
          4.954390940207009,
          4.913607637936149,
          4.948162819067697,
          4.907288063753658,
          5.096563129173921,
          4.996645346134647,
          4.980033006287461,
          4.982869055963303,
          4.5807894156837925,
          4.4358773694531815,
          4.4407133765916615,
          4.558244526006763,
          4.523731295379725
         ]
        },
        {
         "hoverinfo": "text",
         "mode": "lines",
         "name": "QQQ",
         "stackgroup": "one",
         "text": [
          "QQQ: 0.00%",
          "QQQ: 0.00%",
          "QQQ: 0.00%",
          "QQQ: 0.00%",
          "QQQ: 0.00%",
          "QQQ: 7.40%",
          "QQQ: 7.36%",
          "QQQ: 7.34%",
          "QQQ: 7.32%",
          "QQQ: 7.40%",
          "QQQ: 7.39%",
          "QQQ: 7.36%",
          "QQQ: 7.34%",
          "QQQ: 7.36%",
          "QQQ: 7.34%",
          "QQQ: 7.33%",
          "QQQ: 7.37%",
          "QQQ: 7.38%",
          "QQQ: 6.09%",
          "QQQ: 6.10%",
          "QQQ: 6.08%",
          "QQQ: 6.10%",
          "QQQ: 6.12%",
          "QQQ: 6.21%",
          "QQQ: 6.14%",
          "QQQ: 6.15%",
          "QQQ: 6.15%",
          "QQQ: 6.16%",
          "QQQ: 6.01%",
          "QQQ: 5.98%",
          "QQQ: 5.98%",
          "QQQ: 5.95%",
          "QQQ: 5.89%",
          "QQQ: 5.96%",
          "QQQ: 5.55%",
          "QQQ: 5.52%",
          "QQQ: 5.52%",
          "QQQ: 5.61%",
          "QQQ: 5.61%",
          "QQQ: 5.20%",
          "QQQ: 5.20%",
          "QQQ: 5.16%",
          "QQQ: 5.13%",
          "QQQ: 4.80%",
          "QQQ: 4.82%",
          "QQQ: 4.78%",
          "QQQ: 4.75%",
          "QQQ: 4.75%",
          "QQQ: 4.73%",
          "QQQ: 4.71%",
          "QQQ: 4.73%",
          "QQQ: 4.74%",
          "QQQ: 4.74%",
          "QQQ: 4.75%",
          "QQQ: 4.72%",
          "QQQ: 4.77%",
          "QQQ: 4.27%",
          "QQQ: 8.10%",
          "QQQ: 8.11%",
          "QQQ: 8.12%",
          "QQQ: 7.67%",
          "QQQ: 7.27%",
          "QQQ: 7.30%",
          "QQQ: 6.14%",
          "QQQ: 6.10%",
          "QQQ: 6.10%",
          "QQQ: 5.95%",
          "QQQ: 5.95%",
          "QQQ: 5.98%",
          "QQQ: 5.98%",
          "QQQ: 5.99%",
          "QQQ: 6.04%",
          "QQQ: 6.06%",
          "QQQ: 5.92%",
          "QQQ: 5.82%",
          "QQQ: 5.73%",
          "QQQ: 5.83%",
          "QQQ: 5.83%",
          "QQQ: 5.86%",
          "QQQ: 5.77%",
          "QQQ: 5.87%",
          "QQQ: 5.84%",
          "QQQ: 5.84%",
          "QQQ: 5.74%",
          "QQQ: 5.77%",
          "QQQ: 5.82%",
          "QQQ: 5.84%",
          "QQQ: 5.85%",
          "QQQ: 5.83%",
          "QQQ: 5.79%",
          "QQQ: 5.79%",
          "QQQ: 5.78%",
          "QQQ: 5.89%",
          "QQQ: 5.97%",
          "QQQ: 5.56%",
          "QQQ: 5.40%",
          "QQQ: 5.41%",
          "QQQ: 5.46%",
          "QQQ: 5.41%"
         ],
         "type": "scatter",
         "x": [
          "2023-08-01",
          "2023-08-02",
          "2023-08-03",
          "2023-08-04",
          "2023-08-07",
          "2023-08-08",
          "2023-08-09",
          "2023-08-10",
          "2023-08-11",
          "2023-08-14",
          "2023-08-15",
          "2023-08-16",
          "2023-08-17",
          "2023-08-18",
          "2023-08-21",
          "2023-08-22",
          "2023-08-23",
          "2023-08-24",
          "2023-08-25",
          "2023-08-28",
          "2023-08-29",
          "2023-08-30",
          "2023-08-31",
          "2023-09-01",
          "2023-09-05",
          "2023-09-06",
          "2023-09-07",
          "2023-09-08",
          "2023-09-11",
          "2023-09-12",
          "2023-09-13",
          "2023-09-14",
          "2023-09-15",
          "2023-09-18",
          "2023-09-19",
          "2023-09-20",
          "2023-09-21",
          "2023-09-22",
          "2023-09-25",
          "2023-09-26",
          "2023-09-27",
          "2023-09-28",
          "2023-09-29",
          "2023-10-02",
          "2023-10-03",
          "2023-10-04",
          "2023-10-05",
          "2023-10-06",
          "2023-10-09",
          "2023-10-10",
          "2023-10-11",
          "2023-10-12",
          "2023-10-13",
          "2023-10-16",
          "2023-10-17",
          "2023-10-18",
          "2023-10-19",
          "2023-10-20",
          "2023-10-23",
          "2023-10-24",
          "2023-10-25",
          "2023-10-26",
          "2023-10-27",
          "2023-10-30",
          "2023-10-31",
          "2023-11-01",
          "2023-11-02",
          "2023-11-03",
          "2023-11-06",
          "2023-11-07",
          "2023-11-08",
          "2023-11-09",
          "2023-11-10",
          "2023-11-13",
          "2023-11-14",
          "2023-11-15",
          "2023-11-16",
          "2023-11-17",
          "2023-11-20",
          "2023-11-21",
          "2023-11-22",
          "2023-11-24",
          "2023-11-27",
          "2023-11-28",
          "2023-11-29",
          "2023-11-30",
          "2023-12-01",
          "2023-12-04",
          "2023-12-05",
          "2023-12-06",
          "2023-12-07",
          "2023-12-08",
          "2023-12-11",
          "2023-12-12",
          "2023-12-13",
          "2023-12-14",
          "2023-12-15",
          "2023-12-18",
          "2023-12-19"
         ],
         "y": [
          0,
          0,
          0,
          0,
          0,
          7.398936370512965,
          7.356240981537902,
          7.341522467134913,
          7.321430569355372,
          7.402540578535742,
          7.386303919578458,
          7.362490960278055,
          7.340202699434947,
          7.360681875530507,
          7.336523745671853,
          7.325029167580596,
          7.373696334588628,
          7.3844552418801985,
          6.085975747380725,
          6.102065756068474,
          6.0774184374137015,
          6.097485055038321,
          6.120975015929623,
          6.205125911517547,
          6.136030236069295,
          6.1461288405317305,
          6.145530780011362,
          6.161135951839747,
          6.008452427446114,
          5.979513958449132,
          5.97572468141159,
          5.951392024527047,
          5.890657936970507,
          5.956482408721888,
          5.551437025840265,
          5.521859626404265,
          5.5206481724912555,
          5.608083520429979,
          5.608713882117888,
          5.1965862336260145,
          5.197613531591901,
          5.163561415555706,
          5.125626959365402,
          4.801962951546832,
          4.824030347180697,
          4.783642551576101,
          4.74972083588828,
          4.746116786438305,
          4.725321247449794,
          4.708037058102937,
          4.728771648411987,
          4.735398040971741,
          4.743461345302972,
          4.749942081737205,
          4.724488121566675,
          4.7726814207830035,
          4.274197874061474,
          8.101649050652817,
          8.114096320814612,
          8.115342003246685,
          7.671840455861082,
          7.267350086395284,
          7.301682820340388,
          6.136611083157054,
          6.097678256937389,
          6.096337718952868,
          5.945508416743772,
          5.948110387191421,
          5.9798390630773985,
          5.9822875872168915,
          5.9853983428293125,
          6.037140410545415,
          6.061736151483528,
          5.9232011046822945,
          5.81710203030079,
          5.7267409741418485,
          5.832057888723688,
          5.826023878039585,
          5.858166497028265,
          5.770277693207122,
          5.865399637201256,
          5.8425290905650025,
          5.842357911789436,
          5.744140662662156,
          5.772399395583553,
          5.815326383924243,
          5.838176392825165,
          5.851296600177331,
          5.82967456658606,
          5.790961646581253,
          5.790608411125871,
          5.784336607849484,
          5.888509012499329,
          5.973293518005797,
          5.559029997371281,
          5.404187834553749,
          5.409173007654659,
          5.455648790491604,
          5.408155181215952
         ]
        },
        {
         "hoverinfo": "text",
         "mode": "lines",
         "name": "TSM",
         "stackgroup": "one",
         "text": [
          "TSM: 0.00%",
          "TSM: 0.00%",
          "TSM: 1.87%",
          "TSM: 1.89%",
          "TSM: 1.89%",
          "TSM: 1.86%",
          "TSM: 1.86%",
          "TSM: 1.86%",
          "TSM: 5.45%",
          "TSM: 5.51%",
          "TSM: 5.48%",
          "TSM: 5.52%",
          "TSM: 5.56%",
          "TSM: 5.55%",
          "TSM: 5.53%",
          "TSM: 5.51%",
          "TSM: 5.58%",
          "TSM: 5.60%",
          "TSM: 4.61%",
          "TSM: 4.63%",
          "TSM: 4.57%",
          "TSM: 4.54%",
          "TSM: 4.49%",
          "TSM: 4.54%",
          "TSM: 4.55%",
          "TSM: 4.48%",
          "TSM: 5.88%",
          "TSM: 5.86%",
          "TSM: 5.64%",
          "TSM: 5.73%",
          "TSM: 5.75%",
          "TSM: 5.73%",
          "TSM: 5.63%",
          "TSM: 5.66%",
          "TSM: 6.56%",
          "TSM: 7.86%",
          "TSM: 10.44%",
          "TSM: 10.64%",
          "TSM: 10.67%",
          "TSM: 12.26%",
          "TSM: 12.40%",
          "TSM: 12.35%",
          "TSM: 12.32%",
          "TSM: 11.55%",
          "TSM: 11.51%",
          "TSM: 11.42%",
          "TSM: 11.42%",
          "TSM: 11.52%",
          "TSM: 11.37%",
          "TSM: 11.47%",
          "TSM: 11.62%",
          "TSM: 11.73%",
          "TSM: 11.66%",
          "TSM: 11.65%",
          "TSM: 11.59%",
          "TSM: 11.68%",
          "TSM: 10.95%",
          "TSM: 10.36%",
          "TSM: 10.32%",
          "TSM: 10.28%",
          "TSM: 9.53%",
          "TSM: 9.18%",
          "TSM: 9.03%",
          "TSM: 7.51%",
          "TSM: 7.44%",
          "TSM: 7.44%",
          "TSM: 7.34%",
          "TSM: 7.37%",
          "TSM: 7.44%",
          "TSM: 7.36%",
          "TSM: 7.33%",
          "TSM: 7.42%",
          "TSM: 7.74%",
          "TSM: 7.51%",
          "TSM: 7.41%",
          "TSM: 7.28%",
          "TSM: 7.39%",
          "TSM: 7.46%",
          "TSM: 7.44%",
          "TSM: 7.25%",
          "TSM: 7.36%",
          "TSM: 7.28%",
          "TSM: 7.24%",
          "TSM: 7.16%",
          "TSM: 7.26%",
          "TSM: 7.22%",
          "TSM: 7.32%",
          "TSM: 7.29%",
          "TSM: 7.22%",
          "TSM: 7.30%",
          "TSM: 7.31%",
          "TSM: 7.34%",
          "TSM: 7.46%",
          "TSM: 7.55%",
          "TSM: 6.98%",
          "TSM: 6.91%",
          "TSM: 6.82%",
          "TSM: 6.86%",
          "TSM: 6.83%"
         ],
         "type": "scatter",
         "x": [
          "2023-08-01",
          "2023-08-02",
          "2023-08-03",
          "2023-08-04",
          "2023-08-07",
          "2023-08-08",
          "2023-08-09",
          "2023-08-10",
          "2023-08-11",
          "2023-08-14",
          "2023-08-15",
          "2023-08-16",
          "2023-08-17",
          "2023-08-18",
          "2023-08-21",
          "2023-08-22",
          "2023-08-23",
          "2023-08-24",
          "2023-08-25",
          "2023-08-28",
          "2023-08-29",
          "2023-08-30",
          "2023-08-31",
          "2023-09-01",
          "2023-09-05",
          "2023-09-06",
          "2023-09-07",
          "2023-09-08",
          "2023-09-11",
          "2023-09-12",
          "2023-09-13",
          "2023-09-14",
          "2023-09-15",
          "2023-09-18",
          "2023-09-19",
          "2023-09-20",
          "2023-09-21",
          "2023-09-22",
          "2023-09-25",
          "2023-09-26",
          "2023-09-27",
          "2023-09-28",
          "2023-09-29",
          "2023-10-02",
          "2023-10-03",
          "2023-10-04",
          "2023-10-05",
          "2023-10-06",
          "2023-10-09",
          "2023-10-10",
          "2023-10-11",
          "2023-10-12",
          "2023-10-13",
          "2023-10-16",
          "2023-10-17",
          "2023-10-18",
          "2023-10-19",
          "2023-10-20",
          "2023-10-23",
          "2023-10-24",
          "2023-10-25",
          "2023-10-26",
          "2023-10-27",
          "2023-10-30",
          "2023-10-31",
          "2023-11-01",
          "2023-11-02",
          "2023-11-03",
          "2023-11-06",
          "2023-11-07",
          "2023-11-08",
          "2023-11-09",
          "2023-11-10",
          "2023-11-13",
          "2023-11-14",
          "2023-11-15",
          "2023-11-16",
          "2023-11-17",
          "2023-11-20",
          "2023-11-21",
          "2023-11-22",
          "2023-11-24",
          "2023-11-27",
          "2023-11-28",
          "2023-11-29",
          "2023-11-30",
          "2023-12-01",
          "2023-12-04",
          "2023-12-05",
          "2023-12-06",
          "2023-12-07",
          "2023-12-08",
          "2023-12-11",
          "2023-12-12",
          "2023-12-13",
          "2023-12-14",
          "2023-12-15",
          "2023-12-18",
          "2023-12-19"
         ],
         "y": [
          0,
          0,
          1.8654061600479246,
          1.890360415710325,
          1.891130489608142,
          1.856054531626773,
          1.855788180098486,
          1.864788304342173,
          5.448421285979219,
          5.511603687646675,
          5.475482810663471,
          5.522258161946795,
          5.557850681851697,
          5.547476887026636,
          5.528807801427545,
          5.508931926028814,
          5.576637538175966,
          5.604399543667762,
          4.611630537345042,
          4.633643706664132,
          4.568181688358495,
          4.543465160114884,
          4.48928076728855,
          4.537318780751878,
          4.54889860095603,
          4.4831672019735,
          5.875823715869439,
          5.855738673766074,
          5.641601471223568,
          5.733144262789827,
          5.754449591414111,
          5.7296982210632,
          5.629987591397601,
          5.660207593052245,
          6.559122742541498,
          7.864198517407682,
          10.442869663938072,
          10.641574764072043,
          10.666669756240479,
          12.25834771776241,
          12.398996315900444,
          12.354261114158955,
          12.324091082496759,
          11.549135432247247,
          11.507655010505879,
          11.424186074643918,
          11.423952078248197,
          11.518715786558186,
          11.371716064523426,
          11.472842880332031,
          11.61725133261592,
          11.727393553874332,
          11.663092019854187,
          11.645479716053044,
          11.593112256383655,
          11.684472267758474,
          10.953134294405647,
          10.356445251891849,
          10.318502602260516,
          10.2801133617786,
          9.527300142779389,
          9.180463324245503,
          9.0265005463737,
          7.507811628669357,
          7.442185346045246,
          7.439866167704732,
          7.343954735852434,
          7.366989094036719,
          7.441287247335127,
          7.35949367186457,
          7.325933870766462,
          7.415813059513421,
          7.744897269310128,
          7.512101983368227,
          7.408582894815549,
          7.2799100876009755,
          7.387957675437168,
          7.456467948084362,
          7.435687870878406,
          7.2526977361869776,
          7.3601112977631775,
          7.280738373215294,
          7.240704597774675,
          7.156611776431462,
          7.264954598938546,
          7.220925998165849,
          7.32077665520894,
          7.29025159850558,
          7.221221576429919,
          7.301556813812008,
          7.306469785618732,
          7.343745506055237,
          7.457002338953325,
          7.552922648466925,
          6.976364597261002,
          6.908738441354956,
          6.821308889539066,
          6.862858251554527,
          6.8303430192718215
         ]
        },
        {
         "hoverinfo": "text",
         "mode": "lines",
         "name": "SPY",
         "stackgroup": "one",
         "text": [
          "SPY: 0.00%",
          "SPY: 29.75%",
          "SPY: 8.85%",
          "SPY: 8.82%",
          "SPY: 8.88%",
          "SPY: 8.85%",
          "SPY: 8.84%",
          "SPY: 8.80%",
          "SPY: 8.83%",
          "SPY: 8.88%",
          "SPY: 8.85%",
          "SPY: 8.85%",
          "SPY: 8.85%",
          "SPY: 8.89%",
          "SPY: 8.78%",
          "SPY: 17.51%",
          "SPY: 17.55%",
          "SPY: 17.71%",
          "SPY: 14.58%",
          "SPY: 14.61%",
          "SPY: 14.44%",
          "SPY: 14.47%",
          "SPY: 14.46%",
          "SPY: 14.70%",
          "SPY: 14.46%",
          "SPY: 14.51%",
          "SPY: 14.57%",
          "SPY: 14.61%",
          "SPY: 14.17%",
          "SPY: 14.18%",
          "SPY: 14.14%",
          "SPY: 14.09%",
          "SPY: 14.01%",
          "SPY: 14.16%",
          "SPY: 13.20%",
          "SPY: 13.20%",
          "SPY: 13.22%",
          "SPY: 13.40%",
          "SPY: 13.39%",
          "SPY: 12.41%",
          "SPY: 12.39%",
          "SPY: 12.28%",
          "SPY: 12.15%",
          "SPY: 16.93%",
          "SPY: 17.08%",
          "SPY: 16.83%",
          "SPY: 16.75%",
          "SPY: 16.66%",
          "SPY: 16.61%",
          "SPY: 16.54%",
          "SPY: 16.56%",
          "SPY: 16.54%",
          "SPY: 16.70%",
          "SPY: 16.71%",
          "SPY: 16.67%",
          "SPY: 16.84%",
          "SPY: 15.09%",
          "SPY: 14.34%",
          "SPY: 14.29%",
          "SPY: 14.26%",
          "SPY: 13.63%",
          "SPY: 13.00%",
          "SPY: 12.94%",
          "SPY: 10.88%",
          "SPY: 10.84%",
          "SPY: 10.77%",
          "SPY: 10.51%",
          "SPY: 10.49%",
          "SPY: 10.53%",
          "SPY: 10.46%",
          "SPY: 10.47%",
          "SPY: 10.56%",
          "SPY: 10.53%",
          "SPY: 10.31%",
          "SPY: 10.11%",
          "SPY: 9.96%",
          "SPY: 10.15%",
          "SPY: 10.15%",
          "SPY: 10.16%",
          "SPY: 10.05%",
          "SPY: 10.21%",
          "SPY: 10.19%",
          "SPY: 10.18%",
          "SPY: 9.99%",
          "SPY: 10.04%",
          "SPY: 10.18%",
          "SPY: 10.26%",
          "SPY: 10.32%",
          "SPY: 10.25%",
          "SPY: 10.20%",
          "SPY: 10.14%",
          "SPY: 10.13%",
          "SPY: 10.26%",
          "SPY: 10.37%",
          "SPY: 9.67%",
          "SPY: 9.43%",
          "SPY: 9.38%",
          "SPY: 9.46%",
          "SPY: 9.38%"
         ],
         "type": "scatter",
         "x": [
          "2023-08-01",
          "2023-08-02",
          "2023-08-03",
          "2023-08-04",
          "2023-08-07",
          "2023-08-08",
          "2023-08-09",
          "2023-08-10",
          "2023-08-11",
          "2023-08-14",
          "2023-08-15",
          "2023-08-16",
          "2023-08-17",
          "2023-08-18",
          "2023-08-21",
          "2023-08-22",
          "2023-08-23",
          "2023-08-24",
          "2023-08-25",
          "2023-08-28",
          "2023-08-29",
          "2023-08-30",
          "2023-08-31",
          "2023-09-01",
          "2023-09-05",
          "2023-09-06",
          "2023-09-07",
          "2023-09-08",
          "2023-09-11",
          "2023-09-12",
          "2023-09-13",
          "2023-09-14",
          "2023-09-15",
          "2023-09-18",
          "2023-09-19",
          "2023-09-20",
          "2023-09-21",
          "2023-09-22",
          "2023-09-25",
          "2023-09-26",
          "2023-09-27",
          "2023-09-28",
          "2023-09-29",
          "2023-10-02",
          "2023-10-03",
          "2023-10-04",
          "2023-10-05",
          "2023-10-06",
          "2023-10-09",
          "2023-10-10",
          "2023-10-11",
          "2023-10-12",
          "2023-10-13",
          "2023-10-16",
          "2023-10-17",
          "2023-10-18",
          "2023-10-19",
          "2023-10-20",
          "2023-10-23",
          "2023-10-24",
          "2023-10-25",
          "2023-10-26",
          "2023-10-27",
          "2023-10-30",
          "2023-10-31",
          "2023-11-01",
          "2023-11-02",
          "2023-11-03",
          "2023-11-06",
          "2023-11-07",
          "2023-11-08",
          "2023-11-09",
          "2023-11-10",
          "2023-11-13",
          "2023-11-14",
          "2023-11-15",
          "2023-11-16",
          "2023-11-17",
          "2023-11-20",
          "2023-11-21",
          "2023-11-22",
          "2023-11-24",
          "2023-11-27",
          "2023-11-28",
          "2023-11-29",
          "2023-11-30",
          "2023-12-01",
          "2023-12-04",
          "2023-12-05",
          "2023-12-06",
          "2023-12-07",
          "2023-12-08",
          "2023-12-11",
          "2023-12-12",
          "2023-12-13",
          "2023-12-14",
          "2023-12-15",
          "2023-12-18",
          "2023-12-19"
         ],
         "y": [
          0,
          29.746687466265254,
          8.84887909203745,
          8.817154518423399,
          8.880192540769114,
          8.848402062915524,
          8.8356743951404,
          8.804888217545882,
          8.831981802706549,
          8.879470786502273,
          8.85070596903758,
          8.851157503290704,
          8.853832200079466,
          8.893969665618783,
          8.780982526213842,
          17.51197502285836,
          17.54795985416773,
          17.708544726509512,
          14.584518396888807,
          14.605867316818868,
          14.441737589949867,
          14.46841343919209,
          14.459542867855046,
          14.701228696514349,
          14.456321135058703,
          14.510575981620077,
          14.568808684169449,
          14.60738467622384,
          14.172090891715298,
          14.183741442366294,
          14.13742763944302,
          14.086080895385825,
          14.014317463068569,
          14.16446083358366,
          13.20202982397085,
          13.201200325121466,
          13.222451230251469,
          13.3997948788476,
          13.39403755659419,
          12.41393776101808,
          12.392311891220709,
          12.279772256170807,
          12.151151504129006,
          16.927713477878818,
          17.07757155230566,
          16.82889584438532,
          16.752621299076313,
          16.65952176707584,
          16.6080153370335,
          16.541785647684417,
          16.564501216340673,
          16.544079628443235,
          16.699617334651176,
          16.709453629147536,
          16.67376544987564,
          16.840313450907082,
          15.090105913021038,
          14.33966615659166,
          14.293673344661467,
          14.264881425937759,
          13.625252524790021,
          13.000197587979514,
          12.940279097242627,
          10.882927375484723,
          10.843408157916105,
          10.76971319764088,
          10.513689530668021,
          10.49099646368644,
          10.528271861885816,
          10.463649704718936,
          10.470016588616058,
          10.55942973509502,
          10.531133308492983,
          10.312807327100026,
          10.107004589061713,
          9.963571167175239,
          10.150528743862349,
          10.15027198347836,
          10.161126044668812,
          10.04522581676416,
          10.208458860830438,
          10.189277647834984,
          10.179514149262058,
          9.992104589535053,
          10.043979997809078,
          10.184117989450007,
          10.255342990835924,
          10.320243189466526,
          10.254332341757367,
          10.204208996795925,
          10.139767552527116,
          10.127196610539473,
          10.262022060982417,
          10.374694256644784,
          9.665411984866221,
          9.434523576964901,
          9.382324325443465,
          9.456603455814253,
          9.38333899259112
         ]
        },
        {
         "hoverinfo": "text",
         "mode": "lines",
         "name": "DIS",
         "stackgroup": "one",
         "text": [
          "DIS: 0.00%",
          "DIS: 0.00%",
          "DIS: 3.40%",
          "DIS: 3.44%",
          "DIS: 3.45%",
          "DIS: 3.51%",
          "DIS: 3.50%",
          "DIS: 3.66%",
          "DIS: 3.56%",
          "DIS: 3.55%",
          "DIS: 3.51%",
          "DIS: 3.51%",
          "DIS: 3.52%",
          "DIS: 8.84%",
          "DIS: 8.66%",
          "DIS: 8.65%",
          "DIS: 17.15%",
          "DIS: 21.93%",
          "DIS: 18.13%",
          "DIS: 18.21%",
          "DIS: 20.54%",
          "DIS: 20.46%",
          "DIS: 20.33%",
          "DIS: 24.16%",
          "DIS: 23.73%",
          "DIS: 23.92%",
          "DIS: 23.96%",
          "DIS: 24.29%",
          "DIS: 23.68%",
          "DIS: 24.17%",
          "DIS: 24.01%",
          "DIS: 24.00%",
          "DIS: 24.48%",
          "DIS: 24.57%",
          "DIS: 24.57%",
          "DIS: 24.99%",
          "DIS: 25.50%",
          "DIS: 25.44%",
          "DIS: 25.24%",
          "DIS: 23.46%",
          "DIS: 23.37%",
          "DIS: 23.09%",
          "DIS: 23.17%",
          "DIS: 21.69%",
          "DIS: 22.68%",
          "DIS: 22.13%",
          "DIS: 22.45%",
          "DIS: 22.64%",
          "DIS: 22.91%",
          "DIS: 22.77%",
          "DIS: 22.67%",
          "DIS: 22.65%",
          "DIS: 22.98%",
          "DIS: 23.12%",
          "DIS: 23.20%",
          "DIS: 23.33%",
          "DIS: 20.74%",
          "DIS: 19.81%",
          "DIS: 19.89%",
          "DIS: 21.43%",
          "DIS: 20.27%",
          "DIS: 19.38%",
          "DIS: 19.27%",
          "DIS: 16.29%",
          "DIS: 16.28%",
          "DIS: 15.90%",
          "DIS: 15.64%",
          "DIS: 15.80%",
          "DIS: 15.62%",
          "DIS: 15.59%",
          "DIS: 15.57%",
          "DIS: 14.71%",
          "DIS: 14.12%",
          "DIS: 14.02%",
          "DIS: 13.73%",
          "DIS: 13.93%",
          "DIS: 14.26%",
          "DIS: 14.19%",
          "DIS: 14.23%",
          "DIS: 14.01%",
          "DIS: 14.27%",
          "DIS: 14.39%",
          "DIS: 14.26%",
          "DIS: 13.60%",
          "DIS: 13.68%",
          "DIS: 13.84%",
          "DIS: 13.84%",
          "DIS: 13.91%",
          "DIS: 13.64%",
          "DIS: 13.74%",
          "DIS: 13.68%",
          "DIS: 13.71%",
          "DIS: 13.75%",
          "DIS: 13.67%",
          "DIS: 12.80%",
          "DIS: 12.61%",
          "DIS: 12.49%",
          "DIS: 12.44%",
          "DIS: 12.41%"
         ],
         "type": "scatter",
         "x": [
          "2023-08-01",
          "2023-08-02",
          "2023-08-03",
          "2023-08-04",
          "2023-08-07",
          "2023-08-08",
          "2023-08-09",
          "2023-08-10",
          "2023-08-11",
          "2023-08-14",
          "2023-08-15",
          "2023-08-16",
          "2023-08-17",
          "2023-08-18",
          "2023-08-21",
          "2023-08-22",
          "2023-08-23",
          "2023-08-24",
          "2023-08-25",
          "2023-08-28",
          "2023-08-29",
          "2023-08-30",
          "2023-08-31",
          "2023-09-01",
          "2023-09-05",
          "2023-09-06",
          "2023-09-07",
          "2023-09-08",
          "2023-09-11",
          "2023-09-12",
          "2023-09-13",
          "2023-09-14",
          "2023-09-15",
          "2023-09-18",
          "2023-09-19",
          "2023-09-20",
          "2023-09-21",
          "2023-09-22",
          "2023-09-25",
          "2023-09-26",
          "2023-09-27",
          "2023-09-28",
          "2023-09-29",
          "2023-10-02",
          "2023-10-03",
          "2023-10-04",
          "2023-10-05",
          "2023-10-06",
          "2023-10-09",
          "2023-10-10",
          "2023-10-11",
          "2023-10-12",
          "2023-10-13",
          "2023-10-16",
          "2023-10-17",
          "2023-10-18",
          "2023-10-19",
          "2023-10-20",
          "2023-10-23",
          "2023-10-24",
          "2023-10-25",
          "2023-10-26",
          "2023-10-27",
          "2023-10-30",
          "2023-10-31",
          "2023-11-01",
          "2023-11-02",
          "2023-11-03",
          "2023-11-06",
          "2023-11-07",
          "2023-11-08",
          "2023-11-09",
          "2023-11-10",
          "2023-11-13",
          "2023-11-14",
          "2023-11-15",
          "2023-11-16",
          "2023-11-17",
          "2023-11-20",
          "2023-11-21",
          "2023-11-22",
          "2023-11-24",
          "2023-11-27",
          "2023-11-28",
          "2023-11-29",
          "2023-11-30",
          "2023-12-01",
          "2023-12-04",
          "2023-12-05",
          "2023-12-06",
          "2023-12-07",
          "2023-12-08",
          "2023-12-11",
          "2023-12-12",
          "2023-12-13",
          "2023-12-14",
          "2023-12-15",
          "2023-12-18",
          "2023-12-19"
         ],
         "y": [
          0,
          0,
          3.401672628036755,
          3.437137292288279,
          3.452832836457218,
          3.507233080780615,
          3.500155249123477,
          3.6568787529880837,
          3.560674994812528,
          3.551770293540063,
          3.51140702477483,
          3.5086957792410214,
          3.5190932838993083,
          8.837476823316234,
          8.660737363333544,
          8.650466818240885,
          17.153516586785976,
          21.92656530199143,
          18.12552515051755,
          18.21078217378032,
          20.538682545961418,
          20.46307990667473,
          20.334702425856918,
          24.15962675866563,
          23.728752953080097,
          23.9169883311472,
          23.964967809331572,
          24.293049229531285,
          23.684930641674306,
          24.17020818824253,
          24.00571734365455,
          23.998123180106568,
          24.48171062960347,
          24.567673361681074,
          24.571895672107182,
          24.985966842627857,
          25.499181306965284,
          25.436093411465734,
          25.243906825178147,
          23.464160171630073,
          23.37006048619508,
          23.090623953588757,
          23.167328132666675,
          21.68941464928491,
          22.67988129387924,
          22.126680814431214,
          22.448613325104485,
          22.643435162702293,
          22.905791212712607,
          22.774024891954415,
          22.67485068736688,
          22.65153754373822,
          22.978949673137578,
          23.119944155622775,
          23.20351962319344,
          23.332962580281045,
          20.737105480241087,
          19.80720610982733,
          19.885640330024348,
          21.432804244056562,
          20.274266055218582,
          19.381854367786786,
          19.271053145066716,
          16.288248781692122,
          16.280688994543688,
          15.897441916936247,
          15.644680339592846,
          15.80038122916703,
          15.624863238841542,
          15.58994070766864,
          15.57142445493452,
          14.714555920919024,
          14.118552128061754,
          14.022477895388509,
          13.726786054121703,
          13.92746393105895,
          14.258972732141862,
          14.18665460922974,
          14.225065630027967,
          14.007508876810956,
          14.273464064296975,
          14.38615081922727,
          14.264895431759458,
          13.595975991298065,
          13.67618141987842,
          13.840983360549084,
          13.83936916820134,
          13.91424629489975,
          13.644756054703608,
          13.739609165067874,
          13.675323023483754,
          13.713665109882314,
          13.749935212024052,
          13.66810840268952,
          12.80319798033136,
          12.606330382897923,
          12.493093928453018,
          12.441180347093796,
          12.411563939182434
         ]
        },
        {
         "hoverinfo": "text",
         "mode": "lines",
         "name": "TSLA",
         "stackgroup": "one",
         "text": [
          "TSLA: 0.00%",
          "TSLA: 17.08%",
          "TSLA: 5.20%",
          "TSLA: 5.10%",
          "TSLA: 10.08%",
          "TSLA: 10.02%",
          "TSLA: 9.77%",
          "TSLA: 9.85%",
          "TSLA: 14.67%",
          "TSLA: 14.50%",
          "TSLA: 14.21%",
          "TSLA: 18.48%",
          "TSLA: 22.62%",
          "TSLA: 22.33%",
          "TSLA: 23.51%",
          "TSLA: 23.70%",
          "TSLA: 23.86%",
          "TSLA: 28.45%",
          "TSLA: 24.13%",
          "TSLA: 24.04%",
          "TSLA: 25.23%",
          "TSLA: 25.15%",
          "TSLA: 25.28%",
          "TSLA: 28.42%",
          "TSLA: 29.38%",
          "TSLA: 29.16%",
          "TSLA: 29.32%",
          "TSLA: 29.00%",
          "TSLA: 30.78%",
          "TSLA: 30.28%",
          "TSLA: 30.58%",
          "TSLA: 30.73%",
          "TSLA: 30.77%",
          "TSLA: 30.05%",
          "TSLA: 28.19%",
          "TSLA: 28.03%",
          "TSLA: 27.80%",
          "TSLA: 27.04%",
          "TSLA: 27.15%",
          "TSLA: 25.24%",
          "TSLA: 24.81%",
          "TSLA: 25.05%",
          "TSLA: 25.23%",
          "TSLA: 23.57%",
          "TSLA: 23.62%",
          "TSLA: 24.48%",
          "TSLA: 24.27%",
          "TSLA: 23.90%",
          "TSLA: 23.59%",
          "TSLA: 23.73%",
          "TSLA: 23.61%",
          "TSLA: 23.36%",
          "TSLA: 22.98%",
          "TSLA: 23.01%",
          "TSLA: 23.05%",
          "TSLA: 25.67%",
          "TSLA: 28.95%",
          "TSLA: 29.26%",
          "TSLA: 31.66%",
          "TSLA: 32.02%",
          "TSLA: 30.44%",
          "TSLA: 32.86%",
          "TSLA: 33.10%",
          "TSLA: 43.65%",
          "TSLA: 43.90%",
          "TSLA: 44.18%",
          "TSLA: 44.96%",
          "TSLA: 44.76%",
          "TSLA: 44.67%",
          "TSLA: 44.86%",
          "TSLA: 44.84%",
          "TSLA: 48.26%",
          "TSLA: 48.44%",
          "TSLA: 49.49%",
          "TSLA: 50.49%",
          "TSLA: 50.81%",
          "TSLA: 49.73%",
          "TSLA: 49.82%",
          "TSLA: 49.76%",
          "TSLA: 50.48%",
          "TSLA: 49.62%",
          "TSLA: 49.76%",
          "TSLA: 49.93%",
          "TSLA: 51.17%",
          "TSLA: 50.93%",
          "TSLA: 50.59%",
          "TSLA: 50.38%",
          "TSLA: 50.27%",
          "TSLA: 50.62%",
          "TSLA: 50.72%",
          "TSLA: 50.70%",
          "TSLA: 50.67%",
          "TSLA: 50.28%",
          "TSLA: 50.03%",
          "TSLA: 49.73%",
          "TSLA: 50.77%",
          "TSLA: 51.06%",
          "TSLA: 50.89%",
          "TSLA: 51.22%"
         ],
         "type": "scatter",
         "x": [
          "2023-08-01",
          "2023-08-02",
          "2023-08-03",
          "2023-08-04",
          "2023-08-07",
          "2023-08-08",
          "2023-08-09",
          "2023-08-10",
          "2023-08-11",
          "2023-08-14",
          "2023-08-15",
          "2023-08-16",
          "2023-08-17",
          "2023-08-18",
          "2023-08-21",
          "2023-08-22",
          "2023-08-23",
          "2023-08-24",
          "2023-08-25",
          "2023-08-28",
          "2023-08-29",
          "2023-08-30",
          "2023-08-31",
          "2023-09-01",
          "2023-09-05",
          "2023-09-06",
          "2023-09-07",
          "2023-09-08",
          "2023-09-11",
          "2023-09-12",
          "2023-09-13",
          "2023-09-14",
          "2023-09-15",
          "2023-09-18",
          "2023-09-19",
          "2023-09-20",
          "2023-09-21",
          "2023-09-22",
          "2023-09-25",
          "2023-09-26",
          "2023-09-27",
          "2023-09-28",
          "2023-09-29",
          "2023-10-02",
          "2023-10-03",
          "2023-10-04",
          "2023-10-05",
          "2023-10-06",
          "2023-10-09",
          "2023-10-10",
          "2023-10-11",
          "2023-10-12",
          "2023-10-13",
          "2023-10-16",
          "2023-10-17",
          "2023-10-18",
          "2023-10-19",
          "2023-10-20",
          "2023-10-23",
          "2023-10-24",
          "2023-10-25",
          "2023-10-26",
          "2023-10-27",
          "2023-10-30",
          "2023-10-31",
          "2023-11-01",
          "2023-11-02",
          "2023-11-03",
          "2023-11-06",
          "2023-11-07",
          "2023-11-08",
          "2023-11-09",
          "2023-11-10",
          "2023-11-13",
          "2023-11-14",
          "2023-11-15",
          "2023-11-16",
          "2023-11-17",
          "2023-11-20",
          "2023-11-21",
          "2023-11-22",
          "2023-11-24",
          "2023-11-27",
          "2023-11-28",
          "2023-11-29",
          "2023-11-30",
          "2023-12-01",
          "2023-12-04",
          "2023-12-05",
          "2023-12-06",
          "2023-12-07",
          "2023-12-08",
          "2023-12-11",
          "2023-12-12",
          "2023-12-13",
          "2023-12-14",
          "2023-12-15",
          "2023-12-18",
          "2023-12-19"
         ],
         "y": [
          0,
          17.079887563122618,
          5.199904365235272,
          5.095214509631964,
          10.077886786291575,
          10.015474438832651,
          9.765561324386205,
          9.854568209857437,
          14.673321234964293,
          14.496497659941015,
          14.205196741496032,
          18.47840981125378,
          22.6239701566519,
          22.329095497703598,
          23.507856946257487,
          23.698719915513692,
          23.855463735135725,
          28.45102773305993,
          24.13265640603041,
          24.038842237155112,
          25.23128790593016,
          25.146797747085227,
          25.28381299346466,
          28.418990508492143,
          29.381937041264727,
          29.162782809008682,
          29.319857777339546,
          29.004297648184647,
          30.7776085591632,
          30.282218433432956,
          30.578744343973263,
          30.73498750009252,
          30.766310015007097,
          30.045892513993266,
          28.19162061730715,
          28.033982988504142,
          27.801874806813792,
          27.043350457803168,
          27.150475591836393,
          25.24219627869138,
          24.814657811072642,
          25.04529335080093,
          25.230454371828177,
          23.570894834813124,
          23.61651390146734,
          24.475472960369647,
          24.27013027875185,
          23.89609060248404,
          23.592531346973495,
          23.732373717606446,
          23.611450017716905,
          23.35528442785409,
          22.983556190628697,
          23.011399557632632,
          23.04740934754806,
          25.674725619695828,
          28.9460405022045,
          29.25969370118775,
          31.66463164222444,
          32.02100551964577,
          30.44296913640268,
          32.857744049361855,
          33.10112997944649,
          43.65077174115133,
          43.904631784737916,
          44.18157550205455,
          44.96446286783684,
          44.75681173314771,
          44.67217262574966,
          44.85952424904849,
          44.83983624119838,
          48.259761338489696,
          48.444899870920295,
          49.49012325231895,
          50.49317822126586,
          50.80752922617733,
          49.72844130259206,
          49.81637355728665,
          49.763282011136326,
          50.4750104021811,
          49.61711424487088,
          49.755474385902154,
          49.93072509715736,
          51.16973263400304,
          50.933344255028544,
          50.58598087080042,
          50.37651940269647,
          50.26934445922232,
          50.624027975967124,
          50.71812110988086,
          50.69945157351364,
          50.66918815400474,
          50.28486500358041,
          50.0295709451124,
          49.733026371007334,
          50.76783318000516,
          51.0637227020924,
          50.893409078399365,
          51.217361426244246
         ]
        },
        {
         "hoverinfo": "text",
         "line": {
          "color": "#FFD700"
         },
         "mode": "lines",
         "name": "Cash",
         "stackgroup": "one",
         "text": [
          "Cash: 100.00%",
          "Cash: 53.17%",
          "Cash: 80.68%",
          "Cash: 80.76%",
          "Cash: 68.58%",
          "Cash: 61.21%",
          "Cash: 58.19%",
          "Cash: 57.97%",
          "Cash: 49.61%",
          "Cash: 49.60%",
          "Cash: 50.02%",
          "Cash: 45.74%",
          "Cash: 41.57%",
          "Cash: 36.43%",
          "Cash: 35.73%",
          "Cash: 26.82%",
          "Cash: 17.92%",
          "Cash: 2.71%",
          "Cash: 19.07%",
          "Cash: 18.98%",
          "Cash: 15.74%",
          "Cash: 15.70%",
          "Cash: 9.71%",
          "Cash: 1.74%",
          "Cash: 1.72%",
          "Cash: 1.74%",
          "Cash: 0.26%",
          "Cash: 0.26%",
          "Cash: 0.26%",
          "Cash: 0.26%",
          "Cash: 0.26%",
          "Cash: 0.25%",
          "Cash: 0.25%",
          "Cash: 0.26%",
          "Cash: 4.00%",
          "Cash: 2.69%",
          "Cash: 0.07%",
          "Cash: 0.07%",
          "Cash: 0.07%",
          "Cash: 4.96%",
          "Cash: 4.95%",
          "Cash: 2.41%",
          "Cash: 2.39%",
          "Cash: 3.20%",
          "Cash: 2.18%",
          "Cash: 2.13%",
          "Cash: 2.12%",
          "Cash: 2.08%",
          "Cash: 2.06%",
          "Cash: 4.37%",
          "Cash: 4.36%",
          "Cash: 4.38%",
          "Cash: 4.44%",
          "Cash: 4.40%",
          "Cash: 4.39%",
          "Cash: 1.28%",
          "Cash: 5.21%",
          "Cash: 4.24%",
          "Cash: 1.87%",
          "Cash: 1.89%",
          "Cash: 0.36%",
          "Cash: 1.26%",
          "Cash: 1.26%",
          "Cash: 1.24%",
          "Cash: 0.39%",
          "Cash: 0.38%",
          "Cash: 1.85%",
          "Cash: 3.36%",
          "Cash: 3.37%",
          "Cash: 3.34%",
          "Cash: 3.33%",
          "Cash: 0.41%",
          "Cash: 0.41%",
          "Cash: 0.40%",
          "Cash: 3.13%",
          "Cash: 3.08%",
          "Cash: 3.13%",
          "Cash: 3.13%",
          "Cash: 3.11%",
          "Cash: 3.08%",
          "Cash: 3.12%",
          "Cash: 3.11%",
          "Cash: 3.11%",
          "Cash: 3.05%",
          "Cash: 3.07%",
          "Cash: 3.10%",
          "Cash: 3.10%",
          "Cash: 1.72%",
          "Cash: 1.71%",
          "Cash: 1.04%",
          "Cash: 0.38%",
          "Cash: 0.38%",
          "Cash: 0.38%",
          "Cash: 0.39%",
          "Cash: 4.10%",
          "Cash: 3.99%",
          "Cash: 3.97%",
          "Cash: 3.98%",
          "Cash: 3.93%"
         ],
         "type": "scatter",
         "x": [
          "2023-08-01",
          "2023-08-02",
          "2023-08-03",
          "2023-08-04",
          "2023-08-07",
          "2023-08-08",
          "2023-08-09",
          "2023-08-10",
          "2023-08-11",
          "2023-08-14",
          "2023-08-15",
          "2023-08-16",
          "2023-08-17",
          "2023-08-18",
          "2023-08-21",
          "2023-08-22",
          "2023-08-23",
          "2023-08-24",
          "2023-08-25",
          "2023-08-28",
          "2023-08-29",
          "2023-08-30",
          "2023-08-31",
          "2023-09-01",
          "2023-09-05",
          "2023-09-06",
          "2023-09-07",
          "2023-09-08",
          "2023-09-11",
          "2023-09-12",
          "2023-09-13",
          "2023-09-14",
          "2023-09-15",
          "2023-09-18",
          "2023-09-19",
          "2023-09-20",
          "2023-09-21",
          "2023-09-22",
          "2023-09-25",
          "2023-09-26",
          "2023-09-27",
          "2023-09-28",
          "2023-09-29",
          "2023-10-02",
          "2023-10-03",
          "2023-10-04",
          "2023-10-05",
          "2023-10-06",
          "2023-10-09",
          "2023-10-10",
          "2023-10-11",
          "2023-10-12",
          "2023-10-13",
          "2023-10-16",
          "2023-10-17",
          "2023-10-18",
          "2023-10-19",
          "2023-10-20",
          "2023-10-23",
          "2023-10-24",
          "2023-10-25",
          "2023-10-26",
          "2023-10-27",
          "2023-10-30",
          "2023-10-31",
          "2023-11-01",
          "2023-11-02",
          "2023-11-03",
          "2023-11-06",
          "2023-11-07",
          "2023-11-08",
          "2023-11-09",
          "2023-11-10",
          "2023-11-13",
          "2023-11-14",
          "2023-11-15",
          "2023-11-16",
          "2023-11-17",
          "2023-11-20",
          "2023-11-21",
          "2023-11-22",
          "2023-11-24",
          "2023-11-27",
          "2023-11-28",
          "2023-11-29",
          "2023-11-30",
          "2023-12-01",
          "2023-12-04",
          "2023-12-05",
          "2023-12-06",
          "2023-12-07",
          "2023-12-08",
          "2023-12-11",
          "2023-12-12",
          "2023-12-13",
          "2023-12-14",
          "2023-12-15",
          "2023-12-18",
          "2023-12-19"
         ],
         "y": [
          100,
          53.173424970612125,
          80.68413775464259,
          80.76013326394603,
          68.57592232572377,
          61.20850785927576,
          58.18914029513276,
          57.96558006742799,
          49.60588538690539,
          49.5988303088724,
          50.0208362229577,
          45.736725051136986,
          41.5727059592032,
          36.42536584259025,
          35.73015383725435,
          26.822572518064767,
          17.920100230993707,
          2.710004582149171,
          19.074127976418435,
          18.981679361639173,
          15.73971435751601,
          15.704105418707758,
          9.712800259544375,
          1.7446725655143496,
          1.7230547936942624,
          1.7412270474733906,
          0.26448045730525765,
          0.2647819756557472,
          0.25521312539008983,
          0.2568318106276923,
          0.2556950565617267,
          0.25258843767267836,
          0.2543662965844154,
          0.2637364565481854,
          3.99609232904558,
          2.686069621720531,
          0.07238210968198032,
          0.07351823087328074,
          0.07317891035331621,
          4.958214795700506,
          4.9476020438756425,
          2.412228263243643,
          2.392769079877968,
          3.197434900917274,
          2.1760677605489516,
          2.128878246547022,
          2.1200283439046013,
          2.083509650905338,
          2.0638547912349767,
          4.367495563415956,
          4.355651068862441,
          4.376965128948377,
          4.440231097998318,
          4.397882621579507,
          4.388690695730473,
          1.2810649550657074,
          5.208878953229314,
          4.241130312170526,
          1.8681516909760423,
          1.8937801740836666,
          0.3628074000660483,
          1.2631452290807068,
          1.2630484045541406,
          1.2412248189430808,
          0.38789275077815316,
          0.3811912193331805,
          1.846648207842204,
          3.3609524045182777,
          3.3651528442569822,
          3.335006310866548,
          3.3345931164596934,
          0.4148436565095499,
          0.407375013999108,
          0.3993101327135729,
          3.127206272390877,
          3.076314225015526,
          3.132034522146455,
          3.1280648523418013,
          3.107489367615634,
          3.078754449000327,
          3.116750147316371,
          3.1089813401073854,
          3.111606044233053,
          3.051298689883711,
          3.0692989216659265,
          3.099917408753888,
          3.1032388914532154,
          1.71767665519487,
          1.7070431598680702,
          1.0377662899610052,
          0.3823771703416071,
          0.38026827313267997,
          0.38383791125988004,
          0.38628799187434976,
          4.1011544953043,
          3.990379276211188,
          3.974845833686346,
          3.984914061464924,
          3.9301423004829505
         ]
        }
       ],
       "layout": {
        "hovermode": "x unified",
        "legend": {
         "title": {
          "text": "Assets"
         }
        },
        "template": {
         "data": {
          "bar": [
           {
            "error_x": {
             "color": "#2a3f5f"
            },
            "error_y": {
             "color": "#2a3f5f"
            },
            "marker": {
             "line": {
              "color": "#E5ECF6",
              "width": 0.5
             },
             "pattern": {
              "fillmode": "overlay",
              "size": 10,
              "solidity": 0.2
             }
            },
            "type": "bar"
           }
          ],
          "barpolar": [
           {
            "marker": {
             "line": {
              "color": "#E5ECF6",
              "width": 0.5
             },
             "pattern": {
              "fillmode": "overlay",
              "size": 10,
              "solidity": 0.2
             }
            },
            "type": "barpolar"
           }
          ],
          "carpet": [
           {
            "aaxis": {
             "endlinecolor": "#2a3f5f",
             "gridcolor": "white",
             "linecolor": "white",
             "minorgridcolor": "white",
             "startlinecolor": "#2a3f5f"
            },
            "baxis": {
             "endlinecolor": "#2a3f5f",
             "gridcolor": "white",
             "linecolor": "white",
             "minorgridcolor": "white",
             "startlinecolor": "#2a3f5f"
            },
            "type": "carpet"
           }
          ],
          "choropleth": [
           {
            "colorbar": {
             "outlinewidth": 0,
             "ticks": ""
            },
            "type": "choropleth"
           }
          ],
          "contour": [
           {
            "colorbar": {
             "outlinewidth": 0,
             "ticks": ""
            },
            "colorscale": [
             [
              0,
              "#0d0887"
             ],
             [
              0.1111111111111111,
              "#46039f"
             ],
             [
              0.2222222222222222,
              "#7201a8"
             ],
             [
              0.3333333333333333,
              "#9c179e"
             ],
             [
              0.4444444444444444,
              "#bd3786"
             ],
             [
              0.5555555555555556,
              "#d8576b"
             ],
             [
              0.6666666666666666,
              "#ed7953"
             ],
             [
              0.7777777777777778,
              "#fb9f3a"
             ],
             [
              0.8888888888888888,
              "#fdca26"
             ],
             [
              1,
              "#f0f921"
             ]
            ],
            "type": "contour"
           }
          ],
          "contourcarpet": [
           {
            "colorbar": {
             "outlinewidth": 0,
             "ticks": ""
            },
            "type": "contourcarpet"
           }
          ],
          "heatmap": [
           {
            "colorbar": {
             "outlinewidth": 0,
             "ticks": ""
            },
            "colorscale": [
             [
              0,
              "#0d0887"
             ],
             [
              0.1111111111111111,
              "#46039f"
             ],
             [
              0.2222222222222222,
              "#7201a8"
             ],
             [
              0.3333333333333333,
              "#9c179e"
             ],
             [
              0.4444444444444444,
              "#bd3786"
             ],
             [
              0.5555555555555556,
              "#d8576b"
             ],
             [
              0.6666666666666666,
              "#ed7953"
             ],
             [
              0.7777777777777778,
              "#fb9f3a"
             ],
             [
              0.8888888888888888,
              "#fdca26"
             ],
             [
              1,
              "#f0f921"
             ]
            ],
            "type": "heatmap"
           }
          ],
          "heatmapgl": [
           {
            "colorbar": {
             "outlinewidth": 0,
             "ticks": ""
            },
            "colorscale": [
             [
              0,
              "#0d0887"
             ],
             [
              0.1111111111111111,
              "#46039f"
             ],
             [
              0.2222222222222222,
              "#7201a8"
             ],
             [
              0.3333333333333333,
              "#9c179e"
             ],
             [
              0.4444444444444444,
              "#bd3786"
             ],
             [
              0.5555555555555556,
              "#d8576b"
             ],
             [
              0.6666666666666666,
              "#ed7953"
             ],
             [
              0.7777777777777778,
              "#fb9f3a"
             ],
             [
              0.8888888888888888,
              "#fdca26"
             ],
             [
              1,
              "#f0f921"
             ]
            ],
            "type": "heatmapgl"
           }
          ],
          "histogram": [
           {
            "marker": {
             "pattern": {
              "fillmode": "overlay",
              "size": 10,
              "solidity": 0.2
             }
            },
            "type": "histogram"
           }
          ],
          "histogram2d": [
           {
            "colorbar": {
             "outlinewidth": 0,
             "ticks": ""
            },
            "colorscale": [
             [
              0,
              "#0d0887"
             ],
             [
              0.1111111111111111,
              "#46039f"
             ],
             [
              0.2222222222222222,
              "#7201a8"
             ],
             [
              0.3333333333333333,
              "#9c179e"
             ],
             [
              0.4444444444444444,
              "#bd3786"
             ],
             [
              0.5555555555555556,
              "#d8576b"
             ],
             [
              0.6666666666666666,
              "#ed7953"
             ],
             [
              0.7777777777777778,
              "#fb9f3a"
             ],
             [
              0.8888888888888888,
              "#fdca26"
             ],
             [
              1,
              "#f0f921"
             ]
            ],
            "type": "histogram2d"
           }
          ],
          "histogram2dcontour": [
           {
            "colorbar": {
             "outlinewidth": 0,
             "ticks": ""
            },
            "colorscale": [
             [
              0,
              "#0d0887"
             ],
             [
              0.1111111111111111,
              "#46039f"
             ],
             [
              0.2222222222222222,
              "#7201a8"
             ],
             [
              0.3333333333333333,
              "#9c179e"
             ],
             [
              0.4444444444444444,
              "#bd3786"
             ],
             [
              0.5555555555555556,
              "#d8576b"
             ],
             [
              0.6666666666666666,
              "#ed7953"
             ],
             [
              0.7777777777777778,
              "#fb9f3a"
             ],
             [
              0.8888888888888888,
              "#fdca26"
             ],
             [
              1,
              "#f0f921"
             ]
            ],
            "type": "histogram2dcontour"
           }
          ],
          "mesh3d": [
           {
            "colorbar": {
             "outlinewidth": 0,
             "ticks": ""
            },
            "type": "mesh3d"
           }
          ],
          "parcoords": [
           {
            "line": {
             "colorbar": {
              "outlinewidth": 0,
              "ticks": ""
             }
            },
            "type": "parcoords"
           }
          ],
          "pie": [
           {
            "automargin": true,
            "type": "pie"
           }
          ],
          "scatter": [
           {
            "fillpattern": {
             "fillmode": "overlay",
             "size": 10,
             "solidity": 0.2
            },
            "type": "scatter"
           }
          ],
          "scatter3d": [
           {
            "line": {
             "colorbar": {
              "outlinewidth": 0,
              "ticks": ""
             }
            },
            "marker": {
             "colorbar": {
              "outlinewidth": 0,
              "ticks": ""
             }
            },
            "type": "scatter3d"
           }
          ],
          "scattercarpet": [
           {
            "marker": {
             "colorbar": {
              "outlinewidth": 0,
              "ticks": ""
             }
            },
            "type": "scattercarpet"
           }
          ],
          "scattergeo": [
           {
            "marker": {
             "colorbar": {
              "outlinewidth": 0,
              "ticks": ""
             }
            },
            "type": "scattergeo"
           }
          ],
          "scattergl": [
           {
            "marker": {
             "colorbar": {
              "outlinewidth": 0,
              "ticks": ""
             }
            },
            "type": "scattergl"
           }
          ],
          "scattermapbox": [
           {
            "marker": {
             "colorbar": {
              "outlinewidth": 0,
              "ticks": ""
             }
            },
            "type": "scattermapbox"
           }
          ],
          "scatterpolar": [
           {
            "marker": {
             "colorbar": {
              "outlinewidth": 0,
              "ticks": ""
             }
            },
            "type": "scatterpolar"
           }
          ],
          "scatterpolargl": [
           {
            "marker": {
             "colorbar": {
              "outlinewidth": 0,
              "ticks": ""
             }
            },
            "type": "scatterpolargl"
           }
          ],
          "scatterternary": [
           {
            "marker": {
             "colorbar": {
              "outlinewidth": 0,
              "ticks": ""
             }
            },
            "type": "scatterternary"
           }
          ],
          "surface": [
           {
            "colorbar": {
             "outlinewidth": 0,
             "ticks": ""
            },
            "colorscale": [
             [
              0,
              "#0d0887"
             ],
             [
              0.1111111111111111,
              "#46039f"
             ],
             [
              0.2222222222222222,
              "#7201a8"
             ],
             [
              0.3333333333333333,
              "#9c179e"
             ],
             [
              0.4444444444444444,
              "#bd3786"
             ],
             [
              0.5555555555555556,
              "#d8576b"
             ],
             [
              0.6666666666666666,
              "#ed7953"
             ],
             [
              0.7777777777777778,
              "#fb9f3a"
             ],
             [
              0.8888888888888888,
              "#fdca26"
             ],
             [
              1,
              "#f0f921"
             ]
            ],
            "type": "surface"
           }
          ],
          "table": [
           {
            "cells": {
             "fill": {
              "color": "#EBF0F8"
             },
             "line": {
              "color": "white"
             }
            },
            "header": {
             "fill": {
              "color": "#C8D4E3"
             },
             "line": {
              "color": "white"
             }
            },
            "type": "table"
           }
          ]
         },
         "layout": {
          "annotationdefaults": {
           "arrowcolor": "#2a3f5f",
           "arrowhead": 0,
           "arrowwidth": 1
          },
          "autotypenumbers": "strict",
          "coloraxis": {
           "colorbar": {
            "outlinewidth": 0,
            "ticks": ""
           }
          },
          "colorscale": {
           "diverging": [
            [
             0,
             "#8e0152"
            ],
            [
             0.1,
             "#c51b7d"
            ],
            [
             0.2,
             "#de77ae"
            ],
            [
             0.3,
             "#f1b6da"
            ],
            [
             0.4,
             "#fde0ef"
            ],
            [
             0.5,
             "#f7f7f7"
            ],
            [
             0.6,
             "#e6f5d0"
            ],
            [
             0.7,
             "#b8e186"
            ],
            [
             0.8,
             "#7fbc41"
            ],
            [
             0.9,
             "#4d9221"
            ],
            [
             1,
             "#276419"
            ]
           ],
           "sequential": [
            [
             0,
             "#0d0887"
            ],
            [
             0.1111111111111111,
             "#46039f"
            ],
            [
             0.2222222222222222,
             "#7201a8"
            ],
            [
             0.3333333333333333,
             "#9c179e"
            ],
            [
             0.4444444444444444,
             "#bd3786"
            ],
            [
             0.5555555555555556,
             "#d8576b"
            ],
            [
             0.6666666666666666,
             "#ed7953"
            ],
            [
             0.7777777777777778,
             "#fb9f3a"
            ],
            [
             0.8888888888888888,
             "#fdca26"
            ],
            [
             1,
             "#f0f921"
            ]
           ],
           "sequentialminus": [
            [
             0,
             "#0d0887"
            ],
            [
             0.1111111111111111,
             "#46039f"
            ],
            [
             0.2222222222222222,
             "#7201a8"
            ],
            [
             0.3333333333333333,
             "#9c179e"
            ],
            [
             0.4444444444444444,
             "#bd3786"
            ],
            [
             0.5555555555555556,
             "#d8576b"
            ],
            [
             0.6666666666666666,
             "#ed7953"
            ],
            [
             0.7777777777777778,
             "#fb9f3a"
            ],
            [
             0.8888888888888888,
             "#fdca26"
            ],
            [
             1,
             "#f0f921"
            ]
           ]
          },
          "colorway": [
           "#636efa",
           "#EF553B",
           "#00cc96",
           "#ab63fa",
           "#FFA15A",
           "#19d3f3",
           "#FF6692",
           "#B6E880",
           "#FF97FF",
           "#FECB52"
          ],
          "font": {
           "color": "#2a3f5f"
          },
          "geo": {
           "bgcolor": "white",
           "lakecolor": "white",
           "landcolor": "#E5ECF6",
           "showlakes": true,
           "showland": true,
           "subunitcolor": "white"
          },
          "hoverlabel": {
           "align": "left"
          },
          "hovermode": "closest",
          "mapbox": {
           "style": "light"
          },
          "paper_bgcolor": "white",
          "plot_bgcolor": "#E5ECF6",
          "polar": {
           "angularaxis": {
            "gridcolor": "white",
            "linecolor": "white",
            "ticks": ""
           },
           "bgcolor": "#E5ECF6",
           "radialaxis": {
            "gridcolor": "white",
            "linecolor": "white",
            "ticks": ""
           }
          },
          "scene": {
           "xaxis": {
            "backgroundcolor": "#E5ECF6",
            "gridcolor": "white",
            "gridwidth": 2,
            "linecolor": "white",
            "showbackground": true,
            "ticks": "",
            "zerolinecolor": "white"
           },
           "yaxis": {
            "backgroundcolor": "#E5ECF6",
            "gridcolor": "white",
            "gridwidth": 2,
            "linecolor": "white",
            "showbackground": true,
            "ticks": "",
            "zerolinecolor": "white"
           },
           "zaxis": {
            "backgroundcolor": "#E5ECF6",
            "gridcolor": "white",
            "gridwidth": 2,
            "linecolor": "white",
            "showbackground": true,
            "ticks": "",
            "zerolinecolor": "white"
           }
          },
          "shapedefaults": {
           "line": {
            "color": "#2a3f5f"
           }
          },
          "ternary": {
           "aaxis": {
            "gridcolor": "white",
            "linecolor": "white",
            "ticks": ""
           },
           "baxis": {
            "gridcolor": "white",
            "linecolor": "white",
            "ticks": ""
           },
           "bgcolor": "#E5ECF6",
           "caxis": {
            "gridcolor": "white",
            "linecolor": "white",
            "ticks": ""
           }
          },
          "title": {
           "x": 0.05
          },
          "xaxis": {
           "automargin": true,
           "gridcolor": "white",
           "linecolor": "white",
           "ticks": "",
           "title": {
            "standoff": 15
           },
           "zerolinecolor": "white",
           "zerolinewidth": 2
          },
          "yaxis": {
           "automargin": true,
           "gridcolor": "white",
           "linecolor": "white",
           "ticks": "",
           "title": {
            "standoff": 15
           },
           "zerolinecolor": "white",
           "zerolinewidth": 2
          }
         }
        },
        "title": {
         "text": "Asset Allocation Over Time (Sorted by Latest Percentage) as of 2023-12-19"
        },
        "xaxis": {
         "range": [
          "2023-08-01",
          "2023-12-19"
         ],
         "title": {
          "text": "Date"
         }
        },
        "yaxis": {
         "range": [
          0,
          100
         ],
         "tickformat": ".0%",
         "ticktext": [
          "0%",
          "20%",
          "40%",
          "60%",
          "80%",
          "100%"
         ],
         "tickvals": [
          0,
          20,
          40,
          60,
          80,
          100
         ],
         "title": {
          "text": "Proportion"
         }
        }
       }
      }
     },
     "metadata": {},
     "output_type": "display_data"
    }
   ],
   "source": [
    "def plot_asset_allocation_over_time(portfolio_data, sort_by='percentage', end_date=None):\n",
    "    dates = sorted(portfolio_data.keys())\n",
    "\n",
    "    end_date = NOTEBOOK_DATE or end_date or max(portfolio_data.keys())\n",
    "    if end_date is None:\n",
    "        end_date = dates[-1]\n",
    "    else:\n",
    "        end_date = str(end_date)\n",
    "        if end_date not in dates:\n",
    "            raise ValueError(f\"No data available for date: {end_date}\")\n",
    "\n",
    "    # Filter dates to include only up to the end_date\n",
    "    dates = [date for date in dates if date <= end_date]\n",
    "\n",
    "    latest_date = end_date\n",
    "    active_stocks = get_active_stocks(portfolio_data[latest_date]['holdings'])\n",
    "    data = calculate_asset_proportions(portfolio_data, dates, active_stocks)\n",
    "\n",
    "    fig = go.Figure()\n",
    "    add_asset_traces(fig, dates, data, portfolio_data, sort_by)\n",
    "    update_layout(fig, sort_by, latest_date)\n",
    "\n",
    "    # Set x-axis range\n",
    "    fig.update_xaxes(range=[dates[0], latest_date])\n",
    "\n",
    "    return fig\n",
    "\n",
    "\n",
    "def get_active_stocks(latest_holdings):\n",
    "    return [stock for stock, info in latest_holdings.items()\n",
    "            if float(info['market_value']) > 0]\n",
    "\n",
    "\n",
    "def calculate_asset_proportions(portfolio_data, dates, active_stocks):\n",
    "    data = {stock: [] for stock in active_stocks}\n",
    "    data['Cash'] = []\n",
    "\n",
    "    for date in dates:\n",
    "        holdings = portfolio_data[date]['holdings']\n",
    "        valid_holdings = {stock: info for stock, info in holdings.items()\n",
    "                          if not math.isnan(float(info['market_value']))}\n",
    "\n",
    "        cash = float(portfolio_data[date]['summary']['cash'])\n",
    "        total_value = sum(float(info['market_value'])\n",
    "                          for info in valid_holdings.values()) + cash\n",
    "\n",
    "        for stock in active_stocks:\n",
    "            if stock in valid_holdings:\n",
    "                value = float(valid_holdings[stock]['market_value'])\n",
    "                proportion = (value / total_value) * \\\n",
    "                    100 if total_value > 0 else 0\n",
    "            else:\n",
    "                proportion = 0\n",
    "            data[stock].append(proportion)\n",
    "\n",
    "        cash_proportion = (cash / total_value) * 100 if total_value > 0 else 0\n",
    "        data['Cash'].append(cash_proportion)\n",
    "\n",
    "    return data\n",
    "\n",
    "\n",
    "def add_asset_traces(fig, dates, data, portfolio_data, sort_by):\n",
    "    if sort_by == 'date':\n",
    "        sorted_stocks = sort_by_add_date(portfolio_data, data.keys())\n",
    "    else:  # sort_by == 'percentage'\n",
    "        sorted_stocks = sort_by_percentage(data)\n",
    "\n",
    "    # Remove Cash from sorted_stocks if it's there\n",
    "    sorted_stocks = [stock for stock in sorted_stocks if stock != 'Cash']\n",
    "\n",
    "    # Add traces in reverse order, with Cash always at the end (top of the stack)\n",
    "    for stock in reversed(sorted_stocks):\n",
    "        add_trace(fig, dates, data, stock)\n",
    "\n",
    "    # Always add Cash last (it will appear at the top)\n",
    "    add_trace(fig, dates, data, 'Cash', '#FFD700')\n",
    "\n",
    "\n",
    "def sort_by_add_date(portfolio_data, stocks):\n",
    "    first_appearance = {}\n",
    "    for date in sorted(portfolio_data.keys()):\n",
    "        for stock in stocks:\n",
    "            if stock not in first_appearance and stock != 'Cash':\n",
    "                if stock in portfolio_data[date]['holdings']:\n",
    "                    first_appearance[stock] = date\n",
    "    return sorted(first_appearance, key=first_appearance.get)\n",
    "\n",
    "\n",
    "def sort_by_percentage(data):\n",
    "    latest_percentages = {stock: values[-1]\n",
    "                          for stock, values in data.items() if stock != 'Cash'}\n",
    "    return sorted(latest_percentages, key=latest_percentages.get, reverse=True)\n",
    "\n",
    "\n",
    "def add_trace(fig, dates, data, stock, color=None):\n",
    "    proportions = data[stock]\n",
    "    hover_text = [f\"{stock}: {proportion:.2f}%\" if not math.isnan(proportion)\n",
    "                  else f\"{stock}: N/A\" for proportion in proportions]\n",
    "\n",
    "    fig.add_trace(go.Scatter(\n",
    "        x=dates,\n",
    "        y=proportions,\n",
    "        mode='lines',\n",
    "        stackgroup='one',\n",
    "        name=stock,\n",
    "        hoverinfo='text',\n",
    "        text=hover_text,\n",
    "        line=dict(color=color) if color else dict(),\n",
    "    ))\n",
    "\n",
    "\n",
    "def update_layout(fig, sort_by, latest_date):\n",
    "    title = 'Asset Allocation Over Time (Sorted by {}) as of {}'.format(\n",
    "        'Latest Percentage' if sort_by == 'percentage' else 'Add Date',\n",
    "        latest_date\n",
    "    )\n",
    "    fig.update_layout(\n",
    "        title=title,\n",
    "        xaxis_title='Date',\n",
    "        yaxis=dict(\n",
    "            title='Proportion',\n",
    "            tickformat='.0%',\n",
    "            range=[0, 100],\n",
    "            tickvals=[0, 20, 40, 60, 80, 100],\n",
    "            ticktext=['0%', '20%', '40%', '60%', '80%', '100%']\n",
    "        ),\n",
    "        legend_title='Assets',\n",
    "        hovermode='x unified'\n",
    "    )\n",
    "\n",
    "\n",
    "# Usage examples:\n",
    "# Default (latest date)\n",
    "plot_asset_allocation_over_time(portfolio_data)\n",
    "\n",
    "# Specific date\n",
    "# fig = plot_asset_allocation_over_time(portfolio_data, end_date=\"2024-03-15\")\n",
    "# fig.show()\n",
    "\n",
    "# Sort by add date\n",
    "# fig = plot_asset_allocation_over_time(portfolio_data, sort_by='date')\n",
    "# fig.show()\n",
    "\n",
    "# Specific date and sort by add date\n",
    "# fig = plot_asset_allocation_over_time(portfolio_data, sort_by='date', end_date=\"2024-03-15\")\n",
    "# fig.show()"
   ]
  },
  {
   "cell_type": "code",
   "execution_count": 11,
   "metadata": {},
   "outputs": [
    {
     "name": "stdout",
     "output_type": "stream",
     "text": [
      "HTML report generated: reports/portfolio_report_2023-12-19.html\n"
     ]
    }
   ],
   "source": [
    "def generate_html_report(report_date=None):\n",
    "    dates = sorted(portfolio_data.keys())\n",
    "    \n",
    "    report_date = NOTEBOOK_DATE or report_date or max(portfolio_data.keys())\n",
    "    if report_date is None:\n",
    "        report_date = dates[-1]  # Use the latest date by default\n",
    "    else:\n",
    "        report_date = str(report_date)  # Ensure the date is a string\n",
    "        if report_date not in dates:\n",
    "            raise ValueError(f\"No data available for date: {report_date}\")\n",
    "\n",
    "    stock_proportions_plot = plot_stock_proportions(\n",
    "        portfolio_data, report_date)\n",
    "    sector_proportions_plot = plot_sector_proportions(\n",
    "        portfolio_data, sectors, report_date)\n",
    "    portfolio_growth_plot = plot_portfolio_growth(\n",
    "        portfolio_data, end_date=report_date)\n",
    "    asset_allocation_over_time_plot = plot_asset_allocation_over_time(\n",
    "        portfolio_data, end_date=report_date)\n",
    "\n",
    "    for plot in [stock_proportions_plot, sector_proportions_plot, portfolio_growth_plot, asset_allocation_over_time_plot]:\n",
    "        plot.update_layout(font=dict(family=\"monospace\", weight='bold'))\n",
    "\n",
    "    report_data = portfolio_data[report_date]\n",
    "    summary = report_data['summary']\n",
    "    holdings = report_data['holdings']\n",
    "    closed_positions = report_data['closed_positions']\n",
    "    partially_sold_positions = report_data['partially_sold_positions']\n",
    "\n",
    "    # Function to safely convert string to float\n",
    "    def safe_float(value):\n",
    "        try:\n",
    "            return float(value)\n",
    "        except (ValueError, TypeError):\n",
    "            return 0.0\n",
    "\n",
    "    # Function to format currency values\n",
    "    def format_currency(value):\n",
    "        return f\"${safe_float(value):,.2f}\"\n",
    "\n",
    "    # Function to format percentage values\n",
    "    def format_percentage(value):\n",
    "        return f\"{safe_float(value) * 100:.2f}%\"\n",
    "\n",
    "    # Function to combine PNL and return\n",
    "    def combine_pnl_return(pnl, ret):\n",
    "        return f\"{format_currency(pnl)} ({format_percentage(ret)})\"\n",
    "\n",
    "    # Process holdings\n",
    "    holdings_df = pd.DataFrame(holdings).T.reset_index()\n",
    "    holdings_df.columns = ['Symbol', 'Quantity', 'Cost Basis', 'Avg Cost', 'Market Price',\n",
    "                           'Market Value', 'Unrealized P/L', 'Unrealized Return', 'Daily Change', 'Daily Return']\n",
    "\n",
    "    # Apply formatting to numeric columns\n",
    "    for col in ['Quantity', 'Cost Basis', 'Avg Cost', 'Market Price', 'Market Value']:\n",
    "        holdings_df[col] = holdings_df[col].apply(lambda x: f\"{safe_float(x):.2f}\")\n",
    "\n",
    "    holdings_df['Unrealized P/L'] = holdings_df.apply(\n",
    "        lambda row: combine_pnl_return(row['Unrealized P/L'], row['Unrealized Return']), axis=1)\n",
    "    holdings_df['Daily Change'] = holdings_df.apply(\n",
    "        lambda row: combine_pnl_return(row['Daily Change'], row['Daily Return']), axis=1)\n",
    "    holdings_df = holdings_df.drop(columns=['Unrealized Return', 'Daily Return'])\n",
    "\n",
    "    # Process closed positions\n",
    "    closed_positions_df = pd.DataFrame(closed_positions).T.reset_index()\n",
    "    closed_positions_df.columns = [\n",
    "        'Symbol', 'Close Date', 'Quantity', 'Cost Basis', 'Realized P/L', 'Realized Return']\n",
    "\n",
    "    # Apply formatting to numeric columns\n",
    "    for col in ['Quantity', 'Cost Basis']:\n",
    "        closed_positions_df[col] = closed_positions_df[col].apply(lambda x: f\"{safe_float(x):.2f}\")\n",
    "\n",
    "    closed_positions_df['Realized P/L'] = closed_positions_df.apply(\n",
    "        lambda row: combine_pnl_return(row['Realized P/L'], row['Realized Return']), axis=1)\n",
    "    closed_positions_df = closed_positions_df.drop(columns=['Realized Return'])\n",
    "\n",
    "    # Process partially sold positions\n",
    "    partially_sold_positions_df = pd.DataFrame(partially_sold_positions).T.reset_index()\n",
    "    partially_sold_positions_df.columns = [\n",
    "        'Symbol', 'Last Sell Date', 'Quantity', 'Cost Basis', 'Realized P/L', 'Realized Return']\n",
    "\n",
    "    # Apply formatting to numeric columns\n",
    "    for col in ['Quantity', 'Cost Basis']:\n",
    "        partially_sold_positions_df[col] = partially_sold_positions_df[col].apply(lambda x: f\"{safe_float(x):.2f}\")\n",
    "\n",
    "    partially_sold_positions_df['Realized P/L'] = partially_sold_positions_df.apply(\n",
    "        lambda row: combine_pnl_return(row['Realized P/L'], row['Realized Return']), axis=1)\n",
    "    partially_sold_positions_df = partially_sold_positions_df.drop(columns=['Realized Return'])\n",
    "\n",
    "    # Format date columns\n",
    "    date_columns = ['Close Date', 'Last Sell Date']\n",
    "    for df in [closed_positions_df, partially_sold_positions_df]:\n",
    "        for col in date_columns:\n",
    "            if col in df.columns:\n",
    "                df[col] = pd.to_datetime(df[col]).dt.strftime('%Y-%m-%d')\n",
    "\n",
    "    portfolio_table = holdings_df.to_html(index=False, classes='dataframe')\n",
    "    closed_positions_table = closed_positions_df.to_html(index=False, classes='dataframe')\n",
    "    partially_sold_positions_table = partially_sold_positions_df.to_html(index=False, classes='dataframe')\n",
    "\n",
    "    format_dict = {\n",
    "        'date': report_date,\n",
    "        'portfolio_table': portfolio_table,\n",
    "        'portfolio_growth_plot': to_html(portfolio_growth_plot, full_html=False, include_plotlyjs=False, config={'responsive': True}),\n",
    "        'stock_proportions_plot': to_html(stock_proportions_plot, full_html=False, include_plotlyjs=False, config={'responsive': True}),\n",
    "        'sector_proportions_plot': to_html(sector_proportions_plot, full_html=False, include_plotlyjs=False, config={'responsive': True}),\n",
    "        'asset_allocation_over_time_plot': to_html(asset_allocation_over_time_plot, full_html=False, include_plotlyjs=False, config={'responsive': True}),\n",
    "        'date_options': ' '.join(f'<option value=\"{date}\">{date}</option>' for date in dates),\n",
    "        'cash': format_currency(summary['cash']),\n",
    "        'total_value': format_currency(summary['total_value']),\n",
    "        'total_market_value': format_currency(summary['total_market_value']),\n",
    "        'unrealized_pnl': combine_pnl_return(summary['total_unrealized_pnl'], summary['total_unrealized_return']),\n",
    "        'daily_change': combine_pnl_return(summary['total_daily_change'], summary['total_daily_return']),\n",
    "        'total_realized_pnl': combine_pnl_return(summary['total_realized_pnl'], summary['total_realized_return']),\n",
    "        'total_deposits': format_currency(summary['total_deposits']),\n",
    "        'closed_positions_table': closed_positions_table,\n",
    "        'partially_sold_positions_table': partially_sold_positions_table,\n",
    "    }\n",
    "\n",
    "    template_path = 'reports/templates/portfolio_report_template.html'\n",
    "    with open(template_path, 'r') as template_file:\n",
    "        html_template = template_file.read()\n",
    "\n",
    "    css_path = 'reports/templates/portfolio_report_styles.css'\n",
    "    with open(css_path, 'r') as css_file:\n",
    "        css_content = css_file.read()\n",
    "\n",
    "    css_content_escaped = css_content.replace('{', '{{').replace('}', '}}')\n",
    "    html_template = html_template.replace('/* CSS_PLACEHOLDER */', css_content_escaped)\n",
    "    html_template = re.sub(r'\\{\\s*(\\w+)\\s*\\}', r'{\\1}', html_template)\n",
    "    html_content = html_template.format(**format_dict)\n",
    "\n",
    "    os.makedirs('reports', exist_ok=True)\n",
    "    \n",
    "    if report_date == max(portfolio_data.keys()):\n",
    "        filename = f'portfolio_report_latest.html'\n",
    "    else:\n",
    "        filename = f'portfolio_report_{report_date}.html'\n",
    "    with open(os.path.join('reports', filename), 'w') as f:\n",
    "        f.write(html_content)\n",
    "\n",
    "    print(f\"HTML report generated: reports/{filename}\")\n",
    "\n",
    "# Usage examples:\n",
    "# Generate report for the latest date\n",
    "generate_html_report()\n",
    "\n",
    "# Generate report for a specific date\n",
    "# generate_html_report(\"2024-03-15\")"
   ]
  }
 ],
 "metadata": {
  "kernelspec": {
   "display_name": "venv",
   "language": "python",
   "name": "python3"
  },
  "language_info": {
   "codemirror_mode": {
    "name": "ipython",
    "version": 3
   },
   "file_extension": ".py",
   "mimetype": "text/x-python",
   "name": "python",
   "nbconvert_exporter": "python",
   "pygments_lexer": "ipython3",
   "version": "3.12.4"
  }
 },
 "nbformat": 4,
 "nbformat_minor": 2
}
