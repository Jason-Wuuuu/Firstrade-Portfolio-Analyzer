{
 "cells": [
  {
   "cell_type": "code",
   "execution_count": 1,
   "metadata": {},
   "outputs": [],
   "source": [
    "import json\n",
    "import os\n",
    "import re\n",
    "import math\n",
    "from datetime import datetime, timedelta, time\n",
    "from collections import defaultdict\n",
    "from decimal import Decimal\n",
    "import pytz\n",
    "\n",
    "import pandas as pd\n",
    "\n",
    "import plotly.graph_objects as go\n",
    "from plotly.subplots import make_subplots\n",
    "from plotly.io import to_html\n",
    "\n",
    "import yfinance as yf\n",
    "\n",
    "from IPython.display import display, HTML\n",
    "\n",
    "from transaction_history_processor import PortfolioHistory"
   ]
  },
  {
   "cell_type": "code",
   "execution_count": 2,
   "metadata": {},
   "outputs": [],
   "source": [
    "def find_closest_date(dates, target_date):\n",
    "    target_date = pd.to_datetime(target_date)\n",
    "    dates = pd.to_datetime(dates)\n",
    "    closest_date = min(dates, key=lambda x: abs(x - target_date))\n",
    "    return closest_date.strftime('%Y-%m-%d')\n",
    "\n",
    "NOTEBOOK_DATE = None  # Set to None to use the latest date by default\n",
    "\n",
    "# To set a specific date, uncomment and modify the following line:\n",
    "NOTEBOOK_DATE = \"2023-12-19\""
   ]
  },
  {
   "cell_type": "code",
   "execution_count": 3,
   "metadata": {},
   "outputs": [
    {
     "name": "stderr",
     "output_type": "stream",
     "text": [
      "2024-08-19 16:05:40,776 - INFO - Successfully loaded transactions from transaction_history.json\n"
     ]
    },
    {
     "name": "stdout",
     "output_type": "stream",
     "text": [
      "Generating / updating portfolio_history.json...\n"
     ]
    },
    {
     "name": "stderr",
     "output_type": "stream",
     "text": [
      "[*********************100%%**********************]  10 of 10 completed\n",
      "[*********************100%%**********************]  10 of 10 completed\n",
      "2024-08-19 16:05:49,917 - INFO - Successfully fetched historical data and sector information for 20 symbols.\n",
      "2024-08-19 16:05:49,992 - INFO - Portfolio history and sectors saved to portfolio_history.json\n",
      "2024-08-19 16:05:49,992 - INFO - Successfully processed transaction history with 128 dates.\n"
     ]
    },
    {
     "name": "stdout",
     "output_type": "stream",
     "text": [
      "Split detected for NVDA on 2024-06-10. Ratio: 10.0000\n",
      "portfolio_history.json has been generated / updated.\n"
     ]
    }
   ],
   "source": [
    "# if not os.path.exists('portfolio_history.json'):\n",
    "\n",
    "print(\"Generating / updating portfolio_history.json...\")\n",
    "portfolio_history = PortfolioHistory()\n",
    "portfolio_history.process_transaction_history(\n",
    "    input_file='transaction_history.json',\n",
    "    save_output=True,\n",
    "    output_file='portfolio_history.json'\n",
    ")\n",
    "print(\"portfolio_history.json has been generated / updated.\")\n",
    "\n",
    "with open('portfolio_history.json', 'r') as f:\n",
    "    data = json.load(f)\n",
    "    sectors = data['sectors']\n",
    "    portfolio_data = data['portfolios']"
   ]
  },
  {
   "cell_type": "code",
   "execution_count": 4,
   "metadata": {},
   "outputs": [],
   "source": [
    "# Adjust NOTEBOOK_DATE if it's set but not available in the data\n",
    "if NOTEBOOK_DATE:\n",
    "    available_dates = sorted(portfolio_data.keys())\n",
    "    if NOTEBOOK_DATE not in available_dates:\n",
    "        closest_date = find_closest_date(available_dates, NOTEBOOK_DATE)\n",
    "        print(f\"No data available for {\n",
    "              NOTEBOOK_DATE}. Using closest available date: {closest_date}\")\n",
    "        NOTEBOOK_DATE = closest_date"
   ]
  },
  {
   "cell_type": "code",
   "execution_count": 5,
   "metadata": {},
   "outputs": [
    {
     "data": {
      "text/html": [
       "<h2>Portfolio Status as of 2023-12-19</h2>"
      ],
      "text/plain": [
       "<IPython.core.display.HTML object>"
      ]
     },
     "metadata": {},
     "output_type": "display_data"
    },
    {
     "data": {
      "text/html": [
       "<table border=\"1\" class=\"dataframe dataframe\">\n",
       "  <thead>\n",
       "    <tr style=\"text-align: right;\">\n",
       "      <th>Symbol</th>\n",
       "      <th>Quantity</th>\n",
       "      <th>Avg Cost</th>\n",
       "      <th>Market Price</th>\n",
       "      <th>Total Cost</th>\n",
       "      <th>Market Value</th>\n",
       "      <th>Unrealized P/L</th>\n",
       "      <th>Daily Change</th>\n",
       "    </tr>\n",
       "  </thead>\n",
       "  <tbody>\n",
       "    <tr>\n",
       "      <td>AAPL</td>\n",
       "      <td>3.00</td>\n",
       "      <td>175.16</td>\n",
       "      <td>196.20</td>\n",
       "      <td>526.29</td>\n",
       "      <td>589.48</td>\n",
       "      <td>$63.19 (12.01%)</td>\n",
       "      <td>$3.14 (0.54%)</td>\n",
       "    </tr>\n",
       "    <tr>\n",
       "      <td>DIS</td>\n",
       "      <td>20.00</td>\n",
       "      <td>84.05</td>\n",
       "      <td>93.50</td>\n",
       "      <td>1680.97</td>\n",
       "      <td>1869.97</td>\n",
       "      <td>$189.01 (11.24%)</td>\n",
       "      <td>$21.30 (1.15%)</td>\n",
       "    </tr>\n",
       "    <tr>\n",
       "      <td>GOOGL</td>\n",
       "      <td>5.00</td>\n",
       "      <td>126.71</td>\n",
       "      <td>136.49</td>\n",
       "      <td>633.56</td>\n",
       "      <td>682.47</td>\n",
       "      <td>$48.91 (7.72%)</td>\n",
       "      <td>$4.25 (0.63%)</td>\n",
       "    </tr>\n",
       "    <tr>\n",
       "      <td>PLTR</td>\n",
       "      <td>20.00</td>\n",
       "      <td>18.04</td>\n",
       "      <td>17.95</td>\n",
       "      <td>360.70</td>\n",
       "      <td>359.00</td>\n",
       "      <td>$-1.70 (-0.47%)</td>\n",
       "      <td>$2.20 (0.62%)</td>\n",
       "    </tr>\n",
       "    <tr>\n",
       "      <td>QQQ</td>\n",
       "      <td>2.00</td>\n",
       "      <td>363.03</td>\n",
       "      <td>407.76</td>\n",
       "      <td>726.46</td>\n",
       "      <td>815.96</td>\n",
       "      <td>$89.50 (12.32%)</td>\n",
       "      <td>$4.15 (0.51%)</td>\n",
       "    </tr>\n",
       "    <tr>\n",
       "      <td>SPY</td>\n",
       "      <td>3.01</td>\n",
       "      <td>439.46</td>\n",
       "      <td>471.85</td>\n",
       "      <td>1320.72</td>\n",
       "      <td>1418.07</td>\n",
       "      <td>$97.35 (7.37%)</td>\n",
       "      <td>$8.57 (0.61%)</td>\n",
       "    </tr>\n",
       "    <tr>\n",
       "      <td>TSLA</td>\n",
       "      <td>30.00</td>\n",
       "      <td>215.75</td>\n",
       "      <td>257.22</td>\n",
       "      <td>6472.38</td>\n",
       "      <td>7716.60</td>\n",
       "      <td>$1,244.22 (19.22%)</td>\n",
       "      <td>$154.20 (2.04%)</td>\n",
       "    </tr>\n",
       "    <tr>\n",
       "      <td>TSM</td>\n",
       "      <td>10.02</td>\n",
       "      <td>88.70</td>\n",
       "      <td>103.12</td>\n",
       "      <td>888.38</td>\n",
       "      <td>1032.88</td>\n",
       "      <td>$144.50 (16.27%)</td>\n",
       "      <td>$9.35 (0.91%)</td>\n",
       "    </tr>\n",
       "  </tbody>\n",
       "</table>"
      ],
      "text/plain": [
       "<IPython.core.display.HTML object>"
      ]
     },
     "metadata": {},
     "output_type": "display_data"
    },
    {
     "name": "stdout",
     "output_type": "stream",
     "text": [
      "\n",
      "Portfolio Summary:\n",
      "Cash: $592.13\n",
      "Total Value: $15,076.56\n",
      "Total Market Value: $14,484.43\n",
      "Total Deposits: $13,000.00\n",
      "Unrealized Profit/Loss: $1,874.97 (14.87%)\n",
      "Realized Profit/Loss: $194.61 (1.50%)\n",
      "Daily Gain: $207.16 (1.39%)\n",
      "\n",
      "Closed Positions:\n"
     ]
    },
    {
     "data": {
      "text/html": [
       "<table border=\"1\" class=\"dataframe dataframe\">\n",
       "  <thead>\n",
       "    <tr style=\"text-align: right;\">\n",
       "      <th>Symbol</th>\n",
       "      <th>Close Date</th>\n",
       "      <th>Quantity</th>\n",
       "      <th>Cost Basis</th>\n",
       "      <th>Realized P/L</th>\n",
       "      <th>Realized Return</th>\n",
       "    </tr>\n",
       "  </thead>\n",
       "  <tbody>\n",
       "    <tr>\n",
       "      <td>SONY</td>\n",
       "      <td>2023-10-24</td>\n",
       "      <td>2.0</td>\n",
       "      <td>165.8</td>\n",
       "      <td>$1.93</td>\n",
       "      <td>0.01%</td>\n",
       "    </tr>\n",
       "    <tr>\n",
       "      <td>PLTR</td>\n",
       "      <td>2023-11-03</td>\n",
       "      <td>30.0</td>\n",
       "      <td>440.0</td>\n",
       "      <td>$109.17</td>\n",
       "      <td>0.25%</td>\n",
       "    </tr>\n",
       "    <tr>\n",
       "      <td>AMD</td>\n",
       "      <td>2023-11-14</td>\n",
       "      <td>3.0</td>\n",
       "      <td>298.02</td>\n",
       "      <td>$63.14</td>\n",
       "      <td>0.21%</td>\n",
       "    </tr>\n",
       "  </tbody>\n",
       "</table>"
      ],
      "text/plain": [
       "<IPython.core.display.HTML object>"
      ]
     },
     "metadata": {},
     "output_type": "display_data"
    },
    {
     "name": "stdout",
     "output_type": "stream",
     "text": [
      "\n",
      "Partially Sold Positions:\n"
     ]
    },
    {
     "data": {
      "text/html": [
       "<table border=\"1\" class=\"dataframe dataframe\">\n",
       "  <thead>\n",
       "    <tr style=\"text-align: right;\">\n",
       "      <th>Symbol</th>\n",
       "      <th>Last Sell Date</th>\n",
       "      <th>Quantity</th>\n",
       "      <th>Cost Basis</th>\n",
       "      <th>Realized P/L</th>\n",
       "      <th>Realized Return</th>\n",
       "    </tr>\n",
       "  </thead>\n",
       "  <tbody>\n",
       "    <tr>\n",
       "      <td>DIS</td>\n",
       "      <td>2023-11-09</td>\n",
       "      <td>3.0</td>\n",
       "      <td>252.1447826</td>\n",
       "      <td>$20.37</td>\n",
       "      <td>0.08%</td>\n",
       "    </tr>\n",
       "  </tbody>\n",
       "</table>"
      ],
      "text/plain": [
       "<IPython.core.display.HTML object>"
      ]
     },
     "metadata": {},
     "output_type": "display_data"
    }
   ],
   "source": [
    "def process_portfolio_data(portfolio_data, date=None, sort_by='Symbol', ascending=True):\n",
    "    date = NOTEBOOK_DATE or date or max(portfolio_data.keys())\n",
    "    if date not in portfolio_data:\n",
    "        raise ValueError(f\"No data available for date: {date}\")\n",
    "\n",
    "    data = portfolio_data[date]\n",
    "    holdings_data = process_holdings(data['holdings'])\n",
    "\n",
    "    df = pd.DataFrame(holdings_data)\n",
    "    df = df.sort_values(by=sort_by, ascending=ascending)\n",
    "\n",
    "    closed_positions_df = process_closed_positions(data['closed_positions'])\n",
    "    partially_sold_positions_df = process_partially_sold_positions(\n",
    "        data['partially_sold_positions'])\n",
    "\n",
    "    return {\n",
    "        'date': date,\n",
    "        'holdings': df,\n",
    "        'summary': data['summary'],\n",
    "        'closed_positions': closed_positions_df,\n",
    "        'partially_sold_positions': partially_sold_positions_df,\n",
    "    }\n",
    "\n",
    "\n",
    "def process_holdings(holdings):\n",
    "    return [\n",
    "        {\n",
    "            'Symbol': symbol,\n",
    "            'Quantity': round(float(info['quantity']), 2),\n",
    "            'Avg Cost': round(float(info['average_cost']), 2),\n",
    "            'Market Price': round(float(info['market_price']), 2),\n",
    "            'Total Cost': round(float(info['cost_basis']), 2),\n",
    "            'Market Value': round(float(info['market_value']), 2),\n",
    "            'Unrealized P/L': f\"${float(info['unrealized_pnl']):,.2f} ({float(info['unrealized_return'])*100:.2f}%)\",\n",
    "            'Daily Change': f\"${float(info['daily_change']):,.2f} ({float(info['daily_return'])*100:.2f}%)\"\n",
    "        }\n",
    "        for symbol, info in holdings.items()\n",
    "    ]\n",
    "\n",
    "\n",
    "def process_closed_positions(closed_positions):\n",
    "    df = pd.DataFrame(closed_positions).T.reset_index()\n",
    "    df.columns = ['Symbol', 'Close Date', 'Quantity',\n",
    "                  'Cost Basis', 'Realized P/L', 'Realized Return']\n",
    "    df['Realized P/L'] = df['Realized P/L'].apply(\n",
    "        lambda x: f\"${float(x):,.2f}\")\n",
    "    df['Realized Return'] = df['Realized Return'].apply(\n",
    "        lambda x: f\"{float(x):.2f}%\")\n",
    "    return df\n",
    "\n",
    "\n",
    "def process_partially_sold_positions(partially_sold_positions):\n",
    "    df = pd.DataFrame(partially_sold_positions).T.reset_index()\n",
    "    df.columns = ['Symbol', 'Last Sell Date', 'Quantity',\n",
    "                  'Cost Basis', 'Realized P/L', 'Realized Return']\n",
    "    df['Realized P/L'] = df['Realized P/L'].apply(\n",
    "        lambda x: f\"${float(x):,.2f}\")\n",
    "    df['Realized Return'] = df['Realized Return'].apply(\n",
    "        lambda x: f\"{float(x):.2f}%\")\n",
    "    return df\n",
    "\n",
    "\n",
    "def display_portfolio_analysis(processed_data):\n",
    "    date = processed_data['date']\n",
    "    df = processed_data['holdings']\n",
    "    summary = processed_data['summary']\n",
    "    closed_positions_df = processed_data['closed_positions']\n",
    "    partially_sold_positions_df = processed_data['partially_sold_positions']\n",
    "\n",
    "    # Display holdings\n",
    "    display(HTML(f\"<h2>Portfolio Status as of {date}</h2>\"))\n",
    "    display(HTML(df.to_html(index=False, classes='dataframe')))\n",
    "\n",
    "    # Display summary\n",
    "    print(\"\\nPortfolio Summary:\")\n",
    "    print_summary_item(\"Cash\", summary['cash'])\n",
    "    print_summary_item(\"Total Value\", summary['total_value'])\n",
    "    print_summary_item(\"Total Market Value\", summary['total_market_value'])\n",
    "    print_summary_item(\"Total Deposits\", summary['total_deposits'])\n",
    "\n",
    "    # Display Unrealized Gain/Loss with percentage\n",
    "    total_unrealized_pnl = summary['total_unrealized_pnl']\n",
    "    total_unrealized_return = summary['total_unrealized_return']\n",
    "    print(f\"Unrealized Profit/Loss: ${float(total_unrealized_pnl)          :,.2f} ({float(total_unrealized_return)*100:.2f}%)\")\n",
    "\n",
    "    total_realized_pnl = summary['total_realized_pnl']\n",
    "    total_realized_return = summary['total_realized_return']\n",
    "    print(f\"Realized Profit/Loss: ${float(total_realized_pnl)          :,.2f} ({float(total_realized_return)*100:.2f}%)\")\n",
    "\n",
    "    # Display daily gain\n",
    "    daily_gain_loss = summary['total_daily_change']\n",
    "    daily_return = summary['total_daily_return']\n",
    "    print(f\"Daily Gain: ${float(daily_gain_loss)          :,.2f} ({float(daily_return)*100:.2f}%)\")\n",
    "\n",
    "    # Display closed positions\n",
    "    print(\"\\nClosed Positions:\")\n",
    "    display(HTML(closed_positions_df.to_html(index=False, classes='dataframe')))\n",
    "\n",
    "    # Display partially sold positions\n",
    "    print(\"\\nPartially Sold Positions:\")\n",
    "    display(HTML(partially_sold_positions_df.to_html(\n",
    "        index=False, classes='dataframe')))\n",
    "\n",
    "\n",
    "def print_summary_item(label, value, is_percentage=False):\n",
    "    if is_percentage:\n",
    "        print(f\"{label}: {float(value)*100:.2f}%\")\n",
    "    else:\n",
    "        print(f\"{label}: ${float(value):,.2f}\")\n",
    "\n",
    "\n",
    "# Example usage:\n",
    "\n",
    "# processed_data = process_portfolio_data(portfolio_data, date=\"2024-03-21\")\n",
    "processed_data = process_portfolio_data(portfolio_data)\n",
    "\n",
    "display_portfolio_analysis(processed_data)"
   ]
  },
  {
   "cell_type": "code",
   "execution_count": 6,
   "metadata": {},
   "outputs": [
    {
     "data": {
      "application/vnd.plotly.v1+json": {
       "config": {
        "plotlyServerURL": "https://plot.ly"
       },
       "data": [
        {
         "hoverinfo": "text",
         "hovertext": [
          "TSLA<br>$7,716.60<br>53.28%",
          "DIS<br>$1,869.97<br>12.91%",
          "SPY<br>$1,418.07<br>9.79%",
          "TSM<br>$1,032.88<br>7.13%",
          "QQQ<br>$815.96<br>5.63%",
          "GOOGL<br>$682.47<br>4.71%",
          "AAPL<br>$589.48<br>4.07%",
          "PLTR<br>$359.00<br>2.48%"
         ],
         "labels": [
          "TSLA",
          "DIS",
          "SPY",
          "TSM",
          "QQQ",
          "GOOGL",
          "AAPL",
          "PLTR"
         ],
         "text": [
          "$7,716.60",
          "$1,869.97",
          "$1,418.07",
          "$1,032.88",
          "$815.96",
          "$682.47",
          "$589.48",
          "$359.00"
         ],
         "textinfo": "label+percent",
         "textposition": "inside",
         "type": "pie",
         "values": [
          53.27513941332796,
          12.910227719356095,
          9.79027460431802,
          7.1309908498571914,
          5.633345806103675,
          4.711726708702016,
          4.069771225630866,
          2.4785236727041697
         ]
        }
       ],
       "layout": {
        "legend": {
         "title": {
          "text": "Holdings"
         }
        },
        "showlegend": true,
        "template": {
         "data": {
          "bar": [
           {
            "error_x": {
             "color": "#2a3f5f"
            },
            "error_y": {
             "color": "#2a3f5f"
            },
            "marker": {
             "line": {
              "color": "#E5ECF6",
              "width": 0.5
             },
             "pattern": {
              "fillmode": "overlay",
              "size": 10,
              "solidity": 0.2
             }
            },
            "type": "bar"
           }
          ],
          "barpolar": [
           {
            "marker": {
             "line": {
              "color": "#E5ECF6",
              "width": 0.5
             },
             "pattern": {
              "fillmode": "overlay",
              "size": 10,
              "solidity": 0.2
             }
            },
            "type": "barpolar"
           }
          ],
          "carpet": [
           {
            "aaxis": {
             "endlinecolor": "#2a3f5f",
             "gridcolor": "white",
             "linecolor": "white",
             "minorgridcolor": "white",
             "startlinecolor": "#2a3f5f"
            },
            "baxis": {
             "endlinecolor": "#2a3f5f",
             "gridcolor": "white",
             "linecolor": "white",
             "minorgridcolor": "white",
             "startlinecolor": "#2a3f5f"
            },
            "type": "carpet"
           }
          ],
          "choropleth": [
           {
            "colorbar": {
             "outlinewidth": 0,
             "ticks": ""
            },
            "type": "choropleth"
           }
          ],
          "contour": [
           {
            "colorbar": {
             "outlinewidth": 0,
             "ticks": ""
            },
            "colorscale": [
             [
              0,
              "#0d0887"
             ],
             [
              0.1111111111111111,
              "#46039f"
             ],
             [
              0.2222222222222222,
              "#7201a8"
             ],
             [
              0.3333333333333333,
              "#9c179e"
             ],
             [
              0.4444444444444444,
              "#bd3786"
             ],
             [
              0.5555555555555556,
              "#d8576b"
             ],
             [
              0.6666666666666666,
              "#ed7953"
             ],
             [
              0.7777777777777778,
              "#fb9f3a"
             ],
             [
              0.8888888888888888,
              "#fdca26"
             ],
             [
              1,
              "#f0f921"
             ]
            ],
            "type": "contour"
           }
          ],
          "contourcarpet": [
           {
            "colorbar": {
             "outlinewidth": 0,
             "ticks": ""
            },
            "type": "contourcarpet"
           }
          ],
          "heatmap": [
           {
            "colorbar": {
             "outlinewidth": 0,
             "ticks": ""
            },
            "colorscale": [
             [
              0,
              "#0d0887"
             ],
             [
              0.1111111111111111,
              "#46039f"
             ],
             [
              0.2222222222222222,
              "#7201a8"
             ],
             [
              0.3333333333333333,
              "#9c179e"
             ],
             [
              0.4444444444444444,
              "#bd3786"
             ],
             [
              0.5555555555555556,
              "#d8576b"
             ],
             [
              0.6666666666666666,
              "#ed7953"
             ],
             [
              0.7777777777777778,
              "#fb9f3a"
             ],
             [
              0.8888888888888888,
              "#fdca26"
             ],
             [
              1,
              "#f0f921"
             ]
            ],
            "type": "heatmap"
           }
          ],
          "heatmapgl": [
           {
            "colorbar": {
             "outlinewidth": 0,
             "ticks": ""
            },
            "colorscale": [
             [
              0,
              "#0d0887"
             ],
             [
              0.1111111111111111,
              "#46039f"
             ],
             [
              0.2222222222222222,
              "#7201a8"
             ],
             [
              0.3333333333333333,
              "#9c179e"
             ],
             [
              0.4444444444444444,
              "#bd3786"
             ],
             [
              0.5555555555555556,
              "#d8576b"
             ],
             [
              0.6666666666666666,
              "#ed7953"
             ],
             [
              0.7777777777777778,
              "#fb9f3a"
             ],
             [
              0.8888888888888888,
              "#fdca26"
             ],
             [
              1,
              "#f0f921"
             ]
            ],
            "type": "heatmapgl"
           }
          ],
          "histogram": [
           {
            "marker": {
             "pattern": {
              "fillmode": "overlay",
              "size": 10,
              "solidity": 0.2
             }
            },
            "type": "histogram"
           }
          ],
          "histogram2d": [
           {
            "colorbar": {
             "outlinewidth": 0,
             "ticks": ""
            },
            "colorscale": [
             [
              0,
              "#0d0887"
             ],
             [
              0.1111111111111111,
              "#46039f"
             ],
             [
              0.2222222222222222,
              "#7201a8"
             ],
             [
              0.3333333333333333,
              "#9c179e"
             ],
             [
              0.4444444444444444,
              "#bd3786"
             ],
             [
              0.5555555555555556,
              "#d8576b"
             ],
             [
              0.6666666666666666,
              "#ed7953"
             ],
             [
              0.7777777777777778,
              "#fb9f3a"
             ],
             [
              0.8888888888888888,
              "#fdca26"
             ],
             [
              1,
              "#f0f921"
             ]
            ],
            "type": "histogram2d"
           }
          ],
          "histogram2dcontour": [
           {
            "colorbar": {
             "outlinewidth": 0,
             "ticks": ""
            },
            "colorscale": [
             [
              0,
              "#0d0887"
             ],
             [
              0.1111111111111111,
              "#46039f"
             ],
             [
              0.2222222222222222,
              "#7201a8"
             ],
             [
              0.3333333333333333,
              "#9c179e"
             ],
             [
              0.4444444444444444,
              "#bd3786"
             ],
             [
              0.5555555555555556,
              "#d8576b"
             ],
             [
              0.6666666666666666,
              "#ed7953"
             ],
             [
              0.7777777777777778,
              "#fb9f3a"
             ],
             [
              0.8888888888888888,
              "#fdca26"
             ],
             [
              1,
              "#f0f921"
             ]
            ],
            "type": "histogram2dcontour"
           }
          ],
          "mesh3d": [
           {
            "colorbar": {
             "outlinewidth": 0,
             "ticks": ""
            },
            "type": "mesh3d"
           }
          ],
          "parcoords": [
           {
            "line": {
             "colorbar": {
              "outlinewidth": 0,
              "ticks": ""
             }
            },
            "type": "parcoords"
           }
          ],
          "pie": [
           {
            "automargin": true,
            "type": "pie"
           }
          ],
          "scatter": [
           {
            "fillpattern": {
             "fillmode": "overlay",
             "size": 10,
             "solidity": 0.2
            },
            "type": "scatter"
           }
          ],
          "scatter3d": [
           {
            "line": {
             "colorbar": {
              "outlinewidth": 0,
              "ticks": ""
             }
            },
            "marker": {
             "colorbar": {
              "outlinewidth": 0,
              "ticks": ""
             }
            },
            "type": "scatter3d"
           }
          ],
          "scattercarpet": [
           {
            "marker": {
             "colorbar": {
              "outlinewidth": 0,
              "ticks": ""
             }
            },
            "type": "scattercarpet"
           }
          ],
          "scattergeo": [
           {
            "marker": {
             "colorbar": {
              "outlinewidth": 0,
              "ticks": ""
             }
            },
            "type": "scattergeo"
           }
          ],
          "scattergl": [
           {
            "marker": {
             "colorbar": {
              "outlinewidth": 0,
              "ticks": ""
             }
            },
            "type": "scattergl"
           }
          ],
          "scattermapbox": [
           {
            "marker": {
             "colorbar": {
              "outlinewidth": 0,
              "ticks": ""
             }
            },
            "type": "scattermapbox"
           }
          ],
          "scatterpolar": [
           {
            "marker": {
             "colorbar": {
              "outlinewidth": 0,
              "ticks": ""
             }
            },
            "type": "scatterpolar"
           }
          ],
          "scatterpolargl": [
           {
            "marker": {
             "colorbar": {
              "outlinewidth": 0,
              "ticks": ""
             }
            },
            "type": "scatterpolargl"
           }
          ],
          "scatterternary": [
           {
            "marker": {
             "colorbar": {
              "outlinewidth": 0,
              "ticks": ""
             }
            },
            "type": "scatterternary"
           }
          ],
          "surface": [
           {
            "colorbar": {
             "outlinewidth": 0,
             "ticks": ""
            },
            "colorscale": [
             [
              0,
              "#0d0887"
             ],
             [
              0.1111111111111111,
              "#46039f"
             ],
             [
              0.2222222222222222,
              "#7201a8"
             ],
             [
              0.3333333333333333,
              "#9c179e"
             ],
             [
              0.4444444444444444,
              "#bd3786"
             ],
             [
              0.5555555555555556,
              "#d8576b"
             ],
             [
              0.6666666666666666,
              "#ed7953"
             ],
             [
              0.7777777777777778,
              "#fb9f3a"
             ],
             [
              0.8888888888888888,
              "#fdca26"
             ],
             [
              1,
              "#f0f921"
             ]
            ],
            "type": "surface"
           }
          ],
          "table": [
           {
            "cells": {
             "fill": {
              "color": "#EBF0F8"
             },
             "line": {
              "color": "white"
             }
            },
            "header": {
             "fill": {
              "color": "#C8D4E3"
             },
             "line": {
              "color": "white"
             }
            },
            "type": "table"
           }
          ]
         },
         "layout": {
          "annotationdefaults": {
           "arrowcolor": "#2a3f5f",
           "arrowhead": 0,
           "arrowwidth": 1
          },
          "autotypenumbers": "strict",
          "coloraxis": {
           "colorbar": {
            "outlinewidth": 0,
            "ticks": ""
           }
          },
          "colorscale": {
           "diverging": [
            [
             0,
             "#8e0152"
            ],
            [
             0.1,
             "#c51b7d"
            ],
            [
             0.2,
             "#de77ae"
            ],
            [
             0.3,
             "#f1b6da"
            ],
            [
             0.4,
             "#fde0ef"
            ],
            [
             0.5,
             "#f7f7f7"
            ],
            [
             0.6,
             "#e6f5d0"
            ],
            [
             0.7,
             "#b8e186"
            ],
            [
             0.8,
             "#7fbc41"
            ],
            [
             0.9,
             "#4d9221"
            ],
            [
             1,
             "#276419"
            ]
           ],
           "sequential": [
            [
             0,
             "#0d0887"
            ],
            [
             0.1111111111111111,
             "#46039f"
            ],
            [
             0.2222222222222222,
             "#7201a8"
            ],
            [
             0.3333333333333333,
             "#9c179e"
            ],
            [
             0.4444444444444444,
             "#bd3786"
            ],
            [
             0.5555555555555556,
             "#d8576b"
            ],
            [
             0.6666666666666666,
             "#ed7953"
            ],
            [
             0.7777777777777778,
             "#fb9f3a"
            ],
            [
             0.8888888888888888,
             "#fdca26"
            ],
            [
             1,
             "#f0f921"
            ]
           ],
           "sequentialminus": [
            [
             0,
             "#0d0887"
            ],
            [
             0.1111111111111111,
             "#46039f"
            ],
            [
             0.2222222222222222,
             "#7201a8"
            ],
            [
             0.3333333333333333,
             "#9c179e"
            ],
            [
             0.4444444444444444,
             "#bd3786"
            ],
            [
             0.5555555555555556,
             "#d8576b"
            ],
            [
             0.6666666666666666,
             "#ed7953"
            ],
            [
             0.7777777777777778,
             "#fb9f3a"
            ],
            [
             0.8888888888888888,
             "#fdca26"
            ],
            [
             1,
             "#f0f921"
            ]
           ]
          },
          "colorway": [
           "#636efa",
           "#EF553B",
           "#00cc96",
           "#ab63fa",
           "#FFA15A",
           "#19d3f3",
           "#FF6692",
           "#B6E880",
           "#FF97FF",
           "#FECB52"
          ],
          "font": {
           "color": "#2a3f5f"
          },
          "geo": {
           "bgcolor": "white",
           "lakecolor": "white",
           "landcolor": "#E5ECF6",
           "showlakes": true,
           "showland": true,
           "subunitcolor": "white"
          },
          "hoverlabel": {
           "align": "left"
          },
          "hovermode": "closest",
          "mapbox": {
           "style": "light"
          },
          "paper_bgcolor": "white",
          "plot_bgcolor": "#E5ECF6",
          "polar": {
           "angularaxis": {
            "gridcolor": "white",
            "linecolor": "white",
            "ticks": ""
           },
           "bgcolor": "#E5ECF6",
           "radialaxis": {
            "gridcolor": "white",
            "linecolor": "white",
            "ticks": ""
           }
          },
          "scene": {
           "xaxis": {
            "backgroundcolor": "#E5ECF6",
            "gridcolor": "white",
            "gridwidth": 2,
            "linecolor": "white",
            "showbackground": true,
            "ticks": "",
            "zerolinecolor": "white"
           },
           "yaxis": {
            "backgroundcolor": "#E5ECF6",
            "gridcolor": "white",
            "gridwidth": 2,
            "linecolor": "white",
            "showbackground": true,
            "ticks": "",
            "zerolinecolor": "white"
           },
           "zaxis": {
            "backgroundcolor": "#E5ECF6",
            "gridcolor": "white",
            "gridwidth": 2,
            "linecolor": "white",
            "showbackground": true,
            "ticks": "",
            "zerolinecolor": "white"
           }
          },
          "shapedefaults": {
           "line": {
            "color": "#2a3f5f"
           }
          },
          "ternary": {
           "aaxis": {
            "gridcolor": "white",
            "linecolor": "white",
            "ticks": ""
           },
           "baxis": {
            "gridcolor": "white",
            "linecolor": "white",
            "ticks": ""
           },
           "bgcolor": "#E5ECF6",
           "caxis": {
            "gridcolor": "white",
            "linecolor": "white",
            "ticks": ""
           }
          },
          "title": {
           "x": 0.05
          },
          "xaxis": {
           "automargin": true,
           "gridcolor": "white",
           "linecolor": "white",
           "ticks": "",
           "title": {
            "standoff": 15
           },
           "zerolinecolor": "white",
           "zerolinewidth": 2
          },
          "yaxis": {
           "automargin": true,
           "gridcolor": "white",
           "linecolor": "white",
           "ticks": "",
           "title": {
            "standoff": 15
           },
           "zerolinecolor": "white",
           "zerolinewidth": 2
          }
         }
        },
        "title": {
         "text": "Stock Proportions by Value on 2023-12-19"
        }
       }
      }
     },
     "metadata": {},
     "output_type": "display_data"
    }
   ],
   "source": [
    "def plot_stock_proportions(portfolio_data, date=None, show_values=True, main_threshold=3.0):\n",
    "    date = NOTEBOOK_DATE or date or max(portfolio_data.keys())\n",
    "    if date not in portfolio_data:\n",
    "        raise ValueError(f\"No data available for date: {date}\")\n",
    "\n",
    "    holdings = portfolio_data[date]['holdings']\n",
    "    labels = list(holdings.keys())\n",
    "    values = [float(data['market_value']) for data in holdings.values()]\n",
    "\n",
    "    total = sum(values)\n",
    "    percentages = [(value / total) * 100 for value in values]\n",
    "\n",
    "    main_holdings = list(zip(labels, values, percentages))\n",
    "    main_holdings.sort(key=lambda x: x[2], reverse=True)\n",
    "\n",
    "    other_holdings = [h for h in main_holdings if h[2] < main_threshold]\n",
    "    if len(other_holdings) > 1:\n",
    "        others_value = sum(v for _, v, _ in other_holdings)\n",
    "        others_percentage = sum(p for _, _, p in other_holdings)\n",
    "        other_symbols_info = \"<br>\".join(f\"<span style='font-family: monospace;'>{l:<5}\\t{\n",
    "                                         p:>6.2f}%</span>\" for l, _, p in other_holdings)\n",
    "        main_holdings = [h for h in main_holdings if h[2] >=\n",
    "                         main_threshold] + [(\"Others\", others_value, others_percentage)]\n",
    "\n",
    "    main_labels, main_values, main_percentages = zip(*main_holdings)\n",
    "\n",
    "    # Create custom hover text\n",
    "    hover_text = [f\"{label}<br>${value:,.2f}<br>{percentage:.2f}%\" for label,\n",
    "                  value, percentage in zip(main_labels, main_values, main_percentages)]\n",
    "    if \"Others\" in main_labels:\n",
    "        others_index = main_labels.index(\"Others\")\n",
    "        hover_text[others_index] += f\"<br><br>{other_symbols_info}\"\n",
    "\n",
    "    fig = go.Figure(data=[go.Pie(labels=main_labels,\n",
    "                                 values=main_percentages,\n",
    "                                 textinfo='label+percent',\n",
    "                                 hovertext=hover_text,\n",
    "                                 hoverinfo='text')])\n",
    "\n",
    "    fig.update_layout(\n",
    "        title=f'Stock Proportions by Value on {date}',\n",
    "        showlegend=True,\n",
    "        legend=dict(title=\"Holdings\")\n",
    "    )\n",
    "\n",
    "    if show_values:\n",
    "        fig.update_traces(\n",
    "            text=[f'${value:,.2f}' for value in main_values], textposition='inside')\n",
    "\n",
    "    return fig\n",
    "\n",
    "\n",
    "# Example usage:\n",
    "# plot_stock_proportions(portfolio_data, date=\"2024-04-10\", show_values=False)\n",
    "plot_stock_proportions(portfolio_data)"
   ]
  },
  {
   "cell_type": "code",
   "execution_count": 7,
   "metadata": {},
   "outputs": [
    {
     "data": {
      "application/vnd.plotly.v1+json": {
       "config": {
        "plotlyServerURL": "https://plot.ly"
       },
       "data": [
        {
         "hoverinfo": "text",
         "hovertext": [
          "Consumer Cyclical<br>$7,716.60<br>53.28%",
          "ETF<br>$2,234.02<br>15.42%",
          "Technology<br>$1,981.37<br>13.68%",
          "Communication Services<br>$2,552.44<br>17.62%"
         ],
         "labels": [
          "Consumer<br>Cyclical",
          "ETF",
          "Technology",
          "Communication<br>Services"
         ],
         "text": [
          "$7,716.60",
          "$2,234.02",
          "$1,981.37",
          "$2,552.44"
         ],
         "textinfo": "label+percent",
         "type": "pie",
         "values": [
          7716.600037,
          2234.0234327,
          1981.3665074,
          2552.4395748
         ]
        }
       ],
       "layout": {
        "legend": {
         "title": {
          "text": "Sectors"
         }
        },
        "showlegend": true,
        "template": {
         "data": {
          "bar": [
           {
            "error_x": {
             "color": "#2a3f5f"
            },
            "error_y": {
             "color": "#2a3f5f"
            },
            "marker": {
             "line": {
              "color": "#E5ECF6",
              "width": 0.5
             },
             "pattern": {
              "fillmode": "overlay",
              "size": 10,
              "solidity": 0.2
             }
            },
            "type": "bar"
           }
          ],
          "barpolar": [
           {
            "marker": {
             "line": {
              "color": "#E5ECF6",
              "width": 0.5
             },
             "pattern": {
              "fillmode": "overlay",
              "size": 10,
              "solidity": 0.2
             }
            },
            "type": "barpolar"
           }
          ],
          "carpet": [
           {
            "aaxis": {
             "endlinecolor": "#2a3f5f",
             "gridcolor": "white",
             "linecolor": "white",
             "minorgridcolor": "white",
             "startlinecolor": "#2a3f5f"
            },
            "baxis": {
             "endlinecolor": "#2a3f5f",
             "gridcolor": "white",
             "linecolor": "white",
             "minorgridcolor": "white",
             "startlinecolor": "#2a3f5f"
            },
            "type": "carpet"
           }
          ],
          "choropleth": [
           {
            "colorbar": {
             "outlinewidth": 0,
             "ticks": ""
            },
            "type": "choropleth"
           }
          ],
          "contour": [
           {
            "colorbar": {
             "outlinewidth": 0,
             "ticks": ""
            },
            "colorscale": [
             [
              0,
              "#0d0887"
             ],
             [
              0.1111111111111111,
              "#46039f"
             ],
             [
              0.2222222222222222,
              "#7201a8"
             ],
             [
              0.3333333333333333,
              "#9c179e"
             ],
             [
              0.4444444444444444,
              "#bd3786"
             ],
             [
              0.5555555555555556,
              "#d8576b"
             ],
             [
              0.6666666666666666,
              "#ed7953"
             ],
             [
              0.7777777777777778,
              "#fb9f3a"
             ],
             [
              0.8888888888888888,
              "#fdca26"
             ],
             [
              1,
              "#f0f921"
             ]
            ],
            "type": "contour"
           }
          ],
          "contourcarpet": [
           {
            "colorbar": {
             "outlinewidth": 0,
             "ticks": ""
            },
            "type": "contourcarpet"
           }
          ],
          "heatmap": [
           {
            "colorbar": {
             "outlinewidth": 0,
             "ticks": ""
            },
            "colorscale": [
             [
              0,
              "#0d0887"
             ],
             [
              0.1111111111111111,
              "#46039f"
             ],
             [
              0.2222222222222222,
              "#7201a8"
             ],
             [
              0.3333333333333333,
              "#9c179e"
             ],
             [
              0.4444444444444444,
              "#bd3786"
             ],
             [
              0.5555555555555556,
              "#d8576b"
             ],
             [
              0.6666666666666666,
              "#ed7953"
             ],
             [
              0.7777777777777778,
              "#fb9f3a"
             ],
             [
              0.8888888888888888,
              "#fdca26"
             ],
             [
              1,
              "#f0f921"
             ]
            ],
            "type": "heatmap"
           }
          ],
          "heatmapgl": [
           {
            "colorbar": {
             "outlinewidth": 0,
             "ticks": ""
            },
            "colorscale": [
             [
              0,
              "#0d0887"
             ],
             [
              0.1111111111111111,
              "#46039f"
             ],
             [
              0.2222222222222222,
              "#7201a8"
             ],
             [
              0.3333333333333333,
              "#9c179e"
             ],
             [
              0.4444444444444444,
              "#bd3786"
             ],
             [
              0.5555555555555556,
              "#d8576b"
             ],
             [
              0.6666666666666666,
              "#ed7953"
             ],
             [
              0.7777777777777778,
              "#fb9f3a"
             ],
             [
              0.8888888888888888,
              "#fdca26"
             ],
             [
              1,
              "#f0f921"
             ]
            ],
            "type": "heatmapgl"
           }
          ],
          "histogram": [
           {
            "marker": {
             "pattern": {
              "fillmode": "overlay",
              "size": 10,
              "solidity": 0.2
             }
            },
            "type": "histogram"
           }
          ],
          "histogram2d": [
           {
            "colorbar": {
             "outlinewidth": 0,
             "ticks": ""
            },
            "colorscale": [
             [
              0,
              "#0d0887"
             ],
             [
              0.1111111111111111,
              "#46039f"
             ],
             [
              0.2222222222222222,
              "#7201a8"
             ],
             [
              0.3333333333333333,
              "#9c179e"
             ],
             [
              0.4444444444444444,
              "#bd3786"
             ],
             [
              0.5555555555555556,
              "#d8576b"
             ],
             [
              0.6666666666666666,
              "#ed7953"
             ],
             [
              0.7777777777777778,
              "#fb9f3a"
             ],
             [
              0.8888888888888888,
              "#fdca26"
             ],
             [
              1,
              "#f0f921"
             ]
            ],
            "type": "histogram2d"
           }
          ],
          "histogram2dcontour": [
           {
            "colorbar": {
             "outlinewidth": 0,
             "ticks": ""
            },
            "colorscale": [
             [
              0,
              "#0d0887"
             ],
             [
              0.1111111111111111,
              "#46039f"
             ],
             [
              0.2222222222222222,
              "#7201a8"
             ],
             [
              0.3333333333333333,
              "#9c179e"
             ],
             [
              0.4444444444444444,
              "#bd3786"
             ],
             [
              0.5555555555555556,
              "#d8576b"
             ],
             [
              0.6666666666666666,
              "#ed7953"
             ],
             [
              0.7777777777777778,
              "#fb9f3a"
             ],
             [
              0.8888888888888888,
              "#fdca26"
             ],
             [
              1,
              "#f0f921"
             ]
            ],
            "type": "histogram2dcontour"
           }
          ],
          "mesh3d": [
           {
            "colorbar": {
             "outlinewidth": 0,
             "ticks": ""
            },
            "type": "mesh3d"
           }
          ],
          "parcoords": [
           {
            "line": {
             "colorbar": {
              "outlinewidth": 0,
              "ticks": ""
             }
            },
            "type": "parcoords"
           }
          ],
          "pie": [
           {
            "automargin": true,
            "type": "pie"
           }
          ],
          "scatter": [
           {
            "fillpattern": {
             "fillmode": "overlay",
             "size": 10,
             "solidity": 0.2
            },
            "type": "scatter"
           }
          ],
          "scatter3d": [
           {
            "line": {
             "colorbar": {
              "outlinewidth": 0,
              "ticks": ""
             }
            },
            "marker": {
             "colorbar": {
              "outlinewidth": 0,
              "ticks": ""
             }
            },
            "type": "scatter3d"
           }
          ],
          "scattercarpet": [
           {
            "marker": {
             "colorbar": {
              "outlinewidth": 0,
              "ticks": ""
             }
            },
            "type": "scattercarpet"
           }
          ],
          "scattergeo": [
           {
            "marker": {
             "colorbar": {
              "outlinewidth": 0,
              "ticks": ""
             }
            },
            "type": "scattergeo"
           }
          ],
          "scattergl": [
           {
            "marker": {
             "colorbar": {
              "outlinewidth": 0,
              "ticks": ""
             }
            },
            "type": "scattergl"
           }
          ],
          "scattermapbox": [
           {
            "marker": {
             "colorbar": {
              "outlinewidth": 0,
              "ticks": ""
             }
            },
            "type": "scattermapbox"
           }
          ],
          "scatterpolar": [
           {
            "marker": {
             "colorbar": {
              "outlinewidth": 0,
              "ticks": ""
             }
            },
            "type": "scatterpolar"
           }
          ],
          "scatterpolargl": [
           {
            "marker": {
             "colorbar": {
              "outlinewidth": 0,
              "ticks": ""
             }
            },
            "type": "scatterpolargl"
           }
          ],
          "scatterternary": [
           {
            "marker": {
             "colorbar": {
              "outlinewidth": 0,
              "ticks": ""
             }
            },
            "type": "scatterternary"
           }
          ],
          "surface": [
           {
            "colorbar": {
             "outlinewidth": 0,
             "ticks": ""
            },
            "colorscale": [
             [
              0,
              "#0d0887"
             ],
             [
              0.1111111111111111,
              "#46039f"
             ],
             [
              0.2222222222222222,
              "#7201a8"
             ],
             [
              0.3333333333333333,
              "#9c179e"
             ],
             [
              0.4444444444444444,
              "#bd3786"
             ],
             [
              0.5555555555555556,
              "#d8576b"
             ],
             [
              0.6666666666666666,
              "#ed7953"
             ],
             [
              0.7777777777777778,
              "#fb9f3a"
             ],
             [
              0.8888888888888888,
              "#fdca26"
             ],
             [
              1,
              "#f0f921"
             ]
            ],
            "type": "surface"
           }
          ],
          "table": [
           {
            "cells": {
             "fill": {
              "color": "#EBF0F8"
             },
             "line": {
              "color": "white"
             }
            },
            "header": {
             "fill": {
              "color": "#C8D4E3"
             },
             "line": {
              "color": "white"
             }
            },
            "type": "table"
           }
          ]
         },
         "layout": {
          "annotationdefaults": {
           "arrowcolor": "#2a3f5f",
           "arrowhead": 0,
           "arrowwidth": 1
          },
          "autotypenumbers": "strict",
          "coloraxis": {
           "colorbar": {
            "outlinewidth": 0,
            "ticks": ""
           }
          },
          "colorscale": {
           "diverging": [
            [
             0,
             "#8e0152"
            ],
            [
             0.1,
             "#c51b7d"
            ],
            [
             0.2,
             "#de77ae"
            ],
            [
             0.3,
             "#f1b6da"
            ],
            [
             0.4,
             "#fde0ef"
            ],
            [
             0.5,
             "#f7f7f7"
            ],
            [
             0.6,
             "#e6f5d0"
            ],
            [
             0.7,
             "#b8e186"
            ],
            [
             0.8,
             "#7fbc41"
            ],
            [
             0.9,
             "#4d9221"
            ],
            [
             1,
             "#276419"
            ]
           ],
           "sequential": [
            [
             0,
             "#0d0887"
            ],
            [
             0.1111111111111111,
             "#46039f"
            ],
            [
             0.2222222222222222,
             "#7201a8"
            ],
            [
             0.3333333333333333,
             "#9c179e"
            ],
            [
             0.4444444444444444,
             "#bd3786"
            ],
            [
             0.5555555555555556,
             "#d8576b"
            ],
            [
             0.6666666666666666,
             "#ed7953"
            ],
            [
             0.7777777777777778,
             "#fb9f3a"
            ],
            [
             0.8888888888888888,
             "#fdca26"
            ],
            [
             1,
             "#f0f921"
            ]
           ],
           "sequentialminus": [
            [
             0,
             "#0d0887"
            ],
            [
             0.1111111111111111,
             "#46039f"
            ],
            [
             0.2222222222222222,
             "#7201a8"
            ],
            [
             0.3333333333333333,
             "#9c179e"
            ],
            [
             0.4444444444444444,
             "#bd3786"
            ],
            [
             0.5555555555555556,
             "#d8576b"
            ],
            [
             0.6666666666666666,
             "#ed7953"
            ],
            [
             0.7777777777777778,
             "#fb9f3a"
            ],
            [
             0.8888888888888888,
             "#fdca26"
            ],
            [
             1,
             "#f0f921"
            ]
           ]
          },
          "colorway": [
           "#636efa",
           "#EF553B",
           "#00cc96",
           "#ab63fa",
           "#FFA15A",
           "#19d3f3",
           "#FF6692",
           "#B6E880",
           "#FF97FF",
           "#FECB52"
          ],
          "font": {
           "color": "#2a3f5f"
          },
          "geo": {
           "bgcolor": "white",
           "lakecolor": "white",
           "landcolor": "#E5ECF6",
           "showlakes": true,
           "showland": true,
           "subunitcolor": "white"
          },
          "hoverlabel": {
           "align": "left"
          },
          "hovermode": "closest",
          "mapbox": {
           "style": "light"
          },
          "paper_bgcolor": "white",
          "plot_bgcolor": "#E5ECF6",
          "polar": {
           "angularaxis": {
            "gridcolor": "white",
            "linecolor": "white",
            "ticks": ""
           },
           "bgcolor": "#E5ECF6",
           "radialaxis": {
            "gridcolor": "white",
            "linecolor": "white",
            "ticks": ""
           }
          },
          "scene": {
           "xaxis": {
            "backgroundcolor": "#E5ECF6",
            "gridcolor": "white",
            "gridwidth": 2,
            "linecolor": "white",
            "showbackground": true,
            "ticks": "",
            "zerolinecolor": "white"
           },
           "yaxis": {
            "backgroundcolor": "#E5ECF6",
            "gridcolor": "white",
            "gridwidth": 2,
            "linecolor": "white",
            "showbackground": true,
            "ticks": "",
            "zerolinecolor": "white"
           },
           "zaxis": {
            "backgroundcolor": "#E5ECF6",
            "gridcolor": "white",
            "gridwidth": 2,
            "linecolor": "white",
            "showbackground": true,
            "ticks": "",
            "zerolinecolor": "white"
           }
          },
          "shapedefaults": {
           "line": {
            "color": "#2a3f5f"
           }
          },
          "ternary": {
           "aaxis": {
            "gridcolor": "white",
            "linecolor": "white",
            "ticks": ""
           },
           "baxis": {
            "gridcolor": "white",
            "linecolor": "white",
            "ticks": ""
           },
           "bgcolor": "#E5ECF6",
           "caxis": {
            "gridcolor": "white",
            "linecolor": "white",
            "ticks": ""
           }
          },
          "title": {
           "x": 0.05
          },
          "xaxis": {
           "automargin": true,
           "gridcolor": "white",
           "linecolor": "white",
           "ticks": "",
           "title": {
            "standoff": 15
           },
           "zerolinecolor": "white",
           "zerolinewidth": 2
          },
          "yaxis": {
           "automargin": true,
           "gridcolor": "white",
           "linecolor": "white",
           "ticks": "",
           "title": {
            "standoff": 15
           },
           "zerolinecolor": "white",
           "zerolinewidth": 2
          }
         }
        },
        "title": {
         "text": "Sector Proportions on 2023-12-19"
        }
       }
      }
     },
     "metadata": {},
     "output_type": "display_data"
    }
   ],
   "source": [
    "def plot_sector_proportions(portfolio_data, sectors, date=None, max_label_length=15):\n",
    "    date = NOTEBOOK_DATE or date or max(portfolio_data.keys())\n",
    "    if date not in portfolio_data:\n",
    "        raise ValueError(f\"No data available for date: {date}\")\n",
    "\n",
    "    holdings = portfolio_data[date]['holdings']\n",
    "    sector_values = defaultdict(float)\n",
    "    total_value = 0\n",
    "\n",
    "    for symbol, data in holdings.items():\n",
    "        sector = sectors.get(symbol, 'ETF')\n",
    "        market_value = float(data['market_value'])\n",
    "        sector_values[sector] += market_value\n",
    "        total_value += market_value\n",
    "\n",
    "    labels = list(sector_values.keys())\n",
    "    sizes = list(sector_values.values())\n",
    "    percentages = [value / total_value * 100 for value in sizes]\n",
    "\n",
    "    # Wrap long labels\n",
    "    wrapped_labels = [wrap_label(label, max_label_length) for label in labels]\n",
    "\n",
    "    hover_text = [f\"{sector}<br>${value:,.2f}<br>{percentage:.2f}%\"\n",
    "                  for sector, value, percentage in zip(labels, sizes, percentages)]\n",
    "\n",
    "    fig = go.Figure(data=[go.Pie(\n",
    "        labels=wrapped_labels,\n",
    "        values=sizes,\n",
    "        text=[f'${value:,.2f}' for value in sizes],\n",
    "        hovertext=hover_text,\n",
    "        hoverinfo='text',\n",
    "        textinfo='label+percent'\n",
    "    )])\n",
    "\n",
    "    fig.update_layout(\n",
    "        title=f'Sector Proportions on {date}',\n",
    "        showlegend=True,\n",
    "        legend=dict(title=\"Sectors\")\n",
    "    )\n",
    "\n",
    "    return fig\n",
    "\n",
    "\n",
    "def wrap_label(label, max_length):\n",
    "    if len(label) <= max_length:\n",
    "        return label\n",
    "\n",
    "    # Find the last space before max_length\n",
    "    split_index = label.rfind(' ', 0, max_length)\n",
    "    if split_index == -1:  # If no space found, split at max_length\n",
    "        split_index = max_length\n",
    "\n",
    "    return f\"{label[:split_index]}<br>{label[split_index:].strip()}\"\n",
    "\n",
    "# Example usage:\n",
    "# plot_sector_proportions(portfolio_data, sectors, date=\"2024-04-10\")\n",
    "plot_sector_proportions(portfolio_data, sectors)"
   ]
  },
  {
   "cell_type": "code",
   "execution_count": 8,
   "metadata": {},
   "outputs": [],
   "source": [
    "def plot_portfolio_growth(portfolio_data, end_date=None):\n",
    "    dates = sorted(portfolio_data.keys())\n",
    "\n",
    "    end_date = NOTEBOOK_DATE or end_date or max(portfolio_data.keys())\n",
    "    if end_date is None:\n",
    "        end_date = dates[-1]\n",
    "    else:\n",
    "        end_date = str(end_date)\n",
    "        if end_date not in dates:\n",
    "            raise ValueError(f\"No data available for date: {end_date}\")\n",
    "\n",
    "    start_date = pd.to_datetime(dates[0])\n",
    "    dates = [d for d in dates if pd.to_datetime(\n",
    "        d) >= start_date and pd.to_datetime(d) <= pd.to_datetime(end_date)]\n",
    "\n",
    "    df_plot = pd.DataFrame({\n",
    "        'Date': pd.to_datetime(dates),\n",
    "        'Total Market Value': [float(portfolio_data[d]['summary']['total_market_value']) for d in dates],\n",
    "        'Cash': [float(portfolio_data[d]['summary']['cash']) for d in dates],\n",
    "        'Unrealized P/L': [float(portfolio_data[d]['summary']['total_unrealized_pnl']) for d in dates],\n",
    "        'Realized P/L': [float(portfolio_data[d]['summary']['total_realized_pnl']) for d in dates],\n",
    "        'Daily P/L': [float(portfolio_data[d]['summary']['total_daily_change']) for d in dates],\n",
    "        'Unrealized Return (%)': [float(portfolio_data[d]['summary']['total_unrealized_return']) * 100 for d in dates],\n",
    "        'Realized Return (%)': [float(portfolio_data[d]['summary']['total_realized_return']) * 100 for d in dates],\n",
    "        'Daily Return (%)': [float(portfolio_data[d]['summary']['total_daily_return']) * 100 for d in dates],\n",
    "    })\n",
    "\n",
    "    returns = calculate_returns(df_plot, pd.to_datetime(end_date))\n",
    "\n",
    "    fig = make_subplots(specs=[[{\"secondary_y\": True}]])\n",
    "    add_sp500_trace(fig, df_plot)\n",
    "    add_portfolio_traces(fig, df_plot)\n",
    "    add_performance_annotation(fig, returns)\n",
    "\n",
    "    fig.update_layout(\n",
    "        title={'text': f'Portfolio Performance as of {end_date}<br>',\n",
    "               'xanchor': 'left',\n",
    "               'yanchor': 'top'},\n",
    "        xaxis_title='Date',\n",
    "        hovermode='x unified',\n",
    "        showlegend=True,\n",
    "        xaxis=dict(\n",
    "            rangeslider=dict(visible=False),\n",
    "            rangeselector=dict(\n",
    "                buttons=get_range_selector_buttons(df_plot)\n",
    "            )\n",
    "        ),\n",
    "        margin=dict(t=120),\n",
    "    )\n",
    "\n",
    "    fig.update_yaxes(title_text=\"Return (%)\",\n",
    "                     ticksuffix='%', secondary_y=False)\n",
    "    fig.update_yaxes(title_text=\"Value ($)\", tickprefix='$', secondary_y=True)\n",
    "\n",
    "    return fig\n",
    "\n",
    "\n",
    "def calculate_returns(df_plot, latest_date):\n",
    "    returns = {}\n",
    "    periods = [('1D', 1), ('1W', 7), ('1M', 30), ('3M', 90),\n",
    "               ('6M', 180), ('YTD', None), ('1Y', 365), ('Max', None)]\n",
    "\n",
    "    for period, days in periods:\n",
    "        if period == '1D':\n",
    "            # Use the daily return directly for 1D\n",
    "            returns[period] = df_plot[df_plot['Date'] ==\n",
    "                                      latest_date]['Daily Return (%)'].values[0]\n",
    "        elif period == 'YTD':\n",
    "            start_date = pd.Timestamp(year=latest_date.year, month=1, day=1)\n",
    "        elif period == 'Max':\n",
    "            start_date = df_plot['Date'].min()\n",
    "        else:\n",
    "            start_date = latest_date - pd.Timedelta(days=days)\n",
    "\n",
    "        if period != '1D' and start_date >= df_plot['Date'].min():\n",
    "            returns[period] = df_plot[df_plot['Date'] == latest_date]['Unrealized Return (%)'].values[0] - \\\n",
    "                df_plot[df_plot['Date'] >=\n",
    "                        start_date]['Unrealized Return (%)'].iloc[0]\n",
    "\n",
    "    return returns\n",
    "\n",
    "\n",
    "def add_sp500_trace(fig, df_plot):\n",
    "    sp500_data = fetch_sp500_data(df_plot['Date'].min(), df_plot['Date'].max())\n",
    "    sp500_performance = (\n",
    "        (sp500_data['Close'] - sp500_data['Close'].iloc[0]) / sp500_data['Close'].iloc[0]) * 100\n",
    "    fig.add_trace(\n",
    "        go.Scatter(x=sp500_data.index, y=sp500_performance.round(2), line=dict(color='blue', width=2),\n",
    "                   name='S&P 500', visible=True,\n",
    "                   hovertemplate='S&P 500: %{y:.2f}%<extra></extra>'),\n",
    "        secondary_y=False\n",
    "    )\n",
    "\n",
    "\n",
    "def add_portfolio_traces(fig, df_plot):\n",
    "    fig.add_trace(\n",
    "        go.Scatter(x=df_plot['Date'], y=df_plot['Total Market Value'].round(2),\n",
    "                   line=dict(color='green', width=2), name='Total Market Value', visible=True,\n",
    "                   hovertemplate='$%{y:,.2f}\\t(Cash: $%{customdata:,.2f})',\n",
    "                   customdata=df_plot['Cash'].round(2)),\n",
    "        secondary_y=True\n",
    "    )\n",
    "    fig.add_trace(\n",
    "        go.Scatter(x=df_plot['Date'], y=df_plot['Unrealized Return (%)'].round(2), fill='tozeroy',\n",
    "                   fillcolor='rgba(255,0,0,0.2)', line=dict(color='red', width=2), name='Unr. Return',\n",
    "                   hovertemplate='%{y:.2f}%\\t(Daily: $%{customdata:.2f}%)',\n",
    "                   customdata=df_plot['Daily Return (%)'].round(2), visible=True),\n",
    "        secondary_y=False\n",
    "    )\n",
    "    fig.add_trace(\n",
    "        go.Bar(x=df_plot['Date'], y=df_plot['Unrealized P/L'].round(2), name='Unr. P/L',\n",
    "               marker_color='gray', opacity=0.9,\n",
    "               hovertemplate='$%{y:.2f}\\t(Realized: $%{customdata:.2f})',\n",
    "               customdata=df_plot['Realized P/L'].round(2), visible=True),\n",
    "        secondary_y=True\n",
    "    )\n",
    "\n",
    "\n",
    "def add_performance_annotation(fig, returns):\n",
    "    performance_text = \"Portfolio Return:<br>\"\n",
    "    for i, (period, value) in enumerate(returns.items()):\n",
    "        if i % 2 == 0 and i != 0:\n",
    "            performance_text += \"<br>\"\n",
    "        color = 'green' if value >= 0 else 'red'\n",
    "        sign = '+' if value > 0 else ('-' if value < 0 else ' ')\n",
    "        formatted_value = f\"{sign}{abs(value):6.2f}%\"\n",
    "        performance_text += f\"<span style='display: inline-block; width: 70px;'>{\n",
    "            period:>3}: <span style='color: {color};'>{formatted_value:>9}</span></span>\"\n",
    "        if i % 2 == 0 and i != len(returns) - 1:\n",
    "            performance_text += \" | \"\n",
    "\n",
    "    fig.add_annotation(\n",
    "        x=1, y=1.05, xref='paper', yref='paper', text=performance_text, showarrow=False,\n",
    "        font=dict(size=10, family=\"monospace\"), align='left', xanchor='right', yanchor='bottom',\n",
    "        bgcolor='rgba(255,255,255,0.8)', bordercolor='rgba(0,0,0,0.5)', borderwidth=1, borderpad=4\n",
    "    )\n",
    "\n",
    "def get_range_selector_buttons(df_plot):\n",
    "    start_date = df_plot['Date'].min()\n",
    "    end_date = df_plot['Date'].max()\n",
    "    date_range = end_date - start_date\n",
    "\n",
    "    buttons = []\n",
    "\n",
    "    if date_range >= timedelta(days=7):\n",
    "        buttons.append(\n",
    "            dict(count=7, label=\"1W\", step=\"day\", stepmode=\"backward\"))\n",
    "\n",
    "    if date_range >= timedelta(days=30):\n",
    "        buttons.append(\n",
    "            dict(count=1, label=\"1M\", step=\"month\", stepmode=\"backward\"))\n",
    "\n",
    "    if date_range >= timedelta(days=90):\n",
    "        buttons.append(\n",
    "            dict(count=3, label=\"3M\", step=\"month\", stepmode=\"backward\"))\n",
    "\n",
    "    if date_range >= timedelta(days=180):\n",
    "        buttons.append(\n",
    "            dict(count=6, label=\"6M\", step=\"month\", stepmode=\"backward\"))\n",
    "\n",
    "    if end_date.year > start_date.year:\n",
    "        buttons.append(dict(count=1, label=\"YTD\",\n",
    "                       step=\"year\", stepmode=\"todate\"))\n",
    "\n",
    "    if date_range >= timedelta(days=365):\n",
    "        buttons.append(\n",
    "            dict(count=1, label=\"1Y\", step=\"year\", stepmode=\"backward\"))\n",
    "\n",
    "    buttons.append(dict(step=\"all\", label=\"MAX\"))\n",
    "\n",
    "    return buttons\n",
    "\n",
    "\n",
    "def fetch_sp500_data(start_date, end_date):\n",
    "    end_date = pd.to_datetime(end_date) + timedelta(days=1)\n",
    "    sp500 = yf.Ticker(\"^GSPC\")\n",
    "    sp500_data = sp500.history(start=start_date, end=end_date)\n",
    "    return sp500_data[['Close']]\n",
    "\n",
    "# Example usage:\n",
    "# To plot for the latest date:\n",
    "# plot_portfolio_growth(portfolio_data)\n",
    "\n",
    "# To plot for a specific date:\n",
    "# plot_portfolio_growth(portfolio_data, end_date=\"2024-03-15\")"
   ]
  },
  {
   "cell_type": "code",
   "execution_count": 9,
   "metadata": {},
   "outputs": [
    {
     "data": {
      "application/vnd.plotly.v1+json": {
       "config": {
        "plotlyServerURL": "https://plot.ly"
       },
       "data": [
        {
         "hovertemplate": "S&P 500: %{y:.2f}%<extra></extra>",
         "line": {
          "color": "blue",
          "width": 2
         },
         "name": "S&P 500",
         "type": "scatter",
         "visible": true,
         "x": [
          "2023-08-01T00:00:00-04:00",
          "2023-08-02T00:00:00-04:00",
          "2023-08-03T00:00:00-04:00",
          "2023-08-04T00:00:00-04:00",
          "2023-08-07T00:00:00-04:00",
          "2023-08-08T00:00:00-04:00",
          "2023-08-09T00:00:00-04:00",
          "2023-08-10T00:00:00-04:00",
          "2023-08-11T00:00:00-04:00",
          "2023-08-14T00:00:00-04:00",
          "2023-08-15T00:00:00-04:00",
          "2023-08-16T00:00:00-04:00",
          "2023-08-17T00:00:00-04:00",
          "2023-08-18T00:00:00-04:00",
          "2023-08-21T00:00:00-04:00",
          "2023-08-22T00:00:00-04:00",
          "2023-08-23T00:00:00-04:00",
          "2023-08-24T00:00:00-04:00",
          "2023-08-25T00:00:00-04:00",
          "2023-08-28T00:00:00-04:00",
          "2023-08-29T00:00:00-04:00",
          "2023-08-30T00:00:00-04:00",
          "2023-08-31T00:00:00-04:00",
          "2023-09-01T00:00:00-04:00",
          "2023-09-05T00:00:00-04:00",
          "2023-09-06T00:00:00-04:00",
          "2023-09-07T00:00:00-04:00",
          "2023-09-08T00:00:00-04:00",
          "2023-09-11T00:00:00-04:00",
          "2023-09-12T00:00:00-04:00",
          "2023-09-13T00:00:00-04:00",
          "2023-09-14T00:00:00-04:00",
          "2023-09-15T00:00:00-04:00",
          "2023-09-18T00:00:00-04:00",
          "2023-09-19T00:00:00-04:00",
          "2023-09-20T00:00:00-04:00",
          "2023-09-21T00:00:00-04:00",
          "2023-09-22T00:00:00-04:00",
          "2023-09-25T00:00:00-04:00",
          "2023-09-26T00:00:00-04:00",
          "2023-09-27T00:00:00-04:00",
          "2023-09-28T00:00:00-04:00",
          "2023-09-29T00:00:00-04:00",
          "2023-10-02T00:00:00-04:00",
          "2023-10-03T00:00:00-04:00",
          "2023-10-04T00:00:00-04:00",
          "2023-10-05T00:00:00-04:00",
          "2023-10-06T00:00:00-04:00",
          "2023-10-09T00:00:00-04:00",
          "2023-10-10T00:00:00-04:00",
          "2023-10-11T00:00:00-04:00",
          "2023-10-12T00:00:00-04:00",
          "2023-10-13T00:00:00-04:00",
          "2023-10-16T00:00:00-04:00",
          "2023-10-17T00:00:00-04:00",
          "2023-10-18T00:00:00-04:00",
          "2023-10-19T00:00:00-04:00",
          "2023-10-20T00:00:00-04:00",
          "2023-10-23T00:00:00-04:00",
          "2023-10-24T00:00:00-04:00",
          "2023-10-25T00:00:00-04:00",
          "2023-10-26T00:00:00-04:00",
          "2023-10-27T00:00:00-04:00",
          "2023-10-30T00:00:00-04:00",
          "2023-10-31T00:00:00-04:00",
          "2023-11-01T00:00:00-04:00",
          "2023-11-02T00:00:00-04:00",
          "2023-11-03T00:00:00-04:00",
          "2023-11-06T00:00:00-05:00",
          "2023-11-07T00:00:00-05:00",
          "2023-11-08T00:00:00-05:00",
          "2023-11-09T00:00:00-05:00",
          "2023-11-10T00:00:00-05:00",
          "2023-11-13T00:00:00-05:00",
          "2023-11-14T00:00:00-05:00",
          "2023-11-15T00:00:00-05:00",
          "2023-11-16T00:00:00-05:00",
          "2023-11-17T00:00:00-05:00",
          "2023-11-20T00:00:00-05:00",
          "2023-11-21T00:00:00-05:00",
          "2023-11-22T00:00:00-05:00",
          "2023-11-24T00:00:00-05:00",
          "2023-11-27T00:00:00-05:00",
          "2023-11-28T00:00:00-05:00",
          "2023-11-29T00:00:00-05:00",
          "2023-11-30T00:00:00-05:00",
          "2023-12-01T00:00:00-05:00",
          "2023-12-04T00:00:00-05:00",
          "2023-12-05T00:00:00-05:00",
          "2023-12-06T00:00:00-05:00",
          "2023-12-07T00:00:00-05:00",
          "2023-12-08T00:00:00-05:00",
          "2023-12-11T00:00:00-05:00",
          "2023-12-12T00:00:00-05:00",
          "2023-12-13T00:00:00-05:00",
          "2023-12-14T00:00:00-05:00",
          "2023-12-15T00:00:00-05:00",
          "2023-12-18T00:00:00-05:00",
          "2023-12-19T00:00:00-05:00"
         ],
         "xaxis": "x",
         "y": [
          0,
          -1.38,
          -1.64,
          -2.16,
          -1.27,
          -1.69,
          -2.38,
          -2.36,
          -2.46,
          -1.9,
          -3.03,
          -3.77,
          -4.51,
          -4.52,
          -3.87,
          -4.13,
          -3.07,
          -4.38,
          -3.74,
          -3.13,
          -1.73,
          -1.35,
          -1.51,
          -1.33,
          -1.75,
          -2.43,
          -2.74,
          -2.61,
          -1.95,
          -2.51,
          -2.39,
          -1.57,
          -2.76,
          -2.69,
          -2.9,
          -3.81,
          -5.39,
          -5.61,
          -5.23,
          -6.62,
          -6.6,
          -6.05,
          -6.31,
          -6.3,
          -7.59,
          -6.84,
          -6.96,
          -5.86,
          -5.27,
          -4.77,
          -4.37,
          -4.96,
          -5.44,
          -4.44,
          -4.45,
          -5.73,
          -6.53,
          -7.7,
          -7.86,
          -7.19,
          -8.52,
          -9.6,
          -10.04,
          -8.96,
          -8.37,
          -7.4,
          -5.66,
          -4.77,
          -4.6,
          -4.33,
          -4.24,
          -5.01,
          -3.53,
          -3.61,
          -1.77,
          -1.61,
          -1.5,
          -1.37,
          -0.64,
          -0.84,
          -0.44,
          -0.38,
          -0.57,
          -0.48,
          -0.57,
          -0.2,
          0.39,
          -0.15,
          -0.21,
          -0.6,
          0.19,
          0.6,
          1,
          1.46,
          2.85,
          3.12,
          3.11,
          3.58,
          4.19
         ],
         "yaxis": "y"
        },
        {
         "customdata": [
          1500,
          791.1,
          4023.73,
          4023.73,
          3422.03,
          3052.03,
          2886.23,
          2886.23,
          2460.97,
          2460.97,
          2460.97,
          2233.57,
          2014.14,
          1757.64,
          1757.64,
          1319.64,
          889.64,
          131.47,
          1131.47,
          1131.47,
          962.6,
          962.6,
          594.85,
          105.29,
          105.29,
          105.29,
          15.88,
          15.88,
          15.88,
          15.88,
          15.88,
          15.88,
          15.88,
          16.3,
          264.43,
          176.12,
          4.66,
          4.66,
          4.66,
          335.66,
          335.66,
          166.11,
          166.11,
          238.91,
          159.01,
          159.01,
          159.01,
          159.01,
          159.01,
          339.6,
          339.6,
          339.6,
          339.6,
          339.7,
          339.7,
          96.87,
          435.7,
          368.73,
          162.66,
          166.47,
          32.91,
          118.65,
          118.65,
          140.3,
          44.36,
          44.36,
          224.35,
          412.94,
          412.94,
          412.94,
          412.94,
          50.54,
          50.54,
          50.54,
          411.7,
          411.7,
          411.94,
          411.94,
          411.94,
          411.94,
          411.94,
          411.94,
          411.94,
          411.94,
          411.94,
          411.94,
          411.94,
          225.39,
          225.39,
          137.14,
          51.24,
          51.24,
          51.24,
          51.24,
          591.98,
          591.98,
          591.98,
          592.13,
          592.13
         ],
         "hovertemplate": "$%{y:,.2f}\t(Cash: $%{customdata:,.2f})",
         "line": {
          "color": "green",
          "width": 2
         },
         "name": "Total Market Value",
         "type": "scatter",
         "visible": true,
         "x": [
          "2023-08-01T00:00:00",
          "2023-08-02T00:00:00",
          "2023-08-03T00:00:00",
          "2023-08-04T00:00:00",
          "2023-08-07T00:00:00",
          "2023-08-08T00:00:00",
          "2023-08-09T00:00:00",
          "2023-08-10T00:00:00",
          "2023-08-11T00:00:00",
          "2023-08-14T00:00:00",
          "2023-08-15T00:00:00",
          "2023-08-16T00:00:00",
          "2023-08-17T00:00:00",
          "2023-08-18T00:00:00",
          "2023-08-21T00:00:00",
          "2023-08-22T00:00:00",
          "2023-08-23T00:00:00",
          "2023-08-24T00:00:00",
          "2023-08-25T00:00:00",
          "2023-08-28T00:00:00",
          "2023-08-29T00:00:00",
          "2023-08-30T00:00:00",
          "2023-08-31T00:00:00",
          "2023-09-01T00:00:00",
          "2023-09-05T00:00:00",
          "2023-09-06T00:00:00",
          "2023-09-07T00:00:00",
          "2023-09-08T00:00:00",
          "2023-09-11T00:00:00",
          "2023-09-12T00:00:00",
          "2023-09-13T00:00:00",
          "2023-09-14T00:00:00",
          "2023-09-15T00:00:00",
          "2023-09-18T00:00:00",
          "2023-09-19T00:00:00",
          "2023-09-20T00:00:00",
          "2023-09-21T00:00:00",
          "2023-09-22T00:00:00",
          "2023-09-25T00:00:00",
          "2023-09-26T00:00:00",
          "2023-09-27T00:00:00",
          "2023-09-28T00:00:00",
          "2023-09-29T00:00:00",
          "2023-10-02T00:00:00",
          "2023-10-03T00:00:00",
          "2023-10-04T00:00:00",
          "2023-10-05T00:00:00",
          "2023-10-06T00:00:00",
          "2023-10-09T00:00:00",
          "2023-10-10T00:00:00",
          "2023-10-11T00:00:00",
          "2023-10-12T00:00:00",
          "2023-10-13T00:00:00",
          "2023-10-16T00:00:00",
          "2023-10-17T00:00:00",
          "2023-10-18T00:00:00",
          "2023-10-19T00:00:00",
          "2023-10-20T00:00:00",
          "2023-10-23T00:00:00",
          "2023-10-24T00:00:00",
          "2023-10-25T00:00:00",
          "2023-10-26T00:00:00",
          "2023-10-27T00:00:00",
          "2023-10-30T00:00:00",
          "2023-10-31T00:00:00",
          "2023-11-01T00:00:00",
          "2023-11-02T00:00:00",
          "2023-11-03T00:00:00",
          "2023-11-06T00:00:00",
          "2023-11-07T00:00:00",
          "2023-11-08T00:00:00",
          "2023-11-09T00:00:00",
          "2023-11-10T00:00:00",
          "2023-11-13T00:00:00",
          "2023-11-14T00:00:00",
          "2023-11-15T00:00:00",
          "2023-11-16T00:00:00",
          "2023-11-17T00:00:00",
          "2023-11-20T00:00:00",
          "2023-11-21T00:00:00",
          "2023-11-22T00:00:00",
          "2023-11-24T00:00:00",
          "2023-11-27T00:00:00",
          "2023-11-28T00:00:00",
          "2023-11-29T00:00:00",
          "2023-11-30T00:00:00",
          "2023-12-01T00:00:00",
          "2023-12-04T00:00:00",
          "2023-12-05T00:00:00",
          "2023-12-06T00:00:00",
          "2023-12-07T00:00:00",
          "2023-12-08T00:00:00",
          "2023-12-11T00:00:00",
          "2023-12-12T00:00:00",
          "2023-12-13T00:00:00",
          "2023-12-14T00:00:00",
          "2023-12-15T00:00:00",
          "2023-12-18T00:00:00",
          "2023-12-19T00:00:00"
         ],
         "xaxis": "x",
         "y": [
          0,
          698.03,
          964.98,
          960.29,
          1569.81,
          1936.47,
          2077.16,
          2096.31,
          2504.06,
          2504.76,
          2462.86,
          2653.88,
          2834.62,
          3071.57,
          3165.49,
          3605.48,
          4080.14,
          4725.02,
          4805.73,
          4834.67,
          5158.49,
          5172.37,
          5534.9,
          5935.04,
          6010.75,
          5946.94,
          5993.97,
          5987.12,
          6212.02,
          6172.8,
          6200.29,
          6276.74,
          6232.73,
          6169.75,
          6358.72,
          6386.86,
          6440.08,
          6340.58,
          6370.02,
          6441.32,
          6455.9,
          6726.84,
          6782.85,
          7241.13,
          7156.17,
          7318.23,
          7349.43,
          7481.03,
          7553.73,
          7444.34,
          7465.56,
          7427.59,
          7316.93,
          7392.83,
          7409,
          7473.04,
          7937.17,
          8334.1,
          8553.02,
          8632.07,
          9046.81,
          9283.27,
          9283.92,
          11171.75,
          11400.54,
          11601.72,
          11933.76,
          11882.63,
          11867.35,
          11978.29,
          11979.82,
          12141.54,
          12365.21,
          12615.73,
          12763.05,
          12980.85,
          12750.2,
          12766.92,
          12854.18,
          12977.84,
          12814.77,
          12847.75,
          12836.54,
          13098.24,
          13019.08,
          12886.46,
          12872.3,
          12906.02,
          12987.76,
          13087.41,
          13358.92,
          13433.28,
          13308.01,
          13223.38,
          13852.49,
          14253.28,
          14311.22,
          14277.27,
          14484.43
         ],
         "yaxis": "y2"
        },
        {
         "customdata": [
          0,
          0,
          0.08,
          -0.09,
          5.36,
          -0.06,
          -0.54,
          0.39,
          8.95,
          0.01,
          -0.84,
          4.07,
          3.87,
          5.16,
          1.94,
          9.81,
          10.56,
          8.26,
          1.38,
          0.49,
          5.59,
          0.23,
          6.29,
          7.09,
          1.25,
          -1.04,
          0.79,
          -0.11,
          3.75,
          -0.63,
          0.44,
          1.23,
          -0.7,
          -1.01,
          2.94,
          0.43,
          0.83,
          -1.54,
          0.46,
          1.06,
          0.22,
          4.09,
          0.81,
          6.53,
          -1.15,
          2.22,
          0.42,
          1.75,
          0.95,
          -1.39,
          0.27,
          -0.49,
          -1.42,
          0.99,
          0.21,
          0.85,
          5.87,
          4.78,
          2.58,
          2.87,
          -2.29,
          2.58,
          0.01,
          20.03,
          2.04,
          1.76,
          2.81,
          1.06,
          -0.12,
          0.9,
          0.01,
          1.34,
          1.83,
          2.02,
          3.93,
          1.65,
          -1.72,
          0.13,
          0.66,
          0.93,
          -1.22,
          0.25,
          -0.08,
          1.98,
          -0.59,
          -0.99,
          -0.11,
          -1.13,
          0.62,
          0.76,
          2.07,
          0.55,
          -0.93,
          -0.63,
          4.55,
          2.77,
          0.39,
          -0.23,
          1.39
         ],
         "fill": "tozeroy",
         "fillcolor": "rgba(255,0,0,0.2)",
         "hovertemplate": "%{y:.2f}%\t(Daily: $%{customdata:.2f}%)",
         "line": {
          "color": "red",
          "width": 2
         },
         "name": "Unr. Return",
         "type": "scatter",
         "visible": true,
         "x": [
          "2023-08-01T00:00:00",
          "2023-08-02T00:00:00",
          "2023-08-03T00:00:00",
          "2023-08-04T00:00:00",
          "2023-08-07T00:00:00",
          "2023-08-08T00:00:00",
          "2023-08-09T00:00:00",
          "2023-08-10T00:00:00",
          "2023-08-11T00:00:00",
          "2023-08-14T00:00:00",
          "2023-08-15T00:00:00",
          "2023-08-16T00:00:00",
          "2023-08-17T00:00:00",
          "2023-08-18T00:00:00",
          "2023-08-21T00:00:00",
          "2023-08-22T00:00:00",
          "2023-08-23T00:00:00",
          "2023-08-24T00:00:00",
          "2023-08-25T00:00:00",
          "2023-08-28T00:00:00",
          "2023-08-29T00:00:00",
          "2023-08-30T00:00:00",
          "2023-08-31T00:00:00",
          "2023-09-01T00:00:00",
          "2023-09-05T00:00:00",
          "2023-09-06T00:00:00",
          "2023-09-07T00:00:00",
          "2023-09-08T00:00:00",
          "2023-09-11T00:00:00",
          "2023-09-12T00:00:00",
          "2023-09-13T00:00:00",
          "2023-09-14T00:00:00",
          "2023-09-15T00:00:00",
          "2023-09-18T00:00:00",
          "2023-09-19T00:00:00",
          "2023-09-20T00:00:00",
          "2023-09-21T00:00:00",
          "2023-09-22T00:00:00",
          "2023-09-25T00:00:00",
          "2023-09-26T00:00:00",
          "2023-09-27T00:00:00",
          "2023-09-28T00:00:00",
          "2023-09-29T00:00:00",
          "2023-10-02T00:00:00",
          "2023-10-03T00:00:00",
          "2023-10-04T00:00:00",
          "2023-10-05T00:00:00",
          "2023-10-06T00:00:00",
          "2023-10-09T00:00:00",
          "2023-10-10T00:00:00",
          "2023-10-11T00:00:00",
          "2023-10-12T00:00:00",
          "2023-10-13T00:00:00",
          "2023-10-16T00:00:00",
          "2023-10-17T00:00:00",
          "2023-10-18T00:00:00",
          "2023-10-19T00:00:00",
          "2023-10-20T00:00:00",
          "2023-10-23T00:00:00",
          "2023-10-24T00:00:00",
          "2023-10-25T00:00:00",
          "2023-10-26T00:00:00",
          "2023-10-27T00:00:00",
          "2023-10-30T00:00:00",
          "2023-10-31T00:00:00",
          "2023-11-01T00:00:00",
          "2023-11-02T00:00:00",
          "2023-11-03T00:00:00",
          "2023-11-06T00:00:00",
          "2023-11-07T00:00:00",
          "2023-11-08T00:00:00",
          "2023-11-09T00:00:00",
          "2023-11-10T00:00:00",
          "2023-11-13T00:00:00",
          "2023-11-14T00:00:00",
          "2023-11-15T00:00:00",
          "2023-11-16T00:00:00",
          "2023-11-17T00:00:00",
          "2023-11-20T00:00:00",
          "2023-11-21T00:00:00",
          "2023-11-22T00:00:00",
          "2023-11-24T00:00:00",
          "2023-11-27T00:00:00",
          "2023-11-28T00:00:00",
          "2023-11-29T00:00:00",
          "2023-11-30T00:00:00",
          "2023-12-01T00:00:00",
          "2023-12-04T00:00:00",
          "2023-12-05T00:00:00",
          "2023-12-06T00:00:00",
          "2023-12-07T00:00:00",
          "2023-12-08T00:00:00",
          "2023-12-11T00:00:00",
          "2023-12-12T00:00:00",
          "2023-12-13T00:00:00",
          "2023-12-14T00:00:00",
          "2023-12-15T00:00:00",
          "2023-12-18T00:00:00",
          "2023-12-19T00:00:00"
         ],
         "xaxis": "x",
         "y": [
          0,
          -1.53,
          -1.16,
          -1.64,
          -0.52,
          -0.59,
          -1.73,
          -0.83,
          -1.38,
          -1.35,
          -3,
          -4.09,
          -5.1,
          -5.3,
          -2.4,
          -2.06,
          -0.76,
          -2.97,
          -1.31,
          -0.72,
          2.38,
          2.66,
          2.38,
          0.67,
          1.95,
          0.87,
          0.15,
          0.03,
          3.79,
          3.14,
          3.6,
          4.87,
          4.14,
          3.09,
          1.95,
          0.97,
          -0.87,
          -2.4,
          -1.95,
          -3.37,
          -3.15,
          -1.59,
          -0.77,
          -0.29,
          -2.54,
          -0.33,
          0.1,
          1.89,
          2.88,
          3.46,
          3.75,
          3.22,
          1.66,
          2.72,
          2.94,
          0.44,
          -2.02,
          -3.85,
          -3.62,
          -2.71,
          -4.83,
          -6.42,
          -6.41,
          -6.11,
          -4.97,
          -3.3,
          0.7,
          1.53,
          1.4,
          2.35,
          2.36,
          0.46,
          2.31,
          4.38,
          8.27,
          10.11,
          8.15,
          8.3,
          9.04,
          10.08,
          8.7,
          8.98,
          8.89,
          11.11,
          10.43,
          9.31,
          9.19,
          7.77,
          8.45,
          8.49,
          9.95,
          10.57,
          9.53,
          8.84,
          9.86,
          13.04,
          13.5,
          13.23,
          14.87
         ],
         "yaxis": "y"
        },
        {
         "customdata": [
          0,
          0,
          0,
          0,
          0,
          0,
          0,
          0,
          0,
          0,
          0,
          0,
          0,
          0,
          0,
          0,
          0,
          0,
          0,
          0,
          0,
          0,
          0,
          0,
          0,
          0,
          0,
          0,
          0,
          0,
          0,
          0,
          0,
          0,
          0,
          0,
          0,
          0,
          0,
          0,
          0,
          0,
          0,
          0,
          0,
          0,
          0,
          0,
          0,
          33.92,
          33.92,
          33.92,
          33.92,
          33.92,
          33.92,
          33.92,
          33.92,
          33.92,
          33.92,
          35.85,
          35.85,
          35.85,
          35.85,
          35.85,
          35.85,
          35.85,
          69.18,
          111.1,
          111.1,
          111.1,
          111.1,
          131.47,
          131.47,
          131.47,
          194.61,
          194.61,
          194.61,
          194.61,
          194.61,
          194.61,
          194.61,
          194.61,
          194.61,
          194.61,
          194.61,
          194.61,
          194.61,
          194.61,
          194.61,
          194.61,
          194.61,
          194.61,
          194.61,
          194.61,
          194.61,
          194.61,
          194.61,
          194.61,
          194.61
         ],
         "hovertemplate": "$%{y:.2f}\t(Realized: $%{customdata:.2f})",
         "marker": {
          "color": "gray"
         },
         "name": "Unr. P/L",
         "opacity": 0.9,
         "type": "bar",
         "visible": true,
         "x": [
          "2023-08-01T00:00:00",
          "2023-08-02T00:00:00",
          "2023-08-03T00:00:00",
          "2023-08-04T00:00:00",
          "2023-08-07T00:00:00",
          "2023-08-08T00:00:00",
          "2023-08-09T00:00:00",
          "2023-08-10T00:00:00",
          "2023-08-11T00:00:00",
          "2023-08-14T00:00:00",
          "2023-08-15T00:00:00",
          "2023-08-16T00:00:00",
          "2023-08-17T00:00:00",
          "2023-08-18T00:00:00",
          "2023-08-21T00:00:00",
          "2023-08-22T00:00:00",
          "2023-08-23T00:00:00",
          "2023-08-24T00:00:00",
          "2023-08-25T00:00:00",
          "2023-08-28T00:00:00",
          "2023-08-29T00:00:00",
          "2023-08-30T00:00:00",
          "2023-08-31T00:00:00",
          "2023-09-01T00:00:00",
          "2023-09-05T00:00:00",
          "2023-09-06T00:00:00",
          "2023-09-07T00:00:00",
          "2023-09-08T00:00:00",
          "2023-09-11T00:00:00",
          "2023-09-12T00:00:00",
          "2023-09-13T00:00:00",
          "2023-09-14T00:00:00",
          "2023-09-15T00:00:00",
          "2023-09-18T00:00:00",
          "2023-09-19T00:00:00",
          "2023-09-20T00:00:00",
          "2023-09-21T00:00:00",
          "2023-09-22T00:00:00",
          "2023-09-25T00:00:00",
          "2023-09-26T00:00:00",
          "2023-09-27T00:00:00",
          "2023-09-28T00:00:00",
          "2023-09-29T00:00:00",
          "2023-10-02T00:00:00",
          "2023-10-03T00:00:00",
          "2023-10-04T00:00:00",
          "2023-10-05T00:00:00",
          "2023-10-06T00:00:00",
          "2023-10-09T00:00:00",
          "2023-10-10T00:00:00",
          "2023-10-11T00:00:00",
          "2023-10-12T00:00:00",
          "2023-10-13T00:00:00",
          "2023-10-16T00:00:00",
          "2023-10-17T00:00:00",
          "2023-10-18T00:00:00",
          "2023-10-19T00:00:00",
          "2023-10-20T00:00:00",
          "2023-10-23T00:00:00",
          "2023-10-24T00:00:00",
          "2023-10-25T00:00:00",
          "2023-10-26T00:00:00",
          "2023-10-27T00:00:00",
          "2023-10-30T00:00:00",
          "2023-10-31T00:00:00",
          "2023-11-01T00:00:00",
          "2023-11-02T00:00:00",
          "2023-11-03T00:00:00",
          "2023-11-06T00:00:00",
          "2023-11-07T00:00:00",
          "2023-11-08T00:00:00",
          "2023-11-09T00:00:00",
          "2023-11-10T00:00:00",
          "2023-11-13T00:00:00",
          "2023-11-14T00:00:00",
          "2023-11-15T00:00:00",
          "2023-11-16T00:00:00",
          "2023-11-17T00:00:00",
          "2023-11-20T00:00:00",
          "2023-11-21T00:00:00",
          "2023-11-22T00:00:00",
          "2023-11-24T00:00:00",
          "2023-11-27T00:00:00",
          "2023-11-28T00:00:00",
          "2023-11-29T00:00:00",
          "2023-11-30T00:00:00",
          "2023-12-01T00:00:00",
          "2023-12-04T00:00:00",
          "2023-12-05T00:00:00",
          "2023-12-06T00:00:00",
          "2023-12-07T00:00:00",
          "2023-12-08T00:00:00",
          "2023-12-11T00:00:00",
          "2023-12-12T00:00:00",
          "2023-12-13T00:00:00",
          "2023-12-14T00:00:00",
          "2023-12-15T00:00:00",
          "2023-12-18T00:00:00",
          "2023-12-19T00:00:00"
         ],
         "xaxis": "x",
         "y": [
          0,
          -10.87,
          -11.29,
          -15.98,
          -8.16,
          -11.5,
          -36.61,
          -17.46,
          -34.97,
          -34.27,
          -76.17,
          -113.17,
          -152.2,
          -171.75,
          -77.83,
          -75.84,
          -31.18,
          -144.47,
          -63.76,
          -34.82,
          120.13,
          134.01,
          128.79,
          39.37,
          115.08,
          51.27,
          8.89,
          2.04,
          226.94,
          187.72,
          215.21,
          291.66,
          247.65,
          184.67,
          121.77,
          61.6,
          -56.64,
          -156.14,
          -126.7,
          -224.4,
          -209.82,
          -108.43,
          -52.42,
          -21.34,
          -186.2,
          -24.14,
          7.06,
          138.66,
          211.36,
          248.63,
          269.85,
          231.88,
          119.76,
          195.66,
          211.83,
          33.04,
          -164,
          -334.04,
          -321.2,
          -240.26,
          -459.08,
          -636.89,
          -636.23,
          -726.75,
          -596.51,
          -395.33,
          83.38,
          178.92,
          163.64,
          274.58,
          276.11,
          55.06,
          278.73,
          529.25,
          974.59,
          1192.4,
          961.24,
          977.97,
          1065.23,
          1188.89,
          1025.81,
          1058.8,
          1047.59,
          1309.29,
          1230.13,
          1097.5,
          1083.35,
          930.52,
          1012.26,
          1023.66,
          1209.26,
          1283.63,
          1158.35,
          1073.73,
          1243.04,
          1643.82,
          1701.77,
          1667.82,
          1874.97
         ],
         "yaxis": "y2"
        }
       ],
       "layout": {
        "annotations": [
         {
          "align": "left",
          "bgcolor": "rgba(255,255,255,0.8)",
          "bordercolor": "rgba(0,0,0,0.5)",
          "borderpad": 4,
          "borderwidth": 1,
          "font": {
           "family": "monospace",
           "size": 10
          },
          "showarrow": false,
          "text": "Portfolio Return:<br><span style='display: inline-block; width: 70px;'> 1D: <span style='color: green;'> +  1.39%</span></span> | <span style='display: inline-block; width: 70px;'> 1W: <span style='color: green;'> +  6.03%</span></span><br><span style='display: inline-block; width: 70px;'> 1M: <span style='color: green;'> +  5.83%</span></span> | <span style='display: inline-block; width: 70px;'> 3M: <span style='color: green;'> + 13.90%</span></span><br><span style='display: inline-block; width: 70px;'>Max: <span style='color: green;'> + 14.87%</span></span>",
          "x": 1,
          "xanchor": "right",
          "xref": "paper",
          "y": 1.05,
          "yanchor": "bottom",
          "yref": "paper"
         }
        ],
        "hovermode": "x unified",
        "margin": {
         "t": 120
        },
        "showlegend": true,
        "template": {
         "data": {
          "bar": [
           {
            "error_x": {
             "color": "#2a3f5f"
            },
            "error_y": {
             "color": "#2a3f5f"
            },
            "marker": {
             "line": {
              "color": "#E5ECF6",
              "width": 0.5
             },
             "pattern": {
              "fillmode": "overlay",
              "size": 10,
              "solidity": 0.2
             }
            },
            "type": "bar"
           }
          ],
          "barpolar": [
           {
            "marker": {
             "line": {
              "color": "#E5ECF6",
              "width": 0.5
             },
             "pattern": {
              "fillmode": "overlay",
              "size": 10,
              "solidity": 0.2
             }
            },
            "type": "barpolar"
           }
          ],
          "carpet": [
           {
            "aaxis": {
             "endlinecolor": "#2a3f5f",
             "gridcolor": "white",
             "linecolor": "white",
             "minorgridcolor": "white",
             "startlinecolor": "#2a3f5f"
            },
            "baxis": {
             "endlinecolor": "#2a3f5f",
             "gridcolor": "white",
             "linecolor": "white",
             "minorgridcolor": "white",
             "startlinecolor": "#2a3f5f"
            },
            "type": "carpet"
           }
          ],
          "choropleth": [
           {
            "colorbar": {
             "outlinewidth": 0,
             "ticks": ""
            },
            "type": "choropleth"
           }
          ],
          "contour": [
           {
            "colorbar": {
             "outlinewidth": 0,
             "ticks": ""
            },
            "colorscale": [
             [
              0,
              "#0d0887"
             ],
             [
              0.1111111111111111,
              "#46039f"
             ],
             [
              0.2222222222222222,
              "#7201a8"
             ],
             [
              0.3333333333333333,
              "#9c179e"
             ],
             [
              0.4444444444444444,
              "#bd3786"
             ],
             [
              0.5555555555555556,
              "#d8576b"
             ],
             [
              0.6666666666666666,
              "#ed7953"
             ],
             [
              0.7777777777777778,
              "#fb9f3a"
             ],
             [
              0.8888888888888888,
              "#fdca26"
             ],
             [
              1,
              "#f0f921"
             ]
            ],
            "type": "contour"
           }
          ],
          "contourcarpet": [
           {
            "colorbar": {
             "outlinewidth": 0,
             "ticks": ""
            },
            "type": "contourcarpet"
           }
          ],
          "heatmap": [
           {
            "colorbar": {
             "outlinewidth": 0,
             "ticks": ""
            },
            "colorscale": [
             [
              0,
              "#0d0887"
             ],
             [
              0.1111111111111111,
              "#46039f"
             ],
             [
              0.2222222222222222,
              "#7201a8"
             ],
             [
              0.3333333333333333,
              "#9c179e"
             ],
             [
              0.4444444444444444,
              "#bd3786"
             ],
             [
              0.5555555555555556,
              "#d8576b"
             ],
             [
              0.6666666666666666,
              "#ed7953"
             ],
             [
              0.7777777777777778,
              "#fb9f3a"
             ],
             [
              0.8888888888888888,
              "#fdca26"
             ],
             [
              1,
              "#f0f921"
             ]
            ],
            "type": "heatmap"
           }
          ],
          "heatmapgl": [
           {
            "colorbar": {
             "outlinewidth": 0,
             "ticks": ""
            },
            "colorscale": [
             [
              0,
              "#0d0887"
             ],
             [
              0.1111111111111111,
              "#46039f"
             ],
             [
              0.2222222222222222,
              "#7201a8"
             ],
             [
              0.3333333333333333,
              "#9c179e"
             ],
             [
              0.4444444444444444,
              "#bd3786"
             ],
             [
              0.5555555555555556,
              "#d8576b"
             ],
             [
              0.6666666666666666,
              "#ed7953"
             ],
             [
              0.7777777777777778,
              "#fb9f3a"
             ],
             [
              0.8888888888888888,
              "#fdca26"
             ],
             [
              1,
              "#f0f921"
             ]
            ],
            "type": "heatmapgl"
           }
          ],
          "histogram": [
           {
            "marker": {
             "pattern": {
              "fillmode": "overlay",
              "size": 10,
              "solidity": 0.2
             }
            },
            "type": "histogram"
           }
          ],
          "histogram2d": [
           {
            "colorbar": {
             "outlinewidth": 0,
             "ticks": ""
            },
            "colorscale": [
             [
              0,
              "#0d0887"
             ],
             [
              0.1111111111111111,
              "#46039f"
             ],
             [
              0.2222222222222222,
              "#7201a8"
             ],
             [
              0.3333333333333333,
              "#9c179e"
             ],
             [
              0.4444444444444444,
              "#bd3786"
             ],
             [
              0.5555555555555556,
              "#d8576b"
             ],
             [
              0.6666666666666666,
              "#ed7953"
             ],
             [
              0.7777777777777778,
              "#fb9f3a"
             ],
             [
              0.8888888888888888,
              "#fdca26"
             ],
             [
              1,
              "#f0f921"
             ]
            ],
            "type": "histogram2d"
           }
          ],
          "histogram2dcontour": [
           {
            "colorbar": {
             "outlinewidth": 0,
             "ticks": ""
            },
            "colorscale": [
             [
              0,
              "#0d0887"
             ],
             [
              0.1111111111111111,
              "#46039f"
             ],
             [
              0.2222222222222222,
              "#7201a8"
             ],
             [
              0.3333333333333333,
              "#9c179e"
             ],
             [
              0.4444444444444444,
              "#bd3786"
             ],
             [
              0.5555555555555556,
              "#d8576b"
             ],
             [
              0.6666666666666666,
              "#ed7953"
             ],
             [
              0.7777777777777778,
              "#fb9f3a"
             ],
             [
              0.8888888888888888,
              "#fdca26"
             ],
             [
              1,
              "#f0f921"
             ]
            ],
            "type": "histogram2dcontour"
           }
          ],
          "mesh3d": [
           {
            "colorbar": {
             "outlinewidth": 0,
             "ticks": ""
            },
            "type": "mesh3d"
           }
          ],
          "parcoords": [
           {
            "line": {
             "colorbar": {
              "outlinewidth": 0,
              "ticks": ""
             }
            },
            "type": "parcoords"
           }
          ],
          "pie": [
           {
            "automargin": true,
            "type": "pie"
           }
          ],
          "scatter": [
           {
            "fillpattern": {
             "fillmode": "overlay",
             "size": 10,
             "solidity": 0.2
            },
            "type": "scatter"
           }
          ],
          "scatter3d": [
           {
            "line": {
             "colorbar": {
              "outlinewidth": 0,
              "ticks": ""
             }
            },
            "marker": {
             "colorbar": {
              "outlinewidth": 0,
              "ticks": ""
             }
            },
            "type": "scatter3d"
           }
          ],
          "scattercarpet": [
           {
            "marker": {
             "colorbar": {
              "outlinewidth": 0,
              "ticks": ""
             }
            },
            "type": "scattercarpet"
           }
          ],
          "scattergeo": [
           {
            "marker": {
             "colorbar": {
              "outlinewidth": 0,
              "ticks": ""
             }
            },
            "type": "scattergeo"
           }
          ],
          "scattergl": [
           {
            "marker": {
             "colorbar": {
              "outlinewidth": 0,
              "ticks": ""
             }
            },
            "type": "scattergl"
           }
          ],
          "scattermapbox": [
           {
            "marker": {
             "colorbar": {
              "outlinewidth": 0,
              "ticks": ""
             }
            },
            "type": "scattermapbox"
           }
          ],
          "scatterpolar": [
           {
            "marker": {
             "colorbar": {
              "outlinewidth": 0,
              "ticks": ""
             }
            },
            "type": "scatterpolar"
           }
          ],
          "scatterpolargl": [
           {
            "marker": {
             "colorbar": {
              "outlinewidth": 0,
              "ticks": ""
             }
            },
            "type": "scatterpolargl"
           }
          ],
          "scatterternary": [
           {
            "marker": {
             "colorbar": {
              "outlinewidth": 0,
              "ticks": ""
             }
            },
            "type": "scatterternary"
           }
          ],
          "surface": [
           {
            "colorbar": {
             "outlinewidth": 0,
             "ticks": ""
            },
            "colorscale": [
             [
              0,
              "#0d0887"
             ],
             [
              0.1111111111111111,
              "#46039f"
             ],
             [
              0.2222222222222222,
              "#7201a8"
             ],
             [
              0.3333333333333333,
              "#9c179e"
             ],
             [
              0.4444444444444444,
              "#bd3786"
             ],
             [
              0.5555555555555556,
              "#d8576b"
             ],
             [
              0.6666666666666666,
              "#ed7953"
             ],
             [
              0.7777777777777778,
              "#fb9f3a"
             ],
             [
              0.8888888888888888,
              "#fdca26"
             ],
             [
              1,
              "#f0f921"
             ]
            ],
            "type": "surface"
           }
          ],
          "table": [
           {
            "cells": {
             "fill": {
              "color": "#EBF0F8"
             },
             "line": {
              "color": "white"
             }
            },
            "header": {
             "fill": {
              "color": "#C8D4E3"
             },
             "line": {
              "color": "white"
             }
            },
            "type": "table"
           }
          ]
         },
         "layout": {
          "annotationdefaults": {
           "arrowcolor": "#2a3f5f",
           "arrowhead": 0,
           "arrowwidth": 1
          },
          "autotypenumbers": "strict",
          "coloraxis": {
           "colorbar": {
            "outlinewidth": 0,
            "ticks": ""
           }
          },
          "colorscale": {
           "diverging": [
            [
             0,
             "#8e0152"
            ],
            [
             0.1,
             "#c51b7d"
            ],
            [
             0.2,
             "#de77ae"
            ],
            [
             0.3,
             "#f1b6da"
            ],
            [
             0.4,
             "#fde0ef"
            ],
            [
             0.5,
             "#f7f7f7"
            ],
            [
             0.6,
             "#e6f5d0"
            ],
            [
             0.7,
             "#b8e186"
            ],
            [
             0.8,
             "#7fbc41"
            ],
            [
             0.9,
             "#4d9221"
            ],
            [
             1,
             "#276419"
            ]
           ],
           "sequential": [
            [
             0,
             "#0d0887"
            ],
            [
             0.1111111111111111,
             "#46039f"
            ],
            [
             0.2222222222222222,
             "#7201a8"
            ],
            [
             0.3333333333333333,
             "#9c179e"
            ],
            [
             0.4444444444444444,
             "#bd3786"
            ],
            [
             0.5555555555555556,
             "#d8576b"
            ],
            [
             0.6666666666666666,
             "#ed7953"
            ],
            [
             0.7777777777777778,
             "#fb9f3a"
            ],
            [
             0.8888888888888888,
             "#fdca26"
            ],
            [
             1,
             "#f0f921"
            ]
           ],
           "sequentialminus": [
            [
             0,
             "#0d0887"
            ],
            [
             0.1111111111111111,
             "#46039f"
            ],
            [
             0.2222222222222222,
             "#7201a8"
            ],
            [
             0.3333333333333333,
             "#9c179e"
            ],
            [
             0.4444444444444444,
             "#bd3786"
            ],
            [
             0.5555555555555556,
             "#d8576b"
            ],
            [
             0.6666666666666666,
             "#ed7953"
            ],
            [
             0.7777777777777778,
             "#fb9f3a"
            ],
            [
             0.8888888888888888,
             "#fdca26"
            ],
            [
             1,
             "#f0f921"
            ]
           ]
          },
          "colorway": [
           "#636efa",
           "#EF553B",
           "#00cc96",
           "#ab63fa",
           "#FFA15A",
           "#19d3f3",
           "#FF6692",
           "#B6E880",
           "#FF97FF",
           "#FECB52"
          ],
          "font": {
           "color": "#2a3f5f"
          },
          "geo": {
           "bgcolor": "white",
           "lakecolor": "white",
           "landcolor": "#E5ECF6",
           "showlakes": true,
           "showland": true,
           "subunitcolor": "white"
          },
          "hoverlabel": {
           "align": "left"
          },
          "hovermode": "closest",
          "mapbox": {
           "style": "light"
          },
          "paper_bgcolor": "white",
          "plot_bgcolor": "#E5ECF6",
          "polar": {
           "angularaxis": {
            "gridcolor": "white",
            "linecolor": "white",
            "ticks": ""
           },
           "bgcolor": "#E5ECF6",
           "radialaxis": {
            "gridcolor": "white",
            "linecolor": "white",
            "ticks": ""
           }
          },
          "scene": {
           "xaxis": {
            "backgroundcolor": "#E5ECF6",
            "gridcolor": "white",
            "gridwidth": 2,
            "linecolor": "white",
            "showbackground": true,
            "ticks": "",
            "zerolinecolor": "white"
           },
           "yaxis": {
            "backgroundcolor": "#E5ECF6",
            "gridcolor": "white",
            "gridwidth": 2,
            "linecolor": "white",
            "showbackground": true,
            "ticks": "",
            "zerolinecolor": "white"
           },
           "zaxis": {
            "backgroundcolor": "#E5ECF6",
            "gridcolor": "white",
            "gridwidth": 2,
            "linecolor": "white",
            "showbackground": true,
            "ticks": "",
            "zerolinecolor": "white"
           }
          },
          "shapedefaults": {
           "line": {
            "color": "#2a3f5f"
           }
          },
          "ternary": {
           "aaxis": {
            "gridcolor": "white",
            "linecolor": "white",
            "ticks": ""
           },
           "baxis": {
            "gridcolor": "white",
            "linecolor": "white",
            "ticks": ""
           },
           "bgcolor": "#E5ECF6",
           "caxis": {
            "gridcolor": "white",
            "linecolor": "white",
            "ticks": ""
           }
          },
          "title": {
           "x": 0.05
          },
          "xaxis": {
           "automargin": true,
           "gridcolor": "white",
           "linecolor": "white",
           "ticks": "",
           "title": {
            "standoff": 15
           },
           "zerolinecolor": "white",
           "zerolinewidth": 2
          },
          "yaxis": {
           "automargin": true,
           "gridcolor": "white",
           "linecolor": "white",
           "ticks": "",
           "title": {
            "standoff": 15
           },
           "zerolinecolor": "white",
           "zerolinewidth": 2
          }
         }
        },
        "title": {
         "text": "Portfolio Performance as of 2023-12-19<br>",
         "xanchor": "left",
         "yanchor": "top"
        },
        "xaxis": {
         "anchor": "y",
         "domain": [
          0,
          0.94
         ],
         "rangeselector": {
          "buttons": [
           {
            "count": 7,
            "label": "1W",
            "step": "day",
            "stepmode": "backward"
           },
           {
            "count": 1,
            "label": "1M",
            "step": "month",
            "stepmode": "backward"
           },
           {
            "count": 3,
            "label": "3M",
            "step": "month",
            "stepmode": "backward"
           },
           {
            "label": "MAX",
            "step": "all"
           }
          ]
         },
         "rangeslider": {
          "visible": false
         },
         "title": {
          "text": "Date"
         }
        },
        "yaxis": {
         "anchor": "x",
         "domain": [
          0,
          1
         ],
         "ticksuffix": "%",
         "title": {
          "text": "Return (%)"
         }
        },
        "yaxis2": {
         "anchor": "x",
         "overlaying": "y",
         "side": "right",
         "tickprefix": "$",
         "title": {
          "text": "Value ($)"
         }
        }
       }
      }
     },
     "metadata": {},
     "output_type": "display_data"
    }
   ],
   "source": [
    "plot_portfolio_growth(portfolio_data)"
   ]
  },
  {
   "cell_type": "code",
   "execution_count": 10,
   "metadata": {},
   "outputs": [
    {
     "data": {
      "application/vnd.plotly.v1+json": {
       "config": {
        "plotlyServerURL": "https://plot.ly"
       },
       "data": [
        {
         "hoverinfo": "text",
         "mode": "lines",
         "name": "PLTR",
         "stackgroup": "one",
         "text": [
          "PLTR: 0.00%",
          "PLTR: 0.00%",
          "PLTR: 0.00%",
          "PLTR: 0.00%",
          "PLTR: 0.00%",
          "PLTR: 0.00%",
          "PLTR: 0.00%",
          "PLTR: 0.00%",
          "PLTR: 0.00%",
          "PLTR: 0.00%",
          "PLTR: 0.00%",
          "PLTR: 0.00%",
          "PLTR: 0.00%",
          "PLTR: 0.00%",
          "PLTR: 0.00%",
          "PLTR: 0.00%",
          "PLTR: 0.00%",
          "PLTR: 1.46%",
          "PLTR: 1.22%",
          "PLTR: 1.23%",
          "PLTR: 1.26%",
          "PLTR: 1.33%",
          "PLTR: 7.33%",
          "PLTR: 7.54%",
          "PLTR: 7.46%",
          "PLTR: 7.58%",
          "PLTR: 7.59%",
          "PLTR: 7.56%",
          "PLTR: 7.61%",
          "PLTR: 7.56%",
          "PLTR: 7.53%",
          "PLTR: 7.55%",
          "PLTR: 7.36%",
          "PLTR: 7.50%",
          "PLTR: 6.86%",
          "PLTR: 6.74%",
          "PLTR: 6.52%",
          "PLTR: 6.68%",
          "PLTR: 6.69%",
          "PLTR: 6.18%",
          "PLTR: 6.56%",
          "PLTR: 6.86%",
          "PLTR: 6.91%",
          "PLTR: 6.37%",
          "PLTR: 6.11%",
          "PLTR: 6.31%",
          "PLTR: 6.32%",
          "PLTR: 6.52%",
          "PLTR: 6.85%",
          "PLTR: 4.57%",
          "PLTR: 4.59%",
          "PLTR: 4.62%",
          "PLTR: 4.53%",
          "PLTR: 4.49%",
          "PLTR: 4.60%",
          "PLTR: 4.54%",
          "PLTR: 4.08%",
          "PLTR: 3.70%",
          "PLTR: 3.72%",
          "PLTR: 3.78%",
          "PLTR: 3.43%",
          "PLTR: 3.25%",
          "PLTR: 3.21%",
          "PLTR: 2.60%",
          "PLTR: 2.59%",
          "PLTR: 2.56%",
          "PLTR: 1.48%",
          "PLTR: 0.00%",
          "PLTR: 0.00%",
          "PLTR: 0.00%",
          "PLTR: 0.00%",
          "PLTR: 0.00%",
          "PLTR: 0.00%",
          "PLTR: 0.00%",
          "PLTR: 0.00%",
          "PLTR: 0.00%",
          "PLTR: 0.00%",
          "PLTR: 0.00%",
          "PLTR: 0.00%",
          "PLTR: 0.00%",
          "PLTR: 0.00%",
          "PLTR: 0.00%",
          "PLTR: 0.00%",
          "PLTR: 0.00%",
          "PLTR: 0.00%",
          "PLTR: 0.00%",
          "PLTR: 0.00%",
          "PLTR: 1.40%",
          "PLTR: 1.38%",
          "PLTR: 1.94%",
          "PLTR: 2.57%",
          "PLTR: 2.64%",
          "PLTR: 2.66%",
          "PLTR: 2.64%",
          "PLTR: 2.47%",
          "PLTR: 2.45%",
          "PLTR: 2.44%",
          "PLTR: 2.40%",
          "PLTR: 2.38%"
         ],
         "type": "scatter",
         "x": [
          "2023-08-01",
          "2023-08-02",
          "2023-08-03",
          "2023-08-04",
          "2023-08-07",
          "2023-08-08",
          "2023-08-09",
          "2023-08-10",
          "2023-08-11",
          "2023-08-14",
          "2023-08-15",
          "2023-08-16",
          "2023-08-17",
          "2023-08-18",
          "2023-08-21",
          "2023-08-22",
          "2023-08-23",
          "2023-08-24",
          "2023-08-25",
          "2023-08-28",
          "2023-08-29",
          "2023-08-30",
          "2023-08-31",
          "2023-09-01",
          "2023-09-05",
          "2023-09-06",
          "2023-09-07",
          "2023-09-08",
          "2023-09-11",
          "2023-09-12",
          "2023-09-13",
          "2023-09-14",
          "2023-09-15",
          "2023-09-18",
          "2023-09-19",
          "2023-09-20",
          "2023-09-21",
          "2023-09-22",
          "2023-09-25",
          "2023-09-26",
          "2023-09-27",
          "2023-09-28",
          "2023-09-29",
          "2023-10-02",
          "2023-10-03",
          "2023-10-04",
          "2023-10-05",
          "2023-10-06",
          "2023-10-09",
          "2023-10-10",
          "2023-10-11",
          "2023-10-12",
          "2023-10-13",
          "2023-10-16",
          "2023-10-17",
          "2023-10-18",
          "2023-10-19",
          "2023-10-20",
          "2023-10-23",
          "2023-10-24",
          "2023-10-25",
          "2023-10-26",
          "2023-10-27",
          "2023-10-30",
          "2023-10-31",
          "2023-11-01",
          "2023-11-02",
          "2023-11-03",
          "2023-11-06",
          "2023-11-07",
          "2023-11-08",
          "2023-11-09",
          "2023-11-10",
          "2023-11-13",
          "2023-11-14",
          "2023-11-15",
          "2023-11-16",
          "2023-11-17",
          "2023-11-20",
          "2023-11-21",
          "2023-11-22",
          "2023-11-24",
          "2023-11-27",
          "2023-11-28",
          "2023-11-29",
          "2023-11-30",
          "2023-12-01",
          "2023-12-04",
          "2023-12-05",
          "2023-12-06",
          "2023-12-07",
          "2023-12-08",
          "2023-12-11",
          "2023-12-12",
          "2023-12-13",
          "2023-12-14",
          "2023-12-15",
          "2023-12-18",
          "2023-12-19"
         ],
         "y": [
          0,
          0,
          0,
          0,
          0,
          0,
          0,
          0,
          0,
          0,
          0,
          0,
          0,
          0,
          0,
          0,
          0,
          1.4557826879045477,
          1.2236403486891412,
          1.2269247591009103,
          1.2579454763819677,
          1.3308955661771225,
          7.331460340664804,
          7.539328679750831,
          7.460714699963805,
          7.583985641604392,
          7.592532927163188,
          7.561219106354549,
          7.606095431326768,
          7.55734814206424,
          7.528751799418954,
          7.5469366590205675,
          7.360040062280371,
          7.497514536433328,
          6.862289759915775,
          6.737795060598155,
          6.51694593997074,
          6.680593533628272,
          6.692102779623645,
          6.179741680729646,
          6.55960812648682,
          6.863539279226889,
          6.907511931775892,
          6.368953295548829,
          6.110579651695228,
          6.311151513006348,
          6.316894197868477,
          6.522220108852681,
          6.849708072591547,
          4.573521719633425,
          4.591836430375159,
          4.619433844789842,
          4.53468904952996,
          4.4901210022085785,
          4.604642553805506,
          4.5443088120665855,
          4.075064084994275,
          3.702243231661475,
          3.717439066045343,
          3.7824461351256695,
          3.434027249161705,
          3.2525285197967464,
          3.2055064922758003,
          2.5972291814846056,
          2.5863055747965316,
          2.5622360391604784,
          1.4780259518696646,
          0,
          0,
          0,
          0,
          0,
          0,
          0,
          0,
          0,
          0,
          0,
          0,
          0,
          0,
          0,
          0,
          0,
          0,
          0,
          0,
          1.4012200253724179,
          1.384983480553261,
          1.9429764709944022,
          2.568201944477212,
          2.6356140234083227,
          2.6603294695427397,
          2.6366095137509116,
          2.4743028819072017,
          2.4533086515798335,
          2.4424283125592012,
          2.3995582828481603,
          2.3811799639312112
         ]
        },
        {
         "hoverinfo": "text",
         "mode": "lines",
         "name": "AAPL",
         "stackgroup": "one",
         "text": [
          "AAPL: 0.00%",
          "AAPL: 0.00%",
          "AAPL: 0.00%",
          "AAPL: 0.00%",
          "AAPL: 7.12%",
          "AAPL: 7.16%",
          "AAPL: 7.13%",
          "AAPL: 7.10%",
          "AAPL: 7.13%",
          "AAPL: 7.19%",
          "AAPL: 7.17%",
          "AAPL: 7.19%",
          "AAPL: 7.15%",
          "AAPL: 7.20%",
          "AAPL: 7.11%",
          "AAPL: 7.17%",
          "AAPL: 7.26%",
          "AAPL: 7.23%",
          "AAPL: 5.99%",
          "AAPL: 6.02%",
          "AAPL: 5.99%",
          "AAPL: 6.09%",
          "AAPL: 6.10%",
          "AAPL: 6.25%",
          "AAPL: 6.18%",
          "AAPL: 6.02%",
          "AAPL: 5.88%",
          "AAPL: 5.91%",
          "AAPL: 5.74%",
          "AAPL: 5.67%",
          "AAPL: 5.58%",
          "AAPL: 5.56%",
          "AAPL: 5.58%",
          "AAPL: 5.73%",
          "AAPL: 5.39%",
          "AAPL: 5.33%",
          "AAPL: 5.38%",
          "AAPL: 5.49%",
          "AAPL: 5.50%",
          "AAPL: 5.05%",
          "AAPL: 5.00%",
          "AAPL: 7.40%",
          "AAPL: 7.36%",
          "AAPL: 6.94%",
          "AAPL: 7.04%",
          "AAPL: 6.94%",
          "AAPL: 6.96%",
          "AAPL: 6.94%",
          "AAPL: 6.93%",
          "AAPL: 6.84%",
          "AAPL: 6.88%",
          "AAPL: 6.95%",
          "AAPL: 6.98%",
          "AAPL: 6.90%",
          "AAPL: 6.83%",
          "AAPL: 6.94%",
          "AAPL: 6.26%",
          "AAPL: 5.93%",
          "AAPL: 5.93%",
          "AAPL: 5.89%",
          "AAPL: 5.63%",
          "AAPL: 5.30%",
          "AAPL: 5.34%",
          "AAPL: 4.50%",
          "AAPL: 4.46%",
          "AAPL: 4.46%",
          "AAPL: 4.36%",
          "AAPL: 4.29%",
          "AAPL: 4.36%",
          "AAPL: 4.38%",
          "AAPL: 4.41%",
          "AAPL: 4.47%",
          "AAPL: 4.49%",
          "AAPL: 4.36%",
          "AAPL: 4.25%",
          "AAPL: 4.20%",
          "AAPL: 4.31%",
          "AAPL: 4.31%",
          "AAPL: 4.32%",
          "AAPL: 4.26%",
          "AAPL: 4.33%",
          "AAPL: 4.29%",
          "AAPL: 4.29%",
          "AAPL: 4.22%",
          "AAPL: 4.22%",
          "AAPL: 4.28%",
          "AAPL: 4.31%",
          "AAPL: 4.32%",
          "AAPL: 4.38%",
          "AAPL: 4.35%",
          "AAPL: 4.34%",
          "AAPL: 4.34%",
          "AAPL: 4.33%",
          "AAPL: 4.39%",
          "AAPL: 4.10%",
          "AAPL: 3.99%",
          "AAPL: 3.97%",
          "AAPL: 3.94%",
          "AAPL: 3.91%"
         ],
         "type": "scatter",
         "x": [
          "2023-08-01",
          "2023-08-02",
          "2023-08-03",
          "2023-08-04",
          "2023-08-07",
          "2023-08-08",
          "2023-08-09",
          "2023-08-10",
          "2023-08-11",
          "2023-08-14",
          "2023-08-15",
          "2023-08-16",
          "2023-08-17",
          "2023-08-18",
          "2023-08-21",
          "2023-08-22",
          "2023-08-23",
          "2023-08-24",
          "2023-08-25",
          "2023-08-28",
          "2023-08-29",
          "2023-08-30",
          "2023-08-31",
          "2023-09-01",
          "2023-09-05",
          "2023-09-06",
          "2023-09-07",
          "2023-09-08",
          "2023-09-11",
          "2023-09-12",
          "2023-09-13",
          "2023-09-14",
          "2023-09-15",
          "2023-09-18",
          "2023-09-19",
          "2023-09-20",
          "2023-09-21",
          "2023-09-22",
          "2023-09-25",
          "2023-09-26",
          "2023-09-27",
          "2023-09-28",
          "2023-09-29",
          "2023-10-02",
          "2023-10-03",
          "2023-10-04",
          "2023-10-05",
          "2023-10-06",
          "2023-10-09",
          "2023-10-10",
          "2023-10-11",
          "2023-10-12",
          "2023-10-13",
          "2023-10-16",
          "2023-10-17",
          "2023-10-18",
          "2023-10-19",
          "2023-10-20",
          "2023-10-23",
          "2023-10-24",
          "2023-10-25",
          "2023-10-26",
          "2023-10-27",
          "2023-10-30",
          "2023-10-31",
          "2023-11-01",
          "2023-11-02",
          "2023-11-03",
          "2023-11-06",
          "2023-11-07",
          "2023-11-08",
          "2023-11-09",
          "2023-11-10",
          "2023-11-13",
          "2023-11-14",
          "2023-11-15",
          "2023-11-16",
          "2023-11-17",
          "2023-11-20",
          "2023-11-21",
          "2023-11-22",
          "2023-11-24",
          "2023-11-27",
          "2023-11-28",
          "2023-11-29",
          "2023-11-30",
          "2023-12-01",
          "2023-12-04",
          "2023-12-05",
          "2023-12-06",
          "2023-12-07",
          "2023-12-08",
          "2023-12-11",
          "2023-12-12",
          "2023-12-13",
          "2023-12-14",
          "2023-12-15",
          "2023-12-18",
          "2023-12-19"
         ],
         "y": [
          0,
          0,
          0,
          0,
          7.119598208366015,
          7.162213062997667,
          7.133991128435762,
          7.0977896256414414,
          7.125235286455518,
          7.191136136446392,
          7.171106004915834,
          7.188662583571082,
          7.14748372265128,
          7.19662148304701,
          7.113947671969322,
          7.1672939043007755,
          7.258782229193321,
          7.23370671195025,
          5.991814147715008,
          6.015502618777935,
          5.991098449617425,
          6.092152573689403,
          6.104488266282402,
          6.2472887146091365,
          6.177769658780515,
          6.019448157674747,
          5.884582803814994,
          5.911870876466787,
          5.736122436572606,
          5.6739926489767125,
          5.581932693333805,
          5.5625454580113445,
          5.578456341928684,
          5.7301730557665715,
          5.385083334020556,
          5.325812070250914,
          5.375311936895286,
          5.486590631501272,
          5.50156478660535,
          5.053887059870854,
          4.998165288108116,
          7.395858632906053,
          7.358594729012448,
          6.937555551429191,
          7.038781425641967,
          6.936554433684811,
          6.957455396856287,
          6.938471909952623,
          6.931154535924726,
          6.8447342294346525,
          6.880079778565808,
          6.948704853884776,
          6.976572537641651,
          6.902982856912628,
          6.828063981351626,
          6.937650299152373,
          6.258768818749576,
          5.932933808945328,
          5.928301381139496,
          5.887407481240544,
          5.628115388250305,
          5.301506109764752,
          5.3433842139335646,
          4.496068910239086,
          4.4564090799811025,
          4.461491280878833,
          4.3620333720278985,
          4.2909174087763855,
          4.359005943883912,
          4.382406310030031,
          4.407652180347937,
          4.468442951344714,
          4.489832659390953,
          4.36325263986175,
          4.254780052157505,
          4.198312425004132,
          4.314209472513124,
          4.308280411170064,
          4.319652126961189,
          4.261651937778982,
          4.329356927215786,
          4.288337891917811,
          4.287899527309225,
          4.218355328291238,
          4.220263764972907,
          4.27540695053885,
          4.309029002273427,
          4.3179214003010795,
          4.381596166593406,
          4.35292190552713,
          4.33619927010808,
          4.344250260203088,
          4.32830216166413,
          4.3903941801451785,
          4.102165671742053,
          3.994441688013196,
          3.9680657751503916,
          3.943266848057521,
          3.909931467260455
         ]
        },
        {
         "hoverinfo": "text",
         "mode": "lines",
         "name": "GOOGL",
         "stackgroup": "one",
         "text": [
          "GOOGL: 0.00%",
          "GOOGL: 0.00%",
          "GOOGL: 0.00%",
          "GOOGL: 0.00%",
          "GOOGL: 0.00%",
          "GOOGL: 0.00%",
          "GOOGL: 0.00%",
          "GOOGL: 0.00%",
          "GOOGL: 0.00%",
          "GOOGL: 0.00%",
          "GOOGL: 0.00%",
          "GOOGL: 0.00%",
          "GOOGL: 0.00%",
          "GOOGL: 0.00%",
          "GOOGL: 0.00%",
          "GOOGL: 0.00%",
          "GOOGL: 0.00%",
          "GOOGL: 0.00%",
          "GOOGL: 0.00%",
          "GOOGL: 0.00%",
          "GOOGL: 0.00%",
          "GOOGL: 0.00%",
          "GOOGL: 0.00%",
          "GOOGL: 0.00%",
          "GOOGL: 0.00%",
          "GOOGL: 0.00%",
          "GOOGL: 0.00%",
          "GOOGL: 0.00%",
          "GOOGL: 0.00%",
          "GOOGL: 0.00%",
          "GOOGL: 0.00%",
          "GOOGL: 0.00%",
          "GOOGL: 0.00%",
          "GOOGL: 0.00%",
          "GOOGL: 0.00%",
          "GOOGL: 0.00%",
          "GOOGL: 0.00%",
          "GOOGL: 0.00%",
          "GOOGL: 0.00%",
          "GOOGL: 0.00%",
          "GOOGL: 0.00%",
          "GOOGL: 0.00%",
          "GOOGL: 0.00%",
          "GOOGL: 0.00%",
          "GOOGL: 0.00%",
          "GOOGL: 0.00%",
          "GOOGL: 0.00%",
          "GOOGL: 0.00%",
          "GOOGL: 0.00%",
          "GOOGL: 0.00%",
          "GOOGL: 0.00%",
          "GOOGL: 0.00%",
          "GOOGL: 0.00%",
          "GOOGL: 0.00%",
          "GOOGL: 0.00%",
          "GOOGL: 0.00%",
          "GOOGL: 0.00%",
          "GOOGL: 0.00%",
          "GOOGL: 0.00%",
          "GOOGL: 0.00%",
          "GOOGL: 6.91%",
          "GOOGL: 6.50%",
          "GOOGL: 6.49%",
          "GOOGL: 5.49%",
          "GOOGL: 5.41%",
          "GOOGL: 5.42%",
          "GOOGL: 5.24%",
          "GOOGL: 5.24%",
          "GOOGL: 5.30%",
          "GOOGL: 5.28%",
          "GOOGL: 5.31%",
          "GOOGL: 5.34%",
          "GOOGL: 5.33%",
          "GOOGL: 5.21%",
          "GOOGL: 5.07%",
          "GOOGL: 5.02%",
          "GOOGL: 5.20%",
          "GOOGL: 5.13%",
          "GOOGL: 5.13%",
          "GOOGL: 5.11%",
          "GOOGL: 5.23%",
          "GOOGL: 5.15%",
          "GOOGL: 5.14%",
          "GOOGL: 5.07%",
          "GOOGL: 5.02%",
          "GOOGL: 4.98%",
          "GOOGL: 4.96%",
          "GOOGL: 4.92%",
          "GOOGL: 4.95%",
          "GOOGL: 4.91%",
          "GOOGL: 5.10%",
          "GOOGL: 5.00%",
          "GOOGL: 4.98%",
          "GOOGL: 4.99%",
          "GOOGL: 4.58%",
          "GOOGL: 4.44%",
          "GOOGL: 4.44%",
          "GOOGL: 4.56%",
          "GOOGL: 4.53%"
         ],
         "type": "scatter",
         "x": [
          "2023-08-01",
          "2023-08-02",
          "2023-08-03",
          "2023-08-04",
          "2023-08-07",
          "2023-08-08",
          "2023-08-09",
          "2023-08-10",
          "2023-08-11",
          "2023-08-14",
          "2023-08-15",
          "2023-08-16",
          "2023-08-17",
          "2023-08-18",
          "2023-08-21",
          "2023-08-22",
          "2023-08-23",
          "2023-08-24",
          "2023-08-25",
          "2023-08-28",
          "2023-08-29",
          "2023-08-30",
          "2023-08-31",
          "2023-09-01",
          "2023-09-05",
          "2023-09-06",
          "2023-09-07",
          "2023-09-08",
          "2023-09-11",
          "2023-09-12",
          "2023-09-13",
          "2023-09-14",
          "2023-09-15",
          "2023-09-18",
          "2023-09-19",
          "2023-09-20",
          "2023-09-21",
          "2023-09-22",
          "2023-09-25",
          "2023-09-26",
          "2023-09-27",
          "2023-09-28",
          "2023-09-29",
          "2023-10-02",
          "2023-10-03",
          "2023-10-04",
          "2023-10-05",
          "2023-10-06",
          "2023-10-09",
          "2023-10-10",
          "2023-10-11",
          "2023-10-12",
          "2023-10-13",
          "2023-10-16",
          "2023-10-17",
          "2023-10-18",
          "2023-10-19",
          "2023-10-20",
          "2023-10-23",
          "2023-10-24",
          "2023-10-25",
          "2023-10-26",
          "2023-10-27",
          "2023-10-30",
          "2023-10-31",
          "2023-11-01",
          "2023-11-02",
          "2023-11-03",
          "2023-11-06",
          "2023-11-07",
          "2023-11-08",
          "2023-11-09",
          "2023-11-10",
          "2023-11-13",
          "2023-11-14",
          "2023-11-15",
          "2023-11-16",
          "2023-11-17",
          "2023-11-20",
          "2023-11-21",
          "2023-11-22",
          "2023-11-24",
          "2023-11-27",
          "2023-11-28",
          "2023-11-29",
          "2023-11-30",
          "2023-12-01",
          "2023-12-04",
          "2023-12-05",
          "2023-12-06",
          "2023-12-07",
          "2023-12-08",
          "2023-12-11",
          "2023-12-12",
          "2023-12-13",
          "2023-12-14",
          "2023-12-15",
          "2023-12-18",
          "2023-12-19"
         ],
         "y": [
          0,
          0,
          0,
          0,
          0,
          0,
          0,
          0,
          0,
          0,
          0,
          0,
          0,
          0,
          0,
          0,
          0,
          0,
          0,
          0,
          0,
          0,
          0,
          0,
          0,
          0,
          0,
          0,
          0,
          0,
          0,
          0,
          0,
          0,
          0,
          0,
          0,
          0,
          0,
          0,
          0,
          0,
          0,
          0,
          0,
          0,
          0,
          0,
          0,
          0,
          0,
          0,
          0,
          0,
          0,
          0,
          0,
          0,
          0,
          0,
          6.9091351876849245,
          6.495474769337981,
          6.4891803265502865,
          5.494904443881334,
          5.414542465354037,
          5.422642758762893,
          5.236992797052492,
          5.243838605685871,
          5.297134499160384,
          5.27872731565874,
          5.313137094460116,
          5.335049893006273,
          5.3334688660207235,
          5.208264657339813,
          5.0652514650642635,
          5.020165993458788,
          5.1956992011065735,
          5.127714030552187,
          5.1293736952113,
          5.108857875729683,
          5.2292394982506645,
          5.148433813438986,
          5.14223482848041,
          5.071830427611633,
          5.019545615995842,
          4.977218937557693,
          4.957333920549174,
          4.91652366603296,
          4.951121030914582,
          4.910220372900461,
          5.099604588638385,
          4.999629555670747,
          4.98295984265407,
          4.985756564357595,
          4.58369190402802,
          4.438749002230127,
          4.4436088840279995,
          4.561188943924054,
          4.5266742286305846
         ]
        },
        {
         "hoverinfo": "text",
         "mode": "lines",
         "name": "QQQ",
         "stackgroup": "one",
         "text": [
          "QQQ: 0.00%",
          "QQQ: 0.00%",
          "QQQ: 0.00%",
          "QQQ: 0.00%",
          "QQQ: 0.00%",
          "QQQ: 7.41%",
          "QQQ: 7.36%",
          "QQQ: 7.35%",
          "QQQ: 7.33%",
          "QQQ: 7.41%",
          "QQQ: 7.39%",
          "QQQ: 7.37%",
          "QQQ: 7.34%",
          "QQQ: 7.37%",
          "QQQ: 7.34%",
          "QQQ: 7.33%",
          "QQQ: 7.38%",
          "QQQ: 7.39%",
          "QQQ: 6.09%",
          "QQQ: 6.11%",
          "QQQ: 6.08%",
          "QQQ: 6.10%",
          "QQQ: 6.12%",
          "QQQ: 6.21%",
          "QQQ: 6.14%",
          "QQQ: 6.15%",
          "QQQ: 6.15%",
          "QQQ: 6.16%",
          "QQQ: 6.01%",
          "QQQ: 5.98%",
          "QQQ: 5.98%",
          "QQQ: 5.95%",
          "QQQ: 5.89%",
          "QQQ: 5.96%",
          "QQQ: 5.55%",
          "QQQ: 5.52%",
          "QQQ: 5.52%",
          "QQQ: 5.61%",
          "QQQ: 5.61%",
          "QQQ: 5.20%",
          "QQQ: 5.20%",
          "QQQ: 5.17%",
          "QQQ: 5.13%",
          "QQQ: 4.80%",
          "QQQ: 4.83%",
          "QQQ: 4.79%",
          "QQQ: 4.75%",
          "QQQ: 4.75%",
          "QQQ: 4.73%",
          "QQQ: 4.71%",
          "QQQ: 4.73%",
          "QQQ: 4.74%",
          "QQQ: 4.74%",
          "QQQ: 4.75%",
          "QQQ: 4.73%",
          "QQQ: 4.77%",
          "QQQ: 4.28%",
          "QQQ: 8.10%",
          "QQQ: 8.12%",
          "QQQ: 8.12%",
          "QQQ: 7.68%",
          "QQQ: 7.27%",
          "QQQ: 7.31%",
          "QQQ: 6.14%",
          "QQQ: 6.10%",
          "QQQ: 6.10%",
          "QQQ: 5.95%",
          "QQQ: 5.95%",
          "QQQ: 5.98%",
          "QQQ: 5.99%",
          "QQQ: 5.99%",
          "QQQ: 6.04%",
          "QQQ: 6.07%",
          "QQQ: 5.93%",
          "QQQ: 5.82%",
          "QQQ: 5.73%",
          "QQQ: 5.84%",
          "QQQ: 5.83%",
          "QQQ: 5.86%",
          "QQQ: 5.77%",
          "QQQ: 5.87%",
          "QQQ: 5.85%",
          "QQQ: 5.85%",
          "QQQ: 5.75%",
          "QQQ: 5.78%",
          "QQQ: 5.82%",
          "QQQ: 5.84%",
          "QQQ: 5.86%",
          "QQQ: 5.83%",
          "QQQ: 5.79%",
          "QQQ: 5.79%",
          "QQQ: 5.79%",
          "QQQ: 5.89%",
          "QQQ: 5.98%",
          "QQQ: 5.56%",
          "QQQ: 5.41%",
          "QQQ: 5.41%",
          "QQQ: 5.46%",
          "QQQ: 5.41%"
         ],
         "type": "scatter",
         "x": [
          "2023-08-01",
          "2023-08-02",
          "2023-08-03",
          "2023-08-04",
          "2023-08-07",
          "2023-08-08",
          "2023-08-09",
          "2023-08-10",
          "2023-08-11",
          "2023-08-14",
          "2023-08-15",
          "2023-08-16",
          "2023-08-17",
          "2023-08-18",
          "2023-08-21",
          "2023-08-22",
          "2023-08-23",
          "2023-08-24",
          "2023-08-25",
          "2023-08-28",
          "2023-08-29",
          "2023-08-30",
          "2023-08-31",
          "2023-09-01",
          "2023-09-05",
          "2023-09-06",
          "2023-09-07",
          "2023-09-08",
          "2023-09-11",
          "2023-09-12",
          "2023-09-13",
          "2023-09-14",
          "2023-09-15",
          "2023-09-18",
          "2023-09-19",
          "2023-09-20",
          "2023-09-21",
          "2023-09-22",
          "2023-09-25",
          "2023-09-26",
          "2023-09-27",
          "2023-09-28",
          "2023-09-29",
          "2023-10-02",
          "2023-10-03",
          "2023-10-04",
          "2023-10-05",
          "2023-10-06",
          "2023-10-09",
          "2023-10-10",
          "2023-10-11",
          "2023-10-12",
          "2023-10-13",
          "2023-10-16",
          "2023-10-17",
          "2023-10-18",
          "2023-10-19",
          "2023-10-20",
          "2023-10-23",
          "2023-10-24",
          "2023-10-25",
          "2023-10-26",
          "2023-10-27",
          "2023-10-30",
          "2023-10-31",
          "2023-11-01",
          "2023-11-02",
          "2023-11-03",
          "2023-11-06",
          "2023-11-07",
          "2023-11-08",
          "2023-11-09",
          "2023-11-10",
          "2023-11-13",
          "2023-11-14",
          "2023-11-15",
          "2023-11-16",
          "2023-11-17",
          "2023-11-20",
          "2023-11-21",
          "2023-11-22",
          "2023-11-24",
          "2023-11-27",
          "2023-11-28",
          "2023-11-29",
          "2023-11-30",
          "2023-12-01",
          "2023-12-04",
          "2023-12-05",
          "2023-12-06",
          "2023-12-07",
          "2023-12-08",
          "2023-12-11",
          "2023-12-12",
          "2023-12-13",
          "2023-12-14",
          "2023-12-15",
          "2023-12-18",
          "2023-12-19"
         ],
         "y": [
          0,
          0,
          0,
          0,
          0,
          7.406046105392128,
          7.361676483976379,
          7.346929208558764,
          7.325842019926242,
          7.406995332510082,
          7.390761357758621,
          7.366937079129589,
          7.344610548724882,
          7.365082709991137,
          7.340976019439434,
          7.32753367993813,
          7.376187305342601,
          7.386898426020479,
          6.089148690945026,
          6.105229541791615,
          6.080637651612738,
          6.100719347183669,
          6.124221915271532,
          6.208308329941758,
          6.139250763889243,
          6.149333415766729,
          6.148404360200849,
          6.164024338372117,
          6.0114383194298595,
          5.982455957922971,
          5.978685149664456,
          5.954344976913801,
          5.893610197489441,
          5.959416159275836,
          5.554253829567821,
          5.524407130676147,
          5.522672913671603,
          5.610052047713763,
          5.610671759988996,
          5.198354042936228,
          5.199347951798993,
          5.1657305293174955,
          5.127813921894157,
          4.803497899349212,
          4.8255496334786905,
          4.785208354717509,
          4.751285658669721,
          4.747683423264292,
          4.72691655911779,
          4.70961873870564,
          4.730327063411736,
          4.736933433545111,
          4.744987369182704,
          4.7514739434213835,
          4.7260281497434065,
          4.774191800595892,
          4.275955266486325,
          8.104935025751523,
          8.117409941439917,
          8.11918769300828,
          7.675182423262962,
          7.270830885321009,
          7.305232216225534,
          6.140506177330358,
          6.101580988450701,
          6.100253470543557,
          5.9494216760114105,
          5.952024066526469,
          5.983742688012049,
          5.986224625874519,
          5.989340196800253,
          6.041073761887674,
          6.0656149428561426,
          5.927103099153093,
          5.821013209913232,
          5.7306547581270095,
          5.835964758762129,
          5.829917549431997,
          5.862081937679669,
          5.774202927713106,
          5.869318602793058,
          5.8464622866325255,
          5.846301728267513,
          5.748082122273159,
          5.776329437579234,
          5.819269697456465,
          5.842100730882581,
          5.855227449767108,
          5.833616402909954,
          5.794874763269923,
          5.79451706147997,
          5.7882433295276385,
          5.89243048703706,
          5.977221498025549,
          5.562987649795603,
          5.408109121007741,
          5.413123266912674,
          5.459600270731961,
          5.4120968506848115
         ]
        },
        {
         "hoverinfo": "text",
         "mode": "lines",
         "name": "TSM",
         "stackgroup": "one",
         "text": [
          "TSM: 0.00%",
          "TSM: 0.00%",
          "TSM: 1.87%",
          "TSM: 1.90%",
          "TSM: 1.90%",
          "TSM: 1.86%",
          "TSM: 1.86%",
          "TSM: 1.87%",
          "TSM: 5.46%",
          "TSM: 5.53%",
          "TSM: 5.49%",
          "TSM: 5.54%",
          "TSM: 5.57%",
          "TSM: 5.56%",
          "TSM: 5.54%",
          "TSM: 5.52%",
          "TSM: 5.59%",
          "TSM: 5.62%",
          "TSM: 4.62%",
          "TSM: 4.65%",
          "TSM: 4.58%",
          "TSM: 4.56%",
          "TSM: 4.50%",
          "TSM: 4.55%",
          "TSM: 4.56%",
          "TSM: 4.50%",
          "TSM: 5.89%",
          "TSM: 5.87%",
          "TSM: 5.66%",
          "TSM: 5.75%",
          "TSM: 5.77%",
          "TSM: 5.75%",
          "TSM: 5.65%",
          "TSM: 5.68%",
          "TSM: 6.58%",
          "TSM: 7.89%",
          "TSM: 10.47%",
          "TSM: 10.67%",
          "TSM: 10.69%",
          "TSM: 12.29%",
          "TSM: 12.43%",
          "TSM: 12.39%",
          "TSM: 12.36%",
          "TSM: 11.58%",
          "TSM: 11.54%",
          "TSM: 11.45%",
          "TSM: 11.45%",
          "TSM: 11.55%",
          "TSM: 11.40%",
          "TSM: 11.50%",
          "TSM: 11.65%",
          "TSM: 11.76%",
          "TSM: 11.69%",
          "TSM: 11.68%",
          "TSM: 11.62%",
          "TSM: 11.71%",
          "TSM: 10.98%",
          "TSM: 10.38%",
          "TSM: 10.35%",
          "TSM: 10.31%",
          "TSM: 9.55%",
          "TSM: 9.21%",
          "TSM: 9.05%",
          "TSM: 7.53%",
          "TSM: 7.46%",
          "TSM: 7.46%",
          "TSM: 7.37%",
          "TSM: 7.39%",
          "TSM: 7.46%",
          "TSM: 7.38%",
          "TSM: 7.35%",
          "TSM: 7.44%",
          "TSM: 7.77%",
          "TSM: 7.53%",
          "TSM: 7.43%",
          "TSM: 7.30%",
          "TSM: 7.41%",
          "TSM: 7.48%",
          "TSM: 7.46%",
          "TSM: 7.27%",
          "TSM: 7.38%",
          "TSM: 7.30%",
          "TSM: 7.26%",
          "TSM: 7.18%",
          "TSM: 7.29%",
          "TSM: 7.24%",
          "TSM: 7.34%",
          "TSM: 7.31%",
          "TSM: 7.24%",
          "TSM: 7.32%",
          "TSM: 7.33%",
          "TSM: 7.37%",
          "TSM: 7.48%",
          "TSM: 7.58%",
          "TSM: 7.00%",
          "TSM: 6.93%",
          "TSM: 6.84%",
          "TSM: 6.88%",
          "TSM: 6.85%"
         ],
         "type": "scatter",
         "x": [
          "2023-08-01",
          "2023-08-02",
          "2023-08-03",
          "2023-08-04",
          "2023-08-07",
          "2023-08-08",
          "2023-08-09",
          "2023-08-10",
          "2023-08-11",
          "2023-08-14",
          "2023-08-15",
          "2023-08-16",
          "2023-08-17",
          "2023-08-18",
          "2023-08-21",
          "2023-08-22",
          "2023-08-23",
          "2023-08-24",
          "2023-08-25",
          "2023-08-28",
          "2023-08-29",
          "2023-08-30",
          "2023-08-31",
          "2023-09-01",
          "2023-09-05",
          "2023-09-06",
          "2023-09-07",
          "2023-09-08",
          "2023-09-11",
          "2023-09-12",
          "2023-09-13",
          "2023-09-14",
          "2023-09-15",
          "2023-09-18",
          "2023-09-19",
          "2023-09-20",
          "2023-09-21",
          "2023-09-22",
          "2023-09-25",
          "2023-09-26",
          "2023-09-27",
          "2023-09-28",
          "2023-09-29",
          "2023-10-02",
          "2023-10-03",
          "2023-10-04",
          "2023-10-05",
          "2023-10-06",
          "2023-10-09",
          "2023-10-10",
          "2023-10-11",
          "2023-10-12",
          "2023-10-13",
          "2023-10-16",
          "2023-10-17",
          "2023-10-18",
          "2023-10-19",
          "2023-10-20",
          "2023-10-23",
          "2023-10-24",
          "2023-10-25",
          "2023-10-26",
          "2023-10-27",
          "2023-10-30",
          "2023-10-31",
          "2023-11-01",
          "2023-11-02",
          "2023-11-03",
          "2023-11-06",
          "2023-11-07",
          "2023-11-08",
          "2023-11-09",
          "2023-11-10",
          "2023-11-13",
          "2023-11-14",
          "2023-11-15",
          "2023-11-16",
          "2023-11-17",
          "2023-11-20",
          "2023-11-21",
          "2023-11-22",
          "2023-11-24",
          "2023-11-27",
          "2023-11-28",
          "2023-11-29",
          "2023-11-30",
          "2023-12-01",
          "2023-12-04",
          "2023-12-05",
          "2023-12-06",
          "2023-12-07",
          "2023-12-08",
          "2023-12-11",
          "2023-12-12",
          "2023-12-13",
          "2023-12-14",
          "2023-12-15",
          "2023-12-18",
          "2023-12-19"
         ],
         "y": [
          0,
          0,
          1.8716545387577455,
          1.8966920237706864,
          1.8974612336278582,
          1.8620785916359202,
          1.8613984009246471,
          1.8704211018055552,
          5.46414621562085,
          5.527508187246828,
          5.491292869547694,
          5.538205308165981,
          5.573882495832278,
          5.563463392337875,
          5.544790125280042,
          5.52339427031617,
          5.5912540313423476,
          5.6190498985700845,
          4.6245669230959185,
          4.646627586475516,
          4.581033545342577,
          4.556251400762618,
          4.501914616831957,
          4.550007761759413,
          4.561674171576804,
          4.495742504952703,
          5.891988445270031,
          5.871855779152123,
          5.657288571362685,
          5.749056117729619,
          5.770442249591479,
          5.745626161467618,
          5.645665297860589,
          5.675921695408484,
          6.5774292516060235,
          7.885786083203332,
          10.470546362036213,
          10.669606488824154,
          10.694748680895398,
          12.290508198480325,
          12.43144434751318,
          12.387661492151363,
          12.357491871987806,
          11.579194569396385,
          11.537554869168593,
          11.4540106370145,
          11.453799407254463,
          11.548817472986222,
          11.401521253526864,
          11.502891371941521,
          11.647597394745022,
          11.757971217630827,
          11.693475319472087,
          11.675827223995789,
          11.62336011558505,
          11.714848112337028,
          10.982650341092535,
          10.38429333732883,
          10.346276749324627,
          10.308459765429271,
          9.553208855161124,
          9.205823664067966,
          9.051500879484145,
          7.529724470634028,
          7.463945759521015,
          7.461636023326447,
          7.365561366195841,
          7.388662111993149,
          7.463141386473613,
          7.381146274677497,
          7.347490663787728,
          7.437582367081114,
          7.767542518252665,
          7.534209254815906,
          7.43048549355448,
          7.3015128044585635,
          7.409780812134017,
          7.478482158482783,
          7.457640485196658,
          7.274195549799958,
          7.381840211933116,
          7.302268908459017,
          7.262129940279692,
          7.17786807754917,
          7.286494952339876,
          7.24231478965766,
          7.342417984700838,
          7.31179977270725,
          7.242597839094858,
          7.32316770206915,
          7.328089969903635,
          7.36547876183556,
          7.478999852646743,
          7.575141239292445,
          6.997265588163856,
          6.929532154166716,
          6.8418713409698695,
          6.883503736767678,
          6.850922071739056
         ]
        },
        {
         "hoverinfo": "text",
         "mode": "lines",
         "name": "SPY",
         "stackgroup": "one",
         "text": [
          "SPY: 0.00%",
          "SPY: 29.81%",
          "SPY: 8.87%",
          "SPY: 8.84%",
          "SPY: 8.90%",
          "SPY: 8.87%",
          "SPY: 8.86%",
          "SPY: 8.83%",
          "SPY: 8.85%",
          "SPY: 8.90%",
          "SPY: 8.87%",
          "SPY: 8.87%",
          "SPY: 8.87%",
          "SPY: 8.91%",
          "SPY: 8.80%",
          "SPY: 17.55%",
          "SPY: 17.58%",
          "SPY: 17.74%",
          "SPY: 14.62%",
          "SPY: 14.64%",
          "SPY: 14.47%",
          "SPY: 14.50%",
          "SPY: 14.49%",
          "SPY: 14.73%",
          "SPY: 14.49%",
          "SPY: 14.54%",
          "SPY: 14.60%",
          "SPY: 14.64%",
          "SPY: 14.20%",
          "SPY: 14.21%",
          "SPY: 14.17%",
          "SPY: 14.12%",
          "SPY: 14.04%",
          "SPY: 14.19%",
          "SPY: 13.23%",
          "SPY: 13.23%",
          "SPY: 13.25%",
          "SPY: 13.43%",
          "SPY: 13.42%",
          "SPY: 12.44%",
          "SPY: 12.42%",
          "SPY: 12.31%",
          "SPY: 12.18%",
          "SPY: 16.96%",
          "SPY: 17.11%",
          "SPY: 16.86%",
          "SPY: 16.79%",
          "SPY: 16.69%",
          "SPY: 16.64%",
          "SPY: 16.57%",
          "SPY: 16.60%",
          "SPY: 16.58%",
          "SPY: 16.73%",
          "SPY: 16.74%",
          "SPY: 16.71%",
          "SPY: 16.87%",
          "SPY: 15.12%",
          "SPY: 14.37%",
          "SPY: 14.32%",
          "SPY: 14.30%",
          "SPY: 13.65%",
          "SPY: 13.03%",
          "SPY: 12.97%",
          "SPY: 10.91%",
          "SPY: 10.87%",
          "SPY: 10.79%",
          "SPY: 10.54%",
          "SPY: 10.52%",
          "SPY: 10.55%",
          "SPY: 10.49%",
          "SPY: 10.49%",
          "SPY: 10.58%",
          "SPY: 10.56%",
          "SPY: 10.34%",
          "SPY: 10.13%",
          "SPY: 9.99%",
          "SPY: 10.17%",
          "SPY: 10.17%",
          "SPY: 10.18%",
          "SPY: 10.07%",
          "SPY: 10.23%",
          "SPY: 10.21%",
          "SPY: 10.20%",
          "SPY: 10.02%",
          "SPY: 10.07%",
          "SPY: 10.21%",
          "SPY: 10.28%",
          "SPY: 10.34%",
          "SPY: 10.28%",
          "SPY: 10.23%",
          "SPY: 10.16%",
          "SPY: 10.15%",
          "SPY: 10.29%",
          "SPY: 10.40%",
          "SPY: 9.69%",
          "SPY: 9.46%",
          "SPY: 9.40%",
          "SPY: 9.48%",
          "SPY: 9.41%"
         ],
         "type": "scatter",
         "x": [
          "2023-08-01",
          "2023-08-02",
          "2023-08-03",
          "2023-08-04",
          "2023-08-07",
          "2023-08-08",
          "2023-08-09",
          "2023-08-10",
          "2023-08-11",
          "2023-08-14",
          "2023-08-15",
          "2023-08-16",
          "2023-08-17",
          "2023-08-18",
          "2023-08-21",
          "2023-08-22",
          "2023-08-23",
          "2023-08-24",
          "2023-08-25",
          "2023-08-28",
          "2023-08-29",
          "2023-08-30",
          "2023-08-31",
          "2023-09-01",
          "2023-09-05",
          "2023-09-06",
          "2023-09-07",
          "2023-09-08",
          "2023-09-11",
          "2023-09-12",
          "2023-09-13",
          "2023-09-14",
          "2023-09-15",
          "2023-09-18",
          "2023-09-19",
          "2023-09-20",
          "2023-09-21",
          "2023-09-22",
          "2023-09-25",
          "2023-09-26",
          "2023-09-27",
          "2023-09-28",
          "2023-09-29",
          "2023-10-02",
          "2023-10-03",
          "2023-10-04",
          "2023-10-05",
          "2023-10-06",
          "2023-10-09",
          "2023-10-10",
          "2023-10-11",
          "2023-10-12",
          "2023-10-13",
          "2023-10-16",
          "2023-10-17",
          "2023-10-18",
          "2023-10-19",
          "2023-10-20",
          "2023-10-23",
          "2023-10-24",
          "2023-10-25",
          "2023-10-26",
          "2023-10-27",
          "2023-10-30",
          "2023-10-31",
          "2023-11-01",
          "2023-11-02",
          "2023-11-03",
          "2023-11-06",
          "2023-11-07",
          "2023-11-08",
          "2023-11-09",
          "2023-11-10",
          "2023-11-13",
          "2023-11-14",
          "2023-11-15",
          "2023-11-16",
          "2023-11-17",
          "2023-11-20",
          "2023-11-21",
          "2023-11-22",
          "2023-11-24",
          "2023-11-27",
          "2023-11-28",
          "2023-11-29",
          "2023-11-30",
          "2023-12-01",
          "2023-12-04",
          "2023-12-05",
          "2023-12-06",
          "2023-12-07",
          "2023-12-08",
          "2023-12-11",
          "2023-12-12",
          "2023-12-13",
          "2023-12-14",
          "2023-12-15",
          "2023-12-18",
          "2023-12-19"
         ],
         "y": [
          0,
          29.81072710087611,
          8.873001871747002,
          8.841190539828132,
          8.90438442809178,
          8.871603964239013,
          8.856879678533202,
          8.825996315943613,
          8.851970163498487,
          8.899561136265817,
          8.870745241821565,
          8.871202680567311,
          8.873853742391042,
          8.914056938124322,
          8.800893573594678,
          17.54703734288971,
          17.583021260742836,
          17.74380265105326,
          14.616341231263286,
          14.637693893418167,
          14.473368193873327,
          14.500113754906202,
          14.491222850652225,
          14.733182140538553,
          14.487912258165148,
          14.542238959705788,
          14.599812215858657,
          14.638489015784204,
          14.202664533535694,
          14.214271288293002,
          14.167909721565788,
          14.11645917730691,
          14.04461112257232,
          14.194958542121341,
          13.230648900547212,
          13.229211691663204,
          13.249257713612032,
          13.426745329123355,
          13.42095195610066,
          12.438773040059445,
          12.417020361522901,
          12.305319827064446,
          12.176510829963284,
          16.961226258293095,
          17.11130478644998,
          16.86234200986325,
          16.785954864673837,
          16.692680464263308,
          16.641195868604576,
          16.574805850198057,
          16.5974538688232,
          16.57691097296441,
          16.73271859980227,
          16.74258715118281,
          16.706880460305307,
          16.873600451752168,
          15.121367873807962,
          14.36929110373696,
          14.323244533013405,
          14.295325563527747,
          13.653814853894076,
          13.028010125063066,
          12.968055834383781,
          10.907908217553233,
          10.868356259065989,
          10.794516428377058,
          10.53807056629365,
          10.515321410851197,
          10.55263071687263,
          10.487914343611134,
          10.494301146970697,
          10.583846986107021,
          10.555363921420371,
          10.336729716568527,
          10.130585349928142,
          9.986928347139017,
          10.174186358084963,
          10.173914137062114,
          10.184792362691622,
          10.068741171192215,
          10.232233711842289,
          10.213059201724475,
          10.203291546259301,
          10.015556415468012,
          10.067499505931849,
          10.20793884021395,
          10.279269069886453,
          10.344314634496737,
          10.278296632199217,
          10.228051865979944,
          10.163453077052699,
          10.15085701861006,
          10.285899982634932,
          10.398747529375846,
          9.688346193664863,
          9.457039259010834,
          9.404759050003788,
          9.47915889677627,
          9.405762787713002
         ]
        },
        {
         "hoverinfo": "text",
         "mode": "lines",
         "name": "DIS",
         "stackgroup": "one",
         "text": [
          "DIS: 0.00%",
          "DIS: 0.00%",
          "DIS: 3.40%",
          "DIS: 3.44%",
          "DIS: 3.45%",
          "DIS: 3.51%",
          "DIS: 3.50%",
          "DIS: 3.65%",
          "DIS: 3.56%",
          "DIS: 3.55%",
          "DIS: 3.51%",
          "DIS: 3.51%",
          "DIS: 3.52%",
          "DIS: 8.83%",
          "DIS: 8.65%",
          "DIS: 8.64%",
          "DIS: 17.14%",
          "DIS: 21.90%",
          "DIS: 18.11%",
          "DIS: 18.19%",
          "DIS: 20.52%",
          "DIS: 20.45%",
          "DIS: 20.32%",
          "DIS: 24.14%",
          "DIS: 23.71%",
          "DIS: 23.90%",
          "DIS: 23.94%",
          "DIS: 24.27%",
          "DIS: 23.66%",
          "DIS: 24.15%",
          "DIS: 23.98%",
          "DIS: 23.98%",
          "DIS: 24.46%",
          "DIS: 24.55%",
          "DIS: 24.55%",
          "DIS: 24.96%",
          "DIS: 25.47%",
          "DIS: 25.41%",
          "DIS: 25.22%",
          "DIS: 23.44%",
          "DIS: 23.35%",
          "DIS: 23.07%",
          "DIS: 23.14%",
          "DIS: 21.67%",
          "DIS: 22.66%",
          "DIS: 22.10%",
          "DIS: 22.42%",
          "DIS: 22.62%",
          "DIS: 22.88%",
          "DIS: 22.75%",
          "DIS: 22.65%",
          "DIS: 22.63%",
          "DIS: 22.95%",
          "DIS: 23.09%",
          "DIS: 23.18%",
          "DIS: 23.31%",
          "DIS: 20.72%",
          "DIS: 19.79%",
          "DIS: 19.87%",
          "DIS: 21.41%",
          "DIS: 20.25%",
          "DIS: 19.36%",
          "DIS: 19.25%",
          "DIS: 16.28%",
          "DIS: 16.27%",
          "DIS: 15.89%",
          "DIS: 15.63%",
          "DIS: 15.79%",
          "DIS: 15.61%",
          "DIS: 15.58%",
          "DIS: 15.56%",
          "DIS: 14.70%",
          "DIS: 14.11%",
          "DIS: 14.01%",
          "DIS: 13.72%",
          "DIS: 13.92%",
          "DIS: 14.25%",
          "DIS: 14.18%",
          "DIS: 14.21%",
          "DIS: 14.00%",
          "DIS: 14.26%",
          "DIS: 14.38%",
          "DIS: 14.25%",
          "DIS: 13.59%",
          "DIS: 13.67%",
          "DIS: 13.83%",
          "DIS: 13.83%",
          "DIS: 13.90%",
          "DIS: 13.63%",
          "DIS: 13.73%",
          "DIS: 13.67%",
          "DIS: 13.70%",
          "DIS: 13.74%",
          "DIS: 13.66%",
          "DIS: 12.79%",
          "DIS: 12.60%",
          "DIS: 12.48%",
          "DIS: 12.43%",
          "DIS: 12.40%"
         ],
         "type": "scatter",
         "x": [
          "2023-08-01",
          "2023-08-02",
          "2023-08-03",
          "2023-08-04",
          "2023-08-07",
          "2023-08-08",
          "2023-08-09",
          "2023-08-10",
          "2023-08-11",
          "2023-08-14",
          "2023-08-15",
          "2023-08-16",
          "2023-08-17",
          "2023-08-18",
          "2023-08-21",
          "2023-08-22",
          "2023-08-23",
          "2023-08-24",
          "2023-08-25",
          "2023-08-28",
          "2023-08-29",
          "2023-08-30",
          "2023-08-31",
          "2023-09-01",
          "2023-09-05",
          "2023-09-06",
          "2023-09-07",
          "2023-09-08",
          "2023-09-11",
          "2023-09-12",
          "2023-09-13",
          "2023-09-14",
          "2023-09-15",
          "2023-09-18",
          "2023-09-19",
          "2023-09-20",
          "2023-09-21",
          "2023-09-22",
          "2023-09-25",
          "2023-09-26",
          "2023-09-27",
          "2023-09-28",
          "2023-09-29",
          "2023-10-02",
          "2023-10-03",
          "2023-10-04",
          "2023-10-05",
          "2023-10-06",
          "2023-10-09",
          "2023-10-10",
          "2023-10-11",
          "2023-10-12",
          "2023-10-13",
          "2023-10-16",
          "2023-10-17",
          "2023-10-18",
          "2023-10-19",
          "2023-10-20",
          "2023-10-23",
          "2023-10-24",
          "2023-10-25",
          "2023-10-26",
          "2023-10-27",
          "2023-10-30",
          "2023-10-31",
          "2023-11-01",
          "2023-11-02",
          "2023-11-03",
          "2023-11-06",
          "2023-11-07",
          "2023-11-08",
          "2023-11-09",
          "2023-11-10",
          "2023-11-13",
          "2023-11-14",
          "2023-11-15",
          "2023-11-16",
          "2023-11-17",
          "2023-11-20",
          "2023-11-21",
          "2023-11-22",
          "2023-11-24",
          "2023-11-27",
          "2023-11-28",
          "2023-11-29",
          "2023-11-30",
          "2023-12-01",
          "2023-12-04",
          "2023-12-05",
          "2023-12-06",
          "2023-12-07",
          "2023-12-08",
          "2023-12-11",
          "2023-12-12",
          "2023-12-13",
          "2023-12-14",
          "2023-12-15",
          "2023-12-18",
          "2023-12-19"
         ],
         "y": [
          0,
          0,
          3.4005155253740433,
          3.4359683505611462,
          3.4516517427691165,
          3.505677265229681,
          3.497826333225587,
          3.654436371617641,
          3.5578202917693718,
          3.548920260096412,
          3.508595750998681,
          3.5058880728392694,
          3.516265727967702,
          8.830351673274597,
          8.653832740849612,
          8.641281051386034,
          17.135229565067753,
          21.903038703188248,
          18.109527868657228,
          18.194654357881923,
          20.520724812487476,
          20.445203927759266,
          20.316938425481613,
          24.138096289729553,
          23.707890628442435,
          23.895877452977178,
          23.942526408655045,
          24.27033367271394,
          23.663444137748556,
          24.14816478572302,
          23.983909173420805,
          23.976339889487257,
          24.459606297966655,
          24.545284887596473,
          24.5498616637012,
          24.962414827454936,
          25.472744794010392,
          25.409312175982546,
          25.217280473352787,
          23.43920478301848,
          23.345051812775733,
          23.067905636567293,
          23.14468664315043,
          21.665901128757792,
          22.655187221732312,
          22.10286485025531,
          22.42449938039259,
          22.619124030063606,
          22.881368481804213,
          22.749704854003554,
          22.65048172136139,
          22.62708383740664,
          22.954089032344122,
          23.09494687044763,
          23.178509867764237,
          23.307592055247866,
          20.716522953833817,
          19.787431863581183,
          19.865842966343507,
          21.41286708784151,
          20.254637151819264,
          19.3639260725049,
          19.253363871061705,
          16.275716214394027,
          16.26824606279924,
          15.885328882565453,
          15.63300972518244,
          15.788590082217155,
          15.613124448174192,
          15.578307727965344,
          15.559815153522417,
          14.703481520762828,
          14.107761458969023,
          14.012026330179298,
          13.71674049471426,
          13.917423431306341,
          14.248500747629505,
          14.176214748538207,
          14.214597024716962,
          13.997365610065332,
          14.262958791598344,
          14.375632734505809,
          14.254492682849081,
          13.586211756673416,
          13.66628736099428,
          13.830933507230911,
          13.829238632925902,
          13.90405375485812,
          13.63482094733704,
          13.729600661903147,
          13.6653525613105,
          13.703671623397257,
          13.739783711160964,
          13.657905334019233,
          12.794333235332612,
          12.5977740173598,
          12.484673073785352,
          12.432719752389868,
          12.403180132461584
         ]
        },
        {
         "hoverinfo": "text",
         "mode": "lines",
         "name": "TSLA",
         "stackgroup": "one",
         "text": [
          "TSLA: 0.00%",
          "TSLA: 17.06%",
          "TSLA: 5.20%",
          "TSLA: 5.09%",
          "TSLA: 10.07%",
          "TSLA: 10.01%",
          "TSLA: 9.76%",
          "TSLA: 9.85%",
          "TSLA: 14.66%",
          "TSLA: 14.48%",
          "TSLA: 14.19%",
          "TSLA: 18.46%",
          "TSLA: 22.61%",
          "TSLA: 22.31%",
          "TSLA: 23.49%",
          "TSLA: 23.67%",
          "TSLA: 23.83%",
          "TSLA: 28.42%",
          "TSLA: 24.11%",
          "TSLA: 24.02%",
          "TSLA: 25.21%",
          "TSLA: 25.12%",
          "TSLA: 25.26%",
          "TSLA: 28.39%",
          "TSLA: 29.36%",
          "TSLA: 29.14%",
          "TSLA: 29.29%",
          "TSLA: 28.98%",
          "TSLA: 30.75%",
          "TSLA: 30.25%",
          "TSLA: 30.55%",
          "TSLA: 30.71%",
          "TSLA: 30.74%",
          "TSLA: 30.02%",
          "TSLA: 28.17%",
          "TSLA: 28.01%",
          "TSLA: 27.77%",
          "TSLA: 27.01%",
          "TSLA: 27.12%",
          "TSLA: 25.22%",
          "TSLA: 24.79%",
          "TSLA: 25.02%",
          "TSLA: 25.21%",
          "TSLA: 23.55%",
          "TSLA: 23.59%",
          "TSLA: 24.45%",
          "TSLA: 24.24%",
          "TSLA: 23.87%",
          "TSLA: 23.57%",
          "TSLA: 23.71%",
          "TSLA: 23.59%",
          "TSLA: 23.33%",
          "TSLA: 22.96%",
          "TSLA: 22.99%",
          "TSLA: 23.02%",
          "TSLA: 25.65%",
          "TSLA: 28.92%",
          "TSLA: 29.23%",
          "TSLA: 31.63%",
          "TSLA: 31.99%",
          "TSLA: 30.41%",
          "TSLA: 32.83%",
          "TSLA: 33.07%",
          "TSLA: 43.62%",
          "TSLA: 43.87%",
          "TSLA: 44.15%",
          "TSLA: 44.93%",
          "TSLA: 44.72%",
          "TSLA: 44.64%",
          "TSLA: 44.83%",
          "TSLA: 44.81%",
          "TSLA: 48.22%",
          "TSLA: 48.41%",
          "TSLA: 49.45%",
          "TSLA: 50.46%",
          "TSLA: 50.77%",
          "TSLA: 49.69%",
          "TSLA: 49.78%",
          "TSLA: 49.73%",
          "TSLA: 50.44%",
          "TSLA: 49.58%",
          "TSLA: 49.72%",
          "TSLA: 49.89%",
          "TSLA: 51.13%",
          "TSLA: 50.90%",
          "TSLA: 50.55%",
          "TSLA: 50.34%",
          "TSLA: 50.23%",
          "TSLA: 50.59%",
          "TSLA: 50.68%",
          "TSLA: 50.66%",
          "TSLA: 50.63%",
          "TSLA: 50.25%",
          "TSLA: 49.99%",
          "TSLA: 49.70%",
          "TSLA: 50.73%",
          "TSLA: 51.03%",
          "TSLA: 50.86%",
          "TSLA: 51.18%"
         ],
         "type": "scatter",
         "x": [
          "2023-08-01",
          "2023-08-02",
          "2023-08-03",
          "2023-08-04",
          "2023-08-07",
          "2023-08-08",
          "2023-08-09",
          "2023-08-10",
          "2023-08-11",
          "2023-08-14",
          "2023-08-15",
          "2023-08-16",
          "2023-08-17",
          "2023-08-18",
          "2023-08-21",
          "2023-08-22",
          "2023-08-23",
          "2023-08-24",
          "2023-08-25",
          "2023-08-28",
          "2023-08-29",
          "2023-08-30",
          "2023-08-31",
          "2023-09-01",
          "2023-09-05",
          "2023-09-06",
          "2023-09-07",
          "2023-09-08",
          "2023-09-11",
          "2023-09-12",
          "2023-09-13",
          "2023-09-14",
          "2023-09-15",
          "2023-09-18",
          "2023-09-19",
          "2023-09-20",
          "2023-09-21",
          "2023-09-22",
          "2023-09-25",
          "2023-09-26",
          "2023-09-27",
          "2023-09-28",
          "2023-09-29",
          "2023-10-02",
          "2023-10-03",
          "2023-10-04",
          "2023-10-05",
          "2023-10-06",
          "2023-10-09",
          "2023-10-10",
          "2023-10-11",
          "2023-10-12",
          "2023-10-13",
          "2023-10-16",
          "2023-10-17",
          "2023-10-18",
          "2023-10-19",
          "2023-10-20",
          "2023-10-23",
          "2023-10-24",
          "2023-10-25",
          "2023-10-26",
          "2023-10-27",
          "2023-10-30",
          "2023-10-31",
          "2023-11-01",
          "2023-11-02",
          "2023-11-03",
          "2023-11-06",
          "2023-11-07",
          "2023-11-08",
          "2023-11-09",
          "2023-11-10",
          "2023-11-13",
          "2023-11-14",
          "2023-11-15",
          "2023-11-16",
          "2023-11-17",
          "2023-11-20",
          "2023-11-21",
          "2023-11-22",
          "2023-11-24",
          "2023-11-27",
          "2023-11-28",
          "2023-11-29",
          "2023-11-30",
          "2023-12-01",
          "2023-12-04",
          "2023-12-05",
          "2023-12-06",
          "2023-12-07",
          "2023-12-08",
          "2023-12-11",
          "2023-12-12",
          "2023-12-13",
          "2023-12-14",
          "2023-12-15",
          "2023-12-18",
          "2023-12-19"
         ],
         "y": [
          0,
          17.064318336287776,
          5.198135581508916,
          5.0934816696716965,
          10.074439492710773,
          10.011030684383545,
          9.759063563743766,
          9.847986472962319,
          14.661557180439889,
          14.484866540136693,
          14.193823893858992,
          18.463623134726216,
          22.60579202499918,
          22.311092830325123,
          23.48911571548107,
          23.67355681304999,
          23.83003403642586,
          28.420500566319724,
          24.111357331749268,
          24.01755517056517,
          25.209227253188438,
          25.124830202201053,
          25.261725546395162,
          28.393666866631605,
          29.356104435975677,
          29.13704439032219,
          29.292401922552045,
          28.977176772375714,
          30.74969059651325,
          30.25460083391072,
          30.550964859084683,
          30.707086314876314,
          30.73853137118184,
          30.018509040701257,
          28.16634074415657,
          28.007560499336915,
          27.773050954994677,
          27.014876968374228,
          27.12184082536307,
          25.215352282354214,
          24.7881032510801,
          25.02065428849888,
          25.205798981563238,
          23.545341599352284,
          23.590802292319687,
          24.449126516211354,
          24.244059689392202,
          23.87043455586352,
          23.56737853314113,
          23.707030273388117,
          23.586074475855337,
          23.330070984149156,
          22.958690566101073,
          22.98652170322142,
          23.022567854515135,
          25.646808836012084,
          28.91731023203299,
          29.230485412461586,
          31.633110518153085,
          31.991222011467013,
          30.413498110236,
          32.827350500507585,
          33.0707458092782,
          43.61718579573806,
          43.87108069730799,
          44.14791141034668,
          44.93092028998222,
          44.723411643839775,
          44.63861090587453,
          44.82605483256841,
          44.8064058266785,
          48.22344030295338,
          48.40787811612247,
          49.45323610197061,
          50.45622621957424,
          50.77090552191369,
          49.691924082933085,
          49.77971403364131,
          49.726659884258034,
          50.438459899233,
          49.580596037846036,
          49.7190968794014,
          49.89431285715297,
          51.1329882820872,
          50.89650067487703,
          50.54925069965112,
          50.33964336444211,
          50.232520883197594,
          50.58716728375299,
          50.68117591955276,
          50.66248317374915,
          50.63226426509768,
          50.2477399667993,
          49.992224508220104,
          49.698591958802474,
          50.73337524299472,
          51.029303671055985,
          50.858799138240904,
          51.18276494339538
         ]
        },
        {
         "hoverinfo": "text",
         "line": {
          "color": "#FFD700"
         },
         "mode": "lines",
         "name": "Cash",
         "stackgroup": "one",
         "text": [
          "Cash: 100.00%",
          "Cash: 53.12%",
          "Cash: 80.66%",
          "Cash: 80.73%",
          "Cash: 68.55%",
          "Cash: 61.18%",
          "Cash: 58.15%",
          "Cash: 57.93%",
          "Cash: 49.57%",
          "Cash: 49.56%",
          "Cash: 49.98%",
          "Cash: 45.70%",
          "Cash: 41.54%",
          "Cash: 36.40%",
          "Cash: 35.70%",
          "Cash: 26.79%",
          "Cash: 17.90%",
          "Cash: 2.71%",
          "Cash: 19.06%",
          "Cash: 18.96%",
          "Cash: 15.73%",
          "Cash: 15.69%",
          "Cash: 9.70%",
          "Cash: 1.74%",
          "Cash: 1.72%",
          "Cash: 1.74%",
          "Cash: 0.26%",
          "Cash: 0.26%",
          "Cash: 0.25%",
          "Cash: 0.26%",
          "Cash: 0.26%",
          "Cash: 0.25%",
          "Cash: 0.25%",
          "Cash: 0.26%",
          "Cash: 3.99%",
          "Cash: 2.68%",
          "Cash: 0.07%",
          "Cash: 0.07%",
          "Cash: 0.07%",
          "Cash: 4.95%",
          "Cash: 4.94%",
          "Cash: 2.41%",
          "Cash: 2.39%",
          "Cash: 3.19%",
          "Cash: 2.17%",
          "Cash: 2.13%",
          "Cash: 2.12%",
          "Cash: 2.08%",
          "Cash: 2.06%",
          "Cash: 4.36%",
          "Cash: 4.35%",
          "Cash: 4.37%",
          "Cash: 4.44%",
          "Cash: 4.39%",
          "Cash: 4.38%",
          "Cash: 1.28%",
          "Cash: 5.20%",
          "Cash: 4.24%",
          "Cash: 1.87%",
          "Cash: 1.89%",
          "Cash: 0.36%",
          "Cash: 1.26%",
          "Cash: 1.26%",
          "Cash: 1.24%",
          "Cash: 0.39%",
          "Cash: 0.38%",
          "Cash: 1.85%",
          "Cash: 3.36%",
          "Cash: 3.36%",
          "Cash: 3.33%",
          "Cash: 3.33%",
          "Cash: 0.41%",
          "Cash: 0.41%",
          "Cash: 0.40%",
          "Cash: 3.12%",
          "Cash: 3.07%",
          "Cash: 3.13%",
          "Cash: 3.13%",
          "Cash: 3.11%",
          "Cash: 3.08%",
          "Cash: 3.11%",
          "Cash: 3.11%",
          "Cash: 3.11%",
          "Cash: 3.05%",
          "Cash: 3.07%",
          "Cash: 3.10%",
          "Cash: 3.10%",
          "Cash: 1.72%",
          "Cash: 1.71%",
          "Cash: 1.04%",
          "Cash: 0.38%",
          "Cash: 0.38%",
          "Cash: 0.38%",
          "Cash: 0.39%",
          "Cash: 4.10%",
          "Cash: 3.99%",
          "Cash: 3.97%",
          "Cash: 3.98%",
          "Cash: 3.93%"
         ],
         "type": "scatter",
         "x": [
          "2023-08-01",
          "2023-08-02",
          "2023-08-03",
          "2023-08-04",
          "2023-08-07",
          "2023-08-08",
          "2023-08-09",
          "2023-08-10",
          "2023-08-11",
          "2023-08-14",
          "2023-08-15",
          "2023-08-16",
          "2023-08-17",
          "2023-08-18",
          "2023-08-21",
          "2023-08-22",
          "2023-08-23",
          "2023-08-24",
          "2023-08-25",
          "2023-08-28",
          "2023-08-29",
          "2023-08-30",
          "2023-08-31",
          "2023-09-01",
          "2023-09-05",
          "2023-09-06",
          "2023-09-07",
          "2023-09-08",
          "2023-09-11",
          "2023-09-12",
          "2023-09-13",
          "2023-09-14",
          "2023-09-15",
          "2023-09-18",
          "2023-09-19",
          "2023-09-20",
          "2023-09-21",
          "2023-09-22",
          "2023-09-25",
          "2023-09-26",
          "2023-09-27",
          "2023-09-28",
          "2023-09-29",
          "2023-10-02",
          "2023-10-03",
          "2023-10-04",
          "2023-10-05",
          "2023-10-06",
          "2023-10-09",
          "2023-10-10",
          "2023-10-11",
          "2023-10-12",
          "2023-10-13",
          "2023-10-16",
          "2023-10-17",
          "2023-10-18",
          "2023-10-19",
          "2023-10-20",
          "2023-10-23",
          "2023-10-24",
          "2023-10-25",
          "2023-10-26",
          "2023-10-27",
          "2023-10-30",
          "2023-10-31",
          "2023-11-01",
          "2023-11-02",
          "2023-11-03",
          "2023-11-06",
          "2023-11-07",
          "2023-11-08",
          "2023-11-09",
          "2023-11-10",
          "2023-11-13",
          "2023-11-14",
          "2023-11-15",
          "2023-11-16",
          "2023-11-17",
          "2023-11-20",
          "2023-11-21",
          "2023-11-22",
          "2023-11-24",
          "2023-11-27",
          "2023-11-28",
          "2023-11-29",
          "2023-11-30",
          "2023-12-01",
          "2023-12-04",
          "2023-12-05",
          "2023-12-06",
          "2023-12-07",
          "2023-12-08",
          "2023-12-11",
          "2023-12-12",
          "2023-12-13",
          "2023-12-14",
          "2023-12-15",
          "2023-12-18",
          "2023-12-19"
         ],
         "y": [
          100,
          53.124954562836116,
          80.65669248261229,
          80.73266741616834,
          68.55246489443445,
          61.18135032612204,
          58.15042269426297,
          57.926865616540624,
          49.56611481751089,
          49.55903518380085,
          49.98078895297662,
          45.70012589754806,
          41.53930270960317,
          36.39599816195712,
          35.701668592501,
          26.794092535052254,
          17.90099757364089,
          2.7070968221019,
          19.057293473751905,
          18.964870554102863,
          15.725952540283785,
          15.690386747880527,
          9.70431534622514,
          1.743117919750286,
          1.7215398835535731,
          1.7396902794951894,
          0.2642327911301674,
          0.264534387551208,
          0.2549816249312832,
          0.2565975781818073,
          0.25546276850960986,
          0.2523591381884031,
          0.2541366313840543,
          0.26349609024152126,
          3.9925089697010576,
          2.6835379570080486,
          0.07230706685777061,
          0.07344082476293687,
          0.07310173082098533,
          4.952941946288149,
          4.942307536238519,
          2.4098551609751917,
          2.3904308478901948,
          3.19396855789269,
          2.1736986469714155,
          2.1265866311027253,
          2.117751043051662,
          2.081272689988711,
          2.0616544442447577,
          4.362831580727064,
          4.350969992268274,
          4.372239930065952,
          4.435427267016595,
          4.393128026653491,
          4.3839603753852385,
          1.2796720204822916,
          5.203708902437546,
          4.236896632900051,
          1.8662920059526782,
          1.8920187235486738,
          0.36245617590217305,
          1.261976814530626,
          1.2618890278900028,
          1.240269790948116,
          0.38759633049023,
          0.3809007711990874,
          1.845270645711334,
          3.3584442698651684,
          3.362624641340993,
          3.332518083069872,
          3.332107005013194,
          0.4145314388198598,
          0.4070636966484844,
          0.3990125094317329,
          3.124917715093869,
          3.0740967185924633,
          3.129734566836599,
          3.1257629311213266,
          3.105202483284567,
          3.0765250284877204,
          3.1144562185207,
          3.106708283919973,
          3.109336889401809,
          3.049107590046169,
          3.0670786873089773,
          3.0976665776933414,
          3.1009672943395112,
          1.7164184132667348,
          1.7058002166447057,
          1.0370103378030844,
          0.3820983532803711,
          0.3799911622496448,
          0.38355452586006855,
          0.3859996328131335,
          4.098314916563331,
          3.987670863637031,
          3.972166625534743,
          3.982204130263588,
          3.9274875541839234
         ]
        }
       ],
       "layout": {
        "hovermode": "x unified",
        "legend": {
         "title": {
          "text": "Assets"
         }
        },
        "template": {
         "data": {
          "bar": [
           {
            "error_x": {
             "color": "#2a3f5f"
            },
            "error_y": {
             "color": "#2a3f5f"
            },
            "marker": {
             "line": {
              "color": "#E5ECF6",
              "width": 0.5
             },
             "pattern": {
              "fillmode": "overlay",
              "size": 10,
              "solidity": 0.2
             }
            },
            "type": "bar"
           }
          ],
          "barpolar": [
           {
            "marker": {
             "line": {
              "color": "#E5ECF6",
              "width": 0.5
             },
             "pattern": {
              "fillmode": "overlay",
              "size": 10,
              "solidity": 0.2
             }
            },
            "type": "barpolar"
           }
          ],
          "carpet": [
           {
            "aaxis": {
             "endlinecolor": "#2a3f5f",
             "gridcolor": "white",
             "linecolor": "white",
             "minorgridcolor": "white",
             "startlinecolor": "#2a3f5f"
            },
            "baxis": {
             "endlinecolor": "#2a3f5f",
             "gridcolor": "white",
             "linecolor": "white",
             "minorgridcolor": "white",
             "startlinecolor": "#2a3f5f"
            },
            "type": "carpet"
           }
          ],
          "choropleth": [
           {
            "colorbar": {
             "outlinewidth": 0,
             "ticks": ""
            },
            "type": "choropleth"
           }
          ],
          "contour": [
           {
            "colorbar": {
             "outlinewidth": 0,
             "ticks": ""
            },
            "colorscale": [
             [
              0,
              "#0d0887"
             ],
             [
              0.1111111111111111,
              "#46039f"
             ],
             [
              0.2222222222222222,
              "#7201a8"
             ],
             [
              0.3333333333333333,
              "#9c179e"
             ],
             [
              0.4444444444444444,
              "#bd3786"
             ],
             [
              0.5555555555555556,
              "#d8576b"
             ],
             [
              0.6666666666666666,
              "#ed7953"
             ],
             [
              0.7777777777777778,
              "#fb9f3a"
             ],
             [
              0.8888888888888888,
              "#fdca26"
             ],
             [
              1,
              "#f0f921"
             ]
            ],
            "type": "contour"
           }
          ],
          "contourcarpet": [
           {
            "colorbar": {
             "outlinewidth": 0,
             "ticks": ""
            },
            "type": "contourcarpet"
           }
          ],
          "heatmap": [
           {
            "colorbar": {
             "outlinewidth": 0,
             "ticks": ""
            },
            "colorscale": [
             [
              0,
              "#0d0887"
             ],
             [
              0.1111111111111111,
              "#46039f"
             ],
             [
              0.2222222222222222,
              "#7201a8"
             ],
             [
              0.3333333333333333,
              "#9c179e"
             ],
             [
              0.4444444444444444,
              "#bd3786"
             ],
             [
              0.5555555555555556,
              "#d8576b"
             ],
             [
              0.6666666666666666,
              "#ed7953"
             ],
             [
              0.7777777777777778,
              "#fb9f3a"
             ],
             [
              0.8888888888888888,
              "#fdca26"
             ],
             [
              1,
              "#f0f921"
             ]
            ],
            "type": "heatmap"
           }
          ],
          "heatmapgl": [
           {
            "colorbar": {
             "outlinewidth": 0,
             "ticks": ""
            },
            "colorscale": [
             [
              0,
              "#0d0887"
             ],
             [
              0.1111111111111111,
              "#46039f"
             ],
             [
              0.2222222222222222,
              "#7201a8"
             ],
             [
              0.3333333333333333,
              "#9c179e"
             ],
             [
              0.4444444444444444,
              "#bd3786"
             ],
             [
              0.5555555555555556,
              "#d8576b"
             ],
             [
              0.6666666666666666,
              "#ed7953"
             ],
             [
              0.7777777777777778,
              "#fb9f3a"
             ],
             [
              0.8888888888888888,
              "#fdca26"
             ],
             [
              1,
              "#f0f921"
             ]
            ],
            "type": "heatmapgl"
           }
          ],
          "histogram": [
           {
            "marker": {
             "pattern": {
              "fillmode": "overlay",
              "size": 10,
              "solidity": 0.2
             }
            },
            "type": "histogram"
           }
          ],
          "histogram2d": [
           {
            "colorbar": {
             "outlinewidth": 0,
             "ticks": ""
            },
            "colorscale": [
             [
              0,
              "#0d0887"
             ],
             [
              0.1111111111111111,
              "#46039f"
             ],
             [
              0.2222222222222222,
              "#7201a8"
             ],
             [
              0.3333333333333333,
              "#9c179e"
             ],
             [
              0.4444444444444444,
              "#bd3786"
             ],
             [
              0.5555555555555556,
              "#d8576b"
             ],
             [
              0.6666666666666666,
              "#ed7953"
             ],
             [
              0.7777777777777778,
              "#fb9f3a"
             ],
             [
              0.8888888888888888,
              "#fdca26"
             ],
             [
              1,
              "#f0f921"
             ]
            ],
            "type": "histogram2d"
           }
          ],
          "histogram2dcontour": [
           {
            "colorbar": {
             "outlinewidth": 0,
             "ticks": ""
            },
            "colorscale": [
             [
              0,
              "#0d0887"
             ],
             [
              0.1111111111111111,
              "#46039f"
             ],
             [
              0.2222222222222222,
              "#7201a8"
             ],
             [
              0.3333333333333333,
              "#9c179e"
             ],
             [
              0.4444444444444444,
              "#bd3786"
             ],
             [
              0.5555555555555556,
              "#d8576b"
             ],
             [
              0.6666666666666666,
              "#ed7953"
             ],
             [
              0.7777777777777778,
              "#fb9f3a"
             ],
             [
              0.8888888888888888,
              "#fdca26"
             ],
             [
              1,
              "#f0f921"
             ]
            ],
            "type": "histogram2dcontour"
           }
          ],
          "mesh3d": [
           {
            "colorbar": {
             "outlinewidth": 0,
             "ticks": ""
            },
            "type": "mesh3d"
           }
          ],
          "parcoords": [
           {
            "line": {
             "colorbar": {
              "outlinewidth": 0,
              "ticks": ""
             }
            },
            "type": "parcoords"
           }
          ],
          "pie": [
           {
            "automargin": true,
            "type": "pie"
           }
          ],
          "scatter": [
           {
            "fillpattern": {
             "fillmode": "overlay",
             "size": 10,
             "solidity": 0.2
            },
            "type": "scatter"
           }
          ],
          "scatter3d": [
           {
            "line": {
             "colorbar": {
              "outlinewidth": 0,
              "ticks": ""
             }
            },
            "marker": {
             "colorbar": {
              "outlinewidth": 0,
              "ticks": ""
             }
            },
            "type": "scatter3d"
           }
          ],
          "scattercarpet": [
           {
            "marker": {
             "colorbar": {
              "outlinewidth": 0,
              "ticks": ""
             }
            },
            "type": "scattercarpet"
           }
          ],
          "scattergeo": [
           {
            "marker": {
             "colorbar": {
              "outlinewidth": 0,
              "ticks": ""
             }
            },
            "type": "scattergeo"
           }
          ],
          "scattergl": [
           {
            "marker": {
             "colorbar": {
              "outlinewidth": 0,
              "ticks": ""
             }
            },
            "type": "scattergl"
           }
          ],
          "scattermapbox": [
           {
            "marker": {
             "colorbar": {
              "outlinewidth": 0,
              "ticks": ""
             }
            },
            "type": "scattermapbox"
           }
          ],
          "scatterpolar": [
           {
            "marker": {
             "colorbar": {
              "outlinewidth": 0,
              "ticks": ""
             }
            },
            "type": "scatterpolar"
           }
          ],
          "scatterpolargl": [
           {
            "marker": {
             "colorbar": {
              "outlinewidth": 0,
              "ticks": ""
             }
            },
            "type": "scatterpolargl"
           }
          ],
          "scatterternary": [
           {
            "marker": {
             "colorbar": {
              "outlinewidth": 0,
              "ticks": ""
             }
            },
            "type": "scatterternary"
           }
          ],
          "surface": [
           {
            "colorbar": {
             "outlinewidth": 0,
             "ticks": ""
            },
            "colorscale": [
             [
              0,
              "#0d0887"
             ],
             [
              0.1111111111111111,
              "#46039f"
             ],
             [
              0.2222222222222222,
              "#7201a8"
             ],
             [
              0.3333333333333333,
              "#9c179e"
             ],
             [
              0.4444444444444444,
              "#bd3786"
             ],
             [
              0.5555555555555556,
              "#d8576b"
             ],
             [
              0.6666666666666666,
              "#ed7953"
             ],
             [
              0.7777777777777778,
              "#fb9f3a"
             ],
             [
              0.8888888888888888,
              "#fdca26"
             ],
             [
              1,
              "#f0f921"
             ]
            ],
            "type": "surface"
           }
          ],
          "table": [
           {
            "cells": {
             "fill": {
              "color": "#EBF0F8"
             },
             "line": {
              "color": "white"
             }
            },
            "header": {
             "fill": {
              "color": "#C8D4E3"
             },
             "line": {
              "color": "white"
             }
            },
            "type": "table"
           }
          ]
         },
         "layout": {
          "annotationdefaults": {
           "arrowcolor": "#2a3f5f",
           "arrowhead": 0,
           "arrowwidth": 1
          },
          "autotypenumbers": "strict",
          "coloraxis": {
           "colorbar": {
            "outlinewidth": 0,
            "ticks": ""
           }
          },
          "colorscale": {
           "diverging": [
            [
             0,
             "#8e0152"
            ],
            [
             0.1,
             "#c51b7d"
            ],
            [
             0.2,
             "#de77ae"
            ],
            [
             0.3,
             "#f1b6da"
            ],
            [
             0.4,
             "#fde0ef"
            ],
            [
             0.5,
             "#f7f7f7"
            ],
            [
             0.6,
             "#e6f5d0"
            ],
            [
             0.7,
             "#b8e186"
            ],
            [
             0.8,
             "#7fbc41"
            ],
            [
             0.9,
             "#4d9221"
            ],
            [
             1,
             "#276419"
            ]
           ],
           "sequential": [
            [
             0,
             "#0d0887"
            ],
            [
             0.1111111111111111,
             "#46039f"
            ],
            [
             0.2222222222222222,
             "#7201a8"
            ],
            [
             0.3333333333333333,
             "#9c179e"
            ],
            [
             0.4444444444444444,
             "#bd3786"
            ],
            [
             0.5555555555555556,
             "#d8576b"
            ],
            [
             0.6666666666666666,
             "#ed7953"
            ],
            [
             0.7777777777777778,
             "#fb9f3a"
            ],
            [
             0.8888888888888888,
             "#fdca26"
            ],
            [
             1,
             "#f0f921"
            ]
           ],
           "sequentialminus": [
            [
             0,
             "#0d0887"
            ],
            [
             0.1111111111111111,
             "#46039f"
            ],
            [
             0.2222222222222222,
             "#7201a8"
            ],
            [
             0.3333333333333333,
             "#9c179e"
            ],
            [
             0.4444444444444444,
             "#bd3786"
            ],
            [
             0.5555555555555556,
             "#d8576b"
            ],
            [
             0.6666666666666666,
             "#ed7953"
            ],
            [
             0.7777777777777778,
             "#fb9f3a"
            ],
            [
             0.8888888888888888,
             "#fdca26"
            ],
            [
             1,
             "#f0f921"
            ]
           ]
          },
          "colorway": [
           "#636efa",
           "#EF553B",
           "#00cc96",
           "#ab63fa",
           "#FFA15A",
           "#19d3f3",
           "#FF6692",
           "#B6E880",
           "#FF97FF",
           "#FECB52"
          ],
          "font": {
           "color": "#2a3f5f"
          },
          "geo": {
           "bgcolor": "white",
           "lakecolor": "white",
           "landcolor": "#E5ECF6",
           "showlakes": true,
           "showland": true,
           "subunitcolor": "white"
          },
          "hoverlabel": {
           "align": "left"
          },
          "hovermode": "closest",
          "mapbox": {
           "style": "light"
          },
          "paper_bgcolor": "white",
          "plot_bgcolor": "#E5ECF6",
          "polar": {
           "angularaxis": {
            "gridcolor": "white",
            "linecolor": "white",
            "ticks": ""
           },
           "bgcolor": "#E5ECF6",
           "radialaxis": {
            "gridcolor": "white",
            "linecolor": "white",
            "ticks": ""
           }
          },
          "scene": {
           "xaxis": {
            "backgroundcolor": "#E5ECF6",
            "gridcolor": "white",
            "gridwidth": 2,
            "linecolor": "white",
            "showbackground": true,
            "ticks": "",
            "zerolinecolor": "white"
           },
           "yaxis": {
            "backgroundcolor": "#E5ECF6",
            "gridcolor": "white",
            "gridwidth": 2,
            "linecolor": "white",
            "showbackground": true,
            "ticks": "",
            "zerolinecolor": "white"
           },
           "zaxis": {
            "backgroundcolor": "#E5ECF6",
            "gridcolor": "white",
            "gridwidth": 2,
            "linecolor": "white",
            "showbackground": true,
            "ticks": "",
            "zerolinecolor": "white"
           }
          },
          "shapedefaults": {
           "line": {
            "color": "#2a3f5f"
           }
          },
          "ternary": {
           "aaxis": {
            "gridcolor": "white",
            "linecolor": "white",
            "ticks": ""
           },
           "baxis": {
            "gridcolor": "white",
            "linecolor": "white",
            "ticks": ""
           },
           "bgcolor": "#E5ECF6",
           "caxis": {
            "gridcolor": "white",
            "linecolor": "white",
            "ticks": ""
           }
          },
          "title": {
           "x": 0.05
          },
          "xaxis": {
           "automargin": true,
           "gridcolor": "white",
           "linecolor": "white",
           "ticks": "",
           "title": {
            "standoff": 15
           },
           "zerolinecolor": "white",
           "zerolinewidth": 2
          },
          "yaxis": {
           "automargin": true,
           "gridcolor": "white",
           "linecolor": "white",
           "ticks": "",
           "title": {
            "standoff": 15
           },
           "zerolinecolor": "white",
           "zerolinewidth": 2
          }
         }
        },
        "title": {
         "text": "Asset Allocation Over Time (Sorted by Latest Percentage) as of 2023-12-19"
        },
        "xaxis": {
         "range": [
          "2023-08-01",
          "2023-12-19"
         ],
         "title": {
          "text": "Date"
         }
        },
        "yaxis": {
         "range": [
          0,
          100
         ],
         "tickformat": ".0%",
         "ticktext": [
          "0%",
          "20%",
          "40%",
          "60%",
          "80%",
          "100%"
         ],
         "tickvals": [
          0,
          20,
          40,
          60,
          80,
          100
         ],
         "title": {
          "text": "Proportion"
         }
        }
       }
      }
     },
     "metadata": {},
     "output_type": "display_data"
    }
   ],
   "source": [
    "def plot_asset_allocation_over_time(portfolio_data, sort_by='percentage', end_date=None):\n",
    "    dates = sorted(portfolio_data.keys())\n",
    "\n",
    "    end_date = NOTEBOOK_DATE or end_date or max(portfolio_data.keys())\n",
    "    if end_date is None:\n",
    "        end_date = dates[-1]\n",
    "    else:\n",
    "        end_date = str(end_date)\n",
    "        if end_date not in dates:\n",
    "            raise ValueError(f\"No data available for date: {end_date}\")\n",
    "\n",
    "    # Filter dates to include only up to the end_date\n",
    "    dates = [date for date in dates if date <= end_date]\n",
    "\n",
    "    latest_date = end_date\n",
    "    active_stocks = get_active_stocks(portfolio_data[latest_date]['holdings'])\n",
    "    data = calculate_asset_proportions(portfolio_data, dates, active_stocks)\n",
    "\n",
    "    fig = go.Figure()\n",
    "    add_asset_traces(fig, dates, data, portfolio_data, sort_by)\n",
    "    update_layout(fig, sort_by, latest_date)\n",
    "\n",
    "    # Set x-axis range\n",
    "    fig.update_xaxes(range=[dates[0], latest_date])\n",
    "\n",
    "    return fig\n",
    "\n",
    "\n",
    "def get_active_stocks(latest_holdings):\n",
    "    return [stock for stock, info in latest_holdings.items()\n",
    "            if float(info['market_value']) > 0]\n",
    "\n",
    "\n",
    "def calculate_asset_proportions(portfolio_data, dates, active_stocks):\n",
    "    data = {stock: [] for stock in active_stocks}\n",
    "    data['Cash'] = []\n",
    "\n",
    "    for date in dates:\n",
    "        holdings = portfolio_data[date]['holdings']\n",
    "        valid_holdings = {stock: info for stock, info in holdings.items()\n",
    "                          if not math.isnan(float(info['market_value']))}\n",
    "\n",
    "        cash = float(portfolio_data[date]['summary']['cash'])\n",
    "        total_value = sum(float(info['market_value'])\n",
    "                          for info in valid_holdings.values()) + cash\n",
    "\n",
    "        for stock in active_stocks:\n",
    "            if stock in valid_holdings:\n",
    "                value = float(valid_holdings[stock]['market_value'])\n",
    "                proportion = (value / total_value) * \\\n",
    "                    100 if total_value > 0 else 0\n",
    "            else:\n",
    "                proportion = 0\n",
    "            data[stock].append(proportion)\n",
    "\n",
    "        cash_proportion = (cash / total_value) * 100 if total_value > 0 else 0\n",
    "        data['Cash'].append(cash_proportion)\n",
    "\n",
    "    return data\n",
    "\n",
    "\n",
    "def add_asset_traces(fig, dates, data, portfolio_data, sort_by):\n",
    "    if sort_by == 'date':\n",
    "        sorted_stocks = sort_by_add_date(portfolio_data, data.keys())\n",
    "    else:  # sort_by == 'percentage'\n",
    "        sorted_stocks = sort_by_percentage(data)\n",
    "\n",
    "    # Remove Cash from sorted_stocks if it's there\n",
    "    sorted_stocks = [stock for stock in sorted_stocks if stock != 'Cash']\n",
    "\n",
    "    # Add traces in reverse order, with Cash always at the end (top of the stack)\n",
    "    for stock in reversed(sorted_stocks):\n",
    "        add_trace(fig, dates, data, stock)\n",
    "\n",
    "    # Always add Cash last (it will appear at the top)\n",
    "    add_trace(fig, dates, data, 'Cash', '#FFD700')\n",
    "\n",
    "\n",
    "def sort_by_add_date(portfolio_data, stocks):\n",
    "    first_appearance = {}\n",
    "    for date in sorted(portfolio_data.keys()):\n",
    "        for stock in stocks:\n",
    "            if stock not in first_appearance and stock != 'Cash':\n",
    "                if stock in portfolio_data[date]['holdings']:\n",
    "                    first_appearance[stock] = date\n",
    "    return sorted(first_appearance, key=first_appearance.get)\n",
    "\n",
    "\n",
    "def sort_by_percentage(data):\n",
    "    latest_percentages = {stock: values[-1]\n",
    "                          for stock, values in data.items() if stock != 'Cash'}\n",
    "    return sorted(latest_percentages, key=latest_percentages.get, reverse=True)\n",
    "\n",
    "\n",
    "def add_trace(fig, dates, data, stock, color=None):\n",
    "    proportions = data[stock]\n",
    "    hover_text = [f\"{stock}: {proportion:.2f}%\" if not math.isnan(proportion)\n",
    "                  else f\"{stock}: N/A\" for proportion in proportions]\n",
    "\n",
    "    fig.add_trace(go.Scatter(\n",
    "        x=dates,\n",
    "        y=proportions,\n",
    "        mode='lines',\n",
    "        stackgroup='one',\n",
    "        name=stock,\n",
    "        hoverinfo='text',\n",
    "        text=hover_text,\n",
    "        line=dict(color=color) if color else dict(),\n",
    "    ))\n",
    "\n",
    "\n",
    "def update_layout(fig, sort_by, latest_date):\n",
    "    title = 'Asset Allocation Over Time (Sorted by {}) as of {}'.format(\n",
    "        'Latest Percentage' if sort_by == 'percentage' else 'Add Date',\n",
    "        latest_date\n",
    "    )\n",
    "    fig.update_layout(\n",
    "        title=title,\n",
    "        xaxis_title='Date',\n",
    "        yaxis=dict(\n",
    "            title='Proportion',\n",
    "            tickformat='.0%',\n",
    "            range=[0, 100],\n",
    "            tickvals=[0, 20, 40, 60, 80, 100],\n",
    "            ticktext=['0%', '20%', '40%', '60%', '80%', '100%']\n",
    "        ),\n",
    "        legend_title='Assets',\n",
    "        hovermode='x unified'\n",
    "    )\n",
    "\n",
    "\n",
    "# Usage examples:\n",
    "# Default (latest date)\n",
    "plot_asset_allocation_over_time(portfolio_data)\n",
    "\n",
    "# Specific date\n",
    "# fig = plot_asset_allocation_over_time(portfolio_data, end_date=\"2024-03-15\")\n",
    "# fig.show()\n",
    "\n",
    "# Sort by add date\n",
    "# fig = plot_asset_allocation_over_time(portfolio_data, sort_by='date')\n",
    "# fig.show()\n",
    "\n",
    "# Specific date and sort by add date\n",
    "# fig = plot_asset_allocation_over_time(portfolio_data, sort_by='date', end_date=\"2024-03-15\")\n",
    "# fig.show()"
   ]
  },
  {
   "cell_type": "code",
   "execution_count": 11,
   "metadata": {},
   "outputs": [
    {
     "name": "stdout",
     "output_type": "stream",
     "text": [
      "HTML report generated: reports/portfolio_report_2023-12-19.html\n"
     ]
    }
   ],
   "source": [
    "def generate_html_report(report_date=None):\n",
    "    dates = sorted(portfolio_data.keys())\n",
    "    \n",
    "    report_date = NOTEBOOK_DATE or report_date or max(portfolio_data.keys())\n",
    "    if report_date is None:\n",
    "        report_date = dates[-1]  # Use the latest date by default\n",
    "    else:\n",
    "        report_date = str(report_date)  # Ensure the date is a string\n",
    "        if report_date not in dates:\n",
    "            raise ValueError(f\"No data available for date: {report_date}\")\n",
    "\n",
    "    stock_proportions_plot = plot_stock_proportions(\n",
    "        portfolio_data, report_date)\n",
    "    sector_proportions_plot = plot_sector_proportions(\n",
    "        portfolio_data, sectors, report_date)\n",
    "    portfolio_growth_plot = plot_portfolio_growth(\n",
    "        portfolio_data, end_date=report_date)\n",
    "    asset_allocation_over_time_plot = plot_asset_allocation_over_time(\n",
    "        portfolio_data, end_date=report_date)\n",
    "\n",
    "    for plot in [stock_proportions_plot, sector_proportions_plot, portfolio_growth_plot, asset_allocation_over_time_plot]:\n",
    "        plot.update_layout(font=dict(family=\"monospace\", weight='bold'))\n",
    "\n",
    "    report_data = portfolio_data[report_date]\n",
    "    summary = report_data['summary']\n",
    "    holdings = report_data['holdings']\n",
    "    closed_positions = report_data['closed_positions']\n",
    "    partially_sold_positions = report_data['partially_sold_positions']\n",
    "\n",
    "    # Function to safely convert string to float\n",
    "    def safe_float(value):\n",
    "        try:\n",
    "            return float(value)\n",
    "        except (ValueError, TypeError):\n",
    "            return 0.0\n",
    "\n",
    "    # Function to format currency values\n",
    "    def format_currency(value):\n",
    "        return f\"${safe_float(value):,.2f}\"\n",
    "\n",
    "    # Function to format percentage values\n",
    "    def format_percentage(value):\n",
    "        return f\"{safe_float(value) * 100:.2f}%\"\n",
    "\n",
    "    # Function to combine PNL and return\n",
    "    def combine_pnl_return(pnl, ret):\n",
    "        return f\"{format_currency(pnl)} ({format_percentage(ret)})\"\n",
    "\n",
    "    # Process holdings\n",
    "    holdings_df = pd.DataFrame(holdings).T.reset_index()\n",
    "    holdings_df.columns = ['Symbol', 'Quantity', 'Cost Basis', 'Avg Cost', 'Market Price',\n",
    "                           'Market Value', 'Unrealized P/L', 'Unrealized Return', 'Daily Change', 'Daily Return']\n",
    "\n",
    "    # Apply formatting to numeric columns\n",
    "    for col in ['Quantity', 'Cost Basis', 'Avg Cost', 'Market Price', 'Market Value']:\n",
    "        holdings_df[col] = holdings_df[col].apply(lambda x: f\"{safe_float(x):.2f}\")\n",
    "\n",
    "    holdings_df['Unrealized P/L'] = holdings_df.apply(\n",
    "        lambda row: combine_pnl_return(row['Unrealized P/L'], row['Unrealized Return']), axis=1)\n",
    "    holdings_df['Daily Change'] = holdings_df.apply(\n",
    "        lambda row: combine_pnl_return(row['Daily Change'], row['Daily Return']), axis=1)\n",
    "    holdings_df = holdings_df.drop(columns=['Unrealized Return', 'Daily Return'])\n",
    "\n",
    "    # Process closed positions\n",
    "    closed_positions_df = pd.DataFrame(closed_positions).T.reset_index()\n",
    "    closed_positions_df.columns = [\n",
    "        'Symbol', 'Close Date', 'Quantity', 'Cost Basis', 'Realized P/L', 'Realized Return']\n",
    "\n",
    "    # Apply formatting to numeric columns\n",
    "    for col in ['Quantity', 'Cost Basis']:\n",
    "        closed_positions_df[col] = closed_positions_df[col].apply(lambda x: f\"{safe_float(x):.2f}\")\n",
    "\n",
    "    closed_positions_df['Realized P/L'] = closed_positions_df.apply(\n",
    "        lambda row: combine_pnl_return(row['Realized P/L'], row['Realized Return']), axis=1)\n",
    "    closed_positions_df = closed_positions_df.drop(columns=['Realized Return'])\n",
    "\n",
    "    # Process partially sold positions\n",
    "    partially_sold_positions_df = pd.DataFrame(partially_sold_positions).T.reset_index()\n",
    "    partially_sold_positions_df.columns = [\n",
    "        'Symbol', 'Last Sell Date', 'Quantity', 'Cost Basis', 'Realized P/L', 'Realized Return']\n",
    "\n",
    "    # Apply formatting to numeric columns\n",
    "    for col in ['Quantity', 'Cost Basis']:\n",
    "        partially_sold_positions_df[col] = partially_sold_positions_df[col].apply(lambda x: f\"{safe_float(x):.2f}\")\n",
    "\n",
    "    partially_sold_positions_df['Realized P/L'] = partially_sold_positions_df.apply(\n",
    "        lambda row: combine_pnl_return(row['Realized P/L'], row['Realized Return']), axis=1)\n",
    "    partially_sold_positions_df = partially_sold_positions_df.drop(columns=['Realized Return'])\n",
    "\n",
    "    # Format date columns\n",
    "    date_columns = ['Close Date', 'Last Sell Date']\n",
    "    for df in [closed_positions_df, partially_sold_positions_df]:\n",
    "        for col in date_columns:\n",
    "            if col in df.columns:\n",
    "                df[col] = pd.to_datetime(df[col]).dt.strftime('%Y-%m-%d')\n",
    "\n",
    "    portfolio_table = holdings_df.to_html(index=False, classes='dataframe')\n",
    "    closed_positions_table = closed_positions_df.to_html(index=False, classes='dataframe')\n",
    "    partially_sold_positions_table = partially_sold_positions_df.to_html(index=False, classes='dataframe')\n",
    "\n",
    "    format_dict = {\n",
    "        'date': report_date,\n",
    "        'portfolio_table': portfolio_table,\n",
    "        'portfolio_growth_plot': to_html(portfolio_growth_plot, full_html=False, include_plotlyjs=False, config={'responsive': True}),\n",
    "        'stock_proportions_plot': to_html(stock_proportions_plot, full_html=False, include_plotlyjs=False, config={'responsive': True}),\n",
    "        'sector_proportions_plot': to_html(sector_proportions_plot, full_html=False, include_plotlyjs=False, config={'responsive': True}),\n",
    "        'asset_allocation_over_time_plot': to_html(asset_allocation_over_time_plot, full_html=False, include_plotlyjs=False, config={'responsive': True}),\n",
    "        'date_options': ' '.join(f'<option value=\"{date}\">{date}</option>' for date in dates),\n",
    "        'cash': format_currency(summary['cash']),\n",
    "        'total_value': format_currency(summary['total_value']),\n",
    "        'total_market_value': format_currency(summary['total_market_value']),\n",
    "        'unrealized_pnl': combine_pnl_return(summary['total_unrealized_pnl'], summary['total_unrealized_return']),\n",
    "        'daily_change': combine_pnl_return(summary['total_daily_change'], summary['total_daily_return']),\n",
    "        'total_realized_pnl': combine_pnl_return(summary['total_realized_pnl'], summary['total_realized_return']),\n",
    "        'total_deposits': format_currency(summary['total_deposits']),\n",
    "        'closed_positions_table': closed_positions_table,\n",
    "        'partially_sold_positions_table': partially_sold_positions_table,\n",
    "    }\n",
    "\n",
    "    template_path = 'reports/templates/portfolio_report_template.html'\n",
    "    with open(template_path, 'r') as template_file:\n",
    "        html_template = template_file.read()\n",
    "\n",
    "    css_path = 'reports/templates/portfolio_report_styles.css'\n",
    "    with open(css_path, 'r') as css_file:\n",
    "        css_content = css_file.read()\n",
    "\n",
    "    css_content_escaped = css_content.replace('{', '{{').replace('}', '}}')\n",
    "    html_template = html_template.replace('/* CSS_PLACEHOLDER */', css_content_escaped)\n",
    "    html_template = re.sub(r'\\{\\s*(\\w+)\\s*\\}', r'{\\1}', html_template)\n",
    "    html_content = html_template.format(**format_dict)\n",
    "\n",
    "    os.makedirs('reports', exist_ok=True)\n",
    "    \n",
    "    if report_date == max(portfolio_data.keys()):\n",
    "        filename = f'portfolio_report_latest.html'\n",
    "    else:\n",
    "        filename = f'portfolio_report_{report_date}.html'\n",
    "    with open(os.path.join('reports', filename), 'w') as f:\n",
    "        f.write(html_content)\n",
    "\n",
    "    print(f\"HTML report generated: reports/{filename}\")\n",
    "\n",
    "# Usage examples:\n",
    "# Generate report for the latest date\n",
    "generate_html_report()\n",
    "\n",
    "# Generate report for a specific date\n",
    "# generate_html_report(\"2024-03-15\")"
   ]
  }
 ],
 "metadata": {
  "kernelspec": {
   "display_name": "venv",
   "language": "python",
   "name": "python3"
  },
  "language_info": {
   "codemirror_mode": {
    "name": "ipython",
    "version": 3
   },
   "file_extension": ".py",
   "mimetype": "text/x-python",
   "name": "python",
   "nbconvert_exporter": "python",
   "pygments_lexer": "ipython3",
   "version": "3.12.4"
  }
 },
 "nbformat": 4,
 "nbformat_minor": 2
}
